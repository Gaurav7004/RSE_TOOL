{
  "nbformat": 4,
  "nbformat_minor": 0,
  "metadata": {
    "colab": {
      "provenance": [],
      "authorship_tag": "ABX9TyN2/gyYVfBdCihyH0d8kbRz",
      "include_colab_link": true
    },
    "kernelspec": {
      "name": "python3",
      "display_name": "Python 3"
    },
    "language_info": {
      "name": "python"
    }
  },
  "cells": [
    {
      "cell_type": "markdown",
      "metadata": {
        "id": "view-in-github",
        "colab_type": "text"
      },
      "source": [
        "<a href=\"https://colab.research.google.com/github/Gaurav7004/RSE_TOOL/blob/main/RSE_TOOL_12thMay2023_4_15_PM.ipynb\" target=\"_parent\"><img src=\"https://colab.research.google.com/assets/colab-badge.svg\" alt=\"Open In Colab\"/></a>"
      ]
    },
    {
      "cell_type": "code",
      "execution_count": 1,
      "metadata": {
        "id": "y-KFBWnpcdJe"
      },
      "outputs": [],
      "source": [
        "# ! pip install pandarallel\n",
        "# from pandarallel import pandarallel\n",
        "import json\n",
        "import re\n",
        "import pandas as pd\n",
        "import numpy as np\n",
        "import itertools"
      ]
    },
    {
      "cell_type": "code",
      "source": [
        "# pandarallel.initialize()"
      ],
      "metadata": {
        "id": "tsdvu58itpPJ"
      },
      "execution_count": 2,
      "outputs": []
    },
    {
      "cell_type": "code",
      "source": [
        "df = pd.read_csv('Data1.csv')\n",
        "\n",
        "# remove blank spaces from front and back of column names\n",
        "df.columns = df.columns.str.strip()\n",
        "df.columns"
      ],
      "metadata": {
        "id": "j_AWweohegUD",
        "colab": {
          "base_uri": "https://localhost:8080/"
        },
        "outputId": "edbdbdec-552e-4d5b-e8f9-67b335af1ee7"
      },
      "execution_count": 3,
      "outputs": [
        {
          "output_type": "stream",
          "name": "stderr",
          "text": [
            "<ipython-input-3-fc8b3e05b5c4>:1: DtypeWarning: Columns (21) have mixed types. Specify dtype option on import or set low_memory=False.\n",
            "  df = pd.read_csv('Data1.csv')\n"
          ]
        },
        {
          "output_type": "execute_result",
          "data": {
            "text/plain": [
              "Index(['SEC', 'ST', 'FSU', 'IDNO', 'SEG', 'SSS', 'SSU', 'STRM', 'SSTRM', 'SS',\n",
              "       'NSS', 'NSC', 'MULT', 'HH_SIZE', 'HHTYPE', 'RELG', 'SG', 'MHCE',\n",
              "       'DC_ALL', 'DC_ST', 'SRL', 'REL', 'SEX', 'MSEX', 'AGE', 'MARST',\n",
              "       'GEDU_LVL', 'PAS', 'PS_SS', 'CWS', 'ERN_SELF', 'ERN_REG'],\n",
              "      dtype='object')"
            ]
          },
          "metadata": {},
          "execution_count": 3
        }
      ]
    },
    {
      "cell_type": "code",
      "source": [
        "## Data is the dictionary\n",
        "data = {}\n",
        "\n",
        "## Keys\n",
        "key = ''\n",
        "\n",
        "## values\n",
        "values = []\n",
        "\n",
        "## Open\n",
        "with open('Example1.RSE', \"r\") as f:\n",
        "    for line in f:\n",
        "        line = line.strip()\n",
        "        if line.startswith('#'):\n",
        "            if key:\n",
        "                key = key.split(\"'\")[0]\n",
        "                key = key.split(\"\\t\")[0]\n",
        "                data[key] = [v for v in values if v and not v.startswith(\"'\")]\n",
        "            key = line.split(\"'\")[0]\n",
        "            key = key.split(\"\\t\")[0]\n",
        "            values = []\n",
        "        elif line.startswith(\"'\"):\n",
        "            pass\n",
        "        else:\n",
        "            line = line.split(\"'\")[0]\n",
        "            values.append(line.strip())\n",
        "\n",
        "# add last group\n",
        "if key:\n",
        "    data[key] = [v for v in values if v and not v.startswith(\"'\")]\n",
        "\n",
        "print(json.dumps(data, indent=4))"
      ],
      "metadata": {
        "colab": {
          "base_uri": "https://localhost:8080/"
        },
        "id": "jCaBn0Ltw5Ac",
        "outputId": "af42403b-f88b-4133-fe2e-477012e204e1"
      },
      "execution_count": 4,
      "outputs": [
        {
          "output_type": "stream",
          "name": "stdout",
          "text": [
            "{\n",
            "    \"#SAMPLING SUBSAMPLE2\": [],\n",
            "    \"#GROUP 2\": [\n",
            "        \"SEC   C sec\",\n",
            "        \"ST_GR C NEWVAR\"\n",
            "    ],\n",
            "    \"#FILTER 1\": [\n",
            "        \"AGE>=15\"\n",
            "    ],\n",
            "    \"#VARIABLE 3  \": [\n",
            "        \"POP\\tN  NEWVAR\",\n",
            "        \"LF\\tN  NEWVAR\",\n",
            "        \"WRK\\tN  NEWVAR\"\n",
            "    ],\n",
            "    \"#FILE Data1.Xlsx\": [],\n",
            "    \"#RENAME  5    \": [\n",
            "        \"STRMID C sec+st+strm+sstrm\",\n",
            "        \"SS     C ss\",\n",
            "        \"NSS    N  nss\",\n",
            "        \"NSC    N  nsc\",\n",
            "        \"MULT   N  mult\"\n",
            "    ],\n",
            "    \"#TRANSFORM 4  \": [\n",
            "        \"ST_GR=(\\\"G1\\\")   ST in (\\\"10,19,20,21\\\")\",\n",
            "        \"ST_GR=(\\\"G2\\\")   ST in (\\\"11,12,13,14,15,16,17,18\\\")\",\n",
            "        \"ST_GR=(\\\"G3\\\")   Otherwise\",\n",
            "        \"POP=(1)\",\n",
            "        \"WRK=(1)  CWS in (\\\"11,12,21,31,41,51,61,61,71,72\\\")\",\n",
            "        \"WRK=(0)  CWS NOT in (\\\"11,12,21,31,41,51,61,61,71,72\\\")\",\n",
            "        \"LF=(1)   CWS in (\\\"11,12,21,31,41,51,61,61,71,72,81\\\")\",\n",
            "        \"LF=(0)   Otherwise\"\n",
            "    ],\n",
            "    \"#EST_RSE 7\": [\n",
            "        \"S POP\",\n",
            "        \"E POP\",\n",
            "        \"R POP\",\n",
            "        \"E 100*LF/POP\",\n",
            "        \"R LF/POP\",\n",
            "        \"E 100*WRK/POP\",\n",
            "        \"R WRK/POP\"\n",
            "    ]\n",
            "}\n"
          ]
        }
      ]
    },
    {
      "cell_type": "code",
      "source": [
        "def SAMPLING_(data, df):\n",
        "    for key, value in data.items():\n",
        "        ## To read the sampling method used\n",
        "        if str('SAMPLING').lower() in str(key).lower():\n",
        "            if str('SUBSAMPLE2').lower() in str(key).lower():\n",
        "                return str('SUBSAMPLE2')\n",
        "\n",
        "            elif str('SRSWR').lower() in str(key).lower():\n",
        "                pass\n",
        "            elif str('SRSWOR').lower() in str(key).lower():\n",
        "                pass\n",
        "\n",
        "SAMPLING_(data, df)"
      ],
      "metadata": {
        "id": "Ja3Sc1tvDbc_",
        "colab": {
          "base_uri": "https://localhost:8080/",
          "height": 37
        },
        "outputId": "c84864e5-c201-4f6e-fa0a-dcc9ebbe1805"
      },
      "execution_count": 5,
      "outputs": [
        {
          "output_type": "execute_result",
          "data": {
            "text/plain": [
              "'SUBSAMPLE2'"
            ],
            "application/vnd.google.colaboratory.intrinsic+json": {
              "type": "string"
            }
          },
          "metadata": {},
          "execution_count": 5
        }
      ]
    },
    {
      "cell_type": "code",
      "source": [
        "df.columns"
      ],
      "metadata": {
        "colab": {
          "base_uri": "https://localhost:8080/"
        },
        "id": "2jZhrNagLdQz",
        "outputId": "dd785570-ad8e-497e-df78-89c4939a4054"
      },
      "execution_count": 6,
      "outputs": [
        {
          "output_type": "execute_result",
          "data": {
            "text/plain": [
              "Index(['SEC', 'ST', 'FSU', 'IDNO', 'SEG', 'SSS', 'SSU', 'STRM', 'SSTRM', 'SS',\n",
              "       'NSS', 'NSC', 'MULT', 'HH_SIZE', 'HHTYPE', 'RELG', 'SG', 'MHCE',\n",
              "       'DC_ALL', 'DC_ST', 'SRL', 'REL', 'SEX', 'MSEX', 'AGE', 'MARST',\n",
              "       'GEDU_LVL', 'PAS', 'PS_SS', 'CWS', 'ERN_SELF', 'ERN_REG'],\n",
              "      dtype='object')"
            ]
          },
          "metadata": {},
          "execution_count": 6
        }
      ]
    },
    {
      "cell_type": "code",
      "source": [
        "def GROUP_(data, df):\n",
        "    for key, value in data.items():    \n",
        "        if str('GROUP').lower() in str(key).lower():\n",
        "            value = [s.split()[0] for s in value]\n",
        "            for name in value:\n",
        "                if name in df.columns:\n",
        "                    pass\n",
        "                elif name not in df.columns:\n",
        "                    df[name] = 0\n",
        "\n",
        "            return value\n",
        "\n",
        "\n",
        "    for key, value in data.items():\n",
        "        ### To read the group columns\n",
        "        if str('GROUP').lower() in str(key).lower():\n",
        "            # Define regular expression to match three words separated by whitespace\n",
        "            regex = r'\\w+\\s+\\w+\\s+\\w+'\n",
        "\n",
        "            for i in range(len(value)):\n",
        "                # Find the first match in the string\n",
        "                match = re.search(regex, value[i])\n",
        "\n",
        "                # Print the match\n",
        "                lst = match.group().split()\n",
        "\n",
        "                if lst[0] in df.columns:\n",
        "                    if lst[1] == 'C':\n",
        "                        df[lst[0]] = df[lst[0]].astype(str)\n",
        "                elif lst[0] not in df.columns:\n",
        "                    # if lst[1] == 'C':\n",
        "                    #     df[lst[0]] = ''\n",
        "                    pass\n",
        "\n",
        "        else:\n",
        "            pass\n",
        "\n",
        "def FILTER_(data, df):\n",
        "    for key, value in data.items():\n",
        "        ### To read the sampling method used\n",
        "        if str('FILTER').lower() in str(key).lower():\n",
        "            ### Replace logical AND '&&' with 'and'\n",
        "            if '&&' in value[0]:\n",
        "                return value[0].replace('&&', '&')\n",
        "            ### Replace logical OR '||' with 'or'\n",
        "            elif '||' in value[0]:\n",
        "                return value[0].replace('||', '|')\n",
        "            else:\n",
        "                return value[0]\n",
        "\n",
        "def FILE_(data):\n",
        "    for key, value in data.items():\n",
        "        ### To read the file used\n",
        "        if str('FILE').lower() in str(key).lower():\n",
        "            if key.strip().endswith('.xlsx') or key.strip().endswith('.csv'):\n",
        "                match = re.search(r'[A-Za-z0-9]+\\.xlsx|[A-Za-z0-9]+\\.csv', key)   \n",
        "                if match:\n",
        "                    file_name = match.group(0)\n",
        "                    return file_name\n",
        "                else:\n",
        "                    file_name = None\n",
        "                    return file_name\n",
        "                print(file_name)\n",
        "\n",
        "            # return file_name\n",
        "\n",
        "def RENAME_(data, df):\n",
        "    # create an empty dictionary to store the column names\n",
        "    column_dict = {}\n",
        "\n",
        "    for key, value in data.items():\n",
        "        ### To read the file used\n",
        "        if str('RENAME').lower() in str(key).lower():\n",
        "            # value = [elem for elem in value[0].split(' ') if elem.strip()]\n",
        "            # return value\n",
        "\n",
        "            for col in value:\n",
        "                col_split = col.split()\n",
        "\n",
        "                # print(col_split[0])\n",
        "\n",
        "                # extract the last element as the column name\n",
        "                col_name = col_split[-1]\n",
        "\n",
        "                new_col_name = col_split[0]\n",
        "\n",
        "                ### if there is a \"+\" sign in the last element, concatenate the columns\n",
        "                if \"+\" in col_name:\n",
        "                    col_concat = col_name.split(\"+\")\n",
        "                    col_concat = [i.upper() for i in col_concat]\n",
        "\n",
        "                    # concatenate the columns\n",
        "                    # df[new_col_name] = df.loc[:, col_concat].apply(lambda x: ''.join(['0' + str(i) if i < 10 else str(i) for i in x]), axis=1)\n",
        "                    # df[new_col_name] = df.loc[:, col_concat].apply(lambda x: ''.join(['0' + str(i) if i < 10 else str(i) for i in x]), axis=1)\n",
        "                    df[new_col_name] = df.loc[:, col_concat].apply(lambda x: ''.join(['0' + str(i) if int(i) < 10 else str(i) for i in x]), axis=1)\n",
        "\n",
        "\n",
        "                else:\n",
        "                    col_name = col_name.upper()\n",
        "                    print(type(col_name))\n",
        "\n",
        "\n",
        "def NEWVARIABLE_(data, df):\n",
        "    for key, value in data.items():\n",
        "        ### To read the file used\n",
        "        if str('VARIABLE').lower() in str(key).lower():\n",
        "            value = [s.split()[0] for s in value]\n",
        "            \n",
        "            for name in value:\n",
        "                df[name] = 1\n",
        "\n",
        "\n",
        "def TRANSFORM_(data):\n",
        "    global condition\n",
        "\n",
        "    # Initialize empty arrays to store the values\n",
        "    Arr1 = []\n",
        "    Arr2 = []\n",
        "    Arr3 = []\n",
        "\n",
        "    for key, value in data.items():\n",
        "        ### To read the file used\n",
        "        if str('TRANSFORM').lower() in str(key).lower():\n",
        "            lines = '\\n'.join(value)\n",
        "            lines = lines.split(\"\\n\")\n",
        "\n",
        "            # Loop through the lines and extract the values\n",
        "            for line in lines:\n",
        "                line_values = line.split('=')  # split the line into values\n",
        "                print(line_values)\n",
        "                var_name = line_values[0].strip()  # extract the variable name\n",
        "                \n",
        "                var_value = line_values[1].strip().split()[0]  # extract the variable value\n",
        "\n",
        "                            \n",
        "                # Regular expression pattern to extract the condition\n",
        "                pattern = r'^\\w+=\\([^\\)]*\\)(?:\\s+(.*?)(?:\\n|$))?$'\n",
        "\n",
        "                # Split the string into lines and extract the condition from each line\n",
        "                conditions = []\n",
        "\n",
        "                for line in line.split('\\n'):\n",
        "                    match = re.match(pattern, line)\n",
        "                 \n",
        "                    if match:\n",
        "                        condition = match.group(1)\n",
        "                        \n",
        "                        if condition is not None:\n",
        "                            conditions.append(condition.strip())\n",
        "                        else:\n",
        "                            conditions.append(None)\n",
        "\n",
        "                # Append the values to the arrays\n",
        "                Arr1.append(var_name)\n",
        "                Arr2.append(var_value)\n",
        "\n",
        "                Arr3.append(condition)\n",
        "\n",
        "    return Arr1, Arr2, Arr3\n",
        "        \n",
        "\n",
        "def EST_RSE_(data):\n",
        "    for key, value in data.items():\n",
        "        pass\n",
        "\n",
        "GROUP_(data, df)\n",
        "TRANSFORM_(data)\n",
        "RENAME_(data, df)\n",
        "NEWVARIABLE_(data, df)\n",
        "FILE_(data)\n",
        "FILTER_(data, df)\n"
      ],
      "metadata": {
        "id": "JOeTfpj33fid",
        "colab": {
          "base_uri": "https://localhost:8080/",
          "height": 253
        },
        "outputId": "28ed9484-64c4-40e6-a60b-f3996fca4d6d"
      },
      "execution_count": 7,
      "outputs": [
        {
          "output_type": "stream",
          "name": "stdout",
          "text": [
            "['ST_GR', '(\"G1\")   ST in (\"10,19,20,21\")']\n",
            "['ST_GR', '(\"G2\")   ST in (\"11,12,13,14,15,16,17,18\")']\n",
            "['ST_GR', '(\"G3\")   Otherwise']\n",
            "['POP', '(1)']\n",
            "['WRK', '(1)  CWS in (\"11,12,21,31,41,51,61,61,71,72\")']\n",
            "['WRK', '(0)  CWS NOT in (\"11,12,21,31,41,51,61,61,71,72\")']\n",
            "['LF', '(1)   CWS in (\"11,12,21,31,41,51,61,61,71,72,81\")']\n",
            "['LF', '(0)   Otherwise']\n",
            "<class 'str'>\n",
            "<class 'str'>\n",
            "<class 'str'>\n",
            "<class 'str'>\n"
          ]
        },
        {
          "output_type": "execute_result",
          "data": {
            "text/plain": [
              "'AGE>=15'"
            ],
            "application/vnd.google.colaboratory.intrinsic+json": {
              "type": "string"
            }
          },
          "metadata": {},
          "execution_count": 7
        }
      ]
    },
    {
      "cell_type": "code",
      "source": [
        "df['SEC'].value_counts()"
      ],
      "metadata": {
        "id": "qjgcwv-zL6Q8",
        "colab": {
          "base_uri": "https://localhost:8080/"
        },
        "outputId": "914af151-4852-4edf-b3a2-ed30df0e564d"
      },
      "execution_count": 8,
      "outputs": [
        {
          "output_type": "execute_result",
          "data": {
            "text/plain": [
              "1    62248\n",
              "2    47608\n",
              "Name: SEC, dtype: int64"
            ]
          },
          "metadata": {},
          "execution_count": 8
        }
      ]
    },
    {
      "cell_type": "code",
      "source": [
        "def parse_query_string(query_string):\n",
        "    # Replace curly quotes with straight quotes\n",
        "    query_string = query_string.replace(\"”\", \"\\\"\")\n",
        "    \n",
        "    if 'in' in query_string:\n",
        "        if ('NOT in' or 'not in') in query_string:\n",
        "            query_string = re.sub(r'(\\b\\w+\\b)\\s+NOT in\\s*\\(([^)]+)\\)', r'~\\1.isin([\\2])', query_string)\n",
        "            query_string = re.sub(r'(\\b\\w+\\b)\\s+in\\s*\\(([^)]+)\\)', r'\\1.isin([\\2])', query_string)\n",
        "        elif 'in' in query_string:\n",
        "            # Replace 'in' operators with 'isin' and add list brackets\n",
        "            query_string = re.sub(r'(\\b\\w+\\b)\\s+in\\s*\\(([^)]+)\\)', r'\\1.isin([\\2])', query_string)\n",
        "        else:\n",
        "            pass\n",
        "            \n",
        "    else:\n",
        "        query_string = re.sub(r'''(\\b\\w+\\b)(\\s*[<>=!]+\\s*)('[^']*'|\"[^\"]*\")|(\\b\\w+\\b)(\\s*[<>=!]+\\s*)(\"[^]*'|\"[^\"]*\")''', r'\\1\\2\\3', query_string)\n",
        "        query_string = re.sub(r'''(\\b\\w+\\b)(\\s*[<>=!]+\\s*)(\\d+)''', r'\\1\\2\\3', query_string)\n",
        "\n",
        "    # Replace double quotes with single quotes\n",
        "    query_string = query_string.replace(\"\\\"\", \"'\")\n",
        "    \n",
        "    # Replace 'AND' with '&', 'OR' with '|', and add parentheses\n",
        "    query_string = query_string.replace(\" AND \", \" & \")\\\n",
        "                        .replace(\" OR \", \" | \").\\\n",
        "                            replace(\"&&\", '&').\\\n",
        "                                replace('||', '|').\\\n",
        "                                    replace('<>', '!=')\n",
        "    \n",
        "    # Replace column names with df[column] syntax\n",
        "    query_string = re.sub(r'(\\b\\w+\\b)=', r'df[\"\\1\"]==', query_string)\n",
        "\n",
        "\n",
        "    # Define a function to replace variable names with df[\"<variable_name>\"]\n",
        "    def replace_var(match):\n",
        "        return f'df[\"{match.group(0)}\"]'\n",
        "\n",
        "    # Use regex to replace variable names with df[\"<variable_name>\"]\n",
        "    pattern = re.compile(r'''\\b\\w+\\b(?=\\s*[<>=!]=*\\s*[\\'\"\\d])''')\n",
        "    new_string = pattern.sub(replace_var, query_string)\n",
        "\n",
        "    query_string = re.sub(r\"'(\\d+)'|\\\"(\\d+)\\\"\", lambda match: str(int(match.group(1) or match.group(2))), query_string)\n",
        "    query_string = re.sub(r'\\[(\\d+,\\s*)+\\d+\\]', lambda match: '[' + match.group(0).replace(\"\\'\", \"'\") + ']', query_string)\n",
        "    \n",
        "    return query_string\n",
        "\n",
        "\n",
        "final_parsed_query = []\n",
        "\n",
        "for i in list(TRANSFORM_(data))[2]:\n",
        "    # print(i)\n",
        "    if i:\n",
        "        parsed_query = parse_query_string(i)\n",
        "        final_parsed_query.append(parsed_query)\n",
        "    else:\n",
        "        final_parsed_query.append(i)\n",
        "\n",
        "final_parsed_query"
      ],
      "metadata": {
        "id": "_lTGE07ya3aO",
        "colab": {
          "base_uri": "https://localhost:8080/"
        },
        "outputId": "9fc1bf66-26f5-497f-aa8b-e555c1e78041"
      },
      "execution_count": 9,
      "outputs": [
        {
          "output_type": "stream",
          "name": "stdout",
          "text": [
            "['ST_GR', '(\"G1\")   ST in (\"10,19,20,21\")']\n",
            "['ST_GR', '(\"G2\")   ST in (\"11,12,13,14,15,16,17,18\")']\n",
            "['ST_GR', '(\"G3\")   Otherwise']\n",
            "['POP', '(1)']\n",
            "['WRK', '(1)  CWS in (\"11,12,21,31,41,51,61,61,71,72\")']\n",
            "['WRK', '(0)  CWS NOT in (\"11,12,21,31,41,51,61,61,71,72\")']\n",
            "['LF', '(1)   CWS in (\"11,12,21,31,41,51,61,61,71,72,81\")']\n",
            "['LF', '(0)   Otherwise']\n"
          ]
        },
        {
          "output_type": "execute_result",
          "data": {
            "text/plain": [
              "[\"ST.isin(['10,19,20,21'])\",\n",
              " \"ST.isin(['11,12,13,14,15,16,17,18'])\",\n",
              " 'Otherwise',\n",
              " None,\n",
              " \"CWS.isin(['11,12,21,31,41,51,61,61,71,72'])\",\n",
              " \"~CWS.isin(['11,12,21,31,41,51,61,61,71,72'])\",\n",
              " \"CWS.isin(['11,12,21,31,41,51,61,61,71,72,81'])\",\n",
              " 'Otherwise']"
            ]
          },
          "metadata": {},
          "execution_count": 9
        }
      ]
    },
    {
      "cell_type": "code",
      "source": [
        "df['SEC']"
      ],
      "metadata": {
        "id": "GVTZkgr9YtIK",
        "colab": {
          "base_uri": "https://localhost:8080/"
        },
        "outputId": "d829e185-4979-43b7-aed1-42611214ab9f"
      },
      "execution_count": 10,
      "outputs": [
        {
          "output_type": "execute_result",
          "data": {
            "text/plain": [
              "0         1\n",
              "1         1\n",
              "2         1\n",
              "3         1\n",
              "4         1\n",
              "         ..\n",
              "109851    2\n",
              "109852    2\n",
              "109853    2\n",
              "109854    2\n",
              "109855    2\n",
              "Name: SEC, Length: 109856, dtype: int64"
            ]
          },
          "metadata": {},
          "execution_count": 10
        }
      ]
    },
    {
      "cell_type": "code",
      "source": [
        "Arr1 = list(TRANSFORM_(data))[0]\n",
        "Arr2 = list(TRANSFORM_(data))[1]\n",
        "\n",
        "# print(Arr2)\n",
        "Arr2 = [i.strip('()\\'\\\"') for i in Arr2]\n",
        "Arr3 = final_parsed_query\n",
        "\n",
        "Arr2 = [float(elem) if elem.replace('.', '', 1).isdigit() else elem for elem in Arr2]\n",
        "print(Arr2)\n",
        "\n",
        "# print(Arr1)\n",
        "# print(Arr2)\n",
        "# print(Arr3)"
      ],
      "metadata": {
        "id": "NtMiw_fo7hvR",
        "colab": {
          "base_uri": "https://localhost:8080/"
        },
        "outputId": "93496fae-ad2c-4fe9-e547-a73e13badc4f"
      },
      "execution_count": 11,
      "outputs": [
        {
          "output_type": "stream",
          "name": "stdout",
          "text": [
            "['ST_GR', '(\"G1\")   ST in (\"10,19,20,21\")']\n",
            "['ST_GR', '(\"G2\")   ST in (\"11,12,13,14,15,16,17,18\")']\n",
            "['ST_GR', '(\"G3\")   Otherwise']\n",
            "['POP', '(1)']\n",
            "['WRK', '(1)  CWS in (\"11,12,21,31,41,51,61,61,71,72\")']\n",
            "['WRK', '(0)  CWS NOT in (\"11,12,21,31,41,51,61,61,71,72\")']\n",
            "['LF', '(1)   CWS in (\"11,12,21,31,41,51,61,61,71,72,81\")']\n",
            "['LF', '(0)   Otherwise']\n",
            "['ST_GR', '(\"G1\")   ST in (\"10,19,20,21\")']\n",
            "['ST_GR', '(\"G2\")   ST in (\"11,12,13,14,15,16,17,18\")']\n",
            "['ST_GR', '(\"G3\")   Otherwise']\n",
            "['POP', '(1)']\n",
            "['WRK', '(1)  CWS in (\"11,12,21,31,41,51,61,61,71,72\")']\n",
            "['WRK', '(0)  CWS NOT in (\"11,12,21,31,41,51,61,61,71,72\")']\n",
            "['LF', '(1)   CWS in (\"11,12,21,31,41,51,61,61,71,72,81\")']\n",
            "['LF', '(0)   Otherwise']\n",
            "['G1', 'G2', 'G3', 1.0, 1.0, 0.0, 1.0, 0.0]\n"
          ]
        }
      ]
    },
    {
      "cell_type": "code",
      "source": [
        "df.head(3)"
      ],
      "metadata": {
        "id": "hYYh_PXq7C_S",
        "colab": {
          "base_uri": "https://localhost:8080/",
          "height": 172
        },
        "outputId": "3a98e474-a93c-4fab-a9a9-3f9a858426b4"
      },
      "execution_count": 12,
      "outputs": [
        {
          "output_type": "execute_result",
          "data": {
            "text/plain": [
              "   SEC  ST    FSU  IDNO  SEG  SSS  SSU  STRM  SSTRM  SS  ...  PAS  PS_SS  CWS  \\\n",
              "0    1  28  17469     1    1    1    1     1      1   1  ...   51     51   51   \n",
              "1    1  28  17469     1    1    1    1     1      1   1  ...   91     91   91   \n",
              "2    1  28  17469     1    1    1    1     1      1   1  ...   91     91   91   \n",
              "\n",
              "   ERN_SELF  ERN_REG  ST_GR    STRMID  POP  LF  WRK  \n",
              "0         0        0      0  01280101    1   1    1  \n",
              "1         0        0      0  01280101    1   1    1  \n",
              "2         0        0      0  01280101    1   1    1  \n",
              "\n",
              "[3 rows x 37 columns]"
            ],
            "text/html": [
              "\n",
              "  <div id=\"df-8badfd63-da97-4542-91d4-36c6849acb45\">\n",
              "    <div class=\"colab-df-container\">\n",
              "      <div>\n",
              "<style scoped>\n",
              "    .dataframe tbody tr th:only-of-type {\n",
              "        vertical-align: middle;\n",
              "    }\n",
              "\n",
              "    .dataframe tbody tr th {\n",
              "        vertical-align: top;\n",
              "    }\n",
              "\n",
              "    .dataframe thead th {\n",
              "        text-align: right;\n",
              "    }\n",
              "</style>\n",
              "<table border=\"1\" class=\"dataframe\">\n",
              "  <thead>\n",
              "    <tr style=\"text-align: right;\">\n",
              "      <th></th>\n",
              "      <th>SEC</th>\n",
              "      <th>ST</th>\n",
              "      <th>FSU</th>\n",
              "      <th>IDNO</th>\n",
              "      <th>SEG</th>\n",
              "      <th>SSS</th>\n",
              "      <th>SSU</th>\n",
              "      <th>STRM</th>\n",
              "      <th>SSTRM</th>\n",
              "      <th>SS</th>\n",
              "      <th>...</th>\n",
              "      <th>PAS</th>\n",
              "      <th>PS_SS</th>\n",
              "      <th>CWS</th>\n",
              "      <th>ERN_SELF</th>\n",
              "      <th>ERN_REG</th>\n",
              "      <th>ST_GR</th>\n",
              "      <th>STRMID</th>\n",
              "      <th>POP</th>\n",
              "      <th>LF</th>\n",
              "      <th>WRK</th>\n",
              "    </tr>\n",
              "  </thead>\n",
              "  <tbody>\n",
              "    <tr>\n",
              "      <th>0</th>\n",
              "      <td>1</td>\n",
              "      <td>28</td>\n",
              "      <td>17469</td>\n",
              "      <td>1</td>\n",
              "      <td>1</td>\n",
              "      <td>1</td>\n",
              "      <td>1</td>\n",
              "      <td>1</td>\n",
              "      <td>1</td>\n",
              "      <td>1</td>\n",
              "      <td>...</td>\n",
              "      <td>51</td>\n",
              "      <td>51</td>\n",
              "      <td>51</td>\n",
              "      <td>0</td>\n",
              "      <td>0</td>\n",
              "      <td>0</td>\n",
              "      <td>01280101</td>\n",
              "      <td>1</td>\n",
              "      <td>1</td>\n",
              "      <td>1</td>\n",
              "    </tr>\n",
              "    <tr>\n",
              "      <th>1</th>\n",
              "      <td>1</td>\n",
              "      <td>28</td>\n",
              "      <td>17469</td>\n",
              "      <td>1</td>\n",
              "      <td>1</td>\n",
              "      <td>1</td>\n",
              "      <td>1</td>\n",
              "      <td>1</td>\n",
              "      <td>1</td>\n",
              "      <td>1</td>\n",
              "      <td>...</td>\n",
              "      <td>91</td>\n",
              "      <td>91</td>\n",
              "      <td>91</td>\n",
              "      <td>0</td>\n",
              "      <td>0</td>\n",
              "      <td>0</td>\n",
              "      <td>01280101</td>\n",
              "      <td>1</td>\n",
              "      <td>1</td>\n",
              "      <td>1</td>\n",
              "    </tr>\n",
              "    <tr>\n",
              "      <th>2</th>\n",
              "      <td>1</td>\n",
              "      <td>28</td>\n",
              "      <td>17469</td>\n",
              "      <td>1</td>\n",
              "      <td>1</td>\n",
              "      <td>1</td>\n",
              "      <td>1</td>\n",
              "      <td>1</td>\n",
              "      <td>1</td>\n",
              "      <td>1</td>\n",
              "      <td>...</td>\n",
              "      <td>91</td>\n",
              "      <td>91</td>\n",
              "      <td>91</td>\n",
              "      <td>0</td>\n",
              "      <td>0</td>\n",
              "      <td>0</td>\n",
              "      <td>01280101</td>\n",
              "      <td>1</td>\n",
              "      <td>1</td>\n",
              "      <td>1</td>\n",
              "    </tr>\n",
              "  </tbody>\n",
              "</table>\n",
              "<p>3 rows × 37 columns</p>\n",
              "</div>\n",
              "      <button class=\"colab-df-convert\" onclick=\"convertToInteractive('df-8badfd63-da97-4542-91d4-36c6849acb45')\"\n",
              "              title=\"Convert this dataframe to an interactive table.\"\n",
              "              style=\"display:none;\">\n",
              "        \n",
              "  <svg xmlns=\"http://www.w3.org/2000/svg\" height=\"24px\"viewBox=\"0 0 24 24\"\n",
              "       width=\"24px\">\n",
              "    <path d=\"M0 0h24v24H0V0z\" fill=\"none\"/>\n",
              "    <path d=\"M18.56 5.44l.94 2.06.94-2.06 2.06-.94-2.06-.94-.94-2.06-.94 2.06-2.06.94zm-11 1L8.5 8.5l.94-2.06 2.06-.94-2.06-.94L8.5 2.5l-.94 2.06-2.06.94zm10 10l.94 2.06.94-2.06 2.06-.94-2.06-.94-.94-2.06-.94 2.06-2.06.94z\"/><path d=\"M17.41 7.96l-1.37-1.37c-.4-.4-.92-.59-1.43-.59-.52 0-1.04.2-1.43.59L10.3 9.45l-7.72 7.72c-.78.78-.78 2.05 0 2.83L4 21.41c.39.39.9.59 1.41.59.51 0 1.02-.2 1.41-.59l7.78-7.78 2.81-2.81c.8-.78.8-2.07 0-2.86zM5.41 20L4 18.59l7.72-7.72 1.47 1.35L5.41 20z\"/>\n",
              "  </svg>\n",
              "      </button>\n",
              "      \n",
              "  <style>\n",
              "    .colab-df-container {\n",
              "      display:flex;\n",
              "      flex-wrap:wrap;\n",
              "      gap: 12px;\n",
              "    }\n",
              "\n",
              "    .colab-df-convert {\n",
              "      background-color: #E8F0FE;\n",
              "      border: none;\n",
              "      border-radius: 50%;\n",
              "      cursor: pointer;\n",
              "      display: none;\n",
              "      fill: #1967D2;\n",
              "      height: 32px;\n",
              "      padding: 0 0 0 0;\n",
              "      width: 32px;\n",
              "    }\n",
              "\n",
              "    .colab-df-convert:hover {\n",
              "      background-color: #E2EBFA;\n",
              "      box-shadow: 0px 1px 2px rgba(60, 64, 67, 0.3), 0px 1px 3px 1px rgba(60, 64, 67, 0.15);\n",
              "      fill: #174EA6;\n",
              "    }\n",
              "\n",
              "    [theme=dark] .colab-df-convert {\n",
              "      background-color: #3B4455;\n",
              "      fill: #D2E3FC;\n",
              "    }\n",
              "\n",
              "    [theme=dark] .colab-df-convert:hover {\n",
              "      background-color: #434B5C;\n",
              "      box-shadow: 0px 1px 3px 1px rgba(0, 0, 0, 0.15);\n",
              "      filter: drop-shadow(0px 1px 2px rgba(0, 0, 0, 0.3));\n",
              "      fill: #FFFFFF;\n",
              "    }\n",
              "  </style>\n",
              "\n",
              "      <script>\n",
              "        const buttonEl =\n",
              "          document.querySelector('#df-8badfd63-da97-4542-91d4-36c6849acb45 button.colab-df-convert');\n",
              "        buttonEl.style.display =\n",
              "          google.colab.kernel.accessAllowed ? 'block' : 'none';\n",
              "\n",
              "        async function convertToInteractive(key) {\n",
              "          const element = document.querySelector('#df-8badfd63-da97-4542-91d4-36c6849acb45');\n",
              "          const dataTable =\n",
              "            await google.colab.kernel.invokeFunction('convertToInteractive',\n",
              "                                                     [key], {});\n",
              "          if (!dataTable) return;\n",
              "\n",
              "          const docLinkHtml = 'Like what you see? Visit the ' +\n",
              "            '<a target=\"_blank\" href=https://colab.research.google.com/notebooks/data_table.ipynb>data table notebook</a>'\n",
              "            + ' to learn more about interactive tables.';\n",
              "          element.innerHTML = '';\n",
              "          dataTable['output_type'] = 'display_data';\n",
              "          await google.colab.output.renderOutput(dataTable, element);\n",
              "          const docLink = document.createElement('div');\n",
              "          docLink.innerHTML = docLinkHtml;\n",
              "          element.appendChild(docLink);\n",
              "        }\n",
              "      </script>\n",
              "    </div>\n",
              "  </div>\n",
              "  "
            ]
          },
          "metadata": {},
          "execution_count": 12
        }
      ]
    },
    {
      "cell_type": "code",
      "source": [
        "set(Arr1) - set(list(df.columns))"
      ],
      "metadata": {
        "id": "FpCHnWE634Lg",
        "colab": {
          "base_uri": "https://localhost:8080/"
        },
        "outputId": "d38ab8fc-ead8-472c-e6f9-f5fb10615700"
      },
      "execution_count": 13,
      "outputs": [
        {
          "output_type": "execute_result",
          "data": {
            "text/plain": [
              "set()"
            ]
          },
          "metadata": {},
          "execution_count": 13
        }
      ]
    },
    {
      "cell_type": "code",
      "source": [
        "\n",
        "# Check for name mismatches and create new columns\n",
        "mismatched_names = set(Arr1) - set(df.columns)\n",
        "\n",
        "new_columns = {name: [0] * df.shape[0] for name in mismatched_names}\n",
        "df = df.assign(**new_columns)\n",
        "\n",
        "mismatched_names"
      ],
      "metadata": {
        "id": "2Jb5zGh67zYH",
        "colab": {
          "base_uri": "https://localhost:8080/"
        },
        "outputId": "14328857-4386-4950-ba54-24e7b6ec05a2"
      },
      "execution_count": 14,
      "outputs": [
        {
          "output_type": "execute_result",
          "data": {
            "text/plain": [
              "set()"
            ]
          },
          "metadata": {},
          "execution_count": 14
        }
      ]
    },
    {
      "cell_type": "code",
      "source": [
        "Arr3"
      ],
      "metadata": {
        "id": "SQYkxNyITODY",
        "colab": {
          "base_uri": "https://localhost:8080/"
        },
        "outputId": "458ddda4-b48d-45e2-dc38-0a19e125ac73"
      },
      "execution_count": 15,
      "outputs": [
        {
          "output_type": "execute_result",
          "data": {
            "text/plain": [
              "[\"ST.isin(['10,19,20,21'])\",\n",
              " \"ST.isin(['11,12,13,14,15,16,17,18'])\",\n",
              " 'Otherwise',\n",
              " None,\n",
              " \"CWS.isin(['11,12,21,31,41,51,61,61,71,72'])\",\n",
              " \"~CWS.isin(['11,12,21,31,41,51,61,61,71,72'])\",\n",
              " \"CWS.isin(['11,12,21,31,41,51,61,61,71,72,81'])\",\n",
              " 'Otherwise']"
            ]
          },
          "metadata": {},
          "execution_count": 15
        }
      ]
    },
    {
      "cell_type": "code",
      "source": [
        "Arr3 = [i.replace(\"(['\", \"([\").replace(\"'])\", \"])\") if i is not None else 'True' if Arr3[j] == 'Otherwise' else True for j, i in enumerate(Arr3)]\n",
        "Arr3"
      ],
      "metadata": {
        "id": "YlL6LYR-43rC",
        "colab": {
          "base_uri": "https://localhost:8080/"
        },
        "outputId": "e34f2d29-e079-4781-f76d-9dce4350519c"
      },
      "execution_count": 16,
      "outputs": [
        {
          "output_type": "execute_result",
          "data": {
            "text/plain": [
              "['ST.isin([10,19,20,21])',\n",
              " 'ST.isin([11,12,13,14,15,16,17,18])',\n",
              " 'Otherwise',\n",
              " True,\n",
              " 'CWS.isin([11,12,21,31,41,51,61,61,71,72])',\n",
              " '~CWS.isin([11,12,21,31,41,51,61,61,71,72])',\n",
              " 'CWS.isin([11,12,21,31,41,51,61,61,71,72,81])',\n",
              " 'Otherwise']"
            ]
          },
          "metadata": {},
          "execution_count": 16
        }
      ]
    },
    {
      "cell_type": "code",
      "source": [
        "new_arr3 = []\n",
        "for i, value in enumerate(Arr3):\n",
        "    if value == 'Otherwise':\n",
        "        other_values = set(['~(' + Arr3[j] + ')' for j in range(len(Arr3)) if Arr1[j] == Arr1[i] and Arr3[j] != 'Otherwise'])\n",
        "        new_value = ' & '.join(other_values)\n",
        "        print(new_value)\n",
        "        new_arr3.append(new_value)\n",
        "    else:\n",
        "        new_arr3.append(value)\n",
        "\n",
        "# new_arr3"
      ],
      "metadata": {
        "id": "BWIYIIl_5_ba",
        "colab": {
          "base_uri": "https://localhost:8080/"
        },
        "outputId": "a53db4ae-fb14-4677-bfd3-26214ed109b7"
      },
      "execution_count": 17,
      "outputs": [
        {
          "output_type": "stream",
          "name": "stdout",
          "text": [
            "~(ST.isin([11,12,13,14,15,16,17,18])) & ~(ST.isin([10,19,20,21]))\n",
            "~(CWS.isin([11,12,21,31,41,51,61,61,71,72,81]))\n"
          ]
        }
      ]
    },
    {
      "cell_type": "code",
      "source": [
        "Arr3 = new_arr3"
      ],
      "metadata": {
        "id": "WNp2AGBEaJl-"
      },
      "execution_count": 18,
      "outputs": []
    },
    {
      "cell_type": "code",
      "source": [
        "df.columns"
      ],
      "metadata": {
        "id": "M7YnPjuAAY53",
        "colab": {
          "base_uri": "https://localhost:8080/"
        },
        "outputId": "1fb68259-a45e-42cc-e2f4-5ef2ea651e06"
      },
      "execution_count": 19,
      "outputs": [
        {
          "output_type": "execute_result",
          "data": {
            "text/plain": [
              "Index(['SEC', 'ST', 'FSU', 'IDNO', 'SEG', 'SSS', 'SSU', 'STRM', 'SSTRM', 'SS',\n",
              "       'NSS', 'NSC', 'MULT', 'HH_SIZE', 'HHTYPE', 'RELG', 'SG', 'MHCE',\n",
              "       'DC_ALL', 'DC_ST', 'SRL', 'REL', 'SEX', 'MSEX', 'AGE', 'MARST',\n",
              "       'GEDU_LVL', 'PAS', 'PS_SS', 'CWS', 'ERN_SELF', 'ERN_REG', 'ST_GR',\n",
              "       'STRMID', 'POP', 'LF', 'WRK'],\n",
              "      dtype='object')"
            ]
          },
          "metadata": {},
          "execution_count": 19
        }
      ]
    },
    {
      "cell_type": "code",
      "source": [
        "Arr2"
      ],
      "metadata": {
        "colab": {
          "base_uri": "https://localhost:8080/"
        },
        "id": "BiNMunJ16H3R",
        "outputId": "c6cadca5-a5b2-493e-c964-cbdf5d1cef17"
      },
      "execution_count": 20,
      "outputs": [
        {
          "output_type": "execute_result",
          "data": {
            "text/plain": [
              "['G1', 'G2', 'G3', 1.0, 1.0, 0.0, 1.0, 0.0]"
            ]
          },
          "metadata": {},
          "execution_count": 20
        }
      ]
    },
    {
      "cell_type": "code",
      "source": [
        "for i in range(len(Arr2)):\n",
        "    if type(Arr2[i]) == str:\n",
        "        print(Arr2[i])"
      ],
      "metadata": {
        "colab": {
          "base_uri": "https://localhost:8080/"
        },
        "id": "CXIrpfUnv-cv",
        "outputId": "0cd25883-f74e-421d-b7f8-ca22d8784360"
      },
      "execution_count": 21,
      "outputs": [
        {
          "output_type": "stream",
          "name": "stdout",
          "text": [
            "G1\n",
            "G2\n",
            "G3\n"
          ]
        }
      ]
    },
    {
      "cell_type": "code",
      "source": [],
      "metadata": {
        "id": "0VEa4lv267ep"
      },
      "execution_count": 21,
      "outputs": []
    },
    {
      "cell_type": "code",
      "source": [
        "# Apply the queries in Arr3 to filter the rows of the dataframe\n",
        "for i, query_str in enumerate(Arr3):\n",
        "    \n",
        "    if query_str is True:\n",
        "        if type(Arr2[i]) == str:\n",
        "            if '+' in Arr2[i]:\n",
        "                df[Arr1[i]] = df[Arr2[i].split('+')].apply(lambda x: x.sum(), axis=1)\n",
        "                print('*** First if', Arr2[i], Arr1[i], Arr3[i], i)\n",
        "\n",
        "            else:\n",
        "                df[Arr1[i]] = df[[Arr2[i]]].apply(lambda x: x, axis=1)\n",
        "                print('*** First else', Arr2[i], Arr1[i], Arr3[i], i)\n",
        "        # if type(Arr3[i]):\n",
        "        #     print('^^^ Second if', Arr2[i], Arr1[i], Arr3[i], i)\n",
        "        #     df.loc[df_query.index, Arr1[i]] = Arr2[i]\n",
        "    \n",
        "    else:\n",
        "        try:\n",
        "            df_query = df.query(query_str)\n",
        "        except:\n",
        "            pass\n",
        "\n",
        "        if type(Arr2[i]) == float:\n",
        "            df.loc[df_query.index, Arr1[i]] = Arr2[i]\n",
        "            # print('### Third if', Arr2[i], Arr1[i], Arr3[i])\n",
        "        else:\n",
        "            df.loc[df_query.index, Arr1[i]] = Arr2[i]\n",
        "            # print('@@@ First else', Arr2[i], Arr1[i], Arr3[i])\n",
        "\n",
        "\n",
        "        if type(Arr2[i]) == str:\n",
        "            if Arr2[i] in list(df.columns):\n",
        "                df[Arr1[i]] = df[[Arr2[i]]].apply(lambda x: x, axis=1)\n",
        "                # print('$$$ Fourth if', Arr2[i], Arr1[i], Arr3[i])\n",
        "\n",
        "# print(df)"
      ],
      "metadata": {
        "id": "9Ymd7BTvha86"
      },
      "execution_count": 22,
      "outputs": []
    },
    {
      "cell_type": "code",
      "source": [
        "df[['POP']].value_counts()"
      ],
      "metadata": {
        "colab": {
          "base_uri": "https://localhost:8080/"
        },
        "id": "I_UBlt_QSS0f",
        "outputId": "0442cff2-7cdd-4f93-bb19-ac201847a644"
      },
      "execution_count": 23,
      "outputs": [
        {
          "output_type": "execute_result",
          "data": {
            "text/plain": [
              "POP\n",
              "1      109856\n",
              "dtype: int64"
            ]
          },
          "metadata": {},
          "execution_count": 23
        }
      ]
    },
    {
      "cell_type": "code",
      "source": [
        "df"
      ],
      "metadata": {
        "colab": {
          "base_uri": "https://localhost:8080/",
          "height": 467
        },
        "id": "ivucwi5eyIuO",
        "outputId": "b9d913e2-5b49-4c83-c351-928112ba2194"
      },
      "execution_count": 24,
      "outputs": [
        {
          "output_type": "execute_result",
          "data": {
            "text/plain": [
              "        SEC  ST    FSU  IDNO  SEG  SSS  SSU  STRM  SSTRM  SS  ...  PAS  PS_SS  \\\n",
              "0         1  28  17469     1    1    1    1     1      1   1  ...   51     51   \n",
              "1         1  28  17469     1    1    1    1     1      1   1  ...   91     91   \n",
              "2         1  28  17469     1    1    1    1     1      1   1  ...   91     91   \n",
              "3         1  28  17469     1    1    1    1     1      1   1  ...   51     51   \n",
              "4         1  28  17469     2    1    1    2     1      1   1  ...   51     51   \n",
              "...     ...  ..    ...   ...  ...  ...  ...   ...    ...  ..  ...  ...    ...   \n",
              "109851    2  34  27428     7    1    4    1     1      3   2  ...   94     94   \n",
              "109852    2  34  27428     8    1    4    2     1      3   2  ...   51     51   \n",
              "109853    2  34  27428     8    1    4    2     1      3   2  ...   91     91   \n",
              "109854    2  34  27428     8    1    4    2     1      3   2  ...   92     92   \n",
              "109855    2  34  27428     8    1    4    2     1      3   2  ...   94     94   \n",
              "\n",
              "        CWS  ERN_SELF  ERN_REG  ST_GR    STRMID  POP  LF  WRK  \n",
              "0        51         0        0     G3  01280101    1   1    1  \n",
              "1        91         0        0     G3  01280101    1   0    0  \n",
              "2        91         0        0     G3  01280101    1   0    0  \n",
              "3        51         0        0     G3  01280101    1   1    1  \n",
              "4        51         0        0     G3  01280101    1   1    1  \n",
              "...     ...       ...      ...    ...       ...  ...  ..  ...  \n",
              "109851   94         0        0     G3  02340103    1   0    0  \n",
              "109852   51         0        0     G3  02340103    1   1    1  \n",
              "109853   91         0        0     G3  02340103    1   0    0  \n",
              "109854   92         0        0     G3  02340103    1   0    0  \n",
              "109855   94         0        0     G3  02340103    1   0    0  \n",
              "\n",
              "[109856 rows x 37 columns]"
            ],
            "text/html": [
              "\n",
              "  <div id=\"df-acdd8690-7e5e-403b-8eed-3e393a97da8f\">\n",
              "    <div class=\"colab-df-container\">\n",
              "      <div>\n",
              "<style scoped>\n",
              "    .dataframe tbody tr th:only-of-type {\n",
              "        vertical-align: middle;\n",
              "    }\n",
              "\n",
              "    .dataframe tbody tr th {\n",
              "        vertical-align: top;\n",
              "    }\n",
              "\n",
              "    .dataframe thead th {\n",
              "        text-align: right;\n",
              "    }\n",
              "</style>\n",
              "<table border=\"1\" class=\"dataframe\">\n",
              "  <thead>\n",
              "    <tr style=\"text-align: right;\">\n",
              "      <th></th>\n",
              "      <th>SEC</th>\n",
              "      <th>ST</th>\n",
              "      <th>FSU</th>\n",
              "      <th>IDNO</th>\n",
              "      <th>SEG</th>\n",
              "      <th>SSS</th>\n",
              "      <th>SSU</th>\n",
              "      <th>STRM</th>\n",
              "      <th>SSTRM</th>\n",
              "      <th>SS</th>\n",
              "      <th>...</th>\n",
              "      <th>PAS</th>\n",
              "      <th>PS_SS</th>\n",
              "      <th>CWS</th>\n",
              "      <th>ERN_SELF</th>\n",
              "      <th>ERN_REG</th>\n",
              "      <th>ST_GR</th>\n",
              "      <th>STRMID</th>\n",
              "      <th>POP</th>\n",
              "      <th>LF</th>\n",
              "      <th>WRK</th>\n",
              "    </tr>\n",
              "  </thead>\n",
              "  <tbody>\n",
              "    <tr>\n",
              "      <th>0</th>\n",
              "      <td>1</td>\n",
              "      <td>28</td>\n",
              "      <td>17469</td>\n",
              "      <td>1</td>\n",
              "      <td>1</td>\n",
              "      <td>1</td>\n",
              "      <td>1</td>\n",
              "      <td>1</td>\n",
              "      <td>1</td>\n",
              "      <td>1</td>\n",
              "      <td>...</td>\n",
              "      <td>51</td>\n",
              "      <td>51</td>\n",
              "      <td>51</td>\n",
              "      <td>0</td>\n",
              "      <td>0</td>\n",
              "      <td>G3</td>\n",
              "      <td>01280101</td>\n",
              "      <td>1</td>\n",
              "      <td>1</td>\n",
              "      <td>1</td>\n",
              "    </tr>\n",
              "    <tr>\n",
              "      <th>1</th>\n",
              "      <td>1</td>\n",
              "      <td>28</td>\n",
              "      <td>17469</td>\n",
              "      <td>1</td>\n",
              "      <td>1</td>\n",
              "      <td>1</td>\n",
              "      <td>1</td>\n",
              "      <td>1</td>\n",
              "      <td>1</td>\n",
              "      <td>1</td>\n",
              "      <td>...</td>\n",
              "      <td>91</td>\n",
              "      <td>91</td>\n",
              "      <td>91</td>\n",
              "      <td>0</td>\n",
              "      <td>0</td>\n",
              "      <td>G3</td>\n",
              "      <td>01280101</td>\n",
              "      <td>1</td>\n",
              "      <td>0</td>\n",
              "      <td>0</td>\n",
              "    </tr>\n",
              "    <tr>\n",
              "      <th>2</th>\n",
              "      <td>1</td>\n",
              "      <td>28</td>\n",
              "      <td>17469</td>\n",
              "      <td>1</td>\n",
              "      <td>1</td>\n",
              "      <td>1</td>\n",
              "      <td>1</td>\n",
              "      <td>1</td>\n",
              "      <td>1</td>\n",
              "      <td>1</td>\n",
              "      <td>...</td>\n",
              "      <td>91</td>\n",
              "      <td>91</td>\n",
              "      <td>91</td>\n",
              "      <td>0</td>\n",
              "      <td>0</td>\n",
              "      <td>G3</td>\n",
              "      <td>01280101</td>\n",
              "      <td>1</td>\n",
              "      <td>0</td>\n",
              "      <td>0</td>\n",
              "    </tr>\n",
              "    <tr>\n",
              "      <th>3</th>\n",
              "      <td>1</td>\n",
              "      <td>28</td>\n",
              "      <td>17469</td>\n",
              "      <td>1</td>\n",
              "      <td>1</td>\n",
              "      <td>1</td>\n",
              "      <td>1</td>\n",
              "      <td>1</td>\n",
              "      <td>1</td>\n",
              "      <td>1</td>\n",
              "      <td>...</td>\n",
              "      <td>51</td>\n",
              "      <td>51</td>\n",
              "      <td>51</td>\n",
              "      <td>0</td>\n",
              "      <td>0</td>\n",
              "      <td>G3</td>\n",
              "      <td>01280101</td>\n",
              "      <td>1</td>\n",
              "      <td>1</td>\n",
              "      <td>1</td>\n",
              "    </tr>\n",
              "    <tr>\n",
              "      <th>4</th>\n",
              "      <td>1</td>\n",
              "      <td>28</td>\n",
              "      <td>17469</td>\n",
              "      <td>2</td>\n",
              "      <td>1</td>\n",
              "      <td>1</td>\n",
              "      <td>2</td>\n",
              "      <td>1</td>\n",
              "      <td>1</td>\n",
              "      <td>1</td>\n",
              "      <td>...</td>\n",
              "      <td>51</td>\n",
              "      <td>51</td>\n",
              "      <td>51</td>\n",
              "      <td>0</td>\n",
              "      <td>0</td>\n",
              "      <td>G3</td>\n",
              "      <td>01280101</td>\n",
              "      <td>1</td>\n",
              "      <td>1</td>\n",
              "      <td>1</td>\n",
              "    </tr>\n",
              "    <tr>\n",
              "      <th>...</th>\n",
              "      <td>...</td>\n",
              "      <td>...</td>\n",
              "      <td>...</td>\n",
              "      <td>...</td>\n",
              "      <td>...</td>\n",
              "      <td>...</td>\n",
              "      <td>...</td>\n",
              "      <td>...</td>\n",
              "      <td>...</td>\n",
              "      <td>...</td>\n",
              "      <td>...</td>\n",
              "      <td>...</td>\n",
              "      <td>...</td>\n",
              "      <td>...</td>\n",
              "      <td>...</td>\n",
              "      <td>...</td>\n",
              "      <td>...</td>\n",
              "      <td>...</td>\n",
              "      <td>...</td>\n",
              "      <td>...</td>\n",
              "      <td>...</td>\n",
              "    </tr>\n",
              "    <tr>\n",
              "      <th>109851</th>\n",
              "      <td>2</td>\n",
              "      <td>34</td>\n",
              "      <td>27428</td>\n",
              "      <td>7</td>\n",
              "      <td>1</td>\n",
              "      <td>4</td>\n",
              "      <td>1</td>\n",
              "      <td>1</td>\n",
              "      <td>3</td>\n",
              "      <td>2</td>\n",
              "      <td>...</td>\n",
              "      <td>94</td>\n",
              "      <td>94</td>\n",
              "      <td>94</td>\n",
              "      <td>0</td>\n",
              "      <td>0</td>\n",
              "      <td>G3</td>\n",
              "      <td>02340103</td>\n",
              "      <td>1</td>\n",
              "      <td>0</td>\n",
              "      <td>0</td>\n",
              "    </tr>\n",
              "    <tr>\n",
              "      <th>109852</th>\n",
              "      <td>2</td>\n",
              "      <td>34</td>\n",
              "      <td>27428</td>\n",
              "      <td>8</td>\n",
              "      <td>1</td>\n",
              "      <td>4</td>\n",
              "      <td>2</td>\n",
              "      <td>1</td>\n",
              "      <td>3</td>\n",
              "      <td>2</td>\n",
              "      <td>...</td>\n",
              "      <td>51</td>\n",
              "      <td>51</td>\n",
              "      <td>51</td>\n",
              "      <td>0</td>\n",
              "      <td>0</td>\n",
              "      <td>G3</td>\n",
              "      <td>02340103</td>\n",
              "      <td>1</td>\n",
              "      <td>1</td>\n",
              "      <td>1</td>\n",
              "    </tr>\n",
              "    <tr>\n",
              "      <th>109853</th>\n",
              "      <td>2</td>\n",
              "      <td>34</td>\n",
              "      <td>27428</td>\n",
              "      <td>8</td>\n",
              "      <td>1</td>\n",
              "      <td>4</td>\n",
              "      <td>2</td>\n",
              "      <td>1</td>\n",
              "      <td>3</td>\n",
              "      <td>2</td>\n",
              "      <td>...</td>\n",
              "      <td>91</td>\n",
              "      <td>91</td>\n",
              "      <td>91</td>\n",
              "      <td>0</td>\n",
              "      <td>0</td>\n",
              "      <td>G3</td>\n",
              "      <td>02340103</td>\n",
              "      <td>1</td>\n",
              "      <td>0</td>\n",
              "      <td>0</td>\n",
              "    </tr>\n",
              "    <tr>\n",
              "      <th>109854</th>\n",
              "      <td>2</td>\n",
              "      <td>34</td>\n",
              "      <td>27428</td>\n",
              "      <td>8</td>\n",
              "      <td>1</td>\n",
              "      <td>4</td>\n",
              "      <td>2</td>\n",
              "      <td>1</td>\n",
              "      <td>3</td>\n",
              "      <td>2</td>\n",
              "      <td>...</td>\n",
              "      <td>92</td>\n",
              "      <td>92</td>\n",
              "      <td>92</td>\n",
              "      <td>0</td>\n",
              "      <td>0</td>\n",
              "      <td>G3</td>\n",
              "      <td>02340103</td>\n",
              "      <td>1</td>\n",
              "      <td>0</td>\n",
              "      <td>0</td>\n",
              "    </tr>\n",
              "    <tr>\n",
              "      <th>109855</th>\n",
              "      <td>2</td>\n",
              "      <td>34</td>\n",
              "      <td>27428</td>\n",
              "      <td>8</td>\n",
              "      <td>1</td>\n",
              "      <td>4</td>\n",
              "      <td>2</td>\n",
              "      <td>1</td>\n",
              "      <td>3</td>\n",
              "      <td>2</td>\n",
              "      <td>...</td>\n",
              "      <td>94</td>\n",
              "      <td>94</td>\n",
              "      <td>94</td>\n",
              "      <td>0</td>\n",
              "      <td>0</td>\n",
              "      <td>G3</td>\n",
              "      <td>02340103</td>\n",
              "      <td>1</td>\n",
              "      <td>0</td>\n",
              "      <td>0</td>\n",
              "    </tr>\n",
              "  </tbody>\n",
              "</table>\n",
              "<p>109856 rows × 37 columns</p>\n",
              "</div>\n",
              "      <button class=\"colab-df-convert\" onclick=\"convertToInteractive('df-acdd8690-7e5e-403b-8eed-3e393a97da8f')\"\n",
              "              title=\"Convert this dataframe to an interactive table.\"\n",
              "              style=\"display:none;\">\n",
              "        \n",
              "  <svg xmlns=\"http://www.w3.org/2000/svg\" height=\"24px\"viewBox=\"0 0 24 24\"\n",
              "       width=\"24px\">\n",
              "    <path d=\"M0 0h24v24H0V0z\" fill=\"none\"/>\n",
              "    <path d=\"M18.56 5.44l.94 2.06.94-2.06 2.06-.94-2.06-.94-.94-2.06-.94 2.06-2.06.94zm-11 1L8.5 8.5l.94-2.06 2.06-.94-2.06-.94L8.5 2.5l-.94 2.06-2.06.94zm10 10l.94 2.06.94-2.06 2.06-.94-2.06-.94-.94-2.06-.94 2.06-2.06.94z\"/><path d=\"M17.41 7.96l-1.37-1.37c-.4-.4-.92-.59-1.43-.59-.52 0-1.04.2-1.43.59L10.3 9.45l-7.72 7.72c-.78.78-.78 2.05 0 2.83L4 21.41c.39.39.9.59 1.41.59.51 0 1.02-.2 1.41-.59l7.78-7.78 2.81-2.81c.8-.78.8-2.07 0-2.86zM5.41 20L4 18.59l7.72-7.72 1.47 1.35L5.41 20z\"/>\n",
              "  </svg>\n",
              "      </button>\n",
              "      \n",
              "  <style>\n",
              "    .colab-df-container {\n",
              "      display:flex;\n",
              "      flex-wrap:wrap;\n",
              "      gap: 12px;\n",
              "    }\n",
              "\n",
              "    .colab-df-convert {\n",
              "      background-color: #E8F0FE;\n",
              "      border: none;\n",
              "      border-radius: 50%;\n",
              "      cursor: pointer;\n",
              "      display: none;\n",
              "      fill: #1967D2;\n",
              "      height: 32px;\n",
              "      padding: 0 0 0 0;\n",
              "      width: 32px;\n",
              "    }\n",
              "\n",
              "    .colab-df-convert:hover {\n",
              "      background-color: #E2EBFA;\n",
              "      box-shadow: 0px 1px 2px rgba(60, 64, 67, 0.3), 0px 1px 3px 1px rgba(60, 64, 67, 0.15);\n",
              "      fill: #174EA6;\n",
              "    }\n",
              "\n",
              "    [theme=dark] .colab-df-convert {\n",
              "      background-color: #3B4455;\n",
              "      fill: #D2E3FC;\n",
              "    }\n",
              "\n",
              "    [theme=dark] .colab-df-convert:hover {\n",
              "      background-color: #434B5C;\n",
              "      box-shadow: 0px 1px 3px 1px rgba(0, 0, 0, 0.15);\n",
              "      filter: drop-shadow(0px 1px 2px rgba(0, 0, 0, 0.3));\n",
              "      fill: #FFFFFF;\n",
              "    }\n",
              "  </style>\n",
              "\n",
              "      <script>\n",
              "        const buttonEl =\n",
              "          document.querySelector('#df-acdd8690-7e5e-403b-8eed-3e393a97da8f button.colab-df-convert');\n",
              "        buttonEl.style.display =\n",
              "          google.colab.kernel.accessAllowed ? 'block' : 'none';\n",
              "\n",
              "        async function convertToInteractive(key) {\n",
              "          const element = document.querySelector('#df-acdd8690-7e5e-403b-8eed-3e393a97da8f');\n",
              "          const dataTable =\n",
              "            await google.colab.kernel.invokeFunction('convertToInteractive',\n",
              "                                                     [key], {});\n",
              "          if (!dataTable) return;\n",
              "\n",
              "          const docLinkHtml = 'Like what you see? Visit the ' +\n",
              "            '<a target=\"_blank\" href=https://colab.research.google.com/notebooks/data_table.ipynb>data table notebook</a>'\n",
              "            + ' to learn more about interactive tables.';\n",
              "          element.innerHTML = '';\n",
              "          dataTable['output_type'] = 'display_data';\n",
              "          await google.colab.output.renderOutput(dataTable, element);\n",
              "          const docLink = document.createElement('div');\n",
              "          docLink.innerHTML = docLinkHtml;\n",
              "          element.appendChild(docLink);\n",
              "        }\n",
              "      </script>\n",
              "    </div>\n",
              "  </div>\n",
              "  "
            ]
          },
          "metadata": {},
          "execution_count": 24
        }
      ]
    },
    {
      "cell_type": "code",
      "source": [],
      "metadata": {
        "id": "mckCl-hXyex3"
      },
      "execution_count": 24,
      "outputs": []
    },
    {
      "cell_type": "code",
      "source": [
        "df.to_csv('WorkFile_Balanced_Half_Sample_Method_Example1.csv')"
      ],
      "metadata": {
        "id": "4wqjFwT1DjuX"
      },
      "execution_count": 25,
      "outputs": []
    },
    {
      "cell_type": "markdown",
      "source": [],
      "metadata": {
        "id": "Iuk_3yl_Nu5A"
      }
    },
    {
      "cell_type": "code",
      "source": [
        "# # Example dataframe\n",
        "# df = pd.DataFrame({\n",
        "#     'A': ['foo', 'bar', 'foo', 'bar', 'foo', 'bar', 'foo', 'foo'],\n",
        "#     'B': ['one', 'one', 'two', 'three', 'two', 'two', 'one', 'three'],\n",
        "#     'C': [1, 2, 3, 4, 5, 6, 7, 8],\n",
        "#     'D': [10, 20, 30, 40, 50, 60, 70, 80],\n",
        "#     'E': ['foo1', 'bar1', 'foo1', 'bar1', 'foo1', 'bar1', 'foo1', 'foo1'],\n",
        "#     'F': ['one2', 'one2', 'two2', 'three2', 'two2', 'two2', 'one2', 'three2'],\n",
        "#     'G': [101, 201, 301, 401, 501, 601, 701, 801],\n",
        "# })\n",
        "\n",
        "# # Define the prefix to use for the new columns\n",
        "# prefix = 'Z'\n",
        "\n",
        "# lst = ['T1', 'T2', 'T3']\n",
        "\n",
        "# for idx, col in enumerate(df.columns):\n",
        "#     for i in range(len(lst)):\n",
        "#         # Create a new column with the appropriate number of \"Z\"s and the prefix\n",
        "#         new_col_val = prefix * (i+1)\n",
        "#         # Add the new column to the DataFrame\n",
        "#         df[lst[i]] = new_col_val\n",
        "\n",
        "\n",
        "# # Print the resulting DataFrame\n",
        "# print(df)"
      ],
      "metadata": {
        "id": "V8r6iLdbkVoC"
      },
      "execution_count": null,
      "outputs": []
    },
    {
      "cell_type": "code",
      "source": [
        "df.columns"
      ],
      "metadata": {
        "id": "iqbErrIfg852"
      },
      "execution_count": null,
      "outputs": []
    },
    {
      "cell_type": "code",
      "source": [
        "# import pandas as pd\n",
        "# import itertools\n",
        "\n",
        "# # Example dataframe\n",
        "# df = pd.DataFrame({\n",
        "#     'A': ['foo', 'bar', 'foo', 'bar', 'foo', 'bar', 'foo', 'foo'],\n",
        "#     'B': ['one', 'one', 'two', 'three', 'two', 'two', 'one', 'three'],\n",
        "#     'C': [1, 2, 3, 4, 5, 6, 7, 8],\n",
        "#     'D': [10, 20, 30, 40, 50, 60, 70, 80],\n",
        "#     'E': ['foo1', 'bar1', 'foo1', 'bar1', 'foo1', 'bar1', 'foo1', 'foo1'],\n",
        "#     'F': ['one2', 'one2', 'two2', 'three2', 'two2', 'two2', 'one2', 'three2'],\n",
        "#     'G': [101, 201, 301, 401, 501, 601, 701, 801],\n",
        "# })\n",
        "\n",
        "# lst_df = list(df.columns)\n",
        "\n",
        "# # Select columns to group by\n",
        "# groupby_cols = ['A', 'B', 'E', 'C']\n",
        "\n",
        "# # Create a list of all possible subsets of groupby_cols\n",
        "# groupby_cols_subsets = [list(subset) for i in range(len(groupby_cols) + 1)\n",
        "#                         for subset in itertools.combinations(groupby_cols, i)]\n",
        "\n",
        "# print(groupby_cols_subsets)\n",
        "\n",
        "# # Select columns that are not in groupby_cols\n",
        "# cols = [col for col in df.columns if col not in groupby_cols]\n",
        "\n",
        "# agg_dict = {col: sum for col in cols if df[col].dtype == int or df[col].dtype == float}\n",
        "\n",
        "# i = 0\n",
        "# # Loop over each subset of columns and perform the aggregation\n",
        "# for groupby_cols_subset in groupby_cols_subsets:\n",
        "#     # Define the prefix to use for the new columns\n",
        "#     prefix = 'Z'\n",
        "\n",
        "#     if len(groupby_cols_subset) == 0:\n",
        "\n",
        "#         # # If empty list is selected, perform aggregation without grouping\n",
        "#         new_df = df.agg(agg_dict).to_frame().T\n",
        "\n",
        "#         test_lst = list(set(lst_df) - set(list(new_df.columns)))\n",
        "\n",
        "#         new_df['groupby_cols'] = 'All columns'\n",
        "\n",
        "#         new_col_val_ = []\n",
        "#         for i in range(len(test_lst)):\n",
        "#             # Create a new column with the appropriate number of \"Z\"s and the prefix\n",
        "#             new_col_val_.append(prefix * (i+1))\n",
        "\n",
        "#         for i in range(len(new_col_val_)):\n",
        "#             # Add the new column to the DataFrame\n",
        "#             new_df[test_lst[i]] = new_col_val_[i]\n",
        "        \n",
        "#         i += 1\n",
        "#         print(new_df, '\\n')\n",
        "\n",
        "#         continue\n",
        "\n",
        "#     # Create a new dataframe by grouping by the selected columns and aggregating\n",
        "#     # Note: here I'm just calculating the sum of columns C and D, but you can use any aggregation function\n",
        "#     new_df = df.groupby(list(groupby_cols_subset)).agg(agg_dict).reset_index()\n",
        "\n",
        "#     test_lst = list(set(lst_df) - set(list(new_df.columns)))\n",
        "\n",
        "#     # # Add a new column to indicate which groupby columns are selected\n",
        "#     new_df['groupby_cols'] = ', '.join(groupby_cols_subset)\n",
        "\n",
        "#     new_col_val = []\n",
        "#     for i in range(len(test_lst)):\n",
        "#         # Create a new column with the appropriate number of \"Z\"s and the prefix\n",
        "#         new_col_val.append(prefix * (i+1))\n",
        "\n",
        "#     for i in range(len(new_col_val)):\n",
        "#         # Add the new column to the DataFrame\n",
        "#         new_df[test_lst[i]] = new_col_val[i]\n",
        "\n",
        "#     i += 1\n",
        "    \n",
        "#     print(new_df, '\\n')\n"
      ],
      "metadata": {
        "id": "iyj9g6pDPbbW"
      },
      "execution_count": null,
      "outputs": []
    },
    {
      "cell_type": "code",
      "source": [
        "df.columns"
      ],
      "metadata": {
        "id": "UezoawpS4vn4"
      },
      "execution_count": null,
      "outputs": []
    },
    {
      "cell_type": "code",
      "source": [
        "df['SEC'].unique()"
      ],
      "metadata": {
        "id": "zXY5TUr4rJsH"
      },
      "execution_count": null,
      "outputs": []
    },
    {
      "cell_type": "code",
      "source": [],
      "metadata": {
        "id": "PW7_Ab1ETtzt"
      },
      "execution_count": null,
      "outputs": []
    },
    {
      "cell_type": "markdown",
      "source": [
        "**STEP 1**"
      ],
      "metadata": {
        "id": "OS08Y3aCseyh"
      }
    },
    {
      "cell_type": "code",
      "source": [
        "# # Read the data from the CSV file\n",
        "# df = pd.read_csv('Work_File1A.csv')\n",
        "\n",
        "# Get the current column names\n",
        "old_col_names = df.columns.tolist()\n",
        "\n",
        "# Create a dictionary with the new column names\n",
        "new_col_names = {col: col.strip() for col in old_col_names}\n",
        "\n",
        "# Rename the columns using the dictionary\n",
        "df.rename(columns=new_col_names, inplace=True)\n",
        "\n",
        "# Calculate the SS_MULT and CMULT fields\n",
        "df['SS_MULT'] = df['MULT'] / 100\n",
        "df['CMULT'] = df.apply(lambda row: row['MULT'] / 200 if row['NSC'] > row['NSS'] else row['MULT'] / 100, axis=1)\n",
        "\n",
        "lst_df = list(df.columns)\n",
        "\n",
        "groupby_cols = GROUP_(data, df)\n",
        "\n",
        "# Create a list of all possible subsets of groupby_cols\n",
        "groupby_cols_subsets = [list(subset) for i in range(len(groupby_cols) + 1)\n",
        "                        for subset in itertools.combinations(groupby_cols, i)]\n",
        "\n",
        "# Select columns that are not in groupby_cols\n",
        "cols = [col for col in df.columns if col in groupby_cols]\n",
        "\n",
        "agg_dict = {col: sum for col in cols if (df[col].dtype == int or df[col].dtype == float) and col in groupby_cols}\n",
        "\n",
        "################\n",
        "Arr_W1 = []\n",
        "\n",
        "\n",
        "### Loop over each subset of columns and perform the aggregation\n",
        "### ------------------------------------------------------------\n",
        "for groupby_cols_subset in groupby_cols_subsets:\n",
        "    # Define the prefix to use for the new columns\n",
        "    prefix = 'Z'\n",
        "\n",
        "    if len(groupby_cols_subset) == 0:\n",
        "\n",
        "        # # If empty list is selected, perform aggregation without grouping\n",
        "        # w1 = df.agg(agg_dict).to_frame().T\n",
        "\n",
        "        # print(new_df)\n",
        "\n",
        "        test_lst = groupby_cols\n",
        "\n",
        "        df['POP'] = pd.to_numeric(df['POP']) * df['CMULT']\n",
        "        df['LF'] = pd.to_numeric(df['LF']) * df['CMULT']\n",
        "        df['WRK'] = pd.to_numeric(df['WRK']) * df['CMULT']\n",
        "        df['MULT'] = df.shape[0]\n",
        "\n",
        "        agg_dict = {'POP': 'sum', 'LF': 'sum', 'WRK': 'sum'}\n",
        "\n",
        "        # Group the data by SEC and ST_GR and calculate the aggregates\n",
        "        w1 = df.agg(agg_dict).to_frame().T\n",
        "\n",
        "        # Rename the columns and reset the index\n",
        "        w1 = w1.rename(columns={'POP': 'pophat', 'LF': 'lfhat', 'WRK': 'wrkhat', 'MULT': 'count'}).reset_index()\n",
        "        w1['groupby_cols'] = 'All columns'\n",
        "\n",
        "        new_col_val_ = []\n",
        "\n",
        "        for i in range(len(list(set(groupby_cols_subsets[-1]) - set(w1.columns)))):\n",
        "            # Create a new column with the appropriate number of \"Z\"s and the prefix\n",
        "            new_col_val_.append(prefix * (i+1))\n",
        "\n",
        "        for i in range(len(list(set(groupby_cols_subsets[-1]) - set(w1.columns)))):\n",
        "            # Add the new column to the DataFrame\n",
        "            w1[test_lst[i]] = new_col_val_[i]\n",
        "\n",
        "        # print(w1)\n",
        "        ################\n",
        "        Arr_W1.append(w1)\n",
        "\n",
        "        continue\n",
        "\n",
        "    # Create a new dataframe by grouping by the selected columns and aggregating\n",
        "    # Note: here I'm just calculating the sum of columns C and D, but you can use any aggregation function\n",
        "    # new_df = df.groupby(list(groupby_cols_subset)).agg(agg_dict).reset_index()\n",
        "    \n",
        "    # Group the data by SEC and ST_GR and calculate the aggregates\n",
        "    w1 = df.groupby(groupby_cols_subset).agg({'POP': lambda x: (pd.to_numeric(x) * df['CMULT']).sum(),\n",
        "                                                'LF': lambda x: (pd.to_numeric(x) * df['CMULT']).sum(),\n",
        "                                                    'WRK': lambda x: (pd.to_numeric(x) * df['CMULT']).sum(),\n",
        "                                                        'MULT': 'count'}).reset_index()\n",
        "\n",
        "    # Rename the columns and reset the index\n",
        "    w1 = w1.rename(columns={'POP': 'pophat', 'LF': 'lfhat', 'WRK': 'wrkhat', 'MULT': 'no_sam'}).reset_index()\n",
        "\n",
        "    test_lst = groupby_cols_subset\n",
        "\n",
        "    # Add a new column to indicate which groupby columns are selected\n",
        "    w1['groupby_cols'] = ', '.join(groupby_cols_subset)\n",
        "\n",
        "    new_col_val = []\n",
        "    for i in range(len(list(set(groupby_cols_subsets[-1]) - set(w1.columns)))):\n",
        "        # Create a new column with the appropriate number of \"Z\"s and the prefix\n",
        "        new_col_val.append(prefix * (i+1))\n",
        "\n",
        "    for i in range(len(list(set(groupby_cols_subsets[-1]) - set(w1.columns)))):\n",
        "        # Add the new column to the DataFrame\n",
        "        w1[list(set(groupby_cols_subsets[-1]) - set(w1.columns))[i]] = new_col_val[i]\n",
        "\n",
        "    Arr_W1.append(w1)\n"
      ],
      "metadata": {
        "id": "FBjN92PqdCZx"
      },
      "execution_count": null,
      "outputs": []
    },
    {
      "cell_type": "code",
      "source": [
        "Arr_W1"
      ],
      "metadata": {
        "id": "7OcfQmmShu-v"
      },
      "execution_count": null,
      "outputs": []
    },
    {
      "cell_type": "code",
      "source": [
        "df['SS'].unique()"
      ],
      "metadata": {
        "id": "PeSjbY4gjGgr"
      },
      "execution_count": null,
      "outputs": []
    },
    {
      "cell_type": "code",
      "source": [
        "df['no_sam'] = 0"
      ],
      "metadata": {
        "id": "XwIcaR1d0Tob"
      },
      "execution_count": null,
      "outputs": []
    },
    {
      "cell_type": "code",
      "source": [
        "df.columns"
      ],
      "metadata": {
        "id": "2LV13Nph0Tr4"
      },
      "execution_count": null,
      "outputs": []
    },
    {
      "cell_type": "markdown",
      "source": [
        "**STEP 2** IT is running slow, figure it out later...\n"
      ],
      "metadata": {
        "id": "8flHj01dsJeA"
      }
    },
    {
      "cell_type": "code",
      "source": [
        "# Filter dataframe to include only rows where SS is 1 or 2\n",
        "df = df.query(\"SS in [1, 2]\")\n",
        "# print(f\"Number of rows after filtering: {len(df)}\")\n",
        "\n",
        "Arr_W2 = []\n",
        "\n",
        "### Loop over subset of columns to perform aggregation\n",
        "for groupby_cols_subset in groupby_cols_subsets:\n",
        "\n",
        "    new_groupby_cols_subset = ['STRMID']\n",
        "\n",
        "    # Define the prefix to use for the new columns\n",
        "    prefix = 'Z'\n",
        "\n",
        "    if len(groupby_cols_subset) == 0:\n",
        "\n",
        "        df['popstr'] = pd.to_numeric(df['POP']) * df['CMULT']\n",
        "        df['s1pop'] = np.where(df['SS'] == 1, pd.to_numeric(df['POP']) * df['SS_MULT'], 0)\n",
        "        df['s2pop'] = np.where(df['SS'] == 2, pd.to_numeric(df['POP']) * df['SS_MULT'], 0)\n",
        "        df['lfstr'] = pd.to_numeric(df['LF']) * df['CMULT']\n",
        "        df['s1lf'] = np.where(df['SS'] == 1, pd.to_numeric(df['LF']) * df['SS_MULT'], 0)\n",
        "        df['s2lf'] = np.where(df['SS'] == 2, pd.to_numeric(df['LF']) * df['SS_MULT'], 0)\n",
        "        df['wrkstr'] = pd.to_numeric(df['WRK']) * df['CMULT']\n",
        "        df['s1wrk'] = np.where(df['SS'] == 1, pd.to_numeric(df['WRK']) * df['SS_MULT'], 0)\n",
        "        df['s2wrk'] = np.where(df['SS'] == 2, pd.to_numeric(df['WRK']) * df['SS_MULT'], 0)\n",
        "\n",
        "        agg_dict = {'popstr': 'sum', 's1pop': 'sum', 's2pop': 'sum', 'lfstr': 'sum', 's1lf': 'sum', \\\n",
        "                    's2lf': 'sum', 'wrkstr': 'sum', 's1wrk': 'sum', 's2wrk': 'sum'}\n",
        "\n",
        "        # # If empty list is selected, perform aggregation without grouping\n",
        "        w2 = df.agg(agg_dict).to_frame().T\n",
        "\n",
        "        w2['STRMID'] = 'ALL'\n",
        "\n",
        "        new_col_val_ = []\n",
        "\n",
        "        for i in range(len(list(set(groupby_cols) - set(w2.columns)))):\n",
        "            # Create a new column with the appropriate number of \"Z\"s and the prefix\n",
        "            new_col_val_.append(prefix * (i+1))\n",
        "\n",
        "        for i in range(len(list(set(groupby_cols) - set(w2.columns)))):\n",
        "            # Add the new column to the DataFrame\n",
        "            w2[groupby_cols[i]] = new_col_val_[i]\n",
        "\n",
        "        print(w2)\n",
        "        Arr_W2.append(w2)\n",
        "\n",
        "        continue\n",
        "\n",
        "    new_groupby_cols_subset.append(groupby_cols_subset[0])\n",
        "\n",
        "    print(new_groupby_cols_subset)\n",
        "\n",
        "    w2 = df.groupby(new_groupby_cols_subset).agg(\n",
        "    popstr=('POP', lambda x: np.sum(x * df['CMULT'])),\n",
        "    s1pop=('POP', lambda x: np.nansum(np.where(df['SS'] == 1, x * df['SS_MULT'], 0))),\n",
        "    s2pop=('POP', lambda x: np.nansum(np.where(df['SS'] == 2, x * df['SS_MULT'], 0))),\n",
        "    lfstr=('LF', lambda x: np.nansum(x * df['CMULT'])),\n",
        "    s1lf=('LF', lambda x: np.nansum(np.where(df['SS'] == 1, x * df['SS_MULT'], 0))),\n",
        "    s2lf=('LF', lambda x: np.nansum(np.where(df['SS'] == 2, x * df['SS_MULT'], 0))),\n",
        "    wrkstr=('WRK', lambda x: np.nansum(x * df['CMULT'])),\n",
        "    s1wrk=('WRK', lambda x: np.nansum(np.where(df['SS'] == 1, x * df['SS_MULT'], 0))),\n",
        "    s2wrk=('WRK', lambda x: np.nansum(np.where(df['SS'] == 2, x * df['SS_MULT'], 0)))\n",
        "    ).reset_index()\n",
        "\n",
        "    new_col_val = []\n",
        "    for i in range(len(list(set(groupby_cols_subsets[-1]) - set(w2.columns)))):\n",
        "        # Create a new column with the appropriate number of \"Z\"s and the prefix\n",
        "        new_col_val.append(prefix * (i+1))\n",
        "\n",
        "    for i in range(len(list(set(groupby_cols_subsets[-1]) - set(w2.columns)))):\n",
        "        # Add the new column to the DataFrame\n",
        "        w2[list(set(groupby_cols_subsets[-1]) - set(w2.columns))[i]] = new_col_val[i]\n",
        "\n",
        "    print(w2)\n",
        "    Arr_W2.append(w2)"
      ],
      "metadata": {
        "id": "KN_zT5h1i4eC"
      },
      "execution_count": null,
      "outputs": []
    },
    {
      "cell_type": "code",
      "source": [],
      "metadata": {
        "id": "rEtzMLU31Klt"
      },
      "execution_count": null,
      "outputs": []
    },
    {
      "cell_type": "code",
      "source": [
        "Arr_W3 = []\n",
        "\n",
        "### Loop over subset of columns to perform aggregation\n",
        "for i in range(len(Arr_W2)):\n",
        "\n",
        "    # Join w2 and w1 on SEC and ST_GR columns\n",
        "    # w3 = Arr_W2[i].merge(Arr_W1[i], on=['SEC', 'AGE_GR'])\n",
        "    w3 = pd.concat([Arr_W2[i], Arr_W1[i]], axis=1)\n",
        "\n",
        "    w3['no_sam'] = w3.shape[0]\n",
        "    \n",
        "    # Add new columns to w3\n",
        "    w3['r1hat'] = w3['lfhat'] / w3['pophat']\n",
        "    w3['r2hat'] = w3['wrkhat'] / w3['pophat']\n",
        "\n",
        "    # Equate s1pop and s2pop\n",
        "    w3.loc[w3['popstr'] == w3['s1pop'], 's1pop'] = w3.loc[w3['popstr'] == w3['s1pop'], 's2pop']\n",
        "    w3.loc[w3['popstr'] == w3['s2pop'], 's2pop'] = w3.loc[w3['popstr'] == w3['s2pop'], 's1pop']\n",
        "\n",
        "    # Equate s1lf and s2lf\n",
        "    w3.loc[w3['lfstr'] == w3['s1lf'], 's1lf'] = w3.loc[w3['lfstr'] == w3['s1lf'], 's2lf']\n",
        "    w3.loc[w3['lfstr'] == w3['s2lf'], 's2lf'] = w3.loc[w3['lfstr'] == w3['s2lf'], 's1lf']\n",
        "\n",
        "    # Equate s1wrk and s2wrk\n",
        "    w3.loc[w3['wrkstr'] == w3['s1wrk'], 's1wrk'] = w3.loc[w3['wrkstr'] == w3['s1wrk'], 's2wrk']\n",
        "    w3.loc[w3['wrkstr'] == w3['s2wrk'], 's2wrk'] = w3.loc[w3['wrkstr'] == w3['s2wrk'], 's1wrk']\n",
        "    \n",
        "    Arr_W3.append(w3)\n",
        "\n",
        "Arr_W3[0]"
      ],
      "metadata": {
        "id": "aOozfIhLjET1"
      },
      "execution_count": null,
      "outputs": []
    },
    {
      "cell_type": "code",
      "source": [
        "w3.columns"
      ],
      "metadata": {
        "id": "Myt7II06w6Gg"
      },
      "execution_count": null,
      "outputs": []
    },
    {
      "cell_type": "code",
      "source": [
        "Arr_W4 = []\n",
        "\n",
        "### Loop over subset of columns to perform aggregation\n",
        "for i in range(len(Arr_W3)):\n",
        "    mask = Arr_W3[i].columns.duplicated()\n",
        "    Arr_W3[i] = Arr_W3[i].loc[:, ~mask]\n",
        "\n",
        "    gby_list = ['no_sam', 'pophat', 'lfhat', 'wrkhat', 'r1hat', 'r2hat'] + groupby_cols\n",
        "\n",
        "    print(gby_list)\n",
        "\n",
        "    w4 = Arr_W3[i].groupby(gby_list).agg(\n",
        "        var_pop = ('s1pop', lambda x: np.sum((x - Arr_W3[i]['s2pop']) ** 2)),\n",
        "\n",
        "        mse_R1 = ('s1lf', lambda x: np.nansum(\n",
        "                    ((x - Arr_W3[i]['s2lf']) ** 2) +\n",
        "                        ((Arr_W3[i]['r1hat'] ** 2) * ((Arr_W3[i]['s1pop'] - Arr_W3[i]['s2pop']) ** 2) -\n",
        "                            (2 * Arr_W3[i]['r1hat'] * (x - Arr_W3[i]['s2lf']) * (Arr_W3[i]['s1pop'] - Arr_W3[i]['s2pop'])))\n",
        "                )),\n",
        "\n",
        "        mse_R2 = ('s1wrk', lambda x: np.nansum(\n",
        "                    ((x - Arr_W3[i]['s2wrk']) ** 2) +\n",
        "                        ((Arr_W3[i]['r2hat'] ** 2) * ((Arr_W3[i]['s1pop'] - Arr_W3[i]['s2pop']) ** 2) -\n",
        "                            (2 * Arr_W3[i]['r2hat'] * (x - Arr_W3[i]['s2wrk']) * (Arr_W3[i]['s1pop'] - Arr_W3[i]['s2pop'])))\n",
        "                ),\n",
        "        \n",
        "        \n",
        "    )).reset_index()\n",
        "\n",
        "    Arr_W4.append(w4)\n",
        "\n",
        "    print(w4)"
      ],
      "metadata": {
        "id": "qdsNdyRURiFf"
      },
      "execution_count": null,
      "outputs": []
    },
    {
      "cell_type": "code",
      "source": [
        "Arr_W5 = []\n",
        "for i in range(len(Arr_W4)):\n",
        "    # Calculate RSEs for each variable in T1\n",
        "    w5 = Arr_W4[i].assign(\n",
        "        RSE_POP=lambda x: 100 * (x['var_pop'] ** 0.5) / (2 * x['pophat']),\n",
        "        RSE_R1=lambda x: 100 * (x['mse_R1'] ** 0.5) / (2 * x['lfhat']),\n",
        "        RSE_R2=lambda x: 100 * (x['mse_R2'] ** 0.5) / (2 * x['wrkhat'])\n",
        "    )\n",
        "\n",
        "    Arr_W5.append(w5)"
      ],
      "metadata": {
        "id": "DrX5BiwtRiI9"
      },
      "execution_count": null,
      "outputs": []
    },
    {
      "cell_type": "code",
      "source": [
        "Arr_W5"
      ],
      "metadata": {
        "id": "UU3TQEp2UPPT"
      },
      "execution_count": null,
      "outputs": []
    },
    {
      "cell_type": "code",
      "source": [
        "Tables = []\n",
        "\n",
        "for i in range(len(Arr_W5)):\n",
        "    gby_list = ['no_sam', 'pophat', 'lfhat', 'wrkhat', 'r1hat', 'r2hat', 'RSE_POP', 'RSE_R1', 'RSE_R2'] + groupby_cols\n",
        "    # assuming the data is loaded into a DataFrame called w5\n",
        "    T1 = Arr_W5[i][gby_list].copy()\n",
        "\n",
        "    # add empty columns for sec_desc and st_gr_desc\n",
        "    T1['sec_desc'] = ''\n",
        "    T1['st_gr_desc'] = ''\n",
        "\n",
        "    # apply formatting to columns\n",
        "    T1['R1'] = 100 * T1['r1hat']\n",
        "    T1['R2'] = 100 * T1['r2hat']\n",
        "\n",
        "    gby_list = ['sec_desc', 'st_gr_desc', 'no_sam', 'pophat','lfhat', 'wrkhat', 'RSE_POP', 'R1', 'RSE_R1', 'R2', 'RSE_R2'] + groupby_cols\n",
        "\n",
        "    # reorder columns\n",
        "    T1 = T1[gby_list]\n",
        "\n",
        "    gby_list = ['no_sam', 'pophat','lfhat', 'wrkhat', 'r1hat', 'r2hat', 'RSE_POP', 'RSE_R1', 'RSE_R2'] + groupby_cols\n",
        "\n",
        "    T1 = Arr_W5[i][gby_list].copy()\n",
        "\n",
        "    T1['sec_desc'] = ' '\n",
        "    T1['st_gr_desc'] = ' '\n",
        "\n",
        "    T1['R1'] = 100 * T1['r1hat']\n",
        "    T1['R2'] = 100 * T1['r2hat']\n",
        "\n",
        "    gby_list = ['no_sam', 'pophat','lfhat', 'wrkhat', 'RSE_POP', 'R1', 'RSE_R1', 'R2', 'RSE_R2'] + groupby_cols\n",
        "\n",
        "    T1 = T1[gby_list]\n",
        "\n",
        "    Tables.append(T1)\n",
        "    \n",
        "print(Tables)"
      ],
      "metadata": {
        "id": "bgkq9FL3RsR6"
      },
      "execution_count": null,
      "outputs": []
    },
    {
      "cell_type": "code",
      "source": [
        "def merge_dataframes(tables):\n",
        "    merged_df = tables[0]\n",
        "    for df in tables[1:]:\n",
        "        merged_df = pd.concat([merged_df, df], axis=0)\n",
        "    return merged_df\n",
        "\n",
        "merge_dataframes(Tables)"
      ],
      "metadata": {
        "id": "lsHDF6ulRubm"
      },
      "execution_count": null,
      "outputs": []
    },
    {
      "cell_type": "code",
      "source": [],
      "metadata": {
        "id": "iz0cmdNY2MNY"
      },
      "execution_count": null,
      "outputs": []
    },
    {
      "cell_type": "code",
      "source": [
        "# T1.to_csv('T1_Balanced_Half_Sample_Method.csv')"
      ],
      "metadata": {
        "id": "Lus9B0NNRxUn"
      },
      "execution_count": null,
      "outputs": []
    },
    {
      "cell_type": "code",
      "source": [
        "T1.columns"
      ],
      "metadata": {
        "id": "TL1edIn-Sbca"
      },
      "execution_count": null,
      "outputs": []
    },
    {
      "cell_type": "code",
      "source": [],
      "metadata": {
        "id": "AlNWzzKTSbhQ"
      },
      "execution_count": null,
      "outputs": []
    },
    {
      "cell_type": "code",
      "source": [],
      "metadata": {
        "id": "U9X030fuWb88"
      },
      "execution_count": null,
      "outputs": []
    },
    {
      "cell_type": "code",
      "source": [],
      "metadata": {
        "id": "I6hiFyTQWd2c"
      },
      "execution_count": null,
      "outputs": []
    }
  ]
}