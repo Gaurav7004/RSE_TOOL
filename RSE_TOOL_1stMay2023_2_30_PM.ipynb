{
  "nbformat": 4,
  "nbformat_minor": 0,
  "metadata": {
    "colab": {
      "provenance": [],
      "authorship_tag": "ABX9TyPWvqYqDkcPM7ac7pz72qN2",
      "include_colab_link": true
    },
    "kernelspec": {
      "name": "python3",
      "display_name": "Python 3"
    },
    "language_info": {
      "name": "python"
    }
  },
  "cells": [
    {
      "cell_type": "markdown",
      "metadata": {
        "id": "view-in-github",
        "colab_type": "text"
      },
      "source": [
        "<a href=\"https://colab.research.google.com/github/Gaurav7004/RSE_TOOL/blob/main/RSE_TOOL_1stMay2023_2_30_PM.ipynb\" target=\"_parent\"><img src=\"https://colab.research.google.com/assets/colab-badge.svg\" alt=\"Open In Colab\"/></a>"
      ]
    },
    {
      "cell_type": "code",
      "execution_count": 1,
      "metadata": {
        "id": "y-KFBWnpcdJe"
      },
      "outputs": [],
      "source": [
        "import pandas as pd\n",
        "import numpy as np\n",
        "# ! pip install pandarallel\n",
        "# from pandarallel import pandarallel\n",
        "import json\n",
        "import re"
      ]
    },
    {
      "cell_type": "code",
      "source": [
        "# pandarallel.initialize()"
      ],
      "metadata": {
        "id": "tsdvu58itpPJ"
      },
      "execution_count": 2,
      "outputs": []
    },
    {
      "cell_type": "code",
      "source": [],
      "metadata": {
        "id": "8Ugs_ryBKxzX"
      },
      "execution_count": 2,
      "outputs": []
    },
    {
      "cell_type": "code",
      "source": [
        "df = pd.read_csv('Data1.csv')\n",
        "\n",
        "# remove blank spaces from front and back of column names\n",
        "df.columns = df.columns.str.strip()\n",
        "df.columns"
      ],
      "metadata": {
        "id": "j_AWweohegUD",
        "colab": {
          "base_uri": "https://localhost:8080/"
        },
        "outputId": "81be5a8a-2b53-4c60-a767-fef6dea1f10a"
      },
      "execution_count": 3,
      "outputs": [
        {
          "output_type": "stream",
          "name": "stderr",
          "text": [
            "<ipython-input-3-fc8b3e05b5c4>:1: DtypeWarning: Columns (21) have mixed types. Specify dtype option on import or set low_memory=False.\n",
            "  df = pd.read_csv('Data1.csv')\n"
          ]
        },
        {
          "output_type": "execute_result",
          "data": {
            "text/plain": [
              "Index(['SEC', 'ST', 'FSU', 'IDNO', 'SEG', 'SSS', 'SSU', 'STRM', 'SSTRM', 'SS',\n",
              "       'NSS', 'NSC', 'MULT', 'HH_SIZE', 'HHTYPE', 'RELG', 'SG', 'MHCE',\n",
              "       'DC_ALL', 'DC_ST', 'SRL', 'REL', 'SEX', 'MSEX', 'AGE', 'MARST',\n",
              "       'GEDU_LVL', 'PAS', 'PS_SS', 'CWS', 'ERN_SELF', 'ERN_REG'],\n",
              "      dtype='object')"
            ]
          },
          "metadata": {},
          "execution_count": 3
        }
      ]
    },
    {
      "cell_type": "code",
      "source": [
        "# df.info()"
      ],
      "metadata": {
        "id": "coFXVmlR2nDk"
      },
      "execution_count": 28,
      "outputs": []
    },
    {
      "cell_type": "code",
      "source": [
        "## Data is the dictionary\n",
        "data = {}\n",
        "\n",
        "## Keys\n",
        "key = ''\n",
        "\n",
        "## values\n",
        "values = []\n",
        "\n",
        "## Open\n",
        "with open('Example1.RSE', \"r\") as f:\n",
        "    for line in f:\n",
        "        line = line.strip()\n",
        "        if line.startswith('#'):\n",
        "            if key:\n",
        "                key = key.split(\"'\")[0]\n",
        "                key = key.split(\"\\t\")[0]\n",
        "                data[key] = [v for v in values if v and not v.startswith(\"'\")]\n",
        "            key = line.split(\"'\")[0]\n",
        "            key = key.split(\"\\t\")[0]\n",
        "            values = []\n",
        "        elif line.startswith(\"'\"):\n",
        "            pass\n",
        "        else:\n",
        "            line = line.split(\"'\")[0]\n",
        "            values.append(line.strip())\n",
        "\n",
        "# add last group\n",
        "if key:\n",
        "    data[key] = [v for v in values if v and not v.startswith(\"'\")]\n",
        "\n",
        "print(json.dumps(data, indent=4))"
      ],
      "metadata": {
        "colab": {
          "base_uri": "https://localhost:8080/"
        },
        "id": "jCaBn0Ltw5Ac",
        "outputId": "09c7260c-0a55-4b4d-a77c-bc0d8d1006bb"
      },
      "execution_count": 5,
      "outputs": [
        {
          "output_type": "stream",
          "name": "stdout",
          "text": [
            "{\n",
            "    \"#SAMPLING SUBSAMPLE2\": [],\n",
            "    \"#GROUP 2\": [\n",
            "        \"SEC   C sec\",\n",
            "        \"ST_GR C NEWVAR\"\n",
            "    ],\n",
            "    \"#FILTER 1\": [\n",
            "        \"AGE>=15\"\n",
            "    ],\n",
            "    \"#VARIABLE 3  \": [\n",
            "        \"POP\\tN  NEWVAR\",\n",
            "        \"LF\\tN  NEWVAR\",\n",
            "        \"WRK\\tN  NEWVAR\"\n",
            "    ],\n",
            "    \"#FILE Data1.csv  \": [],\n",
            "    \"#RENAME  5    \": [\n",
            "        \"STRMID C sec+st+strm+sstrm\",\n",
            "        \"SS     C ss\",\n",
            "        \"NSS    N  nss\",\n",
            "        \"NSC    N  nsc\",\n",
            "        \"MULT   N  mult\"\n",
            "    ],\n",
            "    \"#TRANSFORM 4  \": [\n",
            "        \"ST_GR=(\\\"G1\\\")   ST in (\\\"10,19,20,21\\\")\",\n",
            "        \"ST_GR=(\\\"G2\\\")   ST in (\\\"11,12,13,14,15,16,17,18\\\")\",\n",
            "        \"ST_GR=(\\\"G3\\\")   Otherwise\",\n",
            "        \"POP=(1)\",\n",
            "        \"WRK=(1)  CWS in (\\\"11,12,21,31,41,51,61,61,71,72\\\")\",\n",
            "        \"WRK=(0)  CWS NOT in (\\\"11,12,21,31,41,51,61,61,71,72\\\")\",\n",
            "        \"LF=(1)      CWS in (\\\"11,12,21,31,41,51,61,61,71,72,81\\\")\",\n",
            "        \"LF=(0)      Otherwise\"\n",
            "    ],\n",
            "    \"#EST_RSE 7\": [\n",
            "        \"S POP\",\n",
            "        \"E POP\",\n",
            "        \"R POP\",\n",
            "        \"E 100*LF/POP\",\n",
            "        \"R LF/POP\",\n",
            "        \"E 100*WRK/POP\",\n",
            "        \"R WRK/POP\"\n",
            "    ]\n",
            "}\n"
          ]
        }
      ]
    },
    {
      "cell_type": "code",
      "source": [
        "# def GROUP_(data, df):\n",
        "#     for key, value in data.items():\n",
        "#         ### To read the sampling method used\n",
        "#         if str('GROUP').lower() in str(key).lower():\n",
        "#             if str('GROUP').lower() in str(key).lower():\n",
        "#                 # Define regular expression to match three words separated by whitespace\n",
        "#                 regex = r'\\w+\\s+\\w+\\s+\\w+'\n",
        "\n",
        "#                 for i in range(len(value)):\n",
        "#                     # Find the first match in the string\n",
        "#                     match = re.search(regex, value[i])\n",
        "\n",
        "#                     # Print the match\n",
        "#                     lst = match.group().split()\n",
        "\n",
        "#                     if lst[0] in df.columns:\n",
        "#                         if lst[1] == 'C':\n",
        "#                             df[lst[0]] = df[lst[0]].astype(str)\n",
        "#                     elif lst[0] not in df.columns:\n",
        "#                         if lst[1] == 'C':\n",
        "#                             df[lst[0]] = ''\n",
        "\n",
        "#             else:\n",
        "#                 pass\n",
        "\n",
        "# GROUP_(data, df)"
      ],
      "metadata": {
        "id": "ItEc6RnGxffC"
      },
      "execution_count": 6,
      "outputs": []
    },
    {
      "cell_type": "code",
      "source": [
        "# df['AGE_GR']"
      ],
      "metadata": {
        "id": "Ja3Sc1tvDbc_"
      },
      "execution_count": 7,
      "outputs": []
    },
    {
      "cell_type": "code",
      "source": [
        "def SAMPLING_(data, df):\n",
        "    for key, value in data.items():\n",
        "        pass\n",
        "\n",
        "def GROUP_(data, df):\n",
        "    for key, value in data.items():\n",
        "        ### To read the sampling method used\n",
        "        if str('SAMPLING').lower() in str(key).lower():\n",
        "            if str('SUBSAMPLE2').lower() in str(key).lower():\n",
        "                return str('SUBSAMPLE2')\n",
        "            elif str('SRSWR').lower() in str(key).lower():\n",
        "                pass\n",
        "            elif str('SRSWOR').lower() in str(key).lower():\n",
        "                pass\n",
        "\n",
        "    for key, value in data.items():\n",
        "        ### To read the sampling method used\n",
        "        if str('GROUP').lower() in str(key).lower():\n",
        "            if str('GROUP').lower() in str(key).lower():\n",
        "                # Define regular expression to match three words separated by whitespace\n",
        "                regex = r'\\w+\\s+\\w+\\s+\\w+'\n",
        "\n",
        "                for i in range(len(value)):\n",
        "                    # Find the first match in the string\n",
        "                    match = re.search(regex, value[i])\n",
        "\n",
        "                    # Print the match\n",
        "                    lst = match.group().split()\n",
        "\n",
        "                    if lst[0] in df.columns:\n",
        "                        if lst[1] == 'C':\n",
        "                            df[lst[0]] = df[lst[0]].astype(str)\n",
        "                    elif lst[0] not in df.columns:\n",
        "                        if lst[1] == 'C':\n",
        "                            df[lst[0]] = ''\n",
        "\n",
        "            else:\n",
        "                pass\n",
        "\n",
        "def FILTER_(data, df):\n",
        "    for key, value in data.items():\n",
        "        ### To read the sampling method used\n",
        "        if str('FILTER').lower() in str(key).lower():\n",
        "            ### Replace logical AND '&&' with 'and'\n",
        "            if '&&' in value[0]:\n",
        "                return value[0].replace('&&', '&')\n",
        "            ### Replace logical OR '||' with 'or'\n",
        "            elif '||' in value[0]:\n",
        "                return value[0].replace('||', '|')\n",
        "            else:\n",
        "                return value[0]\n",
        "\n",
        "def FILE_(data):\n",
        "    for key, value in data.items():\n",
        "        ### To read the file used\n",
        "        if str('FILE').lower() in str(key).lower():\n",
        "            if key.strip().endswith('.xlsx') or key.strip().endswith('.csv'):\n",
        "                match = re.search(r'[A-Za-z0-9]+\\.xlsx|[A-Za-z0-9]+\\.csv', key)   \n",
        "                if match:\n",
        "                    file_name = match.group(0)\n",
        "                    return file_name\n",
        "                else:\n",
        "                    file_name = None\n",
        "                    return file_name\n",
        "                print(file_name)\n",
        "\n",
        "            # return file_name\n",
        "\n",
        "def RENAME_(data, df):\n",
        "    # create an empty dictionary to store the column names\n",
        "    column_dict = {}\n",
        "\n",
        "    for key, value in data.items():\n",
        "        ### To read the file used\n",
        "        if str('RENAME').lower() in str(key).lower():\n",
        "            # value = [elem for elem in value[0].split(' ') if elem.strip()]\n",
        "            # return value\n",
        "\n",
        "            for col in value:\n",
        "                col_split = col.split()\n",
        "\n",
        "                # print(col_split[0])\n",
        "\n",
        "                # extract the last element as the column name\n",
        "                col_name = col_split[-1]\n",
        "\n",
        "                new_col_name = col_split[0]\n",
        "\n",
        "                ### if there is a \"+\" sign in the last element, concatenate the columns\n",
        "                if \"+\" in col_name:\n",
        "                    col_concat = col_name.split(\"+\")\n",
        "                    col_concat = [i.upper() for i in col_concat]\n",
        "\n",
        "                    # concatenate the columns\n",
        "                    # df[new_col_name] = df.loc[:, col_concat].apply(lambda x: ''.join(['0' + str(i) if i < 10 else str(i) for i in x]), axis=1)\n",
        "                    # df[new_col_name] = df.loc[:, col_concat].apply(lambda x: ''.join(['0' + str(i) if i < 10 else str(i) for i in x]), axis=1)\n",
        "                    df[new_col_name] = df.loc[:, col_concat].apply(lambda x: ''.join(['0' + str(i) if int(i) < 10 else str(i) for i in x]), axis=1)\n",
        "\n",
        "\n",
        "                else:\n",
        "                    col_name = col_name.upper()\n",
        "                    print(type(col_name))\n",
        "\n",
        "\n",
        "def NEWVARIABLE_(data, df):\n",
        "    for key, value in data.items():\n",
        "        ### To read the file used\n",
        "        if str('VARIABLE').lower() in str(key).lower():\n",
        "            value = [s.split()[0] for s in value]\n",
        "            \n",
        "            for name in value:\n",
        "                df[name] = 0\n",
        "\n",
        "\n",
        "def TRANSFORM_(data):\n",
        "    global condition\n",
        "\n",
        "    # Initialize empty arrays to store the values\n",
        "    Arr1 = []\n",
        "    Arr2 = []\n",
        "    Arr3 = []\n",
        "\n",
        "    for key, value in data.items():\n",
        "        ### To read the file used\n",
        "        if str('TRANSFORM').lower() in str(key).lower():\n",
        "            lines = '\\n'.join(value)\n",
        "            lines = lines.split(\"\\n\")\n",
        "\n",
        "            # Loop through the lines and extract the values\n",
        "            for line in lines:\n",
        "                line_values = line.split('=')  # split the line into values\n",
        "                \n",
        "                var_name = line_values[0].strip()  # extract the variable name\n",
        "                \n",
        "                var_value = line_values[1].strip().split()[0]  # extract the variable value\n",
        "\n",
        "                # ### Repalcing the parenthesis in var_value\n",
        "                # var_value = var_value.replace(\"(\", \"\").replace(\")\", \"\")\n",
        "\n",
        "                # # Check if string contains \"+\"\n",
        "                # if \"+\" in var_value:\n",
        "                #     columns = var_value.split(\"+\")\n",
        "                #     print(columns, type(columns))\n",
        "                #     var_value = df[columns].sum(axis=1)\n",
        "                    \n",
        "                # else:\n",
        "                #     # Check if string is a valid column name\n",
        "                #     if var_value in df.columns:\n",
        "                #         var_value = df[var_value]\n",
        "                #     else:\n",
        "                #         # Check if string is an integer\n",
        "                #         pass\n",
        "                            \n",
        "                # Regular expression pattern to extract the condition\n",
        "                pattern = r'^\\w+=\\([^\\)]*\\)(?:\\s+(.*?)(?:\\n|$))?$'\n",
        "\n",
        "                # Split the string into lines and extract the condition from each line\n",
        "                conditions = []\n",
        "\n",
        "                for line in line.split('\\n'):\n",
        "                    match = re.match(pattern, line)\n",
        "                 \n",
        "                    if match:\n",
        "                        condition = match.group(1)\n",
        "                        \n",
        "                        if condition is not None:\n",
        "                            conditions.append(condition.strip())\n",
        "                        else:\n",
        "                            conditions.append(None)\n",
        "\n",
        "                # Append the values to the arrays\n",
        "                Arr1.append(var_name)\n",
        "                Arr2.append(var_value)\n",
        "\n",
        "                Arr3.append(condition)\n",
        "\n",
        "    return Arr1, Arr2, Arr3\n",
        "        \n",
        "\n",
        "def EST_RSE_(data):\n",
        "    for key, value in data.items():\n",
        "        pass\n",
        "\n",
        "GROUP_(data, df)\n",
        "TRANSFORM_(data)\n",
        "RENAME_(data, df)\n",
        "NEWVARIABLE_(data, df)\n",
        "FILE_(data)\n",
        "FILTER_(data, df)\n"
      ],
      "metadata": {
        "id": "JOeTfpj33fid",
        "colab": {
          "base_uri": "https://localhost:8080/",
          "height": 109
        },
        "outputId": "4064ccad-e74f-425d-dfec-141dfb802706"
      },
      "execution_count": 8,
      "outputs": [
        {
          "output_type": "stream",
          "name": "stdout",
          "text": [
            "<class 'str'>\n",
            "<class 'str'>\n",
            "<class 'str'>\n",
            "<class 'str'>\n"
          ]
        },
        {
          "output_type": "execute_result",
          "data": {
            "text/plain": [
              "'AGE>=15'"
            ],
            "application/vnd.google.colaboratory.intrinsic+json": {
              "type": "string"
            }
          },
          "metadata": {},
          "execution_count": 8
        }
      ]
    },
    {
      "cell_type": "code",
      "source": [
        "TRANSFORM_(data)"
      ],
      "metadata": {
        "colab": {
          "base_uri": "https://localhost:8080/"
        },
        "id": "RgCtFSR5BXYZ",
        "outputId": "3981a0be-5a20-41c1-c6c4-b5202343d2f3"
      },
      "execution_count": 9,
      "outputs": [
        {
          "output_type": "execute_result",
          "data": {
            "text/plain": [
              "(['ST_GR', 'ST_GR', 'ST_GR', 'POP', 'WRK', 'WRK', 'LF', 'LF'],\n",
              " ['(\"G1\")', '(\"G2\")', '(\"G3\")', '(1)', '(1)', '(0)', '(1)', '(0)'],\n",
              " ['ST in (\"10,19,20,21\")',\n",
              "  'ST in (\"11,12,13,14,15,16,17,18\")',\n",
              "  'Otherwise',\n",
              "  None,\n",
              "  'CWS in (\"11,12,21,31,41,51,61,61,71,72\")',\n",
              "  'CWS NOT in (\"11,12,21,31,41,51,61,61,71,72\")',\n",
              "  'CWS in (\"11,12,21,31,41,51,61,61,71,72,81\")',\n",
              "  'Otherwise'])"
            ]
          },
          "metadata": {},
          "execution_count": 9
        }
      ]
    },
    {
      "cell_type": "code",
      "source": [
        "df.columns"
      ],
      "metadata": {
        "id": "qjgcwv-zL6Q8",
        "colab": {
          "base_uri": "https://localhost:8080/"
        },
        "outputId": "1db416b6-c4eb-44f1-80f2-b06530ff3a0f"
      },
      "execution_count": 10,
      "outputs": [
        {
          "output_type": "execute_result",
          "data": {
            "text/plain": [
              "Index(['SEC', 'ST', 'FSU', 'IDNO', 'SEG', 'SSS', 'SSU', 'STRM', 'SSTRM', 'SS',\n",
              "       'NSS', 'NSC', 'MULT', 'HH_SIZE', 'HHTYPE', 'RELG', 'SG', 'MHCE',\n",
              "       'DC_ALL', 'DC_ST', 'SRL', 'REL', 'SEX', 'MSEX', 'AGE', 'MARST',\n",
              "       'GEDU_LVL', 'PAS', 'PS_SS', 'CWS', 'ERN_SELF', 'ERN_REG', 'STRMID',\n",
              "       'POP', 'LF', 'WRK'],\n",
              "      dtype='object')"
            ]
          },
          "metadata": {},
          "execution_count": 10
        }
      ]
    },
    {
      "cell_type": "code",
      "source": [
        "def parse_query_string(query_string):\n",
        "    # Replace curly quotes with straight quotes\n",
        "    query_string = query_string.replace(\"”\", \"\\\"\")\n",
        "    \n",
        "    if 'in' in query_string:\n",
        "        if ('NOT in' or 'not in') in query_string:\n",
        "            query_string = re.sub(r'(\\b\\w+\\b)\\s+NOT in\\s*\\(([^)]+)\\)', r'~\\1.isin([\\2])', query_string)\n",
        "            query_string = re.sub(r'(\\b\\w+\\b)\\s+in\\s*\\(([^)]+)\\)', r'\\1.isin([\\2])', query_string)\n",
        "        elif 'in' in query_string:\n",
        "            # Replace 'in' operators with 'isin' and add list brackets\n",
        "            query_string = re.sub(r'(\\b\\w+\\b)\\s+in\\s*\\(([^)]+)\\)', r'\\1.isin([\\2])', query_string)\n",
        "        else:\n",
        "            pass\n",
        "            \n",
        "    else:\n",
        "        query_string = re.sub(r'''(\\b\\w+\\b)(\\s*[<>=!]+\\s*)('[^']*'|\"[^\"]*\")|(\\b\\w+\\b)(\\s*[<>=!]+\\s*)(\"[^]*'|\"[^\"]*\")''', r'\\1\\2\\3', query_string)\n",
        "        query_string = re.sub(r'''(\\b\\w+\\b)(\\s*[<>=!]+\\s*)(\\d+)''', r'\\1\\2\\3', query_string)\n",
        "\n",
        "    # Replace double quotes with single quotes\n",
        "    query_string = query_string.replace(\"\\\"\", \"'\")\n",
        "    \n",
        "    # Replace 'AND' with '&', 'OR' with '|', and add parentheses\n",
        "    query_string = query_string.replace(\" AND \", \" & \")\\\n",
        "                        .replace(\" OR \", \" | \").\\\n",
        "                            replace(\"&&\", '&').\\\n",
        "                                replace('||', '|').\\\n",
        "                                    replace('<>', '!=')\n",
        "    \n",
        "    # Replace column names with df[column] syntax\n",
        "    query_string = re.sub(r'(\\b\\w+\\b)=', r'df[\"\\1\"]==', query_string)\n",
        "\n",
        "\n",
        "    # Define a function to replace variable names with df[\"<variable_name>\"]\n",
        "    def replace_var(match):\n",
        "        return f'df[\"{match.group(0)}\"]'\n",
        "\n",
        "    # Use regex to replace variable names with df[\"<variable_name>\"]\n",
        "    pattern = re.compile(r'''\\b\\w+\\b(?=\\s*[<>=!]=*\\s*[\\'\"\\d])''')\n",
        "    new_string = pattern.sub(replace_var, query_string)\n",
        "\n",
        "    query_string = re.sub(r\"'(\\d+)'|\\\"(\\d+)\\\"\", lambda match: str(int(match.group(1) or match.group(2))), query_string)\n",
        "    query_string = re.sub(r'\\[(\\d+,\\s*)+\\d+\\]', lambda match: '[' + match.group(0).replace(\"\\'\", \"'\") + ']', query_string)\n",
        "    \n",
        "    return query_string\n",
        "\n",
        "\n",
        "final_parsed_query = []\n",
        "\n",
        "for i in list(TRANSFORM_(data))[2]:\n",
        "    # print(i)\n",
        "    if i:\n",
        "        parsed_query = parse_query_string(i)\n",
        "        final_parsed_query.append(parsed_query)\n",
        "    else:\n",
        "        final_parsed_query.append(i)\n",
        "\n",
        "# new_lst = [s.replace(\"['\", \"[\").replace(\"']\", \"]\") for s in final_parsed_query]\n",
        "# print([s.replace(\"['\", \"[\").replace(\"']\", \"]\") for s in final_parsed_query if s else pass])\n",
        "# final_parsed_query = [s.replace(\"['\", \"[\").replace(\"']\", \"]\") if s is not None else None for s in final_parsed_query]\n",
        "final_parsed_query"
      ],
      "metadata": {
        "id": "_lTGE07ya3aO",
        "colab": {
          "base_uri": "https://localhost:8080/"
        },
        "outputId": "8ffa885c-02bc-4f14-f690-30180006e9f4"
      },
      "execution_count": 11,
      "outputs": [
        {
          "output_type": "execute_result",
          "data": {
            "text/plain": [
              "[\"ST.isin(['10,19,20,21'])\",\n",
              " \"ST.isin(['11,12,13,14,15,16,17,18'])\",\n",
              " 'Otherwise',\n",
              " None,\n",
              " \"CWS.isin(['11,12,21,31,41,51,61,61,71,72'])\",\n",
              " \"~CWS.isin(['11,12,21,31,41,51,61,61,71,72'])\",\n",
              " \"CWS.isin(['11,12,21,31,41,51,61,61,71,72,81'])\",\n",
              " 'Otherwise']"
            ]
          },
          "metadata": {},
          "execution_count": 11
        }
      ]
    },
    {
      "cell_type": "code",
      "source": [
        "df.columns\n"
      ],
      "metadata": {
        "id": "GVTZkgr9YtIK",
        "colab": {
          "base_uri": "https://localhost:8080/"
        },
        "outputId": "8983faaa-2485-409f-8b73-0ab31b0dccc7"
      },
      "execution_count": 12,
      "outputs": [
        {
          "output_type": "execute_result",
          "data": {
            "text/plain": [
              "Index(['SEC', 'ST', 'FSU', 'IDNO', 'SEG', 'SSS', 'SSU', 'STRM', 'SSTRM', 'SS',\n",
              "       'NSS', 'NSC', 'MULT', 'HH_SIZE', 'HHTYPE', 'RELG', 'SG', 'MHCE',\n",
              "       'DC_ALL', 'DC_ST', 'SRL', 'REL', 'SEX', 'MSEX', 'AGE', 'MARST',\n",
              "       'GEDU_LVL', 'PAS', 'PS_SS', 'CWS', 'ERN_SELF', 'ERN_REG', 'STRMID',\n",
              "       'POP', 'LF', 'WRK'],\n",
              "      dtype='object')"
            ]
          },
          "metadata": {},
          "execution_count": 12
        }
      ]
    },
    {
      "cell_type": "code",
      "source": [],
      "metadata": {
        "id": "VJKm_tovvodZ"
      },
      "execution_count": 12,
      "outputs": []
    },
    {
      "cell_type": "code",
      "source": [
        "Arr1 = list(TRANSFORM_(data))[0]\n",
        "Arr2 = list(TRANSFORM_(data))[1]\n",
        "\n",
        "print(Arr2)\n",
        "Arr2 = [i.strip('()\\'\\\"') for i in Arr2]\n",
        "Arr3 = final_parsed_query\n",
        "\n",
        "Arr2 = [float(elem) if elem.replace('.', '', 1).isdigit() else elem for elem in Arr2]\n",
        "\n",
        "\n",
        "# print(Arr1)\n",
        "# print(Arr2)\n",
        "# print(Arr3)"
      ],
      "metadata": {
        "id": "NtMiw_fo7hvR",
        "colab": {
          "base_uri": "https://localhost:8080/"
        },
        "outputId": "e10c51fc-f2ad-44ee-bd93-84828f773f36"
      },
      "execution_count": 13,
      "outputs": [
        {
          "output_type": "stream",
          "name": "stdout",
          "text": [
            "['(\"G1\")', '(\"G2\")', '(\"G3\")', '(1)', '(1)', '(0)', '(1)', '(0)']\n"
          ]
        }
      ]
    },
    {
      "cell_type": "code",
      "source": [
        "df.head(3)"
      ],
      "metadata": {
        "id": "hYYh_PXq7C_S",
        "colab": {
          "base_uri": "https://localhost:8080/",
          "height": 236
        },
        "outputId": "60ced26b-5fce-4135-a432-5eef13f46dc6"
      },
      "execution_count": 14,
      "outputs": [
        {
          "output_type": "execute_result",
          "data": {
            "text/plain": [
              "   SEC  ST    FSU  IDNO  SEG  SSS  SSU  STRM  SSTRM  SS  ...  GEDU_LVL  PAS  \\\n",
              "0    1  28  17469     1    1    1    1     1      1   1  ...       1.0   51   \n",
              "1    1  28  17469     1    1    1    1     1      1   1  ...       8.0   91   \n",
              "2    1  28  17469     1    1    1    1     1      1   1  ...      10.0   91   \n",
              "\n",
              "   PS_SS  CWS  ERN_SELF  ERN_REG    STRMID  POP  LF  WRK  \n",
              "0     51   51         0        0  01280101    0   0    0  \n",
              "1     91   91         0        0  01280101    0   0    0  \n",
              "2     91   91         0        0  01280101    0   0    0  \n",
              "\n",
              "[3 rows x 36 columns]"
            ],
            "text/html": [
              "\n",
              "  <div id=\"df-99847f58-e856-4f06-9671-b20ec9d75c0f\">\n",
              "    <div class=\"colab-df-container\">\n",
              "      <div>\n",
              "<style scoped>\n",
              "    .dataframe tbody tr th:only-of-type {\n",
              "        vertical-align: middle;\n",
              "    }\n",
              "\n",
              "    .dataframe tbody tr th {\n",
              "        vertical-align: top;\n",
              "    }\n",
              "\n",
              "    .dataframe thead th {\n",
              "        text-align: right;\n",
              "    }\n",
              "</style>\n",
              "<table border=\"1\" class=\"dataframe\">\n",
              "  <thead>\n",
              "    <tr style=\"text-align: right;\">\n",
              "      <th></th>\n",
              "      <th>SEC</th>\n",
              "      <th>ST</th>\n",
              "      <th>FSU</th>\n",
              "      <th>IDNO</th>\n",
              "      <th>SEG</th>\n",
              "      <th>SSS</th>\n",
              "      <th>SSU</th>\n",
              "      <th>STRM</th>\n",
              "      <th>SSTRM</th>\n",
              "      <th>SS</th>\n",
              "      <th>...</th>\n",
              "      <th>GEDU_LVL</th>\n",
              "      <th>PAS</th>\n",
              "      <th>PS_SS</th>\n",
              "      <th>CWS</th>\n",
              "      <th>ERN_SELF</th>\n",
              "      <th>ERN_REG</th>\n",
              "      <th>STRMID</th>\n",
              "      <th>POP</th>\n",
              "      <th>LF</th>\n",
              "      <th>WRK</th>\n",
              "    </tr>\n",
              "  </thead>\n",
              "  <tbody>\n",
              "    <tr>\n",
              "      <th>0</th>\n",
              "      <td>1</td>\n",
              "      <td>28</td>\n",
              "      <td>17469</td>\n",
              "      <td>1</td>\n",
              "      <td>1</td>\n",
              "      <td>1</td>\n",
              "      <td>1</td>\n",
              "      <td>1</td>\n",
              "      <td>1</td>\n",
              "      <td>1</td>\n",
              "      <td>...</td>\n",
              "      <td>1.0</td>\n",
              "      <td>51</td>\n",
              "      <td>51</td>\n",
              "      <td>51</td>\n",
              "      <td>0</td>\n",
              "      <td>0</td>\n",
              "      <td>01280101</td>\n",
              "      <td>0</td>\n",
              "      <td>0</td>\n",
              "      <td>0</td>\n",
              "    </tr>\n",
              "    <tr>\n",
              "      <th>1</th>\n",
              "      <td>1</td>\n",
              "      <td>28</td>\n",
              "      <td>17469</td>\n",
              "      <td>1</td>\n",
              "      <td>1</td>\n",
              "      <td>1</td>\n",
              "      <td>1</td>\n",
              "      <td>1</td>\n",
              "      <td>1</td>\n",
              "      <td>1</td>\n",
              "      <td>...</td>\n",
              "      <td>8.0</td>\n",
              "      <td>91</td>\n",
              "      <td>91</td>\n",
              "      <td>91</td>\n",
              "      <td>0</td>\n",
              "      <td>0</td>\n",
              "      <td>01280101</td>\n",
              "      <td>0</td>\n",
              "      <td>0</td>\n",
              "      <td>0</td>\n",
              "    </tr>\n",
              "    <tr>\n",
              "      <th>2</th>\n",
              "      <td>1</td>\n",
              "      <td>28</td>\n",
              "      <td>17469</td>\n",
              "      <td>1</td>\n",
              "      <td>1</td>\n",
              "      <td>1</td>\n",
              "      <td>1</td>\n",
              "      <td>1</td>\n",
              "      <td>1</td>\n",
              "      <td>1</td>\n",
              "      <td>...</td>\n",
              "      <td>10.0</td>\n",
              "      <td>91</td>\n",
              "      <td>91</td>\n",
              "      <td>91</td>\n",
              "      <td>0</td>\n",
              "      <td>0</td>\n",
              "      <td>01280101</td>\n",
              "      <td>0</td>\n",
              "      <td>0</td>\n",
              "      <td>0</td>\n",
              "    </tr>\n",
              "  </tbody>\n",
              "</table>\n",
              "<p>3 rows × 36 columns</p>\n",
              "</div>\n",
              "      <button class=\"colab-df-convert\" onclick=\"convertToInteractive('df-99847f58-e856-4f06-9671-b20ec9d75c0f')\"\n",
              "              title=\"Convert this dataframe to an interactive table.\"\n",
              "              style=\"display:none;\">\n",
              "        \n",
              "  <svg xmlns=\"http://www.w3.org/2000/svg\" height=\"24px\"viewBox=\"0 0 24 24\"\n",
              "       width=\"24px\">\n",
              "    <path d=\"M0 0h24v24H0V0z\" fill=\"none\"/>\n",
              "    <path d=\"M18.56 5.44l.94 2.06.94-2.06 2.06-.94-2.06-.94-.94-2.06-.94 2.06-2.06.94zm-11 1L8.5 8.5l.94-2.06 2.06-.94-2.06-.94L8.5 2.5l-.94 2.06-2.06.94zm10 10l.94 2.06.94-2.06 2.06-.94-2.06-.94-.94-2.06-.94 2.06-2.06.94z\"/><path d=\"M17.41 7.96l-1.37-1.37c-.4-.4-.92-.59-1.43-.59-.52 0-1.04.2-1.43.59L10.3 9.45l-7.72 7.72c-.78.78-.78 2.05 0 2.83L4 21.41c.39.39.9.59 1.41.59.51 0 1.02-.2 1.41-.59l7.78-7.78 2.81-2.81c.8-.78.8-2.07 0-2.86zM5.41 20L4 18.59l7.72-7.72 1.47 1.35L5.41 20z\"/>\n",
              "  </svg>\n",
              "      </button>\n",
              "      \n",
              "  <style>\n",
              "    .colab-df-container {\n",
              "      display:flex;\n",
              "      flex-wrap:wrap;\n",
              "      gap: 12px;\n",
              "    }\n",
              "\n",
              "    .colab-df-convert {\n",
              "      background-color: #E8F0FE;\n",
              "      border: none;\n",
              "      border-radius: 50%;\n",
              "      cursor: pointer;\n",
              "      display: none;\n",
              "      fill: #1967D2;\n",
              "      height: 32px;\n",
              "      padding: 0 0 0 0;\n",
              "      width: 32px;\n",
              "    }\n",
              "\n",
              "    .colab-df-convert:hover {\n",
              "      background-color: #E2EBFA;\n",
              "      box-shadow: 0px 1px 2px rgba(60, 64, 67, 0.3), 0px 1px 3px 1px rgba(60, 64, 67, 0.15);\n",
              "      fill: #174EA6;\n",
              "    }\n",
              "\n",
              "    [theme=dark] .colab-df-convert {\n",
              "      background-color: #3B4455;\n",
              "      fill: #D2E3FC;\n",
              "    }\n",
              "\n",
              "    [theme=dark] .colab-df-convert:hover {\n",
              "      background-color: #434B5C;\n",
              "      box-shadow: 0px 1px 3px 1px rgba(0, 0, 0, 0.15);\n",
              "      filter: drop-shadow(0px 1px 2px rgba(0, 0, 0, 0.3));\n",
              "      fill: #FFFFFF;\n",
              "    }\n",
              "  </style>\n",
              "\n",
              "      <script>\n",
              "        const buttonEl =\n",
              "          document.querySelector('#df-99847f58-e856-4f06-9671-b20ec9d75c0f button.colab-df-convert');\n",
              "        buttonEl.style.display =\n",
              "          google.colab.kernel.accessAllowed ? 'block' : 'none';\n",
              "\n",
              "        async function convertToInteractive(key) {\n",
              "          const element = document.querySelector('#df-99847f58-e856-4f06-9671-b20ec9d75c0f');\n",
              "          const dataTable =\n",
              "            await google.colab.kernel.invokeFunction('convertToInteractive',\n",
              "                                                     [key], {});\n",
              "          if (!dataTable) return;\n",
              "\n",
              "          const docLinkHtml = 'Like what you see? Visit the ' +\n",
              "            '<a target=\"_blank\" href=https://colab.research.google.com/notebooks/data_table.ipynb>data table notebook</a>'\n",
              "            + ' to learn more about interactive tables.';\n",
              "          element.innerHTML = '';\n",
              "          dataTable['output_type'] = 'display_data';\n",
              "          await google.colab.output.renderOutput(dataTable, element);\n",
              "          const docLink = document.createElement('div');\n",
              "          docLink.innerHTML = docLinkHtml;\n",
              "          element.appendChild(docLink);\n",
              "        }\n",
              "      </script>\n",
              "    </div>\n",
              "  </div>\n",
              "  "
            ]
          },
          "metadata": {},
          "execution_count": 14
        }
      ]
    },
    {
      "cell_type": "code",
      "source": [
        "set(Arr1) - set(list(df.columns))"
      ],
      "metadata": {
        "id": "FpCHnWE634Lg",
        "colab": {
          "base_uri": "https://localhost:8080/"
        },
        "outputId": "e78caa10-5fcb-43a6-8a93-11b233bb3e44"
      },
      "execution_count": 15,
      "outputs": [
        {
          "output_type": "execute_result",
          "data": {
            "text/plain": [
              "{'ST_GR'}"
            ]
          },
          "metadata": {},
          "execution_count": 15
        }
      ]
    },
    {
      "cell_type": "code",
      "source": [
        "\n",
        "# Check for name mismatches and create new columns\n",
        "mismatched_names = set(Arr1) - set(df.columns)\n",
        "\n",
        "new_columns = {name: [0] * df.shape[0] for name in mismatched_names}\n",
        "df = df.assign(**new_columns)\n",
        "\n",
        "mismatched_names"
      ],
      "metadata": {
        "id": "2Jb5zGh67zYH",
        "colab": {
          "base_uri": "https://localhost:8080/"
        },
        "outputId": "97ab221c-849b-4b19-9abb-881a21b91307"
      },
      "execution_count": 16,
      "outputs": [
        {
          "output_type": "execute_result",
          "data": {
            "text/plain": [
              "{'ST_GR'}"
            ]
          },
          "metadata": {},
          "execution_count": 16
        }
      ]
    },
    {
      "cell_type": "code",
      "source": [
        "Arr3"
      ],
      "metadata": {
        "id": "SQYkxNyITODY",
        "colab": {
          "base_uri": "https://localhost:8080/"
        },
        "outputId": "79e2b473-0001-4138-bf05-1fb1d3d57704"
      },
      "execution_count": 17,
      "outputs": [
        {
          "output_type": "execute_result",
          "data": {
            "text/plain": [
              "[\"ST.isin(['10,19,20,21'])\",\n",
              " \"ST.isin(['11,12,13,14,15,16,17,18'])\",\n",
              " 'Otherwise',\n",
              " None,\n",
              " \"CWS.isin(['11,12,21,31,41,51,61,61,71,72'])\",\n",
              " \"~CWS.isin(['11,12,21,31,41,51,61,61,71,72'])\",\n",
              " \"CWS.isin(['11,12,21,31,41,51,61,61,71,72,81'])\",\n",
              " 'Otherwise']"
            ]
          },
          "metadata": {},
          "execution_count": 17
        }
      ]
    },
    {
      "cell_type": "code",
      "source": [
        "Arr3 = [i.replace(\"(['\", \"([\").replace(\"'])\", \"])\") if i is not None else 'True' if Arr3[j] == 'Otherwise' else True for j, i in enumerate(Arr3)]\n",
        "Arr3"
      ],
      "metadata": {
        "id": "YlL6LYR-43rC",
        "colab": {
          "base_uri": "https://localhost:8080/"
        },
        "outputId": "4472a4c1-5ebc-4b9f-9461-8bd94cb1aff9"
      },
      "execution_count": 18,
      "outputs": [
        {
          "output_type": "execute_result",
          "data": {
            "text/plain": [
              "['ST.isin([10,19,20,21])',\n",
              " 'ST.isin([11,12,13,14,15,16,17,18])',\n",
              " 'Otherwise',\n",
              " True,\n",
              " 'CWS.isin([11,12,21,31,41,51,61,61,71,72])',\n",
              " '~CWS.isin([11,12,21,31,41,51,61,61,71,72])',\n",
              " 'CWS.isin([11,12,21,31,41,51,61,61,71,72,81])',\n",
              " 'Otherwise']"
            ]
          },
          "metadata": {},
          "execution_count": 18
        }
      ]
    },
    {
      "cell_type": "code",
      "source": [
        "new_arr3 = []\n",
        "for i, value in enumerate(Arr3):\n",
        "    if value == 'Otherwise':\n",
        "        other_values = set([Arr3[j] for j in range(len(Arr3)) if Arr1[j] == Arr1[i] and Arr3[j] != 'Otherwise'])\n",
        "        new_value = '~' + ' & ~'.join(other_values)\n",
        "        new_arr3.append(new_value)\n",
        "    else:\n",
        "        new_arr3.append(value)\n",
        "\n",
        "new_arr3"
      ],
      "metadata": {
        "id": "BWIYIIl_5_ba",
        "colab": {
          "base_uri": "https://localhost:8080/"
        },
        "outputId": "4b04797d-b26c-482f-95e0-91eeaa19dc06"
      },
      "execution_count": 19,
      "outputs": [
        {
          "output_type": "execute_result",
          "data": {
            "text/plain": [
              "['ST.isin([10,19,20,21])',\n",
              " 'ST.isin([11,12,13,14,15,16,17,18])',\n",
              " '~ST.isin([11,12,13,14,15,16,17,18]) & ~ST.isin([10,19,20,21])',\n",
              " True,\n",
              " 'CWS.isin([11,12,21,31,41,51,61,61,71,72])',\n",
              " '~CWS.isin([11,12,21,31,41,51,61,61,71,72])',\n",
              " 'CWS.isin([11,12,21,31,41,51,61,61,71,72,81])',\n",
              " '~CWS.isin([11,12,21,31,41,51,61,61,71,72,81])']"
            ]
          },
          "metadata": {},
          "execution_count": 19
        }
      ]
    },
    {
      "cell_type": "code",
      "source": [
        "Arr3 = new_arr3"
      ],
      "metadata": {
        "id": "WNp2AGBEaJl-"
      },
      "execution_count": 20,
      "outputs": []
    },
    {
      "cell_type": "code",
      "source": [
        "df.columns"
      ],
      "metadata": {
        "id": "M7YnPjuAAY53",
        "colab": {
          "base_uri": "https://localhost:8080/"
        },
        "outputId": "df844f9b-51ab-4b2c-d2fb-94fc470d2fdf"
      },
      "execution_count": 21,
      "outputs": [
        {
          "output_type": "execute_result",
          "data": {
            "text/plain": [
              "Index(['SEC', 'ST', 'FSU', 'IDNO', 'SEG', 'SSS', 'SSU', 'STRM', 'SSTRM', 'SS',\n",
              "       'NSS', 'NSC', 'MULT', 'HH_SIZE', 'HHTYPE', 'RELG', 'SG', 'MHCE',\n",
              "       'DC_ALL', 'DC_ST', 'SRL', 'REL', 'SEX', 'MSEX', 'AGE', 'MARST',\n",
              "       'GEDU_LVL', 'PAS', 'PS_SS', 'CWS', 'ERN_SELF', 'ERN_REG', 'STRMID',\n",
              "       'POP', 'LF', 'WRK', 'ST_GR'],\n",
              "      dtype='object')"
            ]
          },
          "metadata": {},
          "execution_count": 21
        }
      ]
    },
    {
      "cell_type": "code",
      "source": [
        "# Apply the queries in Arr3 to filter the rows of the dataframe\n",
        "for i, query_str in enumerate(Arr3):\n",
        "    if query_str is True:\n",
        "        df[Arr1[i]] = Arr2[i]\n",
        "    else:\n",
        "        print(query_str)\n",
        "\n",
        "        try:\n",
        "            df_query = df.query(query_str)\n",
        "            df.loc[df_query.index, Arr1[i]] = Arr2[i]\n",
        "        except:\n",
        "            pass\n",
        "\n",
        "print(df)"
      ],
      "metadata": {
        "id": "9Ymd7BTvha86",
        "colab": {
          "base_uri": "https://localhost:8080/"
        },
        "outputId": "699a539a-9793-4ac9-b2ee-7b9862be3a8b"
      },
      "execution_count": 22,
      "outputs": [
        {
          "output_type": "stream",
          "name": "stdout",
          "text": [
            "ST.isin([10,19,20,21])\n",
            "ST.isin([11,12,13,14,15,16,17,18])\n",
            "~ST.isin([11,12,13,14,15,16,17,18]) & ~ST.isin([10,19,20,21])\n",
            "CWS.isin([11,12,21,31,41,51,61,61,71,72])\n",
            "~CWS.isin([11,12,21,31,41,51,61,61,71,72])\n",
            "CWS.isin([11,12,21,31,41,51,61,61,71,72,81])\n",
            "~CWS.isin([11,12,21,31,41,51,61,61,71,72,81])\n",
            "        SEC  ST    FSU  IDNO  SEG  SSS  SSU  STRM  SSTRM  SS  ...  PAS  PS_SS  \\\n",
            "0         1  28  17469     1    1    1    1     1      1   1  ...   51     51   \n",
            "1         1  28  17469     1    1    1    1     1      1   1  ...   91     91   \n",
            "2         1  28  17469     1    1    1    1     1      1   1  ...   91     91   \n",
            "3         1  28  17469     1    1    1    1     1      1   1  ...   51     51   \n",
            "4         1  28  17469     2    1    1    2     1      1   1  ...   51     51   \n",
            "...     ...  ..    ...   ...  ...  ...  ...   ...    ...  ..  ...  ...    ...   \n",
            "109851    2  34  27428     7    1    4    1     1      3   2  ...   94     94   \n",
            "109852    2  34  27428     8    1    4    2     1      3   2  ...   51     51   \n",
            "109853    2  34  27428     8    1    4    2     1      3   2  ...   91     91   \n",
            "109854    2  34  27428     8    1    4    2     1      3   2  ...   92     92   \n",
            "109855    2  34  27428     8    1    4    2     1      3   2  ...   94     94   \n",
            "\n",
            "        CWS  ERN_SELF  ERN_REG    STRMID  POP  LF  WRK  ST_GR  \n",
            "0        51         0        0  01280101  1.0   1    1     G3  \n",
            "1        91         0        0  01280101  1.0   0    0     G3  \n",
            "2        91         0        0  01280101  1.0   0    0     G3  \n",
            "3        51         0        0  01280101  1.0   1    1     G3  \n",
            "4        51         0        0  01280101  1.0   1    1     G3  \n",
            "...     ...       ...      ...       ...  ...  ..  ...    ...  \n",
            "109851   94         0        0  02340103  1.0   0    0     G3  \n",
            "109852   51         0        0  02340103  1.0   1    1     G3  \n",
            "109853   91         0        0  02340103  1.0   0    0     G3  \n",
            "109854   92         0        0  02340103  1.0   0    0     G3  \n",
            "109855   94         0        0  02340103  1.0   0    0     G3  \n",
            "\n",
            "[109856 rows x 37 columns]\n"
          ]
        }
      ]
    },
    {
      "cell_type": "code",
      "source": [
        "# Example dataframe\n",
        "df = pd.DataFrame({\n",
        "    'A': ['foo', 'bar', 'foo', 'bar', 'foo', 'bar', 'foo', 'foo'],\n",
        "    'B': ['one', 'one', 'two', 'three', 'two', 'two', 'one', 'three'],\n",
        "    'C': [1, 2, 3, 4, 5, 6, 7, 8],\n",
        "    'D': [10, 20, 30, 40, 50, 60, 70, 80],\n",
        "    'E': ['foo1', 'bar1', 'foo1', 'bar1', 'foo1', 'bar1', 'foo1', 'foo1'],\n",
        "    'F': ['one2', 'one2', 'two2', 'three2', 'two2', 'two2', 'one2', 'three2'],\n",
        "    'G': [101, 201, 301, 401, 501, 601, 701, 801],\n",
        "})\n",
        "\n",
        "# Define the prefix to use for the new columns\n",
        "prefix = 'Z'\n",
        "\n",
        "lst = ['T1', 'T2', 'T3']\n",
        "\n",
        "for idx, col in enumerate(df.columns):\n",
        "    for i in range(len(lst)):\n",
        "        # Create a new column with the appropriate number of \"Z\"s and the prefix\n",
        "        new_col_val = prefix * (i+1)\n",
        "        # Add the new column to the DataFrame\n",
        "        df[lst[i]] = new_col_val\n",
        "\n",
        "\n",
        "# Print the resulting DataFrame\n",
        "print(df)"
      ],
      "metadata": {
        "id": "V8r6iLdbkVoC",
        "colab": {
          "base_uri": "https://localhost:8080/"
        },
        "outputId": "de125667-15ec-4e0c-9d6c-b11c0ba05229"
      },
      "execution_count": 28,
      "outputs": [
        {
          "output_type": "stream",
          "name": "stdout",
          "text": [
            "     A      B  C   D     E       F    G T1  T2   T3\n",
            "0  foo    one  1  10  foo1    one2  101  Z  ZZ  ZZZ\n",
            "1  bar    one  2  20  bar1    one2  201  Z  ZZ  ZZZ\n",
            "2  foo    two  3  30  foo1    two2  301  Z  ZZ  ZZZ\n",
            "3  bar  three  4  40  bar1  three2  401  Z  ZZ  ZZZ\n",
            "4  foo    two  5  50  foo1    two2  501  Z  ZZ  ZZZ\n",
            "5  bar    two  6  60  bar1    two2  601  Z  ZZ  ZZZ\n",
            "6  foo    one  7  70  foo1    one2  701  Z  ZZ  ZZZ\n",
            "7  foo  three  8  80  foo1  three2  801  Z  ZZ  ZZZ\n"
          ]
        }
      ]
    },
    {
      "cell_type": "code",
      "source": [
        "df"
      ],
      "metadata": {
        "id": "0CXeArjh9jHR",
        "colab": {
          "base_uri": "https://localhost:8080/",
          "height": 300
        },
        "outputId": "25e1165f-c24d-4b0e-f47d-0f245fdde034"
      },
      "execution_count": 20,
      "outputs": [
        {
          "output_type": "execute_result",
          "data": {
            "text/plain": [
              "     A      B  C   D     E       F    G       T1       T2       T3\n",
              "0  foo    one  1  10  foo1    one2  101  ZZZZZZZ  ZZZZZZZ  ZZZZZZZ\n",
              "1  bar    one  2  20  bar1    one2  201  ZZZZZZZ  ZZZZZZZ  ZZZZZZZ\n",
              "2  foo    two  3  30  foo1    two2  301  ZZZZZZZ  ZZZZZZZ  ZZZZZZZ\n",
              "3  bar  three  4  40  bar1  three2  401  ZZZZZZZ  ZZZZZZZ  ZZZZZZZ\n",
              "4  foo    two  5  50  foo1    two2  501  ZZZZZZZ  ZZZZZZZ  ZZZZZZZ\n",
              "5  bar    two  6  60  bar1    two2  601  ZZZZZZZ  ZZZZZZZ  ZZZZZZZ\n",
              "6  foo    one  7  70  foo1    one2  701  ZZZZZZZ  ZZZZZZZ  ZZZZZZZ\n",
              "7  foo  three  8  80  foo1  three2  801  ZZZZZZZ  ZZZZZZZ  ZZZZZZZ"
            ],
            "text/html": [
              "\n",
              "  <div id=\"df-e6ecbb46-82ab-438a-8107-7091f229c26b\">\n",
              "    <div class=\"colab-df-container\">\n",
              "      <div>\n",
              "<style scoped>\n",
              "    .dataframe tbody tr th:only-of-type {\n",
              "        vertical-align: middle;\n",
              "    }\n",
              "\n",
              "    .dataframe tbody tr th {\n",
              "        vertical-align: top;\n",
              "    }\n",
              "\n",
              "    .dataframe thead th {\n",
              "        text-align: right;\n",
              "    }\n",
              "</style>\n",
              "<table border=\"1\" class=\"dataframe\">\n",
              "  <thead>\n",
              "    <tr style=\"text-align: right;\">\n",
              "      <th></th>\n",
              "      <th>A</th>\n",
              "      <th>B</th>\n",
              "      <th>C</th>\n",
              "      <th>D</th>\n",
              "      <th>E</th>\n",
              "      <th>F</th>\n",
              "      <th>G</th>\n",
              "      <th>T1</th>\n",
              "      <th>T2</th>\n",
              "      <th>T3</th>\n",
              "    </tr>\n",
              "  </thead>\n",
              "  <tbody>\n",
              "    <tr>\n",
              "      <th>0</th>\n",
              "      <td>foo</td>\n",
              "      <td>one</td>\n",
              "      <td>1</td>\n",
              "      <td>10</td>\n",
              "      <td>foo1</td>\n",
              "      <td>one2</td>\n",
              "      <td>101</td>\n",
              "      <td>ZZZZZZZ</td>\n",
              "      <td>ZZZZZZZ</td>\n",
              "      <td>ZZZZZZZ</td>\n",
              "    </tr>\n",
              "    <tr>\n",
              "      <th>1</th>\n",
              "      <td>bar</td>\n",
              "      <td>one</td>\n",
              "      <td>2</td>\n",
              "      <td>20</td>\n",
              "      <td>bar1</td>\n",
              "      <td>one2</td>\n",
              "      <td>201</td>\n",
              "      <td>ZZZZZZZ</td>\n",
              "      <td>ZZZZZZZ</td>\n",
              "      <td>ZZZZZZZ</td>\n",
              "    </tr>\n",
              "    <tr>\n",
              "      <th>2</th>\n",
              "      <td>foo</td>\n",
              "      <td>two</td>\n",
              "      <td>3</td>\n",
              "      <td>30</td>\n",
              "      <td>foo1</td>\n",
              "      <td>two2</td>\n",
              "      <td>301</td>\n",
              "      <td>ZZZZZZZ</td>\n",
              "      <td>ZZZZZZZ</td>\n",
              "      <td>ZZZZZZZ</td>\n",
              "    </tr>\n",
              "    <tr>\n",
              "      <th>3</th>\n",
              "      <td>bar</td>\n",
              "      <td>three</td>\n",
              "      <td>4</td>\n",
              "      <td>40</td>\n",
              "      <td>bar1</td>\n",
              "      <td>three2</td>\n",
              "      <td>401</td>\n",
              "      <td>ZZZZZZZ</td>\n",
              "      <td>ZZZZZZZ</td>\n",
              "      <td>ZZZZZZZ</td>\n",
              "    </tr>\n",
              "    <tr>\n",
              "      <th>4</th>\n",
              "      <td>foo</td>\n",
              "      <td>two</td>\n",
              "      <td>5</td>\n",
              "      <td>50</td>\n",
              "      <td>foo1</td>\n",
              "      <td>two2</td>\n",
              "      <td>501</td>\n",
              "      <td>ZZZZZZZ</td>\n",
              "      <td>ZZZZZZZ</td>\n",
              "      <td>ZZZZZZZ</td>\n",
              "    </tr>\n",
              "    <tr>\n",
              "      <th>5</th>\n",
              "      <td>bar</td>\n",
              "      <td>two</td>\n",
              "      <td>6</td>\n",
              "      <td>60</td>\n",
              "      <td>bar1</td>\n",
              "      <td>two2</td>\n",
              "      <td>601</td>\n",
              "      <td>ZZZZZZZ</td>\n",
              "      <td>ZZZZZZZ</td>\n",
              "      <td>ZZZZZZZ</td>\n",
              "    </tr>\n",
              "    <tr>\n",
              "      <th>6</th>\n",
              "      <td>foo</td>\n",
              "      <td>one</td>\n",
              "      <td>7</td>\n",
              "      <td>70</td>\n",
              "      <td>foo1</td>\n",
              "      <td>one2</td>\n",
              "      <td>701</td>\n",
              "      <td>ZZZZZZZ</td>\n",
              "      <td>ZZZZZZZ</td>\n",
              "      <td>ZZZZZZZ</td>\n",
              "    </tr>\n",
              "    <tr>\n",
              "      <th>7</th>\n",
              "      <td>foo</td>\n",
              "      <td>three</td>\n",
              "      <td>8</td>\n",
              "      <td>80</td>\n",
              "      <td>foo1</td>\n",
              "      <td>three2</td>\n",
              "      <td>801</td>\n",
              "      <td>ZZZZZZZ</td>\n",
              "      <td>ZZZZZZZ</td>\n",
              "      <td>ZZZZZZZ</td>\n",
              "    </tr>\n",
              "  </tbody>\n",
              "</table>\n",
              "</div>\n",
              "      <button class=\"colab-df-convert\" onclick=\"convertToInteractive('df-e6ecbb46-82ab-438a-8107-7091f229c26b')\"\n",
              "              title=\"Convert this dataframe to an interactive table.\"\n",
              "              style=\"display:none;\">\n",
              "        \n",
              "  <svg xmlns=\"http://www.w3.org/2000/svg\" height=\"24px\"viewBox=\"0 0 24 24\"\n",
              "       width=\"24px\">\n",
              "    <path d=\"M0 0h24v24H0V0z\" fill=\"none\"/>\n",
              "    <path d=\"M18.56 5.44l.94 2.06.94-2.06 2.06-.94-2.06-.94-.94-2.06-.94 2.06-2.06.94zm-11 1L8.5 8.5l.94-2.06 2.06-.94-2.06-.94L8.5 2.5l-.94 2.06-2.06.94zm10 10l.94 2.06.94-2.06 2.06-.94-2.06-.94-.94-2.06-.94 2.06-2.06.94z\"/><path d=\"M17.41 7.96l-1.37-1.37c-.4-.4-.92-.59-1.43-.59-.52 0-1.04.2-1.43.59L10.3 9.45l-7.72 7.72c-.78.78-.78 2.05 0 2.83L4 21.41c.39.39.9.59 1.41.59.51 0 1.02-.2 1.41-.59l7.78-7.78 2.81-2.81c.8-.78.8-2.07 0-2.86zM5.41 20L4 18.59l7.72-7.72 1.47 1.35L5.41 20z\"/>\n",
              "  </svg>\n",
              "      </button>\n",
              "      \n",
              "  <style>\n",
              "    .colab-df-container {\n",
              "      display:flex;\n",
              "      flex-wrap:wrap;\n",
              "      gap: 12px;\n",
              "    }\n",
              "\n",
              "    .colab-df-convert {\n",
              "      background-color: #E8F0FE;\n",
              "      border: none;\n",
              "      border-radius: 50%;\n",
              "      cursor: pointer;\n",
              "      display: none;\n",
              "      fill: #1967D2;\n",
              "      height: 32px;\n",
              "      padding: 0 0 0 0;\n",
              "      width: 32px;\n",
              "    }\n",
              "\n",
              "    .colab-df-convert:hover {\n",
              "      background-color: #E2EBFA;\n",
              "      box-shadow: 0px 1px 2px rgba(60, 64, 67, 0.3), 0px 1px 3px 1px rgba(60, 64, 67, 0.15);\n",
              "      fill: #174EA6;\n",
              "    }\n",
              "\n",
              "    [theme=dark] .colab-df-convert {\n",
              "      background-color: #3B4455;\n",
              "      fill: #D2E3FC;\n",
              "    }\n",
              "\n",
              "    [theme=dark] .colab-df-convert:hover {\n",
              "      background-color: #434B5C;\n",
              "      box-shadow: 0px 1px 3px 1px rgba(0, 0, 0, 0.15);\n",
              "      filter: drop-shadow(0px 1px 2px rgba(0, 0, 0, 0.3));\n",
              "      fill: #FFFFFF;\n",
              "    }\n",
              "  </style>\n",
              "\n",
              "      <script>\n",
              "        const buttonEl =\n",
              "          document.querySelector('#df-e6ecbb46-82ab-438a-8107-7091f229c26b button.colab-df-convert');\n",
              "        buttonEl.style.display =\n",
              "          google.colab.kernel.accessAllowed ? 'block' : 'none';\n",
              "\n",
              "        async function convertToInteractive(key) {\n",
              "          const element = document.querySelector('#df-e6ecbb46-82ab-438a-8107-7091f229c26b');\n",
              "          const dataTable =\n",
              "            await google.colab.kernel.invokeFunction('convertToInteractive',\n",
              "                                                     [key], {});\n",
              "          if (!dataTable) return;\n",
              "\n",
              "          const docLinkHtml = 'Like what you see? Visit the ' +\n",
              "            '<a target=\"_blank\" href=https://colab.research.google.com/notebooks/data_table.ipynb>data table notebook</a>'\n",
              "            + ' to learn more about interactive tables.';\n",
              "          element.innerHTML = '';\n",
              "          dataTable['output_type'] = 'display_data';\n",
              "          await google.colab.output.renderOutput(dataTable, element);\n",
              "          const docLink = document.createElement('div');\n",
              "          docLink.innerHTML = docLinkHtml;\n",
              "          element.appendChild(docLink);\n",
              "        }\n",
              "      </script>\n",
              "    </div>\n",
              "  </div>\n",
              "  "
            ]
          },
          "metadata": {},
          "execution_count": 20
        }
      ]
    },
    {
      "cell_type": "code",
      "source": [
        "df.to_csv('WorkFile_Balanced_Half_Sample_Method.csv')"
      ],
      "metadata": {
        "id": "sqIyUtf63uL2"
      },
      "execution_count": 25,
      "outputs": []
    },
    {
      "cell_type": "code",
      "source": [
        "df.columns"
      ],
      "metadata": {
        "id": "iqbErrIfg852",
        "colab": {
          "base_uri": "https://localhost:8080/"
        },
        "outputId": "be16bc88-7a1d-4915-e638-ee24f9f76f38"
      },
      "execution_count": 26,
      "outputs": [
        {
          "output_type": "execute_result",
          "data": {
            "text/plain": [
              "Index(['SEC', 'ST', 'FSU', 'IDNO', 'SEG', 'SSS', 'SSU', 'STRM', 'SSTRM', 'SS',\n",
              "       'NSS', 'NSC', 'MULT', 'HH_SIZE', 'HHTYPE', 'RELG', 'SG', 'MHCE',\n",
              "       'DC_ALL', 'DC_ST', 'SRL', 'REL', 'SEX', 'MSEX', 'AGE', 'MARST',\n",
              "       'GEDU_LVL', 'PAS', 'PS_SS', 'CWS', 'ERN_SELF', 'ERN_REG', 'STRMID',\n",
              "       'POP', 'LF', 'WRK', 'ST_GR'],\n",
              "      dtype='object')"
            ]
          },
          "metadata": {},
          "execution_count": 26
        }
      ]
    },
    {
      "cell_type": "code",
      "source": [
        "groupby_cols_subset = ['A', 'B', 'E', 'F']\n",
        "agg_cols = ['C', 'D']\n",
        "\n",
        "agg_dict = {col: 'sum' for col in agg_cols}\n",
        "\n",
        "print(agg_dict)\n",
        "\n",
        "df.groupby(groupby_cols_subset).agg(agg_dict).reset_index()"
      ],
      "metadata": {
        "colab": {
          "base_uri": "https://localhost:8080/",
          "height": 223
        },
        "id": "iPjJJKRVH31a",
        "outputId": "e15275fa-a450-4947-f406-ad7736eca4ad"
      },
      "execution_count": 1,
      "outputs": [
        {
          "output_type": "stream",
          "name": "stdout",
          "text": [
            "{'C': 'sum', 'D': 'sum'}\n"
          ]
        },
        {
          "output_type": "error",
          "ename": "NameError",
          "evalue": "ignored",
          "traceback": [
            "\u001b[0;31m---------------------------------------------------------------------------\u001b[0m",
            "\u001b[0;31mNameError\u001b[0m                                 Traceback (most recent call last)",
            "\u001b[0;32m<ipython-input-1-3e593e73f6f3>\u001b[0m in \u001b[0;36m<cell line: 8>\u001b[0;34m()\u001b[0m\n\u001b[1;32m      6\u001b[0m \u001b[0mprint\u001b[0m\u001b[0;34m(\u001b[0m\u001b[0magg_dict\u001b[0m\u001b[0;34m)\u001b[0m\u001b[0;34m\u001b[0m\u001b[0;34m\u001b[0m\u001b[0m\n\u001b[1;32m      7\u001b[0m \u001b[0;34m\u001b[0m\u001b[0m\n\u001b[0;32m----> 8\u001b[0;31m \u001b[0mdf\u001b[0m\u001b[0;34m.\u001b[0m\u001b[0mgroupby\u001b[0m\u001b[0;34m(\u001b[0m\u001b[0mgroupby_cols_subset\u001b[0m\u001b[0;34m)\u001b[0m\u001b[0;34m.\u001b[0m\u001b[0magg\u001b[0m\u001b[0;34m(\u001b[0m\u001b[0magg_dict\u001b[0m\u001b[0;34m)\u001b[0m\u001b[0;34m.\u001b[0m\u001b[0mreset_index\u001b[0m\u001b[0;34m(\u001b[0m\u001b[0;34m)\u001b[0m\u001b[0;34m\u001b[0m\u001b[0;34m\u001b[0m\u001b[0m\n\u001b[0m",
            "\u001b[0;31mNameError\u001b[0m: name 'df' is not defined"
          ]
        }
      ]
    },
    {
      "cell_type": "code",
      "source": [
        "import pandas as pd\n",
        "import itertools\n",
        "\n",
        "# Example dataframe\n",
        "df = pd.DataFrame({\n",
        "    'A': ['foo', 'bar', 'foo', 'bar', 'foo', 'bar', 'foo', 'foo'],\n",
        "    'B': ['one', 'one', 'two', 'three', 'two', 'two', 'one', 'three'],\n",
        "    'C': [1, 2, 3, 4, 5, 6, 7, 8],\n",
        "    'D': [10, 20, 30, 40, 50, 60, 70, 80],\n",
        "    'E': ['foo1', 'bar1', 'foo1', 'bar1', 'foo1', 'bar1', 'foo1', 'foo1'],\n",
        "    'F': ['one2', 'one2', 'two2', 'three2', 'two2', 'two2', 'one2', 'three2'],\n",
        "    'G': [101, 201, 301, 401, 501, 601, 701, 801],\n",
        "})\n",
        "\n",
        "lst_df = list(df.columns)\n",
        "\n",
        "# Select columns to group by\n",
        "groupby_cols = ['A', 'B', 'E']\n",
        "\n",
        "# Create a list of all possible subsets of groupby_cols\n",
        "groupby_cols_subsets = [list(subset) for i in range(len(groupby_cols) + 1)\n",
        "                        for subset in itertools.combinations(groupby_cols, i)]\n",
        "\n",
        "# Select columns that are not in groupby_cols\n",
        "cols = [col for col in df.columns if col not in groupby_cols]\n",
        "\n",
        "agg_dict = {col: sum for col in cols}\n",
        "\n",
        "i = 0\n",
        "# Loop over each subset of columns and perform the aggregation\n",
        "for groupby_cols_subset in groupby_cols_subsets:\n",
        "    # Define the prefix to use for the new columns\n",
        "    prefix = 'Z'\n",
        "\n",
        "    if len(groupby_cols_subset) == 0:\n",
        "\n",
        "        # # If empty list is selected, perform aggregation without grouping\n",
        "        new_df = df.agg(agg_dict).to_frame().T\n",
        "\n",
        "        test_lst = list(set(lst_df) - set(list(new_df.columns)))\n",
        "\n",
        "        new_df['groupby_cols'] = 'All columns'\n",
        "\n",
        "        new_col_val_ = []\n",
        "        for i in range(len(test_lst)):\n",
        "            # Create a new column with the appropriate number of \"Z\"s and the prefix\n",
        "            new_col_val_.append(prefix * (i+1))\n",
        "\n",
        "        for i in range(len(new_col_val_)):\n",
        "            # Add the new column to the DataFrame\n",
        "            new_df[test_lst[i]] = new_col_val_[i]\n",
        "        \n",
        "        i += 1\n",
        "        print(new_df, '\\n')\n",
        "\n",
        "        continue\n",
        "\n",
        "    # Create a new dataframe by grouping by the selected columns and aggregating\n",
        "    # Note: here I'm just calculating the sum of columns C and D, but you can use any aggregation function\n",
        "    new_df = df.groupby(list(groupby_cols_subset)).agg(agg_dict).reset_index()\n",
        "\n",
        "    test_lst = list(set(lst_df) - set(list(new_df.columns)))\n",
        "\n",
        "    # # Add a new column to indicate which groupby columns are selected\n",
        "    new_df['groupby_cols'] = ', '.join(groupby_cols_subset)\n",
        "\n",
        "    new_col_val = []\n",
        "    for i in range(len(test_lst)):\n",
        "        # Create a new column with the appropriate number of \"Z\"s and the prefix\n",
        "        new_col_val.append(prefix * (i+1))\n",
        "\n",
        "    for i in range(len(new_col_val)):\n",
        "        # Add the new column to the DataFrame\n",
        "        new_df[test_lst[i]] = new_col_val[i]\n",
        "\n",
        "    i += 1\n",
        "    \n",
        "    print(new_df, '\\n')\n"
      ],
      "metadata": {
        "colab": {
          "base_uri": "https://localhost:8080/"
        },
        "id": "iyj9g6pDPbbW",
        "outputId": "92cf9be6-8074-4908-c87f-35b56c6f0678"
      },
      "execution_count": 8,
      "outputs": [
        {
          "output_type": "stream",
          "name": "stdout",
          "text": [
            "    C    D                                     F     G groupby_cols  E   A  \\\n",
            "0  36  360  one2one2two2three2two2two2one2three2  3608  All columns  Z  ZZ   \n",
            "\n",
            "     B  \n",
            "0  ZZZ   \n",
            "\n",
            "     A   C    D                       F     G groupby_cols  E   B\n",
            "0  bar  12  120          one2three2two2  1203            A  Z  ZZ\n",
            "1  foo  24  240  one2two2two2one2three2  2405            A  Z  ZZ \n",
            "\n",
            "       B   C    D             F     G groupby_cols  E   A\n",
            "0    one  10  100  one2one2one2  1003            B  Z  ZZ\n",
            "1  three  12  120  three2three2  1202            B  Z  ZZ\n",
            "2    two  14  140  two2two2two2  1403            B  Z  ZZ \n",
            "\n",
            "      E   C    D                       F     G groupby_cols  A   B\n",
            "0  bar1  12  120          one2three2two2  1203            E  Z  ZZ\n",
            "1  foo1  24  240  one2two2two2one2three2  2405            E  Z  ZZ \n",
            "\n",
            "     A      B  C   D         F    G groupby_cols  E\n",
            "0  bar    one  2  20      one2  201         A, B  Z\n",
            "1  bar  three  4  40    three2  401         A, B  Z\n",
            "2  bar    two  6  60      two2  601         A, B  Z\n",
            "3  foo    one  8  80  one2one2  802         A, B  Z\n",
            "4  foo  three  8  80    three2  801         A, B  Z\n",
            "5  foo    two  8  80  two2two2  802         A, B  Z \n",
            "\n",
            "     A     E   C    D                       F     G groupby_cols  B\n",
            "0  bar  bar1  12  120          one2three2two2  1203         A, E  Z\n",
            "1  foo  foo1  24  240  one2two2two2one2three2  2405         A, E  Z \n",
            "\n",
            "       B     E  C   D         F    G groupby_cols  A\n",
            "0    one  bar1  2  20      one2  201         B, E  Z\n",
            "1    one  foo1  8  80  one2one2  802         B, E  Z\n",
            "2  three  bar1  4  40    three2  401         B, E  Z\n",
            "3  three  foo1  8  80    three2  801         B, E  Z\n",
            "4    two  bar1  6  60      two2  601         B, E  Z\n",
            "5    two  foo1  8  80  two2two2  802         B, E  Z \n",
            "\n",
            "     A      B     E  C   D         F    G groupby_cols\n",
            "0  bar    one  bar1  2  20      one2  201      A, B, E\n",
            "1  bar  three  bar1  4  40    three2  401      A, B, E\n",
            "2  bar    two  bar1  6  60      two2  601      A, B, E\n",
            "3  foo    one  foo1  8  80  one2one2  802      A, B, E\n",
            "4  foo  three  foo1  8  80    three2  801      A, B, E\n",
            "5  foo    two  foo1  8  80  two2two2  802      A, B, E \n",
            "\n"
          ]
        }
      ]
    },
    {
      "cell_type": "markdown",
      "source": [
        "**STEP 1**"
      ],
      "metadata": {
        "id": "OS08Y3aCseyh"
      }
    },
    {
      "cell_type": "code",
      "source": [
        "import pandas as pd\n",
        "import numpy as np\n",
        "\n",
        "# # Read the data from the CSV file\n",
        "# df = pd.read_csv('Work_File1A.csv')\n",
        "\n",
        "# Get the current column names\n",
        "old_col_names = df.columns.tolist()\n",
        "\n",
        "# Create a dictionary with the new column names\n",
        "new_col_names = {col: col.strip() for col in old_col_names}\n",
        "\n",
        "# Rename the columns using the dictionary\n",
        "df.rename(columns=new_col_names, inplace=True)\n",
        "\n",
        "# Calculate the SS_MULT and CMULT fields\n",
        "df['SS_MULT'] = df['MULT'] / 100\n",
        "df['CMULT'] = df.apply(lambda row: row['MULT'] / 200 if row['NSC'] > row['NSS'] else row['MULT'] / 100, axis=1)\n",
        "\n",
        "# Group the data by SEC and ST_GR and calculate the aggregates\n",
        "grouped_df = df.groupby(['SEC', 'ST_GR']).agg({'POP': lambda x: (pd.to_numeric(x) * df['CMULT']).sum(),\n",
        "                                                    'LF': lambda x: (pd.to_numeric(x) * df['CMULT']).sum(),\n",
        "                                                        'WRK': lambda x: (pd.to_numeric(x) * df['CMULT']).sum(),\n",
        "                                                            'MULT': 'count'})\n",
        "\n",
        "\n",
        "\n",
        "# Rename the columns and reset the index\n",
        "grouped_df = grouped_df.rename(columns={'POP': 'pophat', 'LF': 'lfhat', 'WRK': 'wrkhat', 'MULT': 'no_sam'}).reset_index()\n",
        "\n"
      ],
      "metadata": {
        "id": "FBjN92PqdCZx",
        "colab": {
          "base_uri": "https://localhost:8080/",
          "height": 515
        },
        "outputId": "27c00f48-3808-48ea-c932-287a44b002d1"
      },
      "execution_count": 9,
      "outputs": [
        {
          "output_type": "error",
          "ename": "KeyError",
          "evalue": "ignored",
          "traceback": [
            "\u001b[0;31m---------------------------------------------------------------------------\u001b[0m",
            "\u001b[0;31mKeyError\u001b[0m                                  Traceback (most recent call last)",
            "\u001b[0;32m/usr/local/lib/python3.10/dist-packages/pandas/core/indexes/base.py\u001b[0m in \u001b[0;36mget_loc\u001b[0;34m(self, key, method, tolerance)\u001b[0m\n\u001b[1;32m   3801\u001b[0m             \u001b[0;32mtry\u001b[0m\u001b[0;34m:\u001b[0m\u001b[0;34m\u001b[0m\u001b[0;34m\u001b[0m\u001b[0m\n\u001b[0;32m-> 3802\u001b[0;31m                 \u001b[0;32mreturn\u001b[0m \u001b[0mself\u001b[0m\u001b[0;34m.\u001b[0m\u001b[0m_engine\u001b[0m\u001b[0;34m.\u001b[0m\u001b[0mget_loc\u001b[0m\u001b[0;34m(\u001b[0m\u001b[0mcasted_key\u001b[0m\u001b[0;34m)\u001b[0m\u001b[0;34m\u001b[0m\u001b[0;34m\u001b[0m\u001b[0m\n\u001b[0m\u001b[1;32m   3803\u001b[0m             \u001b[0;32mexcept\u001b[0m \u001b[0mKeyError\u001b[0m \u001b[0;32mas\u001b[0m \u001b[0merr\u001b[0m\u001b[0;34m:\u001b[0m\u001b[0;34m\u001b[0m\u001b[0;34m\u001b[0m\u001b[0m\n",
            "\u001b[0;32m/usr/local/lib/python3.10/dist-packages/pandas/_libs/index.pyx\u001b[0m in \u001b[0;36mpandas._libs.index.IndexEngine.get_loc\u001b[0;34m()\u001b[0m\n",
            "\u001b[0;32m/usr/local/lib/python3.10/dist-packages/pandas/_libs/index.pyx\u001b[0m in \u001b[0;36mpandas._libs.index.IndexEngine.get_loc\u001b[0;34m()\u001b[0m\n",
            "\u001b[0;32mpandas/_libs/hashtable_class_helper.pxi\u001b[0m in \u001b[0;36mpandas._libs.hashtable.PyObjectHashTable.get_item\u001b[0;34m()\u001b[0m\n",
            "\u001b[0;32mpandas/_libs/hashtable_class_helper.pxi\u001b[0m in \u001b[0;36mpandas._libs.hashtable.PyObjectHashTable.get_item\u001b[0;34m()\u001b[0m\n",
            "\u001b[0;31mKeyError\u001b[0m: 'MULT'",
            "\nThe above exception was the direct cause of the following exception:\n",
            "\u001b[0;31mKeyError\u001b[0m                                  Traceback (most recent call last)",
            "\u001b[0;32m<ipython-input-9-439bf93813a9>\u001b[0m in \u001b[0;36m<cell line: 17>\u001b[0;34m()\u001b[0m\n\u001b[1;32m     15\u001b[0m \u001b[0;34m\u001b[0m\u001b[0m\n\u001b[1;32m     16\u001b[0m \u001b[0;31m# Calculate the SS_MULT and CMULT fields\u001b[0m\u001b[0;34m\u001b[0m\u001b[0;34m\u001b[0m\u001b[0m\n\u001b[0;32m---> 17\u001b[0;31m \u001b[0mdf\u001b[0m\u001b[0;34m[\u001b[0m\u001b[0;34m'SS_MULT'\u001b[0m\u001b[0;34m]\u001b[0m \u001b[0;34m=\u001b[0m \u001b[0mdf\u001b[0m\u001b[0;34m[\u001b[0m\u001b[0;34m'MULT'\u001b[0m\u001b[0;34m]\u001b[0m \u001b[0;34m/\u001b[0m \u001b[0;36m100\u001b[0m\u001b[0;34m\u001b[0m\u001b[0;34m\u001b[0m\u001b[0m\n\u001b[0m\u001b[1;32m     18\u001b[0m \u001b[0mdf\u001b[0m\u001b[0;34m[\u001b[0m\u001b[0;34m'CMULT'\u001b[0m\u001b[0;34m]\u001b[0m \u001b[0;34m=\u001b[0m \u001b[0mdf\u001b[0m\u001b[0;34m.\u001b[0m\u001b[0mapply\u001b[0m\u001b[0;34m(\u001b[0m\u001b[0;32mlambda\u001b[0m \u001b[0mrow\u001b[0m\u001b[0;34m:\u001b[0m \u001b[0mrow\u001b[0m\u001b[0;34m[\u001b[0m\u001b[0;34m'MULT'\u001b[0m\u001b[0;34m]\u001b[0m \u001b[0;34m/\u001b[0m \u001b[0;36m200\u001b[0m \u001b[0;32mif\u001b[0m \u001b[0mrow\u001b[0m\u001b[0;34m[\u001b[0m\u001b[0;34m'NSC'\u001b[0m\u001b[0;34m]\u001b[0m \u001b[0;34m>\u001b[0m \u001b[0mrow\u001b[0m\u001b[0;34m[\u001b[0m\u001b[0;34m'NSS'\u001b[0m\u001b[0;34m]\u001b[0m \u001b[0;32melse\u001b[0m \u001b[0mrow\u001b[0m\u001b[0;34m[\u001b[0m\u001b[0;34m'MULT'\u001b[0m\u001b[0;34m]\u001b[0m \u001b[0;34m/\u001b[0m \u001b[0;36m100\u001b[0m\u001b[0;34m,\u001b[0m \u001b[0maxis\u001b[0m\u001b[0;34m=\u001b[0m\u001b[0;36m1\u001b[0m\u001b[0;34m)\u001b[0m\u001b[0;34m\u001b[0m\u001b[0;34m\u001b[0m\u001b[0m\n\u001b[1;32m     19\u001b[0m \u001b[0;34m\u001b[0m\u001b[0m\n",
            "\u001b[0;32m/usr/local/lib/python3.10/dist-packages/pandas/core/frame.py\u001b[0m in \u001b[0;36m__getitem__\u001b[0;34m(self, key)\u001b[0m\n\u001b[1;32m   3805\u001b[0m             \u001b[0;32mif\u001b[0m \u001b[0mself\u001b[0m\u001b[0;34m.\u001b[0m\u001b[0mcolumns\u001b[0m\u001b[0;34m.\u001b[0m\u001b[0mnlevels\u001b[0m \u001b[0;34m>\u001b[0m \u001b[0;36m1\u001b[0m\u001b[0;34m:\u001b[0m\u001b[0;34m\u001b[0m\u001b[0;34m\u001b[0m\u001b[0m\n\u001b[1;32m   3806\u001b[0m                 \u001b[0;32mreturn\u001b[0m \u001b[0mself\u001b[0m\u001b[0;34m.\u001b[0m\u001b[0m_getitem_multilevel\u001b[0m\u001b[0;34m(\u001b[0m\u001b[0mkey\u001b[0m\u001b[0;34m)\u001b[0m\u001b[0;34m\u001b[0m\u001b[0;34m\u001b[0m\u001b[0m\n\u001b[0;32m-> 3807\u001b[0;31m             \u001b[0mindexer\u001b[0m \u001b[0;34m=\u001b[0m \u001b[0mself\u001b[0m\u001b[0;34m.\u001b[0m\u001b[0mcolumns\u001b[0m\u001b[0;34m.\u001b[0m\u001b[0mget_loc\u001b[0m\u001b[0;34m(\u001b[0m\u001b[0mkey\u001b[0m\u001b[0;34m)\u001b[0m\u001b[0;34m\u001b[0m\u001b[0;34m\u001b[0m\u001b[0m\n\u001b[0m\u001b[1;32m   3808\u001b[0m             \u001b[0;32mif\u001b[0m \u001b[0mis_integer\u001b[0m\u001b[0;34m(\u001b[0m\u001b[0mindexer\u001b[0m\u001b[0;34m)\u001b[0m\u001b[0;34m:\u001b[0m\u001b[0;34m\u001b[0m\u001b[0;34m\u001b[0m\u001b[0m\n\u001b[1;32m   3809\u001b[0m                 \u001b[0mindexer\u001b[0m \u001b[0;34m=\u001b[0m \u001b[0;34m[\u001b[0m\u001b[0mindexer\u001b[0m\u001b[0;34m]\u001b[0m\u001b[0;34m\u001b[0m\u001b[0;34m\u001b[0m\u001b[0m\n",
            "\u001b[0;32m/usr/local/lib/python3.10/dist-packages/pandas/core/indexes/base.py\u001b[0m in \u001b[0;36mget_loc\u001b[0;34m(self, key, method, tolerance)\u001b[0m\n\u001b[1;32m   3802\u001b[0m                 \u001b[0;32mreturn\u001b[0m \u001b[0mself\u001b[0m\u001b[0;34m.\u001b[0m\u001b[0m_engine\u001b[0m\u001b[0;34m.\u001b[0m\u001b[0mget_loc\u001b[0m\u001b[0;34m(\u001b[0m\u001b[0mcasted_key\u001b[0m\u001b[0;34m)\u001b[0m\u001b[0;34m\u001b[0m\u001b[0;34m\u001b[0m\u001b[0m\n\u001b[1;32m   3803\u001b[0m             \u001b[0;32mexcept\u001b[0m \u001b[0mKeyError\u001b[0m \u001b[0;32mas\u001b[0m \u001b[0merr\u001b[0m\u001b[0;34m:\u001b[0m\u001b[0;34m\u001b[0m\u001b[0;34m\u001b[0m\u001b[0m\n\u001b[0;32m-> 3804\u001b[0;31m                 \u001b[0;32mraise\u001b[0m \u001b[0mKeyError\u001b[0m\u001b[0;34m(\u001b[0m\u001b[0mkey\u001b[0m\u001b[0;34m)\u001b[0m \u001b[0;32mfrom\u001b[0m \u001b[0merr\u001b[0m\u001b[0;34m\u001b[0m\u001b[0;34m\u001b[0m\u001b[0m\n\u001b[0m\u001b[1;32m   3805\u001b[0m             \u001b[0;32mexcept\u001b[0m \u001b[0mTypeError\u001b[0m\u001b[0;34m:\u001b[0m\u001b[0;34m\u001b[0m\u001b[0;34m\u001b[0m\u001b[0m\n\u001b[1;32m   3806\u001b[0m                 \u001b[0;31m# If we have a listlike key, _check_indexing_error will raise\u001b[0m\u001b[0;34m\u001b[0m\u001b[0;34m\u001b[0m\u001b[0m\n",
            "\u001b[0;31mKeyError\u001b[0m: 'MULT'"
          ]
        }
      ]
    },
    {
      "cell_type": "code",
      "source": [
        "grouped_df"
      ],
      "metadata": {
        "id": "7OcfQmmShu-v"
      },
      "execution_count": null,
      "outputs": []
    },
    {
      "cell_type": "code",
      "source": [
        "for i in range(2**len(group_cols)):\n",
        "    # Convert the integer to a binary string and pad with zeros\n",
        "    binary_str = bin(i)[2:].zfill(len(group_cols))\n",
        "    # Create the new column name based on the binary string\n",
        "    new_col = 'NOT_ALL' if '0' in binary_str else 'ALL'\n",
        "    new_col += '_' + '_'.join([group_cols[j] for j in range(len(group_cols)) if binary_str[j] == '1'])\n",
        "    # Add the new column name to the list\n",
        "    new_cols.append(new_col)"
      ],
      "metadata": {
        "id": "ZNgqk-TPzEsR"
      },
      "execution_count": null,
      "outputs": []
    },
    {
      "cell_type": "code",
      "source": [
        "new_cols"
      ],
      "metadata": {
        "id": "QeyZLeKQiv4a"
      },
      "execution_count": null,
      "outputs": []
    },
    {
      "cell_type": "code",
      "source": [
        "df['SS_MULT'].unique()"
      ],
      "metadata": {
        "id": "PeSjbY4gjGgr"
      },
      "execution_count": null,
      "outputs": []
    },
    {
      "cell_type": "code",
      "source": [
        "df.columns"
      ],
      "metadata": {
        "id": "zmXWXpFuJVZu"
      },
      "execution_count": null,
      "outputs": []
    },
    {
      "cell_type": "code",
      "source": [
        "df['no_sam'] = 0"
      ],
      "metadata": {
        "id": "XwIcaR1d0Tob"
      },
      "execution_count": null,
      "outputs": []
    },
    {
      "cell_type": "code",
      "source": [],
      "metadata": {
        "id": "2LV13Nph0Tr4"
      },
      "execution_count": null,
      "outputs": []
    },
    {
      "cell_type": "markdown",
      "source": [
        "**STEP 2**"
      ],
      "metadata": {
        "id": "8flHj01dsJeA"
      }
    },
    {
      "cell_type": "code",
      "source": [
        "# Filter dataframe to include only rows where SS is 1 or 2\n",
        "df = df.query(\"SS in [1, 2]\")\n",
        "print(f\"Number of rows after filtering: {len(df)}\")\n",
        "\n",
        "w2 = df.groupby(['SEC', 'ST_GR', 'STRMID']).agg(\n",
        "    popstr=('POP', lambda x: np.sum(x * df['CMULT'])),\n",
        "    s1pop=('POP', lambda x: np.nansum(np.where(df['SS'] == 1, x * df['SS_MULT'], 0))),\n",
        "    s2pop=('POP', lambda x: np.nansum(np.where(df['SS'] == 2, x * df['SS_MULT'], 0))),\n",
        "    lfstr=('LF', lambda x: np.nansum(x * df['CMULT'])),\n",
        "    s1lf=('LF', lambda x: np.nansum(np.where(df['SS'] == 1, x * df['SS_MULT'], 0))),\n",
        "    s2lf=('LF', lambda x: np.nansum(np.where(df['SS'] == 2, x * df['SS_MULT'], 0))),\n",
        "    wrkstr=('WRK', lambda x: np.nansum(x * df['CMULT'])),\n",
        "    s1wrk=('WRK', lambda x: np.nansum(np.where(df['SS'] == 1, x * df['SS_MULT'], 0))),\n",
        "    s2wrk=('WRK', lambda x: np.nansum(np.where(df['SS'] == 2, x * df['SS_MULT'], 0)))\n",
        ").reset_index()\n",
        "\n"
      ],
      "metadata": {
        "id": "KN_zT5h1i4eC"
      },
      "execution_count": null,
      "outputs": []
    },
    {
      "cell_type": "code",
      "source": [
        "w2"
      ],
      "metadata": {
        "id": "ka54KmO2MCds"
      },
      "execution_count": null,
      "outputs": []
    },
    {
      "cell_type": "code",
      "source": [
        "# Join w2 and w1 on SEC and ST_GR columns\n",
        "w3 = w2.merge(grouped_df, on=['SEC', 'ST_GR'], suffixes=('_str', '_grp'))\n",
        "\n",
        "# Add new columns to w3\n",
        "w3['r1hat'] = w3['lfhat'] / w3['pophat']\n",
        "w3['r2hat'] = w3['wrkhat'] / w3['pophat']"
      ],
      "metadata": {
        "id": "aOozfIhLjET1"
      },
      "execution_count": null,
      "outputs": []
    },
    {
      "cell_type": "code",
      "source": [
        "w3"
      ],
      "metadata": {
        "id": "o7zUGBg8Nha7"
      },
      "execution_count": null,
      "outputs": []
    },
    {
      "cell_type": "code",
      "source": [
        "# Equate s1pop and s2pop\n",
        "w3.loc[w3['popstr'] == w3['s1pop'], 's1pop'] = w3.loc[w3['popstr'] == w3['s1pop'], 's2pop']\n",
        "w3.loc[w3['popstr'] == w3['s2pop'], 's2pop'] = w3.loc[w3['popstr'] == w3['s2pop'], 's1pop']\n",
        "\n",
        "# Equate s1lf and s2lf\n",
        "w3.loc[w3['lfstr'] == w3['s1lf'], 's1lf'] = w3.loc[w3['lfstr'] == w3['s1lf'], 's2lf']\n",
        "w3.loc[w3['lfstr'] == w3['s2lf'], 's2lf'] = w3.loc[w3['lfstr'] == w3['s2lf'], 's1lf']\n",
        "\n",
        "# Equate s1wrk and s2wrk\n",
        "w3.loc[w3['wrkstr'] == w3['s1wrk'], 's1wrk'] = w3.loc[w3['wrkstr'] == w3['s1wrk'], 's2wrk']\n",
        "w3.loc[w3['wrkstr'] == w3['s2wrk'], 's2wrk'] = w3.loc[w3['wrkstr'] == w3['s2wrk'], 's1wrk']"
      ],
      "metadata": {
        "id": "Jyy7e2y3RiCd"
      },
      "execution_count": null,
      "outputs": []
    },
    {
      "cell_type": "code",
      "source": [
        "w4 = w3.groupby(['SEC', 'ST_GR', 'no_sam', 'pophat', 'lfhat', 'wrkhat', 'r1hat', 'r2hat']).agg(\n",
        "    var_pop = ('s1pop', lambda x: np.sum((x - w3['s2pop']) ** 2)),\n",
        "\n",
        "    mse_R1 = ('s1lf', lambda x: np.nansum(\n",
        "                ((x - w3['s2lf']) ** 2) +\n",
        "                    ((w3['r1hat'] ** 2) * ((w3['s1pop'] - w3['s2pop']) ** 2) -\n",
        "                        (2 * w3['r1hat'] * (x - w3['s2lf']) * (w3['s1pop'] - w3['s2pop'])))\n",
        "            )),\n",
        "\n",
        "    mse_R2 = ('s1wrk', lambda x: np.nansum(\n",
        "                ((x - w3['s2wrk']) ** 2) +\n",
        "                    ((w3['r2hat'] ** 2) * ((w3['s1pop'] - w3['s2pop']) ** 2) -\n",
        "                        (2 * w3['r2hat'] * (x - w3['s2wrk']) * (w3['s1pop'] - w3['s2pop'])))\n",
        "            ),\n",
        "    \n",
        "    \n",
        ")).reset_index()"
      ],
      "metadata": {
        "id": "qdsNdyRURiFf"
      },
      "execution_count": null,
      "outputs": []
    },
    {
      "cell_type": "code",
      "source": [],
      "metadata": {
        "id": "8mulFs7PWI0k"
      },
      "execution_count": null,
      "outputs": []
    },
    {
      "cell_type": "code",
      "source": [
        "# Calculate RSEs for each variable in T1\n",
        "w5 = w4.assign(\n",
        "    RSE_POP=lambda x: 100 * (x['var_pop'] ** 0.5) / (2 * x['pophat']),\n",
        "    RSE_R1=lambda x: 100 * (x['mse_R1'] ** 0.5) / (2 * x['lfhat']),\n",
        "    RSE_R2=lambda x: 100 * (x['mse_R2'] ** 0.5) / (2 * x['wrkhat'])\n",
        ")"
      ],
      "metadata": {
        "id": "DrX5BiwtRiI9"
      },
      "execution_count": null,
      "outputs": []
    },
    {
      "cell_type": "code",
      "source": [
        "w5"
      ],
      "metadata": {
        "id": "UU3TQEp2UPPT"
      },
      "execution_count": null,
      "outputs": []
    },
    {
      "cell_type": "code",
      "source": [
        "# assuming the data is loaded into a DataFrame called w5\n",
        "T1 = w5[['SEC', 'ST_GR', 'no_sam', 'pophat', 'lfhat', 'wrkhat', 'r1hat', 'r2hat', 'RSE_POP', 'RSE_R1', 'RSE_R2']].copy()\n",
        "\n",
        "# add empty columns for sec_desc and st_gr_desc\n",
        "T1['sec_desc'] = ''\n",
        "T1['st_gr_desc'] = ''\n",
        "\n",
        "# apply formatting to columns\n",
        "T1['R1'] = 100 * T1['r1hat']\n",
        "T1['R2'] = 100 * T1['r2hat']\n",
        "\n",
        "# reorder columns\n",
        "T1 = T1[['SEC', 'ST_GR', 'sec_desc', 'st_gr_desc', 'no_sam', 'pophat','lfhat', 'wrkhat', 'RSE_POP', 'R1', 'RSE_R1', 'R2', 'RSE_R2']]\n",
        "\n",
        "# print the resulting DataFrame\n",
        "print(T1)"
      ],
      "metadata": {
        "id": "bgkq9FL3RsR6"
      },
      "execution_count": null,
      "outputs": []
    },
    {
      "cell_type": "code",
      "source": [
        "T1 = w5[['SEC', 'ST_GR', 'no_sam', 'pophat','lfhat', 'wrkhat', 'r1hat', 'r2hat', 'RSE_POP', 'RSE_R1', 'RSE_R2']].copy()\n",
        "T1['sec_desc'] = ' '*12\n",
        "T1['st_gr_desc'] = ' '*12\n",
        "T1['R1'] = 100 * T1['r1hat']\n",
        "T1['R2'] = 100 * T1['r2hat']\n",
        "T1 = T1[['SEC', 'ST_GR', 'no_sam', 'pophat','lfhat', 'wrkhat', 'RSE_POP', 'R1', 'RSE_R1', 'R2', 'RSE_R2']]\n",
        "T1"
      ],
      "metadata": {
        "id": "lsHDF6ulRubm"
      },
      "execution_count": null,
      "outputs": []
    },
    {
      "cell_type": "code",
      "source": [
        "# T1.to_csv('T1_Balanced_Half_Sample_Method.csv')"
      ],
      "metadata": {
        "id": "Lus9B0NNRxUn"
      },
      "execution_count": null,
      "outputs": []
    },
    {
      "cell_type": "code",
      "source": [
        "T1.columns"
      ],
      "metadata": {
        "id": "TL1edIn-Sbca"
      },
      "execution_count": null,
      "outputs": []
    },
    {
      "cell_type": "code",
      "source": [
        "import pandas as pd\n",
        "\n",
        "# Read the data into a pandas DataFrame\n",
        "# df = pd.read_csv('your_file.csv')\n",
        "\n",
        "# Create a dictionary to hold the T1, T2, T3, T4 DataFrames\n",
        "t_dict = {}\n",
        "\n",
        "# T1\n",
        "t_dict['T1'] = T1[['SEC', 'ST_GR', 'no_sam', 'pophat', 'lfhat', 'wrkhat', 'RSE_POP', 'R1', 'RSE_R1', 'R2', 'RSE_R2']]\n",
        "\n",
        "# T2\n",
        "t_dict['T2'] = T1.groupby(['SEC', 'ST_GR']).sum().reset_index()\n",
        "# t_dict['T2']['SEC'] = 'Z'\n",
        "# t_dict['T2'] = t_dict['T2'][['SEC', 'ST_GR', 'no_samp', 'est_x']]\n",
        "\n",
        "# T3\n",
        "t_dict['T3'] = T1.groupby(['SEC', 'ST_GR']).sum().reset_index()\n",
        "# t_dict['T3']['st'] = 'ZZ'\n",
        "# t_dict['T3'] = t_dict['T3'][['sec', 'st', 'no_samp', 'est_x']]\n",
        "\n",
        "# T4\n",
        "t_dict['T4'] = T1.groupby(['SEC', 'ST_GR']).sum().reset_index()\n",
        "# t_dict['T4']['sec'] = 'Z'\n",
        "# t_dict['T4']['st'] = 'ZZ'\n",
        "# t_dict['T4'] = t_dict['T4'][['sec', 'st', 'no_samp', 'est_x']]\n",
        "\n",
        "# Print the T1, T2, T3, T4 DataFrames\n",
        "for key, value in t_dict.items():\n",
        "    print(key)\n",
        "    print(value)\n"
      ],
      "metadata": {
        "id": "GCRkbEoFSbe2"
      },
      "execution_count": null,
      "outputs": []
    },
    {
      "cell_type": "code",
      "source": [],
      "metadata": {
        "id": "AlNWzzKTSbhQ"
      },
      "execution_count": null,
      "outputs": []
    },
    {
      "cell_type": "code",
      "source": [],
      "metadata": {
        "id": "U9X030fuWb88"
      },
      "execution_count": null,
      "outputs": []
    },
    {
      "cell_type": "code",
      "source": [],
      "metadata": {
        "id": "I6hiFyTQWd2c"
      },
      "execution_count": null,
      "outputs": []
    }
  ]
}