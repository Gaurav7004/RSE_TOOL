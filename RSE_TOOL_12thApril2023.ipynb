{
  "nbformat": 4,
  "nbformat_minor": 0,
  "metadata": {
    "colab": {
      "provenance": [],
      "authorship_tag": "ABX9TyPkJqG37vXRkxdFVHzJ8t4p",
      "include_colab_link": true
    },
    "kernelspec": {
      "name": "python3",
      "display_name": "Python 3"
    },
    "language_info": {
      "name": "python"
    }
  },
  "cells": [
    {
      "cell_type": "markdown",
      "metadata": {
        "id": "view-in-github",
        "colab_type": "text"
      },
      "source": [
        "<a href=\"https://colab.research.google.com/github/Gaurav7004/RSE_TOOL/blob/main/RSE_TOOL_12thApril2023.ipynb\" target=\"_parent\"><img src=\"https://colab.research.google.com/assets/colab-badge.svg\" alt=\"Open In Colab\"/></a>"
      ]
    },
    {
      "cell_type": "code",
      "execution_count": 1,
      "metadata": {
        "id": "y-KFBWnpcdJe"
      },
      "outputs": [],
      "source": [
        "import pandas as pd\n",
        "import numpy as np\n",
        "# ! pip install pandarallel\n",
        "# from pandarallel import pandarallel\n",
        "import json\n",
        "import re"
      ]
    },
    {
      "cell_type": "code",
      "source": [
        "# pandarallel.initialize()"
      ],
      "metadata": {
        "id": "tsdvu58itpPJ"
      },
      "execution_count": 2,
      "outputs": []
    },
    {
      "cell_type": "code",
      "source": [],
      "metadata": {
        "id": "8Ugs_ryBKxzX"
      },
      "execution_count": 2,
      "outputs": []
    },
    {
      "cell_type": "code",
      "source": [
        "df = pd.read_csv('Data1.csv')\n",
        "\n",
        "# remove blank spaces from front and back of column names\n",
        "df.columns = df.columns.str.strip()\n",
        "df.columns"
      ],
      "metadata": {
        "id": "j_AWweohegUD",
        "colab": {
          "base_uri": "https://localhost:8080/"
        },
        "outputId": "e145293f-d0ab-4f3f-e598-9bd7c4a459ed"
      },
      "execution_count": 3,
      "outputs": [
        {
          "output_type": "stream",
          "name": "stderr",
          "text": [
            "<ipython-input-3-fc8b3e05b5c4>:1: DtypeWarning: Columns (21) have mixed types. Specify dtype option on import or set low_memory=False.\n",
            "  df = pd.read_csv('Data1.csv')\n"
          ]
        },
        {
          "output_type": "execute_result",
          "data": {
            "text/plain": [
              "Index(['SEC', 'ST', 'FSU', 'IDNO', 'SEG', 'SSS', 'SSU', 'STRM', 'SSTRM', 'SS',\n",
              "       'NSS', 'NSC', 'MULT', 'HH_SIZE', 'HHTYPE', 'RELG', 'SG', 'MHCE',\n",
              "       'DC_ALL', 'DC_ST', 'SRL', 'REL', 'SEX', 'MSEX', 'AGE', 'MARST',\n",
              "       'GEDU_LVL', 'PAS', 'PS_SS', 'CWS', 'ERN_SELF', 'ERN_REG'],\n",
              "      dtype='object')"
            ]
          },
          "metadata": {},
          "execution_count": 3
        }
      ]
    },
    {
      "cell_type": "code",
      "source": [
        "## Data is the dictionary\n",
        "data = {}\n",
        "\n",
        "## Keys\n",
        "key = ''\n",
        "\n",
        "## values\n",
        "values = []\n",
        "\n",
        "## Open\n",
        "with open('Example1.RSE', \"r\") as f:\n",
        "    for line in f:\n",
        "        line = line.strip()\n",
        "        if line.startswith('#'):\n",
        "            if key:\n",
        "                key = key.split(\"'\")[0]\n",
        "                key = key.split(\"\\t\")[0]\n",
        "                data[key] = [v for v in values if v and not v.startswith(\"'\")]\n",
        "            key = line.split(\"'\")[0]\n",
        "            key = key.split(\"\\t\")[0]\n",
        "            values = []\n",
        "        elif line.startswith(\"'\"):\n",
        "            pass\n",
        "        else:\n",
        "            line = line.split(\"'\")[0]\n",
        "            values.append(line.strip())\n",
        "\n",
        "# add last group\n",
        "if key:\n",
        "    data[key] = [v for v in values if v and not v.startswith(\"'\")]\n",
        "\n",
        "print(json.dumps(data, indent=4))"
      ],
      "metadata": {
        "colab": {
          "base_uri": "https://localhost:8080/"
        },
        "id": "jCaBn0Ltw5Ac",
        "outputId": "d7b97a96-2567-4304-986f-ac399f8f6d6d"
      },
      "execution_count": 4,
      "outputs": [
        {
          "output_type": "stream",
          "name": "stdout",
          "text": [
            "{\n",
            "    \"#SAMPLING SUBSAMPLE2\": [],\n",
            "    \"#GROUP 2\": [\n",
            "        \"SEC   C sec\",\n",
            "        \"ST_GR C NEWVAR\"\n",
            "    ],\n",
            "    \"#FILTER 1\": [\n",
            "        \"AGE>=15\"\n",
            "    ],\n",
            "    \"#VARIABLE 3  \": [\n",
            "        \"POP\\tN  NEWVAR\",\n",
            "        \"LF\\tN  NEWVAR\",\n",
            "        \"WRK\\tN  NEWVAR\"\n",
            "    ],\n",
            "    \"#FILE Data1.csv  \": [],\n",
            "    \"#RENAME  5    \": [\n",
            "        \"STRMID C sec+st+strm+sstrm\",\n",
            "        \"SS     C ss\",\n",
            "        \"NSS    N  nss\",\n",
            "        \"NSC    N  nsc\",\n",
            "        \"MULT   N  mult\"\n",
            "    ],\n",
            "    \"#TRANSFORM 4  \": [\n",
            "        \"ST_GR=(\\\"G1\\\")   ST in (\\\"10,19,20,21\\\")\",\n",
            "        \"ST_GR=(\\\"G2\\\")   ST in (\\\"11,12,13,14,15,16,17,18\\\")\",\n",
            "        \"ST_GR=(\\\"G3\\\")   Otherwise\",\n",
            "        \"POP=(1)\",\n",
            "        \"WRK=(1)  CWS in (\\\"11,12,21,31,41,51,61,61,71,72\\\")\",\n",
            "        \"WRK=(0)  CWS NOT in (\\\"11,12,21,31,41,51,61,61,71,72\\\")\",\n",
            "        \"LF=(1)      CWS in (\\\"11,12,21,31,41,51,61,61,71,72,81\\\")\",\n",
            "        \"LF=(0)      Otherwise\"\n",
            "    ],\n",
            "    \"#EST_RSE 7\": [\n",
            "        \"S POP\",\n",
            "        \"E POP\",\n",
            "        \"R POP\",\n",
            "        \"E 100*LF/POP\",\n",
            "        \"R LF/POP\",\n",
            "        \"E 100*WRK/POP\",\n",
            "        \"R WRK/POP\"\n",
            "    ]\n",
            "}\n"
          ]
        }
      ]
    },
    {
      "cell_type": "code",
      "source": [
        "def SAMPLING_(data, df):\n",
        "    for key, value in data.items():\n",
        "        pass\n",
        "\n",
        "def GROUP_(data, df):\n",
        "    for key, value in data.items():\n",
        "        ### To read the sampling method used\n",
        "        if str('SAMPLING').lower() in str(key).lower():\n",
        "            if str('SUBSAMPLE2').lower() in str(key).lower():\n",
        "                return str('SUBSAMPLE2')\n",
        "            elif str('SRSWR').lower() in str(key).lower():\n",
        "                pass\n",
        "            elif str('SRSWOR').lower() in str(key).lower():\n",
        "                pass\n",
        "\n",
        "def FILTER_(data, df):\n",
        "    for key, value in data.items():\n",
        "        ### To read the sampling method used\n",
        "        if str('FILTER').lower() in str(key).lower():\n",
        "            ### Replace logical AND '&&' with 'and'\n",
        "            if '&&' in value[0]:\n",
        "                return value[0].replace('&&', '&')\n",
        "            ### Replace logical OR '||' with 'or'\n",
        "            elif '||' in value[0]:\n",
        "                return value[0].replace('||', '|')\n",
        "            else:\n",
        "                return value[0]\n",
        "\n",
        "def FILE_(data):\n",
        "    for key, value in data.items():\n",
        "        ### To read the file used\n",
        "        if str('FILE').lower() in str(key).lower():\n",
        "            if key.strip().endswith('.xlsx') or key.strip().endswith('.csv'):\n",
        "                match = re.search(r'[A-Za-z0-9]+\\.xlsx|[A-Za-z0-9]+\\.csv', key)   \n",
        "                if match:\n",
        "                    file_name = match.group(0)\n",
        "                    return file_name\n",
        "                else:\n",
        "                    file_name = None\n",
        "                    return file_name\n",
        "                print(file_name)\n",
        "\n",
        "            # return file_name\n",
        "\n",
        "def RENAME_(data, df):\n",
        "    # create an empty dictionary to store the column names\n",
        "    column_dict = {}\n",
        "\n",
        "    for key, value in data.items():\n",
        "        ### To read the file used\n",
        "        if str('RENAME').lower() in str(key).lower():\n",
        "            # value = [elem for elem in value[0].split(' ') if elem.strip()]\n",
        "            # return value\n",
        "\n",
        "            for col in value:\n",
        "                col_split = col.split()\n",
        "\n",
        "                # print(col_split[0])\n",
        "\n",
        "                # extract the last element as the column name\n",
        "                col_name = col_split[-1]\n",
        "\n",
        "                new_col_name = col_split[0]\n",
        "\n",
        "                ### if there is a \"+\" sign in the last element, concatenate the columns\n",
        "                if \"+\" in col_name:\n",
        "                    col_concat = col_name.split(\"+\")\n",
        "                    col_concat = [i.upper() for i in col_concat]\n",
        "\n",
        "                    # concatenate the columns\n",
        "                    df[new_col_name] = df.loc[:, col_concat].apply(lambda x: ''.join(['0' + str(i) if i < 10 else str(i) for i in x]), axis=1)\n",
        "\n",
        "                else:\n",
        "                    col_name = col_name.upper()\n",
        "                    print(type(col_name))\n",
        "\n",
        "\n",
        "def NEWVARIABLE_(data, df):\n",
        "    for key, value in data.items():\n",
        "        ### To read the file used\n",
        "        if str('VARIABLE').lower() in str(key).lower():\n",
        "            value = [s.split()[0] for s in value]\n",
        "            \n",
        "            for name in value:\n",
        "                df[name] = 0\n",
        "\n",
        "\n",
        "def TRANSFORM_(data):\n",
        "    global condition\n",
        "\n",
        "    # Initialize empty arrays to store the values\n",
        "    Arr1 = []\n",
        "    Arr2 = []\n",
        "    Arr3 = []\n",
        "\n",
        "    for key, value in data.items():\n",
        "        ### To read the file used\n",
        "        if str('TRANSFORM').lower() in str(key).lower():\n",
        "            lines = '\\n'.join(value)\n",
        "            lines = lines.split(\"\\n\")\n",
        "\n",
        "            # Loop through the lines and extract the values\n",
        "            for line in lines:\n",
        "                line_values = line.split('=')  # split the line into values\n",
        "                \n",
        "                var_name = line_values[0].strip()  # extract the variable name\n",
        "                \n",
        "                var_value = line_values[1].strip().split()[0]  # extract the variable value\n",
        "                \n",
        "                # Regular expression pattern to extract the condition\n",
        "                pattern = r'^\\w+=\\([^\\)]*\\)(?:\\s+(.*?)(?:\\n|$))?$'\n",
        "\n",
        "                # Split the string into lines and extract the condition from each line\n",
        "                conditions = []\n",
        "\n",
        "                for line in line.split('\\n'):\n",
        "                    match = re.match(pattern, line)\n",
        "                 \n",
        "                    if match:\n",
        "                        condition = match.group(1)\n",
        "                        \n",
        "                        if condition is not None:\n",
        "                            conditions.append(condition.strip())\n",
        "                        else:\n",
        "                            conditions.append(None)\n",
        "\n",
        "                # Append the values to the arrays\n",
        "                Arr1.append(var_name)\n",
        "                Arr2.append(var_value)\n",
        "                Arr3.append(condition)\n",
        "\n",
        "    return Arr1, Arr2, Arr3\n",
        "        \n",
        "\n",
        "def EST_RSE_(data):\n",
        "    for key, value in data.items():\n",
        "        pass\n",
        "\n",
        "TRANSFORM_(data)[2]\n",
        "RENAME_(data, df)\n",
        "NEWVARIABLE_(data, df)"
      ],
      "metadata": {
        "id": "JOeTfpj33fid",
        "colab": {
          "base_uri": "https://localhost:8080/"
        },
        "outputId": "a7f6ec94-0f8c-4d8a-a68b-ce8f45cffc64"
      },
      "execution_count": 5,
      "outputs": [
        {
          "output_type": "stream",
          "name": "stdout",
          "text": [
            "<class 'str'>\n",
            "<class 'str'>\n",
            "<class 'str'>\n",
            "<class 'str'>\n"
          ]
        }
      ]
    },
    {
      "cell_type": "code",
      "source": [],
      "metadata": {
        "id": "qjgcwv-zL6Q8"
      },
      "execution_count": 5,
      "outputs": []
    },
    {
      "cell_type": "code",
      "source": [
        "def parse_query_string(query_string):\n",
        "    # Replace curly quotes with straight quotes\n",
        "    query_string = query_string.replace(\"”\", \"\\\"\")\n",
        "    \n",
        "    if 'in' in query_string:\n",
        "        if ('NOT in' or 'not in') in query_string:\n",
        "            query_string = re.sub(r'(\\b\\w+\\b)\\s+NOT in\\s*\\(([^)]+)\\)', r'~\\1.isin([\\2])', query_string)\n",
        "            query_string = re.sub(r'(\\b\\w+\\b)\\s+in\\s*\\(([^)]+)\\)', r'\\1.isin([\\2])', query_string)\n",
        "        elif 'in' in query_string:\n",
        "            # Replace 'in' operators with 'isin' and add list brackets\n",
        "            query_string = re.sub(r'(\\b\\w+\\b)\\s+in\\s*\\(([^)]+)\\)', r'\\1.isin([\\2])', query_string)\n",
        "        else:\n",
        "            pass\n",
        "            \n",
        "    else:\n",
        "        query_string = re.sub(r'''(\\b\\w+\\b)(\\s*[<>=!]+\\s*)('[^']*'|\"[^\"]*\")|(\\b\\w+\\b)(\\s*[<>=!]+\\s*)(\"[^]*'|\"[^\"]*\")''', r'\\1\\2\\3', query_string)\n",
        "        query_string = re.sub(r'''(\\b\\w+\\b)(\\s*[<>=!]+\\s*)(\\d+)''', r'\\1\\2\\3', query_string)\n",
        "\n",
        "    # Replace double quotes with single quotes\n",
        "    query_string = query_string.replace(\"\\\"\", \"'\")\n",
        "    \n",
        "    # Replace 'AND' with '&', 'OR' with '|', and add parentheses\n",
        "    query_string = query_string.replace(\" AND \", \" & \")\\\n",
        "                        .replace(\" OR \", \" | \").\\\n",
        "                            replace(\"&&\", '&').\\\n",
        "                                replace('||', '|').\\\n",
        "                                    replace('<>', '!=')\n",
        "    \n",
        "    # Replace column names with df[column] syntax\n",
        "    query_string = re.sub(r'(\\b\\w+\\b)=', r'df[\"\\1\"]==', query_string)\n",
        "\n",
        "\n",
        "    # Define a function to replace variable names with df[\"<variable_name>\"]\n",
        "    def replace_var(match):\n",
        "        return f'df[\"{match.group(0)}\"]'\n",
        "\n",
        "    # Use regex to replace variable names with df[\"<variable_name>\"]\n",
        "    pattern = re.compile(r'''\\b\\w+\\b(?=\\s*[<>=!]=*\\s*[\\'\"\\d])''')\n",
        "    new_string = pattern.sub(replace_var, query_string)\n",
        "\n",
        "    query_string = re.sub(r\"'(\\d+)'|\\\"(\\d+)\\\"\", lambda match: str(int(match.group(1) or match.group(2))), query_string)\n",
        "    query_string = re.sub(r'\\[(\\d+,\\s*)+\\d+\\]', lambda match: '[' + match.group(0).replace(\"\\'\", \"'\") + ']', query_string)\n",
        "    \n",
        "    return query_string\n",
        "\n",
        "\n",
        "final_parsed_query = []\n",
        "\n",
        "for i in list(TRANSFORM_(data))[2]:\n",
        "    # print(i)\n",
        "    if i:\n",
        "        parsed_query = parse_query_string(i)\n",
        "        final_parsed_query.append(parsed_query)\n",
        "    else:\n",
        "        final_parsed_query.append(i)\n",
        "\n",
        "# new_lst = [s.replace(\"['\", \"[\").replace(\"']\", \"]\") for s in final_parsed_query]\n",
        "# print([s.replace(\"['\", \"[\").replace(\"']\", \"]\") for s in final_parsed_query if s else pass])\n",
        "# final_parsed_query = [s.replace(\"['\", \"[\").replace(\"']\", \"]\") if s is not None else None for s in final_parsed_query]\n",
        "final_parsed_query"
      ],
      "metadata": {
        "id": "_lTGE07ya3aO",
        "colab": {
          "base_uri": "https://localhost:8080/"
        },
        "outputId": "c99e34b1-6ca7-4189-bc82-1249f0c35574"
      },
      "execution_count": 6,
      "outputs": [
        {
          "output_type": "execute_result",
          "data": {
            "text/plain": [
              "[\"ST.isin(['10,19,20,21'])\",\n",
              " \"ST.isin(['11,12,13,14,15,16,17,18'])\",\n",
              " 'Otherwise',\n",
              " None,\n",
              " \"CWS.isin(['11,12,21,31,41,51,61,61,71,72'])\",\n",
              " \"~CWS.isin(['11,12,21,31,41,51,61,61,71,72'])\",\n",
              " \"CWS.isin(['11,12,21,31,41,51,61,61,71,72,81'])\",\n",
              " 'Otherwise']"
            ]
          },
          "metadata": {},
          "execution_count": 6
        }
      ]
    },
    {
      "cell_type": "code",
      "source": [
        "df.head()"
      ],
      "metadata": {
        "colab": {
          "base_uri": "https://localhost:8080/",
          "height": 299
        },
        "id": "GVTZkgr9YtIK",
        "outputId": "8dea5576-f404-4db6-bd64-683e19c9d4b8"
      },
      "execution_count": 7,
      "outputs": [
        {
          "output_type": "execute_result",
          "data": {
            "text/plain": [
              "   SEC  ST    FSU  IDNO  SEG  SSS  SSU  STRM  SSTRM  SS  ...  GEDU_LVL  PAS  \\\n",
              "0    1  28  17469     1    1    1    1     1      1   1  ...       1.0   51   \n",
              "1    1  28  17469     1    1    1    1     1      1   1  ...       8.0   91   \n",
              "2    1  28  17469     1    1    1    1     1      1   1  ...      10.0   91   \n",
              "3    1  28  17469     1    1    1    1     1      1   1  ...       1.0   51   \n",
              "4    1  28  17469     2    1    1    2     1      1   1  ...       5.0   51   \n",
              "\n",
              "   PS_SS  CWS  ERN_SELF  ERN_REG    STRMID  POP  LF  WRK  \n",
              "0     51   51         0        0  01280101    0   0    0  \n",
              "1     91   91         0        0  01280101    0   0    0  \n",
              "2     91   91         0        0  01280101    0   0    0  \n",
              "3     51   51         0        0  01280101    0   0    0  \n",
              "4     51   51         0        0  01280101    0   0    0  \n",
              "\n",
              "[5 rows x 36 columns]"
            ],
            "text/html": [
              "\n",
              "  <div id=\"df-f42d0954-9b55-48c3-b902-6d9b105a8589\">\n",
              "    <div class=\"colab-df-container\">\n",
              "      <div>\n",
              "<style scoped>\n",
              "    .dataframe tbody tr th:only-of-type {\n",
              "        vertical-align: middle;\n",
              "    }\n",
              "\n",
              "    .dataframe tbody tr th {\n",
              "        vertical-align: top;\n",
              "    }\n",
              "\n",
              "    .dataframe thead th {\n",
              "        text-align: right;\n",
              "    }\n",
              "</style>\n",
              "<table border=\"1\" class=\"dataframe\">\n",
              "  <thead>\n",
              "    <tr style=\"text-align: right;\">\n",
              "      <th></th>\n",
              "      <th>SEC</th>\n",
              "      <th>ST</th>\n",
              "      <th>FSU</th>\n",
              "      <th>IDNO</th>\n",
              "      <th>SEG</th>\n",
              "      <th>SSS</th>\n",
              "      <th>SSU</th>\n",
              "      <th>STRM</th>\n",
              "      <th>SSTRM</th>\n",
              "      <th>SS</th>\n",
              "      <th>...</th>\n",
              "      <th>GEDU_LVL</th>\n",
              "      <th>PAS</th>\n",
              "      <th>PS_SS</th>\n",
              "      <th>CWS</th>\n",
              "      <th>ERN_SELF</th>\n",
              "      <th>ERN_REG</th>\n",
              "      <th>STRMID</th>\n",
              "      <th>POP</th>\n",
              "      <th>LF</th>\n",
              "      <th>WRK</th>\n",
              "    </tr>\n",
              "  </thead>\n",
              "  <tbody>\n",
              "    <tr>\n",
              "      <th>0</th>\n",
              "      <td>1</td>\n",
              "      <td>28</td>\n",
              "      <td>17469</td>\n",
              "      <td>1</td>\n",
              "      <td>1</td>\n",
              "      <td>1</td>\n",
              "      <td>1</td>\n",
              "      <td>1</td>\n",
              "      <td>1</td>\n",
              "      <td>1</td>\n",
              "      <td>...</td>\n",
              "      <td>1.0</td>\n",
              "      <td>51</td>\n",
              "      <td>51</td>\n",
              "      <td>51</td>\n",
              "      <td>0</td>\n",
              "      <td>0</td>\n",
              "      <td>01280101</td>\n",
              "      <td>0</td>\n",
              "      <td>0</td>\n",
              "      <td>0</td>\n",
              "    </tr>\n",
              "    <tr>\n",
              "      <th>1</th>\n",
              "      <td>1</td>\n",
              "      <td>28</td>\n",
              "      <td>17469</td>\n",
              "      <td>1</td>\n",
              "      <td>1</td>\n",
              "      <td>1</td>\n",
              "      <td>1</td>\n",
              "      <td>1</td>\n",
              "      <td>1</td>\n",
              "      <td>1</td>\n",
              "      <td>...</td>\n",
              "      <td>8.0</td>\n",
              "      <td>91</td>\n",
              "      <td>91</td>\n",
              "      <td>91</td>\n",
              "      <td>0</td>\n",
              "      <td>0</td>\n",
              "      <td>01280101</td>\n",
              "      <td>0</td>\n",
              "      <td>0</td>\n",
              "      <td>0</td>\n",
              "    </tr>\n",
              "    <tr>\n",
              "      <th>2</th>\n",
              "      <td>1</td>\n",
              "      <td>28</td>\n",
              "      <td>17469</td>\n",
              "      <td>1</td>\n",
              "      <td>1</td>\n",
              "      <td>1</td>\n",
              "      <td>1</td>\n",
              "      <td>1</td>\n",
              "      <td>1</td>\n",
              "      <td>1</td>\n",
              "      <td>...</td>\n",
              "      <td>10.0</td>\n",
              "      <td>91</td>\n",
              "      <td>91</td>\n",
              "      <td>91</td>\n",
              "      <td>0</td>\n",
              "      <td>0</td>\n",
              "      <td>01280101</td>\n",
              "      <td>0</td>\n",
              "      <td>0</td>\n",
              "      <td>0</td>\n",
              "    </tr>\n",
              "    <tr>\n",
              "      <th>3</th>\n",
              "      <td>1</td>\n",
              "      <td>28</td>\n",
              "      <td>17469</td>\n",
              "      <td>1</td>\n",
              "      <td>1</td>\n",
              "      <td>1</td>\n",
              "      <td>1</td>\n",
              "      <td>1</td>\n",
              "      <td>1</td>\n",
              "      <td>1</td>\n",
              "      <td>...</td>\n",
              "      <td>1.0</td>\n",
              "      <td>51</td>\n",
              "      <td>51</td>\n",
              "      <td>51</td>\n",
              "      <td>0</td>\n",
              "      <td>0</td>\n",
              "      <td>01280101</td>\n",
              "      <td>0</td>\n",
              "      <td>0</td>\n",
              "      <td>0</td>\n",
              "    </tr>\n",
              "    <tr>\n",
              "      <th>4</th>\n",
              "      <td>1</td>\n",
              "      <td>28</td>\n",
              "      <td>17469</td>\n",
              "      <td>2</td>\n",
              "      <td>1</td>\n",
              "      <td>1</td>\n",
              "      <td>2</td>\n",
              "      <td>1</td>\n",
              "      <td>1</td>\n",
              "      <td>1</td>\n",
              "      <td>...</td>\n",
              "      <td>5.0</td>\n",
              "      <td>51</td>\n",
              "      <td>51</td>\n",
              "      <td>51</td>\n",
              "      <td>0</td>\n",
              "      <td>0</td>\n",
              "      <td>01280101</td>\n",
              "      <td>0</td>\n",
              "      <td>0</td>\n",
              "      <td>0</td>\n",
              "    </tr>\n",
              "  </tbody>\n",
              "</table>\n",
              "<p>5 rows × 36 columns</p>\n",
              "</div>\n",
              "      <button class=\"colab-df-convert\" onclick=\"convertToInteractive('df-f42d0954-9b55-48c3-b902-6d9b105a8589')\"\n",
              "              title=\"Convert this dataframe to an interactive table.\"\n",
              "              style=\"display:none;\">\n",
              "        \n",
              "  <svg xmlns=\"http://www.w3.org/2000/svg\" height=\"24px\"viewBox=\"0 0 24 24\"\n",
              "       width=\"24px\">\n",
              "    <path d=\"M0 0h24v24H0V0z\" fill=\"none\"/>\n",
              "    <path d=\"M18.56 5.44l.94 2.06.94-2.06 2.06-.94-2.06-.94-.94-2.06-.94 2.06-2.06.94zm-11 1L8.5 8.5l.94-2.06 2.06-.94-2.06-.94L8.5 2.5l-.94 2.06-2.06.94zm10 10l.94 2.06.94-2.06 2.06-.94-2.06-.94-.94-2.06-.94 2.06-2.06.94z\"/><path d=\"M17.41 7.96l-1.37-1.37c-.4-.4-.92-.59-1.43-.59-.52 0-1.04.2-1.43.59L10.3 9.45l-7.72 7.72c-.78.78-.78 2.05 0 2.83L4 21.41c.39.39.9.59 1.41.59.51 0 1.02-.2 1.41-.59l7.78-7.78 2.81-2.81c.8-.78.8-2.07 0-2.86zM5.41 20L4 18.59l7.72-7.72 1.47 1.35L5.41 20z\"/>\n",
              "  </svg>\n",
              "      </button>\n",
              "      \n",
              "  <style>\n",
              "    .colab-df-container {\n",
              "      display:flex;\n",
              "      flex-wrap:wrap;\n",
              "      gap: 12px;\n",
              "    }\n",
              "\n",
              "    .colab-df-convert {\n",
              "      background-color: #E8F0FE;\n",
              "      border: none;\n",
              "      border-radius: 50%;\n",
              "      cursor: pointer;\n",
              "      display: none;\n",
              "      fill: #1967D2;\n",
              "      height: 32px;\n",
              "      padding: 0 0 0 0;\n",
              "      width: 32px;\n",
              "    }\n",
              "\n",
              "    .colab-df-convert:hover {\n",
              "      background-color: #E2EBFA;\n",
              "      box-shadow: 0px 1px 2px rgba(60, 64, 67, 0.3), 0px 1px 3px 1px rgba(60, 64, 67, 0.15);\n",
              "      fill: #174EA6;\n",
              "    }\n",
              "\n",
              "    [theme=dark] .colab-df-convert {\n",
              "      background-color: #3B4455;\n",
              "      fill: #D2E3FC;\n",
              "    }\n",
              "\n",
              "    [theme=dark] .colab-df-convert:hover {\n",
              "      background-color: #434B5C;\n",
              "      box-shadow: 0px 1px 3px 1px rgba(0, 0, 0, 0.15);\n",
              "      filter: drop-shadow(0px 1px 2px rgba(0, 0, 0, 0.3));\n",
              "      fill: #FFFFFF;\n",
              "    }\n",
              "  </style>\n",
              "\n",
              "      <script>\n",
              "        const buttonEl =\n",
              "          document.querySelector('#df-f42d0954-9b55-48c3-b902-6d9b105a8589 button.colab-df-convert');\n",
              "        buttonEl.style.display =\n",
              "          google.colab.kernel.accessAllowed ? 'block' : 'none';\n",
              "\n",
              "        async function convertToInteractive(key) {\n",
              "          const element = document.querySelector('#df-f42d0954-9b55-48c3-b902-6d9b105a8589');\n",
              "          const dataTable =\n",
              "            await google.colab.kernel.invokeFunction('convertToInteractive',\n",
              "                                                     [key], {});\n",
              "          if (!dataTable) return;\n",
              "\n",
              "          const docLinkHtml = 'Like what you see? Visit the ' +\n",
              "            '<a target=\"_blank\" href=https://colab.research.google.com/notebooks/data_table.ipynb>data table notebook</a>'\n",
              "            + ' to learn more about interactive tables.';\n",
              "          element.innerHTML = '';\n",
              "          dataTable['output_type'] = 'display_data';\n",
              "          await google.colab.output.renderOutput(dataTable, element);\n",
              "          const docLink = document.createElement('div');\n",
              "          docLink.innerHTML = docLinkHtml;\n",
              "          element.appendChild(docLink);\n",
              "        }\n",
              "      </script>\n",
              "    </div>\n",
              "  </div>\n",
              "  "
            ]
          },
          "metadata": {},
          "execution_count": 7
        }
      ]
    },
    {
      "cell_type": "code",
      "source": [
        "df.columns"
      ],
      "metadata": {
        "colab": {
          "base_uri": "https://localhost:8080/"
        },
        "id": "VJKm_tovvodZ",
        "outputId": "f55573f6-46c7-4b9a-e1e6-bf455a080b12"
      },
      "execution_count": 8,
      "outputs": [
        {
          "output_type": "execute_result",
          "data": {
            "text/plain": [
              "Index(['SEC', 'ST', 'FSU', 'IDNO', 'SEG', 'SSS', 'SSU', 'STRM', 'SSTRM', 'SS',\n",
              "       'NSS', 'NSC', 'MULT', 'HH_SIZE', 'HHTYPE', 'RELG', 'SG', 'MHCE',\n",
              "       'DC_ALL', 'DC_ST', 'SRL', 'REL', 'SEX', 'MSEX', 'AGE', 'MARST',\n",
              "       'GEDU_LVL', 'PAS', 'PS_SS', 'CWS', 'ERN_SELF', 'ERN_REG', 'STRMID',\n",
              "       'POP', 'LF', 'WRK'],\n",
              "      dtype='object')"
            ]
          },
          "metadata": {},
          "execution_count": 8
        }
      ]
    },
    {
      "cell_type": "code",
      "source": [
        "Arr1 = list(TRANSFORM_(data))[0]\n",
        "Arr2 = list(TRANSFORM_(data))[1]\n",
        "Arr2 = [i.strip('()\\'\\\"') for i in Arr2]\n",
        "Arr3 = final_parsed_query\n",
        "\n",
        "print(Arr1)\n",
        "print(Arr2)\n",
        "print(Arr3)"
      ],
      "metadata": {
        "id": "NtMiw_fo7hvR",
        "colab": {
          "base_uri": "https://localhost:8080/"
        },
        "outputId": "7dd3c141-333d-4e7e-dfb1-10919e5ba1a6"
      },
      "execution_count": 9,
      "outputs": [
        {
          "output_type": "stream",
          "name": "stdout",
          "text": [
            "['ST_GR', 'ST_GR', 'ST_GR', 'POP', 'WRK', 'WRK', 'LF', 'LF']\n",
            "['G1', 'G2', 'G3', '1', '1', '0', '1', '0']\n",
            "[\"ST.isin(['10,19,20,21'])\", \"ST.isin(['11,12,13,14,15,16,17,18'])\", 'Otherwise', None, \"CWS.isin(['11,12,21,31,41,51,61,61,71,72'])\", \"~CWS.isin(['11,12,21,31,41,51,61,61,71,72'])\", \"CWS.isin(['11,12,21,31,41,51,61,61,71,72,81'])\", 'Otherwise']\n"
          ]
        }
      ]
    },
    {
      "cell_type": "code",
      "source": [
        "df.head(3)"
      ],
      "metadata": {
        "colab": {
          "base_uri": "https://localhost:8080/",
          "height": 236
        },
        "id": "hYYh_PXq7C_S",
        "outputId": "aab7cc68-3e9b-427b-b410-872c442ecf24"
      },
      "execution_count": 10,
      "outputs": [
        {
          "output_type": "execute_result",
          "data": {
            "text/plain": [
              "   SEC  ST    FSU  IDNO  SEG  SSS  SSU  STRM  SSTRM  SS  ...  GEDU_LVL  PAS  \\\n",
              "0    1  28  17469     1    1    1    1     1      1   1  ...       1.0   51   \n",
              "1    1  28  17469     1    1    1    1     1      1   1  ...       8.0   91   \n",
              "2    1  28  17469     1    1    1    1     1      1   1  ...      10.0   91   \n",
              "\n",
              "   PS_SS  CWS  ERN_SELF  ERN_REG    STRMID  POP  LF  WRK  \n",
              "0     51   51         0        0  01280101    0   0    0  \n",
              "1     91   91         0        0  01280101    0   0    0  \n",
              "2     91   91         0        0  01280101    0   0    0  \n",
              "\n",
              "[3 rows x 36 columns]"
            ],
            "text/html": [
              "\n",
              "  <div id=\"df-6e1c784f-0f88-40ba-a30b-9166bd3b3ce5\">\n",
              "    <div class=\"colab-df-container\">\n",
              "      <div>\n",
              "<style scoped>\n",
              "    .dataframe tbody tr th:only-of-type {\n",
              "        vertical-align: middle;\n",
              "    }\n",
              "\n",
              "    .dataframe tbody tr th {\n",
              "        vertical-align: top;\n",
              "    }\n",
              "\n",
              "    .dataframe thead th {\n",
              "        text-align: right;\n",
              "    }\n",
              "</style>\n",
              "<table border=\"1\" class=\"dataframe\">\n",
              "  <thead>\n",
              "    <tr style=\"text-align: right;\">\n",
              "      <th></th>\n",
              "      <th>SEC</th>\n",
              "      <th>ST</th>\n",
              "      <th>FSU</th>\n",
              "      <th>IDNO</th>\n",
              "      <th>SEG</th>\n",
              "      <th>SSS</th>\n",
              "      <th>SSU</th>\n",
              "      <th>STRM</th>\n",
              "      <th>SSTRM</th>\n",
              "      <th>SS</th>\n",
              "      <th>...</th>\n",
              "      <th>GEDU_LVL</th>\n",
              "      <th>PAS</th>\n",
              "      <th>PS_SS</th>\n",
              "      <th>CWS</th>\n",
              "      <th>ERN_SELF</th>\n",
              "      <th>ERN_REG</th>\n",
              "      <th>STRMID</th>\n",
              "      <th>POP</th>\n",
              "      <th>LF</th>\n",
              "      <th>WRK</th>\n",
              "    </tr>\n",
              "  </thead>\n",
              "  <tbody>\n",
              "    <tr>\n",
              "      <th>0</th>\n",
              "      <td>1</td>\n",
              "      <td>28</td>\n",
              "      <td>17469</td>\n",
              "      <td>1</td>\n",
              "      <td>1</td>\n",
              "      <td>1</td>\n",
              "      <td>1</td>\n",
              "      <td>1</td>\n",
              "      <td>1</td>\n",
              "      <td>1</td>\n",
              "      <td>...</td>\n",
              "      <td>1.0</td>\n",
              "      <td>51</td>\n",
              "      <td>51</td>\n",
              "      <td>51</td>\n",
              "      <td>0</td>\n",
              "      <td>0</td>\n",
              "      <td>01280101</td>\n",
              "      <td>0</td>\n",
              "      <td>0</td>\n",
              "      <td>0</td>\n",
              "    </tr>\n",
              "    <tr>\n",
              "      <th>1</th>\n",
              "      <td>1</td>\n",
              "      <td>28</td>\n",
              "      <td>17469</td>\n",
              "      <td>1</td>\n",
              "      <td>1</td>\n",
              "      <td>1</td>\n",
              "      <td>1</td>\n",
              "      <td>1</td>\n",
              "      <td>1</td>\n",
              "      <td>1</td>\n",
              "      <td>...</td>\n",
              "      <td>8.0</td>\n",
              "      <td>91</td>\n",
              "      <td>91</td>\n",
              "      <td>91</td>\n",
              "      <td>0</td>\n",
              "      <td>0</td>\n",
              "      <td>01280101</td>\n",
              "      <td>0</td>\n",
              "      <td>0</td>\n",
              "      <td>0</td>\n",
              "    </tr>\n",
              "    <tr>\n",
              "      <th>2</th>\n",
              "      <td>1</td>\n",
              "      <td>28</td>\n",
              "      <td>17469</td>\n",
              "      <td>1</td>\n",
              "      <td>1</td>\n",
              "      <td>1</td>\n",
              "      <td>1</td>\n",
              "      <td>1</td>\n",
              "      <td>1</td>\n",
              "      <td>1</td>\n",
              "      <td>...</td>\n",
              "      <td>10.0</td>\n",
              "      <td>91</td>\n",
              "      <td>91</td>\n",
              "      <td>91</td>\n",
              "      <td>0</td>\n",
              "      <td>0</td>\n",
              "      <td>01280101</td>\n",
              "      <td>0</td>\n",
              "      <td>0</td>\n",
              "      <td>0</td>\n",
              "    </tr>\n",
              "  </tbody>\n",
              "</table>\n",
              "<p>3 rows × 36 columns</p>\n",
              "</div>\n",
              "      <button class=\"colab-df-convert\" onclick=\"convertToInteractive('df-6e1c784f-0f88-40ba-a30b-9166bd3b3ce5')\"\n",
              "              title=\"Convert this dataframe to an interactive table.\"\n",
              "              style=\"display:none;\">\n",
              "        \n",
              "  <svg xmlns=\"http://www.w3.org/2000/svg\" height=\"24px\"viewBox=\"0 0 24 24\"\n",
              "       width=\"24px\">\n",
              "    <path d=\"M0 0h24v24H0V0z\" fill=\"none\"/>\n",
              "    <path d=\"M18.56 5.44l.94 2.06.94-2.06 2.06-.94-2.06-.94-.94-2.06-.94 2.06-2.06.94zm-11 1L8.5 8.5l.94-2.06 2.06-.94-2.06-.94L8.5 2.5l-.94 2.06-2.06.94zm10 10l.94 2.06.94-2.06 2.06-.94-2.06-.94-.94-2.06-.94 2.06-2.06.94z\"/><path d=\"M17.41 7.96l-1.37-1.37c-.4-.4-.92-.59-1.43-.59-.52 0-1.04.2-1.43.59L10.3 9.45l-7.72 7.72c-.78.78-.78 2.05 0 2.83L4 21.41c.39.39.9.59 1.41.59.51 0 1.02-.2 1.41-.59l7.78-7.78 2.81-2.81c.8-.78.8-2.07 0-2.86zM5.41 20L4 18.59l7.72-7.72 1.47 1.35L5.41 20z\"/>\n",
              "  </svg>\n",
              "      </button>\n",
              "      \n",
              "  <style>\n",
              "    .colab-df-container {\n",
              "      display:flex;\n",
              "      flex-wrap:wrap;\n",
              "      gap: 12px;\n",
              "    }\n",
              "\n",
              "    .colab-df-convert {\n",
              "      background-color: #E8F0FE;\n",
              "      border: none;\n",
              "      border-radius: 50%;\n",
              "      cursor: pointer;\n",
              "      display: none;\n",
              "      fill: #1967D2;\n",
              "      height: 32px;\n",
              "      padding: 0 0 0 0;\n",
              "      width: 32px;\n",
              "    }\n",
              "\n",
              "    .colab-df-convert:hover {\n",
              "      background-color: #E2EBFA;\n",
              "      box-shadow: 0px 1px 2px rgba(60, 64, 67, 0.3), 0px 1px 3px 1px rgba(60, 64, 67, 0.15);\n",
              "      fill: #174EA6;\n",
              "    }\n",
              "\n",
              "    [theme=dark] .colab-df-convert {\n",
              "      background-color: #3B4455;\n",
              "      fill: #D2E3FC;\n",
              "    }\n",
              "\n",
              "    [theme=dark] .colab-df-convert:hover {\n",
              "      background-color: #434B5C;\n",
              "      box-shadow: 0px 1px 3px 1px rgba(0, 0, 0, 0.15);\n",
              "      filter: drop-shadow(0px 1px 2px rgba(0, 0, 0, 0.3));\n",
              "      fill: #FFFFFF;\n",
              "    }\n",
              "  </style>\n",
              "\n",
              "      <script>\n",
              "        const buttonEl =\n",
              "          document.querySelector('#df-6e1c784f-0f88-40ba-a30b-9166bd3b3ce5 button.colab-df-convert');\n",
              "        buttonEl.style.display =\n",
              "          google.colab.kernel.accessAllowed ? 'block' : 'none';\n",
              "\n",
              "        async function convertToInteractive(key) {\n",
              "          const element = document.querySelector('#df-6e1c784f-0f88-40ba-a30b-9166bd3b3ce5');\n",
              "          const dataTable =\n",
              "            await google.colab.kernel.invokeFunction('convertToInteractive',\n",
              "                                                     [key], {});\n",
              "          if (!dataTable) return;\n",
              "\n",
              "          const docLinkHtml = 'Like what you see? Visit the ' +\n",
              "            '<a target=\"_blank\" href=https://colab.research.google.com/notebooks/data_table.ipynb>data table notebook</a>'\n",
              "            + ' to learn more about interactive tables.';\n",
              "          element.innerHTML = '';\n",
              "          dataTable['output_type'] = 'display_data';\n",
              "          await google.colab.output.renderOutput(dataTable, element);\n",
              "          const docLink = document.createElement('div');\n",
              "          docLink.innerHTML = docLinkHtml;\n",
              "          element.appendChild(docLink);\n",
              "        }\n",
              "      </script>\n",
              "    </div>\n",
              "  </div>\n",
              "  "
            ]
          },
          "metadata": {},
          "execution_count": 10
        }
      ]
    },
    {
      "cell_type": "code",
      "source": [
        "set(Arr1) - set(list(df.columns))"
      ],
      "metadata": {
        "id": "FpCHnWE634Lg",
        "colab": {
          "base_uri": "https://localhost:8080/"
        },
        "outputId": "b5b92297-cc68-4b50-d5a3-c63b7380b06b"
      },
      "execution_count": 11,
      "outputs": [
        {
          "output_type": "execute_result",
          "data": {
            "text/plain": [
              "{'ST_GR'}"
            ]
          },
          "metadata": {},
          "execution_count": 11
        }
      ]
    },
    {
      "cell_type": "code",
      "source": [
        "\n",
        "# Check for name mismatches and create new columns\n",
        "mismatched_names = set(Arr1) - set(df.columns)\n",
        "\n",
        "new_columns = {name: [0] * df.shape[0] for name in mismatched_names}\n",
        "df = df.assign(**new_columns)\n",
        "\n",
        "mismatched_names"
      ],
      "metadata": {
        "id": "2Jb5zGh67zYH",
        "colab": {
          "base_uri": "https://localhost:8080/"
        },
        "outputId": "063c303d-e35e-4506-c642-57ede796d0c8"
      },
      "execution_count": 12,
      "outputs": [
        {
          "output_type": "execute_result",
          "data": {
            "text/plain": [
              "{'ST_GR'}"
            ]
          },
          "metadata": {},
          "execution_count": 12
        }
      ]
    },
    {
      "cell_type": "code",
      "source": [
        "Arr3"
      ],
      "metadata": {
        "colab": {
          "base_uri": "https://localhost:8080/"
        },
        "id": "SQYkxNyITODY",
        "outputId": "0651de19-efe5-4fa3-f0f7-8a76778350f2"
      },
      "execution_count": 13,
      "outputs": [
        {
          "output_type": "execute_result",
          "data": {
            "text/plain": [
              "[\"ST.isin(['10,19,20,21'])\",\n",
              " \"ST.isin(['11,12,13,14,15,16,17,18'])\",\n",
              " 'Otherwise',\n",
              " None,\n",
              " \"CWS.isin(['11,12,21,31,41,51,61,61,71,72'])\",\n",
              " \"~CWS.isin(['11,12,21,31,41,51,61,61,71,72'])\",\n",
              " \"CWS.isin(['11,12,21,31,41,51,61,61,71,72,81'])\",\n",
              " 'Otherwise']"
            ]
          },
          "metadata": {},
          "execution_count": 13
        }
      ]
    },
    {
      "cell_type": "code",
      "source": [
        "Arr3 = [i.replace(\"(['\", \"([\").replace(\"'])\", \"])\") if i is not None else 'True' if Arr3[j] == 'Otherwise' else True for j, i in enumerate(Arr3)]\n",
        "Arr3"
      ],
      "metadata": {
        "colab": {
          "base_uri": "https://localhost:8080/"
        },
        "id": "YlL6LYR-43rC",
        "outputId": "22a733b9-45a5-44aa-d81e-174d05329e16"
      },
      "execution_count": 14,
      "outputs": [
        {
          "output_type": "execute_result",
          "data": {
            "text/plain": [
              "['ST.isin([10,19,20,21])',\n",
              " 'ST.isin([11,12,13,14,15,16,17,18])',\n",
              " 'Otherwise',\n",
              " True,\n",
              " 'CWS.isin([11,12,21,31,41,51,61,61,71,72])',\n",
              " '~CWS.isin([11,12,21,31,41,51,61,61,71,72])',\n",
              " 'CWS.isin([11,12,21,31,41,51,61,61,71,72,81])',\n",
              " 'Otherwise']"
            ]
          },
          "metadata": {},
          "execution_count": 14
        }
      ]
    },
    {
      "cell_type": "code",
      "source": [
        "new_arr3 = []\n",
        "for i, value in enumerate(Arr3):\n",
        "    if value == 'Otherwise':\n",
        "        other_values = set([Arr3[j] for j in range(len(Arr3)) if Arr1[j] == Arr1[i] and Arr3[j] != 'Otherwise'])\n",
        "        new_value = '~' + ' & ~'.join(other_values)\n",
        "        new_arr3.append(new_value)\n",
        "    else:\n",
        "        new_arr3.append(value)\n",
        "\n",
        "new_arr3"
      ],
      "metadata": {
        "colab": {
          "base_uri": "https://localhost:8080/"
        },
        "id": "BWIYIIl_5_ba",
        "outputId": "3260ab77-f09b-478f-be56-5ab3914cf4c2"
      },
      "execution_count": 15,
      "outputs": [
        {
          "output_type": "execute_result",
          "data": {
            "text/plain": [
              "['ST.isin([10,19,20,21])',\n",
              " 'ST.isin([11,12,13,14,15,16,17,18])',\n",
              " '~ST.isin([10,19,20,21]) & ~ST.isin([11,12,13,14,15,16,17,18])',\n",
              " True,\n",
              " 'CWS.isin([11,12,21,31,41,51,61,61,71,72])',\n",
              " '~CWS.isin([11,12,21,31,41,51,61,61,71,72])',\n",
              " 'CWS.isin([11,12,21,31,41,51,61,61,71,72,81])',\n",
              " '~CWS.isin([11,12,21,31,41,51,61,61,71,72,81])']"
            ]
          },
          "metadata": {},
          "execution_count": 15
        }
      ]
    },
    {
      "cell_type": "code",
      "source": [
        "Arr3 = new_arr3"
      ],
      "metadata": {
        "id": "WNp2AGBEaJl-"
      },
      "execution_count": 16,
      "outputs": []
    },
    {
      "cell_type": "code",
      "source": [
        "# Apply the queries in Arr3 to filter the rows of the dataframe\n",
        "for i, query_str in enumerate(Arr3):\n",
        "    if query_str is True:\n",
        "        df[Arr1[i]] = Arr2[i]\n",
        "    else:\n",
        "        df_query = df.query(query_str)\n",
        "        df.loc[df_query.index, Arr1[i]] = Arr2[i]\n",
        "\n",
        "print(df)"
      ],
      "metadata": {
        "colab": {
          "base_uri": "https://localhost:8080/"
        },
        "id": "9Ymd7BTvha86",
        "outputId": "b0a3efec-1dcf-4cbd-ef66-9213c755db22"
      },
      "execution_count": 17,
      "outputs": [
        {
          "output_type": "stream",
          "name": "stdout",
          "text": [
            "        SEC  ST    FSU  IDNO  SEG  SSS  SSU  STRM  SSTRM  SS  ...  PAS  PS_SS  \\\n",
            "0         1  28  17469     1    1    1    1     1      1   1  ...   51     51   \n",
            "1         1  28  17469     1    1    1    1     1      1   1  ...   91     91   \n",
            "2         1  28  17469     1    1    1    1     1      1   1  ...   91     91   \n",
            "3         1  28  17469     1    1    1    1     1      1   1  ...   51     51   \n",
            "4         1  28  17469     2    1    1    2     1      1   1  ...   51     51   \n",
            "...     ...  ..    ...   ...  ...  ...  ...   ...    ...  ..  ...  ...    ...   \n",
            "109851    2  34  27428     7    1    4    1     1      3   2  ...   94     94   \n",
            "109852    2  34  27428     8    1    4    2     1      3   2  ...   51     51   \n",
            "109853    2  34  27428     8    1    4    2     1      3   2  ...   91     91   \n",
            "109854    2  34  27428     8    1    4    2     1      3   2  ...   92     92   \n",
            "109855    2  34  27428     8    1    4    2     1      3   2  ...   94     94   \n",
            "\n",
            "        CWS  ERN_SELF  ERN_REG    STRMID  POP  LF  WRK  ST_GR  \n",
            "0        51         0        0  01280101    1   1    1     G3  \n",
            "1        91         0        0  01280101    1   0    0     G3  \n",
            "2        91         0        0  01280101    1   0    0     G3  \n",
            "3        51         0        0  01280101    1   1    1     G3  \n",
            "4        51         0        0  01280101    1   1    1     G3  \n",
            "...     ...       ...      ...       ...  ...  ..  ...    ...  \n",
            "109851   94         0        0  02340103    1   0    0     G3  \n",
            "109852   51         0        0  02340103    1   1    1     G3  \n",
            "109853   91         0        0  02340103    1   0    0     G3  \n",
            "109854   92         0        0  02340103    1   0    0     G3  \n",
            "109855   94         0        0  02340103    1   0    0     G3  \n",
            "\n",
            "[109856 rows x 37 columns]\n"
          ]
        }
      ]
    },
    {
      "cell_type": "code",
      "source": [
        "df['ST_GR'].unique()"
      ],
      "metadata": {
        "colab": {
          "base_uri": "https://localhost:8080/"
        },
        "id": "V8r6iLdbkVoC",
        "outputId": "0a88724a-003d-4a42-9a40-9b773fb3f024"
      },
      "execution_count": 18,
      "outputs": [
        {
          "output_type": "execute_result",
          "data": {
            "text/plain": [
              "array(['G3', 'G2', 'G1'], dtype=object)"
            ]
          },
          "metadata": {},
          "execution_count": 18
        }
      ]
    },
    {
      "cell_type": "code",
      "source": [
        "df['POP'].unique()"
      ],
      "metadata": {
        "colab": {
          "base_uri": "https://localhost:8080/"
        },
        "id": "0CXeArjh9jHR",
        "outputId": "0dbc0ffa-cb36-448f-9be9-30ba84ec928b"
      },
      "execution_count": 19,
      "outputs": [
        {
          "output_type": "execute_result",
          "data": {
            "text/plain": [
              "array(['1'], dtype=object)"
            ]
          },
          "metadata": {},
          "execution_count": 19
        }
      ]
    },
    {
      "cell_type": "code",
      "source": [
        "df.to_csv('WorkFile_Balanced_Half_Sample_Method.csv')"
      ],
      "metadata": {
        "id": "sqIyUtf63uL2"
      },
      "execution_count": 20,
      "outputs": []
    },
    {
      "cell_type": "code",
      "source": [
        "df.columns"
      ],
      "metadata": {
        "colab": {
          "base_uri": "https://localhost:8080/"
        },
        "id": "iqbErrIfg852",
        "outputId": "f9b31c5b-2d40-4026-eb8f-6725f99277cc"
      },
      "execution_count": 21,
      "outputs": [
        {
          "output_type": "execute_result",
          "data": {
            "text/plain": [
              "Index(['SEC', 'ST', 'FSU', 'IDNO', 'SEG', 'SSS', 'SSU', 'STRM', 'SSTRM', 'SS',\n",
              "       'NSS', 'NSC', 'MULT', 'HH_SIZE', 'HHTYPE', 'RELG', 'SG', 'MHCE',\n",
              "       'DC_ALL', 'DC_ST', 'SRL', 'REL', 'SEX', 'MSEX', 'AGE', 'MARST',\n",
              "       'GEDU_LVL', 'PAS', 'PS_SS', 'CWS', 'ERN_SELF', 'ERN_REG', 'STRMID',\n",
              "       'POP', 'LF', 'WRK', 'ST_GR'],\n",
              "      dtype='object')"
            ]
          },
          "metadata": {},
          "execution_count": 21
        }
      ]
    },
    {
      "cell_type": "code",
      "source": [
        "import pandas as pd\n",
        "import numpy as np\n",
        "\n",
        "# # Read the data from the CSV file\n",
        "# df = pd.read_csv('Work_File1.csv')\n",
        "\n",
        "# Get the current column names\n",
        "old_col_names = df.columns.tolist()\n",
        "\n",
        "# Create a dictionary with the new column names\n",
        "new_col_names = {col: col.strip() for col in old_col_names}\n",
        "\n",
        "# Rename the columns using the dictionary\n",
        "df.rename(columns=new_col_names, inplace=True)\n",
        "\n",
        "# Calculate the SS_MULT and CMULT fields\n",
        "df['SS_MULT'] = df['MULT'] / 100\n",
        "df['CMULT'] = df.apply(lambda row: row['MULT'] / 200 if row['NSC'] > row['NSS'] else row['MULT'] / 100, axis=1)\n",
        "\n",
        "# Group the data by SEC and ST_GR and calculate the aggregates\n",
        "grouped_df = df.groupby(['SEC', 'ST_GR']).agg({'POP': lambda x: (pd.to_numeric(x) * df['CMULT']).sum(),\n",
        "                                                'LF': lambda x: (pd.to_numeric(x) * df['CMULT']).sum(),\n",
        "                                                'WRK': lambda x: (pd.to_numeric(x) * df['CMULT']).sum(),\n",
        "                                                'MULT': 'count'})\n",
        "\n",
        "\n",
        "\n",
        "# Rename the columns and reset the index\n",
        "grouped_df = grouped_df.rename(columns={'POP': 'pophat', 'LF': 'lfhat', 'WRK': 'wrkhat', 'MULT': 'no_sam'}).reset_index()\n",
        "\n",
        "# Save the results to a new CSV file\n",
        "grouped_df.to_csv('W1.csv', index=False)\n"
      ],
      "metadata": {
        "id": "FBjN92PqdCZx"
      },
      "execution_count": 22,
      "outputs": []
    },
    {
      "cell_type": "code",
      "source": [
        "df.head(3)"
      ],
      "metadata": {
        "colab": {
          "base_uri": "https://localhost:8080/",
          "height": 236
        },
        "id": "QeyZLeKQiv4a",
        "outputId": "08be0b01-7db7-47e6-dba3-8cc46b7b968b"
      },
      "execution_count": 23,
      "outputs": [
        {
          "output_type": "execute_result",
          "data": {
            "text/plain": [
              "   SEC  ST    FSU  IDNO  SEG  SSS  SSU  STRM  SSTRM  SS  ...  CWS  ERN_SELF  \\\n",
              "0    1  28  17469     1    1    1    1     1      1   1  ...   51         0   \n",
              "1    1  28  17469     1    1    1    1     1      1   1  ...   91         0   \n",
              "2    1  28  17469     1    1    1    1     1      1   1  ...   91         0   \n",
              "\n",
              "   ERN_REG    STRMID  POP  LF  WRK  ST_GR   SS_MULT     CMULT  \n",
              "0        0  01280101    1   1    1     G3  25102.96  12551.48  \n",
              "1        0  01280101    1   0    0     G3  25102.96  12551.48  \n",
              "2        0  01280101    1   0    0     G3  25102.96  12551.48  \n",
              "\n",
              "[3 rows x 39 columns]"
            ],
            "text/html": [
              "\n",
              "  <div id=\"df-5222777e-b2fc-4793-a9b6-eeeafb3de119\">\n",
              "    <div class=\"colab-df-container\">\n",
              "      <div>\n",
              "<style scoped>\n",
              "    .dataframe tbody tr th:only-of-type {\n",
              "        vertical-align: middle;\n",
              "    }\n",
              "\n",
              "    .dataframe tbody tr th {\n",
              "        vertical-align: top;\n",
              "    }\n",
              "\n",
              "    .dataframe thead th {\n",
              "        text-align: right;\n",
              "    }\n",
              "</style>\n",
              "<table border=\"1\" class=\"dataframe\">\n",
              "  <thead>\n",
              "    <tr style=\"text-align: right;\">\n",
              "      <th></th>\n",
              "      <th>SEC</th>\n",
              "      <th>ST</th>\n",
              "      <th>FSU</th>\n",
              "      <th>IDNO</th>\n",
              "      <th>SEG</th>\n",
              "      <th>SSS</th>\n",
              "      <th>SSU</th>\n",
              "      <th>STRM</th>\n",
              "      <th>SSTRM</th>\n",
              "      <th>SS</th>\n",
              "      <th>...</th>\n",
              "      <th>CWS</th>\n",
              "      <th>ERN_SELF</th>\n",
              "      <th>ERN_REG</th>\n",
              "      <th>STRMID</th>\n",
              "      <th>POP</th>\n",
              "      <th>LF</th>\n",
              "      <th>WRK</th>\n",
              "      <th>ST_GR</th>\n",
              "      <th>SS_MULT</th>\n",
              "      <th>CMULT</th>\n",
              "    </tr>\n",
              "  </thead>\n",
              "  <tbody>\n",
              "    <tr>\n",
              "      <th>0</th>\n",
              "      <td>1</td>\n",
              "      <td>28</td>\n",
              "      <td>17469</td>\n",
              "      <td>1</td>\n",
              "      <td>1</td>\n",
              "      <td>1</td>\n",
              "      <td>1</td>\n",
              "      <td>1</td>\n",
              "      <td>1</td>\n",
              "      <td>1</td>\n",
              "      <td>...</td>\n",
              "      <td>51</td>\n",
              "      <td>0</td>\n",
              "      <td>0</td>\n",
              "      <td>01280101</td>\n",
              "      <td>1</td>\n",
              "      <td>1</td>\n",
              "      <td>1</td>\n",
              "      <td>G3</td>\n",
              "      <td>25102.96</td>\n",
              "      <td>12551.48</td>\n",
              "    </tr>\n",
              "    <tr>\n",
              "      <th>1</th>\n",
              "      <td>1</td>\n",
              "      <td>28</td>\n",
              "      <td>17469</td>\n",
              "      <td>1</td>\n",
              "      <td>1</td>\n",
              "      <td>1</td>\n",
              "      <td>1</td>\n",
              "      <td>1</td>\n",
              "      <td>1</td>\n",
              "      <td>1</td>\n",
              "      <td>...</td>\n",
              "      <td>91</td>\n",
              "      <td>0</td>\n",
              "      <td>0</td>\n",
              "      <td>01280101</td>\n",
              "      <td>1</td>\n",
              "      <td>0</td>\n",
              "      <td>0</td>\n",
              "      <td>G3</td>\n",
              "      <td>25102.96</td>\n",
              "      <td>12551.48</td>\n",
              "    </tr>\n",
              "    <tr>\n",
              "      <th>2</th>\n",
              "      <td>1</td>\n",
              "      <td>28</td>\n",
              "      <td>17469</td>\n",
              "      <td>1</td>\n",
              "      <td>1</td>\n",
              "      <td>1</td>\n",
              "      <td>1</td>\n",
              "      <td>1</td>\n",
              "      <td>1</td>\n",
              "      <td>1</td>\n",
              "      <td>...</td>\n",
              "      <td>91</td>\n",
              "      <td>0</td>\n",
              "      <td>0</td>\n",
              "      <td>01280101</td>\n",
              "      <td>1</td>\n",
              "      <td>0</td>\n",
              "      <td>0</td>\n",
              "      <td>G3</td>\n",
              "      <td>25102.96</td>\n",
              "      <td>12551.48</td>\n",
              "    </tr>\n",
              "  </tbody>\n",
              "</table>\n",
              "<p>3 rows × 39 columns</p>\n",
              "</div>\n",
              "      <button class=\"colab-df-convert\" onclick=\"convertToInteractive('df-5222777e-b2fc-4793-a9b6-eeeafb3de119')\"\n",
              "              title=\"Convert this dataframe to an interactive table.\"\n",
              "              style=\"display:none;\">\n",
              "        \n",
              "  <svg xmlns=\"http://www.w3.org/2000/svg\" height=\"24px\"viewBox=\"0 0 24 24\"\n",
              "       width=\"24px\">\n",
              "    <path d=\"M0 0h24v24H0V0z\" fill=\"none\"/>\n",
              "    <path d=\"M18.56 5.44l.94 2.06.94-2.06 2.06-.94-2.06-.94-.94-2.06-.94 2.06-2.06.94zm-11 1L8.5 8.5l.94-2.06 2.06-.94-2.06-.94L8.5 2.5l-.94 2.06-2.06.94zm10 10l.94 2.06.94-2.06 2.06-.94-2.06-.94-.94-2.06-.94 2.06-2.06.94z\"/><path d=\"M17.41 7.96l-1.37-1.37c-.4-.4-.92-.59-1.43-.59-.52 0-1.04.2-1.43.59L10.3 9.45l-7.72 7.72c-.78.78-.78 2.05 0 2.83L4 21.41c.39.39.9.59 1.41.59.51 0 1.02-.2 1.41-.59l7.78-7.78 2.81-2.81c.8-.78.8-2.07 0-2.86zM5.41 20L4 18.59l7.72-7.72 1.47 1.35L5.41 20z\"/>\n",
              "  </svg>\n",
              "      </button>\n",
              "      \n",
              "  <style>\n",
              "    .colab-df-container {\n",
              "      display:flex;\n",
              "      flex-wrap:wrap;\n",
              "      gap: 12px;\n",
              "    }\n",
              "\n",
              "    .colab-df-convert {\n",
              "      background-color: #E8F0FE;\n",
              "      border: none;\n",
              "      border-radius: 50%;\n",
              "      cursor: pointer;\n",
              "      display: none;\n",
              "      fill: #1967D2;\n",
              "      height: 32px;\n",
              "      padding: 0 0 0 0;\n",
              "      width: 32px;\n",
              "    }\n",
              "\n",
              "    .colab-df-convert:hover {\n",
              "      background-color: #E2EBFA;\n",
              "      box-shadow: 0px 1px 2px rgba(60, 64, 67, 0.3), 0px 1px 3px 1px rgba(60, 64, 67, 0.15);\n",
              "      fill: #174EA6;\n",
              "    }\n",
              "\n",
              "    [theme=dark] .colab-df-convert {\n",
              "      background-color: #3B4455;\n",
              "      fill: #D2E3FC;\n",
              "    }\n",
              "\n",
              "    [theme=dark] .colab-df-convert:hover {\n",
              "      background-color: #434B5C;\n",
              "      box-shadow: 0px 1px 3px 1px rgba(0, 0, 0, 0.15);\n",
              "      filter: drop-shadow(0px 1px 2px rgba(0, 0, 0, 0.3));\n",
              "      fill: #FFFFFF;\n",
              "    }\n",
              "  </style>\n",
              "\n",
              "      <script>\n",
              "        const buttonEl =\n",
              "          document.querySelector('#df-5222777e-b2fc-4793-a9b6-eeeafb3de119 button.colab-df-convert');\n",
              "        buttonEl.style.display =\n",
              "          google.colab.kernel.accessAllowed ? 'block' : 'none';\n",
              "\n",
              "        async function convertToInteractive(key) {\n",
              "          const element = document.querySelector('#df-5222777e-b2fc-4793-a9b6-eeeafb3de119');\n",
              "          const dataTable =\n",
              "            await google.colab.kernel.invokeFunction('convertToInteractive',\n",
              "                                                     [key], {});\n",
              "          if (!dataTable) return;\n",
              "\n",
              "          const docLinkHtml = 'Like what you see? Visit the ' +\n",
              "            '<a target=\"_blank\" href=https://colab.research.google.com/notebooks/data_table.ipynb>data table notebook</a>'\n",
              "            + ' to learn more about interactive tables.';\n",
              "          element.innerHTML = '';\n",
              "          dataTable['output_type'] = 'display_data';\n",
              "          await google.colab.output.renderOutput(dataTable, element);\n",
              "          const docLink = document.createElement('div');\n",
              "          docLink.innerHTML = docLinkHtml;\n",
              "          element.appendChild(docLink);\n",
              "        }\n",
              "      </script>\n",
              "    </div>\n",
              "  </div>\n",
              "  "
            ]
          },
          "metadata": {},
          "execution_count": 23
        }
      ]
    },
    {
      "cell_type": "code",
      "source": [
        "df['SS_MULT']"
      ],
      "metadata": {
        "colab": {
          "base_uri": "https://localhost:8080/"
        },
        "id": "PeSjbY4gjGgr",
        "outputId": "174ac756-f1ed-4899-8418-ea8bc8a137f7"
      },
      "execution_count": 27,
      "outputs": [
        {
          "output_type": "execute_result",
          "data": {
            "text/plain": [
              "0         25102.96\n",
              "1         25102.96\n",
              "2         25102.96\n",
              "3         25102.96\n",
              "4         25102.96\n",
              "            ...   \n",
              "109851     1961.08\n",
              "109852     1961.08\n",
              "109853     1961.08\n",
              "109854     1961.08\n",
              "109855     1961.08\n",
              "Name: SS_MULT, Length: 109856, dtype: float64"
            ]
          },
          "metadata": {},
          "execution_count": 27
        }
      ]
    },
    {
      "cell_type": "code",
      "source": [
        "# Filter dataframe to include only rows where SS is 1 or 2\n",
        "df = df.query(\"SS in [1, 2]\")\n",
        "print(f\"Number of rows after filtering: {len(df)}\")\n",
        "\n",
        "# Generate stratum and stratum x sub-sample level estimates\n",
        "w2 = df.groupby(['SEC', 'ST_GR', 'STRMID']).agg(\n",
        "    popstr=('POP', 'sum'),\n",
        "    ## 'POP': lambda x: (pd.to_numeric(x) * df['CMULT']).sum()\n",
        "    s1pop=('POP', lambda x: np.sum(np.where(df['SS'] == 1, pd.to_numeric(x) * df['SS_MULT'], 0))),\n",
        "    s2pop=('POP', lambda x: np.sum(np.where(df['SS'] == 2, pd.to_numeric(x) * df['SS_MULT'], 0))),\n",
        "    lfstr=('LF', 'sum'),\n",
        "    s1lf=('LF', lambda x: np.sum(np.where(df['SS'] == 1, pd.to_numeric(x) * df['SS_MULT'], 0))),\n",
        "    s2lf=('LF', lambda x: np.sum(np.where(df['SS'] == 2, pd.to_numeric(x) * df['SS_MULT'], 0))),\n",
        "    wrkstr=('WRK', 'sum'),\n",
        "    s1wrk=('WRK', lambda x: np.sum(np.where(df['SS'] == 1, pd.to_numeric(x) * df['SS_MULT'], 0))),\n",
        "    s2wrk=('WRK', lambda x: np.sum(np.where(df['SS'] == 2, pd.to_numeric(x) * df['SS_MULT'], 0)))\n",
        ").reset_index()\n"
      ],
      "metadata": {
        "colab": {
          "base_uri": "https://localhost:8080/"
        },
        "id": "KN_zT5h1i4eC",
        "outputId": "da5a1331-b350-43c6-c3ce-d9d9d63a7ec6"
      },
      "execution_count": 28,
      "outputs": [
        {
          "output_type": "stream",
          "name": "stdout",
          "text": [
            "Number of rows after filtering: 109856\n"
          ]
        }
      ]
    },
    {
      "cell_type": "code",
      "source": [
        "# Join w2 and w1 on SEC and ST_GR columns\n",
        "w3 = w2.merge(grouped_df, on=['SEC', 'ST_GR'], suffixes=('_str', '_grp'))\n",
        "\n",
        "# Add new columns to w3\n",
        "w3['r1hat'] = w3['lfhat'] / w3['pophat']\n",
        "w3['r2hat'] = w3['wrkhat'] / w3['pophat']"
      ],
      "metadata": {
        "id": "aOozfIhLjET1"
      },
      "execution_count": 33,
      "outputs": []
    },
    {
      "cell_type": "code",
      "source": [
        "# Equate s1pop and s2pop\n",
        "w3.loc[w3['popstr'] == w3['s1pop'], 's1pop'] = w3.loc[w3['popstr'] == w3['s1pop'], 's2pop']\n",
        "w3.loc[w3['popstr'] == w3['s2pop'], 's2pop'] = w3.loc[w3['popstr'] == w3['s2pop'], 's1pop']\n",
        "\n",
        "# Equate s1lf and s2lf\n",
        "w3.loc[w3['lfstr'] == w3['s1lf'], 's1lf'] = w3.loc[w3['lfstr'] == w3['s1lf'], 's2lf']\n",
        "w3.loc[w3['lfstr'] == w3['s2lf'], 's2lf'] = w3.loc[w3['lfstr'] == w3['s2lf'], 's1lf']\n",
        "\n",
        "# Equate s1wrk and s2wrk\n",
        "w3.loc[w3['wrkstr'] == w3['s1wrk'], 's1wrk'] = w3.loc[w3['wrkstr'] == w3['s1wrk'], 's2wrk']\n",
        "w3.loc[w3['wrkstr'] == w3['s2wrk'], 's2wrk'] = w3.loc[w3['wrkstr'] == w3['s2wrk'], 's1wrk']"
      ],
      "metadata": {
        "id": "Jyy7e2y3RiCd"
      },
      "execution_count": 34,
      "outputs": []
    },
    {
      "cell_type": "code",
      "source": [
        "w4 = w3.groupby(['SEC', 'ST_GR', 'no_sam', 'pophat', 'lfhat', 'wrkhat', 'r1hat', 'r2hat']).agg(\n",
        "    var_pop=('s1pop', lambda x: ((x - x.mean()) ** 2).sum()),\n",
        "    mse_R1=('s1lf', lambda x: ((x - x.mean()) ** 2).sum() + (x.name[-2] ** 2) * (((x.name[3] - x.name[3].mean()) ** 2).sum()) - \n",
        "           2 * x.name[-2] * ((x - x.mean()) * (x.name[3] - x.name[3].mean())).sum()),\n",
        "    mse_R2=('s1wrk', lambda x: ((x - x.mean()) ** 2).sum() + (x.name[-1] ** 2) * (((x.name[3] - x.name[3].mean()) ** 2).sum()) - \n",
        "           2 * x.name[-1] * ((x - x.mean()) * (x.name[3] - x.name[3].mean())).sum())\n",
        ").reset_index()"
      ],
      "metadata": {
        "colab": {
          "base_uri": "https://localhost:8080/"
        },
        "id": "qdsNdyRURiFf",
        "outputId": "543bbef5-4bf8-4cb3-f1cc-91e7dadc6136"
      },
      "execution_count": 35,
      "outputs": [
        {
          "output_type": "stream",
          "name": "stderr",
          "text": [
            "<ipython-input-35-e5b5f6c52ac6>:1: FutureWarning: Dropping invalid columns in SeriesGroupBy.agg is deprecated. In a future version, a TypeError will be raised. Before calling .agg, select only columns which should be valid for the function.\n",
            "  w4 = w3.groupby(['SEC', 'ST_GR', 'no_sam', 'pophat', 'lfhat', 'wrkhat', 'r1hat', 'r2hat']).agg(\n",
            "<ipython-input-35-e5b5f6c52ac6>:1: FutureWarning: Dropping invalid columns in SeriesGroupBy.agg is deprecated. In a future version, a TypeError will be raised. Before calling .agg, select only columns which should be valid for the function.\n",
            "  w4 = w3.groupby(['SEC', 'ST_GR', 'no_sam', 'pophat', 'lfhat', 'wrkhat', 'r1hat', 'r2hat']).agg(\n"
          ]
        }
      ]
    },
    {
      "cell_type": "code",
      "source": [
        "# Calculate RSEs for each variable in T1\n",
        "w5 = w4.assign(\n",
        "    RSE_POP=lambda x: 100 * (x['var_pop'] ** 0.5) / (2 * x['pophat']),\n",
        "    RSE_R1=lambda x: 100 * (x['mse_R1'] ** 0.5) / (2 * x['lfhat']),\n",
        "    RSE_R2=lambda x: 100 * (x['mse_R2'] ** 0.5) / (2 * x['wrkhat'])\n",
        ")"
      ],
      "metadata": {
        "id": "DrX5BiwtRiI9"
      },
      "execution_count": 36,
      "outputs": []
    },
    {
      "cell_type": "code",
      "source": [
        "# assuming the data is loaded into a DataFrame called w5\n",
        "T1 = w5[['SEC', 'ST_GR', 'no_sam', 'pophat', 'lfhat', 'wrkhat', 'r1hat', 'r2hat', 'RSE_POP', 'RSE_R1', 'RSE_R2']].copy()\n",
        "\n",
        "# add empty columns for sec_desc and st_gr_desc\n",
        "T1['sec_desc'] = ''\n",
        "T1['st_gr_desc'] = ''\n",
        "\n",
        "# apply formatting to columns\n",
        "T1['R1'] = 100 * T1['r1hat']\n",
        "T1['R2'] = 100 * T1['r2hat']\n",
        "\n",
        "# reorder columns\n",
        "T1 = T1[['SEC', 'ST_GR', 'sec_desc', 'st_gr_desc', 'no_sam', 'pophat','lfhat', 'wrkhat', 'RSE_POP', 'R1', 'RSE_R1', 'R2', 'RSE_R2']]\n",
        "\n",
        "# print the resulting DataFrame\n",
        "print(T1)"
      ],
      "metadata": {
        "colab": {
          "base_uri": "https://localhost:8080/"
        },
        "id": "bgkq9FL3RsR6",
        "outputId": "bb56e0a3-b223-40f0-e899-8d6ee447d299"
      },
      "execution_count": 37,
      "outputs": [
        {
          "output_type": "stream",
          "name": "stdout",
          "text": [
            "   SEC ST_GR sec_desc st_gr_desc  no_sam        pophat         lfhat  \\\n",
            "0    1    G1                       12324  2.016866e+08  6.203034e+07   \n",
            "1    1    G2                        9517  3.310839e+07  1.236553e+07   \n",
            "2    1    G3                       40407  5.329071e+08  1.969232e+08   \n",
            "3    2    G1                        6700  4.284064e+07  1.408312e+07   \n",
            "4    2    G2                        5947  5.803118e+06  2.087255e+06   \n",
            "5    2    G3                       34961  2.717462e+08  9.700830e+07   \n",
            "\n",
            "         wrkhat  RSE_POP         R1  RSE_R1         R2  RSE_R2  \n",
            "0  5.776448e+07      0.0  30.755802     0.0  28.640710     0.0  \n",
            "1  1.128034e+07      0.0  37.348616     0.0  34.070924     0.0  \n",
            "2  1.831155e+08      0.0  36.952624     0.0  34.361612     0.0  \n",
            "3  1.293553e+07      0.0  32.873269     0.0  30.194538     0.0  \n",
            "4  1.881613e+06      0.0  35.967828     0.0  32.424176     0.0  \n",
            "5  8.864419e+07      0.0  35.698120     0.0  32.620207     0.0  \n"
          ]
        }
      ]
    },
    {
      "cell_type": "code",
      "source": [
        "T1 = w5[['SEC', 'ST_GR', 'no_sam', 'pophat','lfhat', 'wrkhat', 'r1hat', 'r2hat', 'RSE_POP', 'RSE_R1', 'RSE_R2']].copy()\n",
        "T1['sec_desc'] = ' '*12\n",
        "T1['st_gr_desc'] = ' '*12\n",
        "T1['R1'] = 100 * T1['r1hat']\n",
        "T1['R2'] = 100 * T1['r2hat']\n",
        "T1 = T1[['SEC', 'ST_GR', 'no_sam', 'pophat','lfhat', 'wrkhat', 'RSE_POP', 'R1', 'RSE_R1', 'R2', 'RSE_R2']]\n",
        "T1"
      ],
      "metadata": {
        "colab": {
          "base_uri": "https://localhost:8080/",
          "height": 237
        },
        "id": "lsHDF6ulRubm",
        "outputId": "c1a4cdd6-f93a-4e73-d930-52be32a5a722"
      },
      "execution_count": 38,
      "outputs": [
        {
          "output_type": "execute_result",
          "data": {
            "text/plain": [
              "   SEC ST_GR  no_sam        pophat         lfhat        wrkhat  RSE_POP  \\\n",
              "0    1    G1   12324  2.016866e+08  6.203034e+07  5.776448e+07      0.0   \n",
              "1    1    G2    9517  3.310839e+07  1.236553e+07  1.128034e+07      0.0   \n",
              "2    1    G3   40407  5.329071e+08  1.969232e+08  1.831155e+08      0.0   \n",
              "3    2    G1    6700  4.284064e+07  1.408312e+07  1.293553e+07      0.0   \n",
              "4    2    G2    5947  5.803118e+06  2.087255e+06  1.881613e+06      0.0   \n",
              "5    2    G3   34961  2.717462e+08  9.700830e+07  8.864419e+07      0.0   \n",
              "\n",
              "          R1  RSE_R1         R2  RSE_R2  \n",
              "0  30.755802     0.0  28.640710     0.0  \n",
              "1  37.348616     0.0  34.070924     0.0  \n",
              "2  36.952624     0.0  34.361612     0.0  \n",
              "3  32.873269     0.0  30.194538     0.0  \n",
              "4  35.967828     0.0  32.424176     0.0  \n",
              "5  35.698120     0.0  32.620207     0.0  "
            ],
            "text/html": [
              "\n",
              "  <div id=\"df-e8945508-c56f-44f7-a71f-6b0c007d58de\">\n",
              "    <div class=\"colab-df-container\">\n",
              "      <div>\n",
              "<style scoped>\n",
              "    .dataframe tbody tr th:only-of-type {\n",
              "        vertical-align: middle;\n",
              "    }\n",
              "\n",
              "    .dataframe tbody tr th {\n",
              "        vertical-align: top;\n",
              "    }\n",
              "\n",
              "    .dataframe thead th {\n",
              "        text-align: right;\n",
              "    }\n",
              "</style>\n",
              "<table border=\"1\" class=\"dataframe\">\n",
              "  <thead>\n",
              "    <tr style=\"text-align: right;\">\n",
              "      <th></th>\n",
              "      <th>SEC</th>\n",
              "      <th>ST_GR</th>\n",
              "      <th>no_sam</th>\n",
              "      <th>pophat</th>\n",
              "      <th>lfhat</th>\n",
              "      <th>wrkhat</th>\n",
              "      <th>RSE_POP</th>\n",
              "      <th>R1</th>\n",
              "      <th>RSE_R1</th>\n",
              "      <th>R2</th>\n",
              "      <th>RSE_R2</th>\n",
              "    </tr>\n",
              "  </thead>\n",
              "  <tbody>\n",
              "    <tr>\n",
              "      <th>0</th>\n",
              "      <td>1</td>\n",
              "      <td>G1</td>\n",
              "      <td>12324</td>\n",
              "      <td>2.016866e+08</td>\n",
              "      <td>6.203034e+07</td>\n",
              "      <td>5.776448e+07</td>\n",
              "      <td>0.0</td>\n",
              "      <td>30.755802</td>\n",
              "      <td>0.0</td>\n",
              "      <td>28.640710</td>\n",
              "      <td>0.0</td>\n",
              "    </tr>\n",
              "    <tr>\n",
              "      <th>1</th>\n",
              "      <td>1</td>\n",
              "      <td>G2</td>\n",
              "      <td>9517</td>\n",
              "      <td>3.310839e+07</td>\n",
              "      <td>1.236553e+07</td>\n",
              "      <td>1.128034e+07</td>\n",
              "      <td>0.0</td>\n",
              "      <td>37.348616</td>\n",
              "      <td>0.0</td>\n",
              "      <td>34.070924</td>\n",
              "      <td>0.0</td>\n",
              "    </tr>\n",
              "    <tr>\n",
              "      <th>2</th>\n",
              "      <td>1</td>\n",
              "      <td>G3</td>\n",
              "      <td>40407</td>\n",
              "      <td>5.329071e+08</td>\n",
              "      <td>1.969232e+08</td>\n",
              "      <td>1.831155e+08</td>\n",
              "      <td>0.0</td>\n",
              "      <td>36.952624</td>\n",
              "      <td>0.0</td>\n",
              "      <td>34.361612</td>\n",
              "      <td>0.0</td>\n",
              "    </tr>\n",
              "    <tr>\n",
              "      <th>3</th>\n",
              "      <td>2</td>\n",
              "      <td>G1</td>\n",
              "      <td>6700</td>\n",
              "      <td>4.284064e+07</td>\n",
              "      <td>1.408312e+07</td>\n",
              "      <td>1.293553e+07</td>\n",
              "      <td>0.0</td>\n",
              "      <td>32.873269</td>\n",
              "      <td>0.0</td>\n",
              "      <td>30.194538</td>\n",
              "      <td>0.0</td>\n",
              "    </tr>\n",
              "    <tr>\n",
              "      <th>4</th>\n",
              "      <td>2</td>\n",
              "      <td>G2</td>\n",
              "      <td>5947</td>\n",
              "      <td>5.803118e+06</td>\n",
              "      <td>2.087255e+06</td>\n",
              "      <td>1.881613e+06</td>\n",
              "      <td>0.0</td>\n",
              "      <td>35.967828</td>\n",
              "      <td>0.0</td>\n",
              "      <td>32.424176</td>\n",
              "      <td>0.0</td>\n",
              "    </tr>\n",
              "    <tr>\n",
              "      <th>5</th>\n",
              "      <td>2</td>\n",
              "      <td>G3</td>\n",
              "      <td>34961</td>\n",
              "      <td>2.717462e+08</td>\n",
              "      <td>9.700830e+07</td>\n",
              "      <td>8.864419e+07</td>\n",
              "      <td>0.0</td>\n",
              "      <td>35.698120</td>\n",
              "      <td>0.0</td>\n",
              "      <td>32.620207</td>\n",
              "      <td>0.0</td>\n",
              "    </tr>\n",
              "  </tbody>\n",
              "</table>\n",
              "</div>\n",
              "      <button class=\"colab-df-convert\" onclick=\"convertToInteractive('df-e8945508-c56f-44f7-a71f-6b0c007d58de')\"\n",
              "              title=\"Convert this dataframe to an interactive table.\"\n",
              "              style=\"display:none;\">\n",
              "        \n",
              "  <svg xmlns=\"http://www.w3.org/2000/svg\" height=\"24px\"viewBox=\"0 0 24 24\"\n",
              "       width=\"24px\">\n",
              "    <path d=\"M0 0h24v24H0V0z\" fill=\"none\"/>\n",
              "    <path d=\"M18.56 5.44l.94 2.06.94-2.06 2.06-.94-2.06-.94-.94-2.06-.94 2.06-2.06.94zm-11 1L8.5 8.5l.94-2.06 2.06-.94-2.06-.94L8.5 2.5l-.94 2.06-2.06.94zm10 10l.94 2.06.94-2.06 2.06-.94-2.06-.94-.94-2.06-.94 2.06-2.06.94z\"/><path d=\"M17.41 7.96l-1.37-1.37c-.4-.4-.92-.59-1.43-.59-.52 0-1.04.2-1.43.59L10.3 9.45l-7.72 7.72c-.78.78-.78 2.05 0 2.83L4 21.41c.39.39.9.59 1.41.59.51 0 1.02-.2 1.41-.59l7.78-7.78 2.81-2.81c.8-.78.8-2.07 0-2.86zM5.41 20L4 18.59l7.72-7.72 1.47 1.35L5.41 20z\"/>\n",
              "  </svg>\n",
              "      </button>\n",
              "      \n",
              "  <style>\n",
              "    .colab-df-container {\n",
              "      display:flex;\n",
              "      flex-wrap:wrap;\n",
              "      gap: 12px;\n",
              "    }\n",
              "\n",
              "    .colab-df-convert {\n",
              "      background-color: #E8F0FE;\n",
              "      border: none;\n",
              "      border-radius: 50%;\n",
              "      cursor: pointer;\n",
              "      display: none;\n",
              "      fill: #1967D2;\n",
              "      height: 32px;\n",
              "      padding: 0 0 0 0;\n",
              "      width: 32px;\n",
              "    }\n",
              "\n",
              "    .colab-df-convert:hover {\n",
              "      background-color: #E2EBFA;\n",
              "      box-shadow: 0px 1px 2px rgba(60, 64, 67, 0.3), 0px 1px 3px 1px rgba(60, 64, 67, 0.15);\n",
              "      fill: #174EA6;\n",
              "    }\n",
              "\n",
              "    [theme=dark] .colab-df-convert {\n",
              "      background-color: #3B4455;\n",
              "      fill: #D2E3FC;\n",
              "    }\n",
              "\n",
              "    [theme=dark] .colab-df-convert:hover {\n",
              "      background-color: #434B5C;\n",
              "      box-shadow: 0px 1px 3px 1px rgba(0, 0, 0, 0.15);\n",
              "      filter: drop-shadow(0px 1px 2px rgba(0, 0, 0, 0.3));\n",
              "      fill: #FFFFFF;\n",
              "    }\n",
              "  </style>\n",
              "\n",
              "      <script>\n",
              "        const buttonEl =\n",
              "          document.querySelector('#df-e8945508-c56f-44f7-a71f-6b0c007d58de button.colab-df-convert');\n",
              "        buttonEl.style.display =\n",
              "          google.colab.kernel.accessAllowed ? 'block' : 'none';\n",
              "\n",
              "        async function convertToInteractive(key) {\n",
              "          const element = document.querySelector('#df-e8945508-c56f-44f7-a71f-6b0c007d58de');\n",
              "          const dataTable =\n",
              "            await google.colab.kernel.invokeFunction('convertToInteractive',\n",
              "                                                     [key], {});\n",
              "          if (!dataTable) return;\n",
              "\n",
              "          const docLinkHtml = 'Like what you see? Visit the ' +\n",
              "            '<a target=\"_blank\" href=https://colab.research.google.com/notebooks/data_table.ipynb>data table notebook</a>'\n",
              "            + ' to learn more about interactive tables.';\n",
              "          element.innerHTML = '';\n",
              "          dataTable['output_type'] = 'display_data';\n",
              "          await google.colab.output.renderOutput(dataTable, element);\n",
              "          const docLink = document.createElement('div');\n",
              "          docLink.innerHTML = docLinkHtml;\n",
              "          element.appendChild(docLink);\n",
              "        }\n",
              "      </script>\n",
              "    </div>\n",
              "  </div>\n",
              "  "
            ]
          },
          "metadata": {},
          "execution_count": 38
        }
      ]
    },
    {
      "cell_type": "code",
      "source": [
        "T1.to_csv('T1_Balanced_Half_Sample_Method.csv')"
      ],
      "metadata": {
        "id": "Lus9B0NNRxUn"
      },
      "execution_count": 40,
      "outputs": []
    }
  ]
}