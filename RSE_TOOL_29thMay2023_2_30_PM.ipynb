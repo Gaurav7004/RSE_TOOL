{
  "nbformat": 4,
  "nbformat_minor": 0,
  "metadata": {
    "colab": {
      "provenance": [],
      "authorship_tag": "ABX9TyOxVbXrhXffN3P3NcVXpe4r",
      "include_colab_link": true
    },
    "kernelspec": {
      "name": "python3",
      "display_name": "Python 3"
    },
    "language_info": {
      "name": "python"
    }
  },
  "cells": [
    {
      "cell_type": "markdown",
      "metadata": {
        "id": "view-in-github",
        "colab_type": "text"
      },
      "source": [
        "<a href=\"https://colab.research.google.com/github/Gaurav7004/RSE_TOOL/blob/main/RSE_TOOL_29thMay2023_2_30_PM.ipynb\" target=\"_parent\"><img src=\"https://colab.research.google.com/assets/colab-badge.svg\" alt=\"Open In Colab\"/></a>"
      ]
    },
    {
      "cell_type": "code",
      "execution_count": 1,
      "metadata": {
        "id": "y-KFBWnpcdJe"
      },
      "outputs": [],
      "source": [
        "# ! pip install pandarallel\n",
        "# from pandarallel import pandarallel\n",
        "import json\n",
        "import re\n",
        "import pandas as pd\n",
        "import numpy as np\n",
        "import itertools"
      ]
    },
    {
      "cell_type": "code",
      "source": [
        "# pandarallel.initialize()"
      ],
      "metadata": {
        "id": "tsdvu58itpPJ"
      },
      "execution_count": 2,
      "outputs": []
    },
    {
      "cell_type": "code",
      "source": [
        "df = pd.read_csv('Data1.csv')\n",
        "\n",
        "# remove blank spaces from front and back of column names\n",
        "df.columns = df.columns.str.strip()\n",
        "df.columns"
      ],
      "metadata": {
        "id": "j_AWweohegUD",
        "colab": {
          "base_uri": "https://localhost:8080/"
        },
        "outputId": "fea37a5e-b435-419a-ac1b-d4e5060325ca"
      },
      "execution_count": 3,
      "outputs": [
        {
          "output_type": "stream",
          "name": "stderr",
          "text": [
            "<ipython-input-3-fc8b3e05b5c4>:1: DtypeWarning: Columns (21) have mixed types. Specify dtype option on import or set low_memory=False.\n",
            "  df = pd.read_csv('Data1.csv')\n"
          ]
        },
        {
          "output_type": "execute_result",
          "data": {
            "text/plain": [
              "Index(['SEC', 'ST', 'FSU', 'IDNO', 'SEG', 'SSS', 'SSU', 'STRM', 'SSTRM', 'SS',\n",
              "       'NSS', 'NSC', 'MULT', 'HH_SIZE', 'HHTYPE', 'RELG', 'SG', 'MHCE',\n",
              "       'DC_ALL', 'DC_ST', 'SRL', 'REL', 'SEX', 'MSEX', 'AGE', 'MARST', 'GEDU',\n",
              "       'PAS', 'PS_SS', 'CWS', 'ERN_SELF', 'ERN_REG'],\n",
              "      dtype='object')"
            ]
          },
          "metadata": {},
          "execution_count": 3
        }
      ]
    },
    {
      "cell_type": "code",
      "source": [
        "## Data is the dictionary\n",
        "data = {}\n",
        "\n",
        "## Keys\n",
        "key = ''\n",
        "\n",
        "## values\n",
        "values = []\n",
        "\n",
        "## Open\n",
        "with open('Example5.RSE', \"r\") as f:\n",
        "    for line in f:\n",
        "        line = line.strip()\n",
        "        if line.startswith('#'):\n",
        "            if key:\n",
        "                key = key.split(\"'\")[0]\n",
        "                key = key.split(\"\\t\")[0]\n",
        "                data[key] = [v for v in values if v and not v.startswith(\"'\")]\n",
        "            key = line.split(\"'\")[0]\n",
        "            key = key.split(\"\\t\")[0]\n",
        "            values = []\n",
        "        elif line.startswith(\"'\"):\n",
        "            pass\n",
        "        else:\n",
        "            line = line.split(\"'\")[0]\n",
        "            values.append(line.strip())\n",
        "\n",
        "# add last group\n",
        "if key:\n",
        "    data[key] = [v for v in values if v and not v.startswith(\"'\")]\n",
        "\n",
        "print(json.dumps(data, indent=4))"
      ],
      "metadata": {
        "colab": {
          "base_uri": "https://localhost:8080/"
        },
        "id": "jCaBn0Ltw5Ac",
        "outputId": "d67e49c3-5f26-47b7-a490-4152959f0391"
      },
      "execution_count": 4,
      "outputs": [
        {
          "output_type": "stream",
          "name": "stdout",
          "text": [
            "{\n",
            "    \"#SAMPLING SUBSAMPLE2\": [],\n",
            "    \"#GROUP 2\": [\n",
            "        \"SEC   C sec\",\n",
            "        \"AGE_GR C NEWVAR\"\n",
            "    ],\n",
            "    \"#VARIABLE 3  \": [\n",
            "        \"POP\\tN  NEWVAR\",\n",
            "        \"LF\\tN  NEWVAR\",\n",
            "        \"WRK\\tN  NEWVAR\"\n",
            "    ],\n",
            "    \"#FILE Data1.Xlsx\": [],\n",
            "    \"#RENAME  5    \": [\n",
            "        \"STRMID C sec+nss+strm+sstrm\",\n",
            "        \"SS     C ss\",\n",
            "        \"NSS    N  nss\",\n",
            "        \"NSC    N  nsc\",\n",
            "        \"MULT   N  mult\"\n",
            "    ],\n",
            "    \"#TRANSFORM 4  \": [\n",
            "        \"AGE_GR=(\\\"01\\\") AGE<15\",\n",
            "        \"AGE_GR=(\\\"02\\\") AGE>=15 && AGE<20\",\n",
            "        \"AGE_GR=(\\\"03\\\") AGE>=20 && AGE<30\",\n",
            "        \"AGE_GR=(\\\"04\\\") AGE>=30 && AGE<60\",\n",
            "        \"AGE_GR=(\\\"05\\\") Otherwise\",\n",
            "        \"POP=(ERN_SELF+ERN_REG)\",\n",
            "        \"WRK=(ERN_REG)  (NOT (CWS=\\\"11\\\" OR CWS=\\\"12\\\" OR CWS=\\\"21\\\")) AND GEDU in (\\\"5,6,7,11,12\\\")\",\n",
            "        \"WRK=(0)  Otherwise\",\n",
            "        \"LF=(ERN_SELF)   (NOT (CWS>=\\\"31\\\" AND CWS <\\\"41\\\")) AND GEDU>=\\\"05\\\"\",\n",
            "        \"LF=(0)   Otherwise\"\n",
            "    ],\n",
            "    \"#EST_RSE 7\": [\n",
            "        \"S POP\",\n",
            "        \"E POP\",\n",
            "        \"R POP\",\n",
            "        \"E 100*LF/POP\",\n",
            "        \"R LF/POP\",\n",
            "        \"E 100*WRK/POP\",\n",
            "        \"R WRK/POP\"\n",
            "    ]\n",
            "}\n"
          ]
        }
      ]
    },
    {
      "cell_type": "code",
      "source": [],
      "metadata": {
        "id": "Y5bB2O8dZasr"
      },
      "execution_count": 4,
      "outputs": []
    },
    {
      "cell_type": "code",
      "source": [],
      "metadata": {
        "id": "skh-cMWMuNvh"
      },
      "execution_count": 4,
      "outputs": []
    },
    {
      "cell_type": "code",
      "source": [
        "def SAMPLING_(data, df):\n",
        "    for key, value in data.items():\n",
        "        ## To read the sampling method used\n",
        "        if str('SAMPLING').lower() in str(key).lower():\n",
        "            if str('SUBSAMPLE2').lower() in str(key).lower():\n",
        "                return str('SUBSAMPLE2')\n",
        "\n",
        "            elif str('SRSWR').lower() in str(key).lower():\n",
        "                pass\n",
        "            elif str('SRSWOR').lower() in str(key).lower():\n",
        "                pass\n",
        "\n",
        "SAMPLING_(data, df)"
      ],
      "metadata": {
        "id": "Ja3Sc1tvDbc_",
        "colab": {
          "base_uri": "https://localhost:8080/",
          "height": 37
        },
        "outputId": "c3bbd9f8-748e-43f4-dd70-bf672d3a0bc4"
      },
      "execution_count": 5,
      "outputs": [
        {
          "output_type": "execute_result",
          "data": {
            "text/plain": [
              "'SUBSAMPLE2'"
            ],
            "application/vnd.google.colaboratory.intrinsic+json": {
              "type": "string"
            }
          },
          "metadata": {},
          "execution_count": 5
        }
      ]
    },
    {
      "cell_type": "code",
      "source": [
        "df.columns"
      ],
      "metadata": {
        "colab": {
          "base_uri": "https://localhost:8080/"
        },
        "id": "2jZhrNagLdQz",
        "outputId": "f384280e-c00b-4cd0-ecba-4ec7c1c0c708"
      },
      "execution_count": 6,
      "outputs": [
        {
          "output_type": "execute_result",
          "data": {
            "text/plain": [
              "Index(['SEC', 'ST', 'FSU', 'IDNO', 'SEG', 'SSS', 'SSU', 'STRM', 'SSTRM', 'SS',\n",
              "       'NSS', 'NSC', 'MULT', 'HH_SIZE', 'HHTYPE', 'RELG', 'SG', 'MHCE',\n",
              "       'DC_ALL', 'DC_ST', 'SRL', 'REL', 'SEX', 'MSEX', 'AGE', 'MARST', 'GEDU',\n",
              "       'PAS', 'PS_SS', 'CWS', 'ERN_SELF', 'ERN_REG'],\n",
              "      dtype='object')"
            ]
          },
          "metadata": {},
          "execution_count": 6
        }
      ]
    },
    {
      "cell_type": "code",
      "source": [
        "### ---------------------------------------------------------------------------------------------------------\n",
        "def GROUP_(data, df):\n",
        "    for key, value in data.items():    \n",
        "        if str('GROUP').lower() in str(key).lower():\n",
        "            value = [s.split()[0] for s in value]\n",
        "            for name in value:\n",
        "                if name in df.columns:\n",
        "                    pass\n",
        "                elif name not in df.columns:\n",
        "                    df[name] = 0\n",
        "\n",
        "            return value\n",
        "\n",
        "\n",
        "    for key, value in data.items():\n",
        "        print(key, value)\n",
        "        ### To read the group columns\n",
        "        if str('GROUP').lower() in str(key).lower():\n",
        "            # Define regular expression to match three words separated by whitespace\n",
        "            regex = r'\\w+\\s+\\w+\\s+\\w+'\n",
        "\n",
        "            for i in range(len(value)):\n",
        "                # Find the first match in the string\n",
        "                match = re.search(regex, value[i])\n",
        "\n",
        "                # Print the match\n",
        "                lst = match.group().split()\n",
        "\n",
        "                print(lst[0], lst[1])\n",
        "\n",
        "                if lst[0] in df.columns:\n",
        "                    if lst[1] == 'C':\n",
        "                        df[lst[0]] = df[lst[0]].astype(str)\n",
        "                elif lst[0] not in df.columns:\n",
        "                    # if lst[1] == 'C':\n",
        "                    #     df[lst[0]] = ''\n",
        "                    pass\n",
        "\n",
        "        else:\n",
        "            pass\n",
        "\n",
        "### ---------------------------------------------------------------------------------------------------------\n",
        "def FILTER_(data, df):\n",
        "    lst_queries = []\n",
        "    for key, value in data.items():\n",
        "\n",
        "        if str('FILTER').lower() in str(key).lower():\n",
        "            # Define regular expression to match three words separated by whitespace\n",
        "            regex = r'\\([^()]+\\)|\\w+[<>!=]+[0-9]+(?:\\s*(?:&&|\\|\\|)\\s*(?:\\([^()]+\\)|\\w+[<>!=]+[0-9]+))*'\n",
        "\n",
        "            for i in range(len(value)):\n",
        "                # Find the first match in the string\n",
        "                match = re.search(regex, value[i])\n",
        "\n",
        "                # Print the match\n",
        "                lst_queries.append(match.group())\n",
        "\n",
        "        else:\n",
        "            pass\n",
        "\n",
        "    filter_query = ' & '.join(['({})'.format(item) for item in lst_queries])\n",
        "   \n",
        "    try:\n",
        "        df = df.query(filter_query)\n",
        "        return df\n",
        "    except:\n",
        "        return df\n",
        "\n",
        "\n",
        "### ---------------------------------------------------------------------------------------------------------\n",
        "def FILE_(data):\n",
        "    for key, value in data.items():\n",
        "        ### To read the file used\n",
        "        if str('FILE').lower() in str(key).lower():\n",
        "            if key.strip().endswith('.xlsx') or key.strip().endswith('.csv'):\n",
        "                match = re.search(r'[A-Za-z0-9]+\\.xlsx|[A-Za-z0-9]+\\.csv', key)   \n",
        "                if match:\n",
        "                    file_name = match.group(0)\n",
        "                    return file_name\n",
        "                else:\n",
        "                    file_name = None\n",
        "                    return file_name\n",
        "                print(file_name)\n",
        "\n",
        "            # return file_name\n",
        "\n",
        "### ---------------------------------------------------------------------------------------------------------\n",
        "def RENAME_(data, df):\n",
        "    # create an empty dictionary to store the column names\n",
        "    column_dict = {}\n",
        "\n",
        "    for key, value in data.items():\n",
        "        ### To read the file used\n",
        "        if str('RENAME').lower() in str(key).lower():\n",
        "            # value = [elem for elem in value[0].split(' ') if elem.strip()]\n",
        "            # return value\n",
        "\n",
        "            for col in value:\n",
        "                col_split = col.split()\n",
        "\n",
        "                # print(col_split[0])\n",
        "\n",
        "                # extract the last element as the column name\n",
        "                col_name = col_split[-1]\n",
        "\n",
        "                new_col_name = col_split[0]\n",
        "\n",
        "                ### if there is a \"+\" sign in the last element, concatenate the columns\n",
        "                if \"+\" in col_name:\n",
        "                    col_concat = col_name.split(\"+\")\n",
        "                    col_concat = [i.upper() for i in col_concat]\n",
        "\n",
        "                    # concatenate the columns\n",
        "                    # df[new_col_name] = df.loc[:, col_concat].apply(lambda x: ''.join(['0' + str(i) if i < 10 else str(i) for i in x]), axis=1)\n",
        "                    # df[new_col_name] = df.loc[:, col_concat].apply(lambda x: ''.join(['0' + str(i) if i < 10 else str(i) for i in x]), axis=1)\n",
        "                    df[new_col_name] = df.loc[:, col_concat].apply(lambda x: ''.join(['0' + str(i) if int(i) < 10 else str(i) for i in x]), axis=1)\n",
        "\n",
        "\n",
        "                else:\n",
        "                    col_name = col_name.upper()\n",
        "\n",
        "### ---------------------------------------------------------------------------------------------------------\n",
        "def NEWVARIABLE_(data, df):\n",
        "    for key, value in data.items():\n",
        "        ### To read the file used\n",
        "        if str('VARIABLE').lower() in str(key).lower():\n",
        "            value = [s.split()[0] for s in value]\n",
        "            \n",
        "            for name in value:\n",
        "                df[name] = 1\n",
        "\n",
        "### ---------------------------------------------------------------------------------------------------------\n",
        "def TRANSFORM_(data):\n",
        "    global condition\n",
        "\n",
        "    # Initialize empty arrays to store the values\n",
        "    Arr1 = []\n",
        "    Arr2 = []\n",
        "    Arr3 = []\n",
        "\n",
        "    for key, value in data.items():\n",
        "        ### To read the file used\n",
        "        if str('TRANSFORM').lower() in str(key).lower():\n",
        "            lines = '\\n'.join(value)\n",
        "            lines = lines.split(\"\\n\")\n",
        "\n",
        "            # Loop through the lines and extract the values\n",
        "            for line in lines:\n",
        "                line_values = line.split('=')  # split the line into values\n",
        "                print(line_values)\n",
        "                var_name = line_values[0].strip()  # extract the variable name\n",
        "                \n",
        "                var_value = line_values[1].strip().split()[0]  # extract the variable value\n",
        "\n",
        "                            \n",
        "                # Regular expression pattern to extract the condition\n",
        "                pattern = r'^\\w+=\\([^\\)]*\\)(?:\\s+(.*?)(?:\\n|$))?$'\n",
        "\n",
        "                # Split the string into lines and extract the condition from each line\n",
        "                conditions = []\n",
        "\n",
        "                for line in line.split('\\n'):\n",
        "                    match = re.match(pattern, line)\n",
        "                 \n",
        "                    if match:\n",
        "                        condition = match.group(1)\n",
        "                        \n",
        "                        if condition is not None:\n",
        "                            conditions.append(condition.strip())\n",
        "                        else:\n",
        "                            conditions.append(None)\n",
        "\n",
        "                # Append the values to the arrays\n",
        "                Arr1.append(var_name)\n",
        "                Arr2.append(var_value)\n",
        "\n",
        "                Arr3.append(condition)\n",
        "\n",
        "    return Arr1, Arr2, Arr3\n",
        "        \n",
        "### ---------------------------------------------------------------------------------------------------------\n",
        "def EST_RSE_(data):\n",
        "    for key, value in data.items():\n",
        "        pass\n",
        "\n",
        "df = FILTER_(data, df)\n",
        "GROUP_(data, df)\n",
        "TRANSFORM_(data)\n",
        "RENAME_(data, df)\n",
        "NEWVARIABLE_(data, df)\n",
        "FILE_(data)\n",
        "\n"
      ],
      "metadata": {
        "id": "JOeTfpj33fid",
        "colab": {
          "base_uri": "https://localhost:8080/"
        },
        "outputId": "a0afbcfa-b136-4628-eb98-3806d6d8fbf9"
      },
      "execution_count": 7,
      "outputs": [
        {
          "output_type": "stream",
          "name": "stdout",
          "text": [
            "['AGE_GR', '(\"01\") AGE<15']\n",
            "['AGE_GR', '(\"02\") AGE>', '15 && AGE<20']\n",
            "['AGE_GR', '(\"03\") AGE>', '20 && AGE<30']\n",
            "['AGE_GR', '(\"04\") AGE>', '30 && AGE<60']\n",
            "['AGE_GR', '(\"05\") Otherwise']\n",
            "['POP', '(ERN_SELF+ERN_REG)']\n",
            "['WRK', '(ERN_REG)  (NOT (CWS', '\"11\" OR CWS', '\"12\" OR CWS', '\"21\")) AND GEDU in (\"5,6,7,11,12\")']\n",
            "['WRK', '(0)  Otherwise']\n",
            "['LF', '(ERN_SELF)   (NOT (CWS>', '\"31\" AND CWS <\"41\")) AND GEDU>', '\"05\"']\n",
            "['LF', '(0)   Otherwise']\n"
          ]
        }
      ]
    },
    {
      "cell_type": "code",
      "source": [
        "GROUP_(data, df)"
      ],
      "metadata": {
        "colab": {
          "base_uri": "https://localhost:8080/"
        },
        "id": "xqvXn2jGuQgT",
        "outputId": "efc7533f-17f4-4567-ad59-805b0c491957"
      },
      "execution_count": 8,
      "outputs": [
        {
          "output_type": "execute_result",
          "data": {
            "text/plain": [
              "['SEC', 'AGE_GR']"
            ]
          },
          "metadata": {},
          "execution_count": 8
        }
      ]
    },
    {
      "cell_type": "code",
      "source": [
        "EST_RSE_(data)"
      ],
      "metadata": {
        "id": "VQ4j3Mni9tOd"
      },
      "execution_count": 9,
      "outputs": []
    },
    {
      "cell_type": "code",
      "source": [
        "def parse_query_string(query_string):\n",
        "    # Replace curly quotes with straight quotes\n",
        "    query_string = query_string.replace(\"”\", \"\\\"\")\n",
        "    \n",
        "    if 'in' in query_string:\n",
        "        if ('NOT in' or 'not in') in query_string:\n",
        "            query_string = re.sub(r'(\\b\\w+\\b)\\s+NOT in\\s*\\(([^)]+)\\)', r'~\\1.isin([\\2])', query_string)\n",
        "            query_string = re.sub(r'(\\b\\w+\\b)\\s+in\\s*\\(([^)]+)\\)', r'\\1.isin([\\2])', query_string)\n",
        "        elif 'in' in query_string:\n",
        "            # Replace 'in' operators with 'isin' and add list brackets\n",
        "            query_string = re.sub(r'(\\b\\w+\\b)\\s+in\\s*\\(([^)]+)\\)', r'\\1.isin([\\2])', query_string)\n",
        "        else:\n",
        "            pass\n",
        "            \n",
        "    else:\n",
        "        query_string = re.sub(r'''(\\b\\w+\\b)(\\s*[<>=!]+\\s*)('[^']*'|\"[^\"]*\")|(\\b\\w+\\b)(\\s*[<>=!]+\\s*)(\"[^]*'|\"[^\"]*\")''', r'\\1\\2\\3', query_string)\n",
        "        query_string = re.sub(r'''(\\b\\w+\\b)(\\s*[<>=!]+\\s*)(\\d+)''', r'\\1\\2\\3', query_string)\n",
        "\n",
        "    # Replace double quotes with single quotes\n",
        "    query_string = query_string.replace(\"\\\"\", \"'\")\n",
        "    \n",
        "    # Replace 'AND' with '&', 'OR' with '|', and add parentheses\n",
        "    query_string = query_string.replace(\" AND \", \" & \")\\\n",
        "                        .replace(\" OR \", \" | \").\\\n",
        "                            replace(\"&&\", '&').\\\n",
        "                                replace('||', '|').\\\n",
        "                                    replace('<>', '!=').\\\n",
        "                                        replace('NOT', '~')\n",
        "    \n",
        "    # Replace column names with df[column] syntax\n",
        "    query_string = re.sub(r'(\\b\\w+\\b)=', r'\\1==', query_string)\n",
        "\n",
        "\n",
        "    # # Define a function to replace variable names with df[\"<variable_name>\"]\n",
        "    # def replace_var(match):\n",
        "    #     return f'df[\"{match.group(0)}\"]'\n",
        "\n",
        "    # # Use regex to replace variable names with df[\"<variable_name>\"]\n",
        "    # pattern = re.compile(r'''\\b\\w+\\b(?=\\s*[<>=!]=*\\s*[\\'\"\\d])''')\n",
        "    # new_string = pattern.sub(replace_var, query_string)\n",
        "\n",
        "    query_string = re.sub(r\"'(\\d+)'|\\\"(\\d+)\\\"\", lambda match: str(int(match.group(1) or match.group(2))), query_string)\n",
        "    query_string = re.sub(r'\\[(\\d+,\\s*)+\\d+\\]', lambda match: '[' + match.group(0).replace(\"\\'\", \"'\") + ']', query_string)\n",
        "    \n",
        "    return query_string\n",
        "\n",
        "\n",
        "final_parsed_query = []\n",
        "\n",
        "for i in list(TRANSFORM_(data))[2]:\n",
        "    # print(i)\n",
        "    if i:\n",
        "        parsed_query = parse_query_string(i)\n",
        "        final_parsed_query.append(parsed_query)\n",
        "    else:\n",
        "        final_parsed_query.append(i)\n",
        "\n",
        "### Calling the final_parsed_query function\n",
        "### ---------------------------------------\n",
        "final_parsed_query"
      ],
      "metadata": {
        "id": "_lTGE07ya3aO",
        "colab": {
          "base_uri": "https://localhost:8080/"
        },
        "outputId": "4e9ea4b7-c04d-421e-e80b-28df2e57b36c"
      },
      "execution_count": 10,
      "outputs": [
        {
          "output_type": "stream",
          "name": "stdout",
          "text": [
            "['AGE_GR', '(\"01\") AGE<15']\n",
            "['AGE_GR', '(\"02\") AGE>', '15 && AGE<20']\n",
            "['AGE_GR', '(\"03\") AGE>', '20 && AGE<30']\n",
            "['AGE_GR', '(\"04\") AGE>', '30 && AGE<60']\n",
            "['AGE_GR', '(\"05\") Otherwise']\n",
            "['POP', '(ERN_SELF+ERN_REG)']\n",
            "['WRK', '(ERN_REG)  (NOT (CWS', '\"11\" OR CWS', '\"12\" OR CWS', '\"21\")) AND GEDU in (\"5,6,7,11,12\")']\n",
            "['WRK', '(0)  Otherwise']\n",
            "['LF', '(ERN_SELF)   (NOT (CWS>', '\"31\" AND CWS <\"41\")) AND GEDU>', '\"05\"']\n",
            "['LF', '(0)   Otherwise']\n"
          ]
        },
        {
          "output_type": "execute_result",
          "data": {
            "text/plain": [
              "['AGE<15',\n",
              " 'AGE>=15 & AGE<20',\n",
              " 'AGE>=20 & AGE<30',\n",
              " 'AGE>=30 & AGE<60',\n",
              " 'Otherwise',\n",
              " None,\n",
              " \"(~ (CWS==11 | CWS==12 | CWS==21)) & GEDU.isin(['5,6,7,11,12'])\",\n",
              " 'Otherwise',\n",
              " '(~ (CWS>=31 & CWS <41)) & GEDU>=5',\n",
              " 'Otherwise']"
            ]
          },
          "metadata": {},
          "execution_count": 10
        }
      ]
    },
    {
      "cell_type": "code",
      "source": [
        "df['AGE'].unique()"
      ],
      "metadata": {
        "id": "GVTZkgr9YtIK",
        "colab": {
          "base_uri": "https://localhost:8080/"
        },
        "outputId": "5019e106-cc12-4005-98bd-0813d250874a"
      },
      "execution_count": 11,
      "outputs": [
        {
          "output_type": "execute_result",
          "data": {
            "text/plain": [
              "array([ 40,  18,  19,  38,  21,  28,   1,  52,  26,  45,  25,  36,  17,\n",
              "        30,  55,  44,  16,  20,  68,  35,  10,  42,  14,  39,  65,  43,\n",
              "        15,  60,  48,  22,   8,   9,  13,  27,  24,  62,  23,   0,  56,\n",
              "         2,   4,  66,  47,  50,  57,  61,  58,  31,   7,  34,  64,   6,\n",
              "        54,  11,  29,  32,  41,  59,  51,  75,  70,  12,  37,  33,  85,\n",
              "        72,   3,   5,  53,  73,  46,  67,  49,  80,  63,  78,  71,  82,\n",
              "        81,  69,  74,  86,  76,  84,  83,  79,  95,  87,  90,  77,  89,\n",
              "       110,  96, 100,  88,  93,  92,  98,  94, 105,  91,  99,  97, 109])"
            ]
          },
          "metadata": {},
          "execution_count": 11
        }
      ]
    },
    {
      "cell_type": "code",
      "source": [
        "Arr1 = list(TRANSFORM_(data))[0]\n",
        "Arr2 = list(TRANSFORM_(data))[1]\n",
        "\n",
        "# print(Arr2)\n",
        "Arr2 = [i.strip('()\\'\\\"') for i in Arr2]\n",
        "Arr3 = final_parsed_query\n",
        "\n",
        "Arr2 = [float(elem) if elem.replace('.', '', 1).isdigit() else elem for elem in Arr2]\n",
        "print(Arr2)\n",
        "\n",
        "# print(Arr1)\n",
        "# print(Arr2)\n",
        "# print(Arr3)"
      ],
      "metadata": {
        "id": "NtMiw_fo7hvR",
        "colab": {
          "base_uri": "https://localhost:8080/"
        },
        "outputId": "f9ea8f3c-94b4-4797-d433-963a90a40ece"
      },
      "execution_count": 12,
      "outputs": [
        {
          "output_type": "stream",
          "name": "stdout",
          "text": [
            "['AGE_GR', '(\"01\") AGE<15']\n",
            "['AGE_GR', '(\"02\") AGE>', '15 && AGE<20']\n",
            "['AGE_GR', '(\"03\") AGE>', '20 && AGE<30']\n",
            "['AGE_GR', '(\"04\") AGE>', '30 && AGE<60']\n",
            "['AGE_GR', '(\"05\") Otherwise']\n",
            "['POP', '(ERN_SELF+ERN_REG)']\n",
            "['WRK', '(ERN_REG)  (NOT (CWS', '\"11\" OR CWS', '\"12\" OR CWS', '\"21\")) AND GEDU in (\"5,6,7,11,12\")']\n",
            "['WRK', '(0)  Otherwise']\n",
            "['LF', '(ERN_SELF)   (NOT (CWS>', '\"31\" AND CWS <\"41\")) AND GEDU>', '\"05\"']\n",
            "['LF', '(0)   Otherwise']\n",
            "['AGE_GR', '(\"01\") AGE<15']\n",
            "['AGE_GR', '(\"02\") AGE>', '15 && AGE<20']\n",
            "['AGE_GR', '(\"03\") AGE>', '20 && AGE<30']\n",
            "['AGE_GR', '(\"04\") AGE>', '30 && AGE<60']\n",
            "['AGE_GR', '(\"05\") Otherwise']\n",
            "['POP', '(ERN_SELF+ERN_REG)']\n",
            "['WRK', '(ERN_REG)  (NOT (CWS', '\"11\" OR CWS', '\"12\" OR CWS', '\"21\")) AND GEDU in (\"5,6,7,11,12\")']\n",
            "['WRK', '(0)  Otherwise']\n",
            "['LF', '(ERN_SELF)   (NOT (CWS>', '\"31\" AND CWS <\"41\")) AND GEDU>', '\"05\"']\n",
            "['LF', '(0)   Otherwise']\n",
            "[1.0, 2.0, 3.0, 4.0, 5.0, 'ERN_SELF+ERN_REG', 'ERN_REG', 0.0, 'ERN_SELF', 0.0]\n"
          ]
        }
      ]
    },
    {
      "cell_type": "code",
      "source": [
        "df.head(3)"
      ],
      "metadata": {
        "id": "hYYh_PXq7C_S",
        "colab": {
          "base_uri": "https://localhost:8080/",
          "height": 236
        },
        "outputId": "11b8d00d-1626-4941-c598-cc6cff8a339c"
      },
      "execution_count": 13,
      "outputs": [
        {
          "output_type": "execute_result",
          "data": {
            "text/plain": [
              "   SEC  ST    FSU  IDNO  SEG  SSS  SSU  STRM  SSTRM  SS  ...  PAS  PS_SS  CWS  \\\n",
              "0    1  28  17469     1    1    1    1     1      1   1  ...   51     51   51   \n",
              "1    1  28  17469     1    1    1    1     1      1   1  ...   91     91   91   \n",
              "2    1  28  17469     1    1    1    1     1      1   1  ...   91     91   91   \n",
              "\n",
              "   ERN_SELF  ERN_REG  AGE_GR    STRMID  POP  LF  WRK  \n",
              "0         0        0       0  01010101    1   1    1  \n",
              "1         0        0       0  01010101    1   1    1  \n",
              "2         0        0       0  01010101    1   1    1  \n",
              "\n",
              "[3 rows x 37 columns]"
            ],
            "text/html": [
              "\n",
              "  <div id=\"df-2802d3b0-9f50-4eb9-bdf9-fb1962aa4aa4\">\n",
              "    <div class=\"colab-df-container\">\n",
              "      <div>\n",
              "<style scoped>\n",
              "    .dataframe tbody tr th:only-of-type {\n",
              "        vertical-align: middle;\n",
              "    }\n",
              "\n",
              "    .dataframe tbody tr th {\n",
              "        vertical-align: top;\n",
              "    }\n",
              "\n",
              "    .dataframe thead th {\n",
              "        text-align: right;\n",
              "    }\n",
              "</style>\n",
              "<table border=\"1\" class=\"dataframe\">\n",
              "  <thead>\n",
              "    <tr style=\"text-align: right;\">\n",
              "      <th></th>\n",
              "      <th>SEC</th>\n",
              "      <th>ST</th>\n",
              "      <th>FSU</th>\n",
              "      <th>IDNO</th>\n",
              "      <th>SEG</th>\n",
              "      <th>SSS</th>\n",
              "      <th>SSU</th>\n",
              "      <th>STRM</th>\n",
              "      <th>SSTRM</th>\n",
              "      <th>SS</th>\n",
              "      <th>...</th>\n",
              "      <th>PAS</th>\n",
              "      <th>PS_SS</th>\n",
              "      <th>CWS</th>\n",
              "      <th>ERN_SELF</th>\n",
              "      <th>ERN_REG</th>\n",
              "      <th>AGE_GR</th>\n",
              "      <th>STRMID</th>\n",
              "      <th>POP</th>\n",
              "      <th>LF</th>\n",
              "      <th>WRK</th>\n",
              "    </tr>\n",
              "  </thead>\n",
              "  <tbody>\n",
              "    <tr>\n",
              "      <th>0</th>\n",
              "      <td>1</td>\n",
              "      <td>28</td>\n",
              "      <td>17469</td>\n",
              "      <td>1</td>\n",
              "      <td>1</td>\n",
              "      <td>1</td>\n",
              "      <td>1</td>\n",
              "      <td>1</td>\n",
              "      <td>1</td>\n",
              "      <td>1</td>\n",
              "      <td>...</td>\n",
              "      <td>51</td>\n",
              "      <td>51</td>\n",
              "      <td>51</td>\n",
              "      <td>0</td>\n",
              "      <td>0</td>\n",
              "      <td>0</td>\n",
              "      <td>01010101</td>\n",
              "      <td>1</td>\n",
              "      <td>1</td>\n",
              "      <td>1</td>\n",
              "    </tr>\n",
              "    <tr>\n",
              "      <th>1</th>\n",
              "      <td>1</td>\n",
              "      <td>28</td>\n",
              "      <td>17469</td>\n",
              "      <td>1</td>\n",
              "      <td>1</td>\n",
              "      <td>1</td>\n",
              "      <td>1</td>\n",
              "      <td>1</td>\n",
              "      <td>1</td>\n",
              "      <td>1</td>\n",
              "      <td>...</td>\n",
              "      <td>91</td>\n",
              "      <td>91</td>\n",
              "      <td>91</td>\n",
              "      <td>0</td>\n",
              "      <td>0</td>\n",
              "      <td>0</td>\n",
              "      <td>01010101</td>\n",
              "      <td>1</td>\n",
              "      <td>1</td>\n",
              "      <td>1</td>\n",
              "    </tr>\n",
              "    <tr>\n",
              "      <th>2</th>\n",
              "      <td>1</td>\n",
              "      <td>28</td>\n",
              "      <td>17469</td>\n",
              "      <td>1</td>\n",
              "      <td>1</td>\n",
              "      <td>1</td>\n",
              "      <td>1</td>\n",
              "      <td>1</td>\n",
              "      <td>1</td>\n",
              "      <td>1</td>\n",
              "      <td>...</td>\n",
              "      <td>91</td>\n",
              "      <td>91</td>\n",
              "      <td>91</td>\n",
              "      <td>0</td>\n",
              "      <td>0</td>\n",
              "      <td>0</td>\n",
              "      <td>01010101</td>\n",
              "      <td>1</td>\n",
              "      <td>1</td>\n",
              "      <td>1</td>\n",
              "    </tr>\n",
              "  </tbody>\n",
              "</table>\n",
              "<p>3 rows × 37 columns</p>\n",
              "</div>\n",
              "      <button class=\"colab-df-convert\" onclick=\"convertToInteractive('df-2802d3b0-9f50-4eb9-bdf9-fb1962aa4aa4')\"\n",
              "              title=\"Convert this dataframe to an interactive table.\"\n",
              "              style=\"display:none;\">\n",
              "        \n",
              "  <svg xmlns=\"http://www.w3.org/2000/svg\" height=\"24px\"viewBox=\"0 0 24 24\"\n",
              "       width=\"24px\">\n",
              "    <path d=\"M0 0h24v24H0V0z\" fill=\"none\"/>\n",
              "    <path d=\"M18.56 5.44l.94 2.06.94-2.06 2.06-.94-2.06-.94-.94-2.06-.94 2.06-2.06.94zm-11 1L8.5 8.5l.94-2.06 2.06-.94-2.06-.94L8.5 2.5l-.94 2.06-2.06.94zm10 10l.94 2.06.94-2.06 2.06-.94-2.06-.94-.94-2.06-.94 2.06-2.06.94z\"/><path d=\"M17.41 7.96l-1.37-1.37c-.4-.4-.92-.59-1.43-.59-.52 0-1.04.2-1.43.59L10.3 9.45l-7.72 7.72c-.78.78-.78 2.05 0 2.83L4 21.41c.39.39.9.59 1.41.59.51 0 1.02-.2 1.41-.59l7.78-7.78 2.81-2.81c.8-.78.8-2.07 0-2.86zM5.41 20L4 18.59l7.72-7.72 1.47 1.35L5.41 20z\"/>\n",
              "  </svg>\n",
              "      </button>\n",
              "      \n",
              "  <style>\n",
              "    .colab-df-container {\n",
              "      display:flex;\n",
              "      flex-wrap:wrap;\n",
              "      gap: 12px;\n",
              "    }\n",
              "\n",
              "    .colab-df-convert {\n",
              "      background-color: #E8F0FE;\n",
              "      border: none;\n",
              "      border-radius: 50%;\n",
              "      cursor: pointer;\n",
              "      display: none;\n",
              "      fill: #1967D2;\n",
              "      height: 32px;\n",
              "      padding: 0 0 0 0;\n",
              "      width: 32px;\n",
              "    }\n",
              "\n",
              "    .colab-df-convert:hover {\n",
              "      background-color: #E2EBFA;\n",
              "      box-shadow: 0px 1px 2px rgba(60, 64, 67, 0.3), 0px 1px 3px 1px rgba(60, 64, 67, 0.15);\n",
              "      fill: #174EA6;\n",
              "    }\n",
              "\n",
              "    [theme=dark] .colab-df-convert {\n",
              "      background-color: #3B4455;\n",
              "      fill: #D2E3FC;\n",
              "    }\n",
              "\n",
              "    [theme=dark] .colab-df-convert:hover {\n",
              "      background-color: #434B5C;\n",
              "      box-shadow: 0px 1px 3px 1px rgba(0, 0, 0, 0.15);\n",
              "      filter: drop-shadow(0px 1px 2px rgba(0, 0, 0, 0.3));\n",
              "      fill: #FFFFFF;\n",
              "    }\n",
              "  </style>\n",
              "\n",
              "      <script>\n",
              "        const buttonEl =\n",
              "          document.querySelector('#df-2802d3b0-9f50-4eb9-bdf9-fb1962aa4aa4 button.colab-df-convert');\n",
              "        buttonEl.style.display =\n",
              "          google.colab.kernel.accessAllowed ? 'block' : 'none';\n",
              "\n",
              "        async function convertToInteractive(key) {\n",
              "          const element = document.querySelector('#df-2802d3b0-9f50-4eb9-bdf9-fb1962aa4aa4');\n",
              "          const dataTable =\n",
              "            await google.colab.kernel.invokeFunction('convertToInteractive',\n",
              "                                                     [key], {});\n",
              "          if (!dataTable) return;\n",
              "\n",
              "          const docLinkHtml = 'Like what you see? Visit the ' +\n",
              "            '<a target=\"_blank\" href=https://colab.research.google.com/notebooks/data_table.ipynb>data table notebook</a>'\n",
              "            + ' to learn more about interactive tables.';\n",
              "          element.innerHTML = '';\n",
              "          dataTable['output_type'] = 'display_data';\n",
              "          await google.colab.output.renderOutput(dataTable, element);\n",
              "          const docLink = document.createElement('div');\n",
              "          docLink.innerHTML = docLinkHtml;\n",
              "          element.appendChild(docLink);\n",
              "        }\n",
              "      </script>\n",
              "    </div>\n",
              "  </div>\n",
              "  "
            ]
          },
          "metadata": {},
          "execution_count": 13
        }
      ]
    },
    {
      "cell_type": "code",
      "source": [
        "set(Arr1) - set(list(df.columns))"
      ],
      "metadata": {
        "id": "FpCHnWE634Lg",
        "colab": {
          "base_uri": "https://localhost:8080/"
        },
        "outputId": "092e5979-af8b-4271-a27a-1cb36973b269"
      },
      "execution_count": 14,
      "outputs": [
        {
          "output_type": "execute_result",
          "data": {
            "text/plain": [
              "set()"
            ]
          },
          "metadata": {},
          "execution_count": 14
        }
      ]
    },
    {
      "cell_type": "code",
      "source": [
        "\n",
        "# Check for name mismatches and create new columns\n",
        "mismatched_names = set(Arr1) - set(df.columns)\n",
        "\n",
        "new_columns = {name: [0] * df.shape[0] for name in mismatched_names}\n",
        "df = df.assign(**new_columns)\n",
        "\n",
        "mismatched_names"
      ],
      "metadata": {
        "id": "2Jb5zGh67zYH",
        "colab": {
          "base_uri": "https://localhost:8080/"
        },
        "outputId": "45ee7678-2b47-4cb4-af90-2a27546e7e98"
      },
      "execution_count": 15,
      "outputs": [
        {
          "output_type": "execute_result",
          "data": {
            "text/plain": [
              "set()"
            ]
          },
          "metadata": {},
          "execution_count": 15
        }
      ]
    },
    {
      "cell_type": "code",
      "source": [
        "Arr3"
      ],
      "metadata": {
        "id": "SQYkxNyITODY",
        "colab": {
          "base_uri": "https://localhost:8080/"
        },
        "outputId": "43dcb469-972d-4a47-a42b-51ef546f199f"
      },
      "execution_count": 16,
      "outputs": [
        {
          "output_type": "execute_result",
          "data": {
            "text/plain": [
              "['AGE<15',\n",
              " 'AGE>=15 & AGE<20',\n",
              " 'AGE>=20 & AGE<30',\n",
              " 'AGE>=30 & AGE<60',\n",
              " 'Otherwise',\n",
              " None,\n",
              " \"(~ (CWS==11 | CWS==12 | CWS==21)) & GEDU.isin(['5,6,7,11,12'])\",\n",
              " 'Otherwise',\n",
              " '(~ (CWS>=31 & CWS <41)) & GEDU>=5',\n",
              " 'Otherwise']"
            ]
          },
          "metadata": {},
          "execution_count": 16
        }
      ]
    },
    {
      "cell_type": "code",
      "source": [
        "Arr3 = [i.replace(\"(['\", \"([\").replace(\"'])\", \"])\") if i is not None else 'True' if Arr3[j] == 'Otherwise' else True for j, i in enumerate(Arr3)]\n",
        "Arr3"
      ],
      "metadata": {
        "id": "YlL6LYR-43rC",
        "colab": {
          "base_uri": "https://localhost:8080/"
        },
        "outputId": "981bfdae-ba75-411e-b53f-f277d86c8546"
      },
      "execution_count": 17,
      "outputs": [
        {
          "output_type": "execute_result",
          "data": {
            "text/plain": [
              "['AGE<15',\n",
              " 'AGE>=15 & AGE<20',\n",
              " 'AGE>=20 & AGE<30',\n",
              " 'AGE>=30 & AGE<60',\n",
              " 'Otherwise',\n",
              " True,\n",
              " '(~ (CWS==11 | CWS==12 | CWS==21)) & GEDU.isin([5,6,7,11,12])',\n",
              " 'Otherwise',\n",
              " '(~ (CWS>=31 & CWS <41)) & GEDU>=5',\n",
              " 'Otherwise']"
            ]
          },
          "metadata": {},
          "execution_count": 17
        }
      ]
    },
    {
      "cell_type": "code",
      "source": [
        "new_arr3 = []\n",
        "for i, value in enumerate(Arr3):\n",
        "    if value == 'Otherwise':\n",
        "        other_values = set(['~(' + Arr3[j] + ')' for j in range(len(Arr3)) if Arr1[j] == Arr1[i] and Arr3[j] != 'Otherwise'])\n",
        "        new_value = ' & '.join(other_values)\n",
        "        print(new_value)\n",
        "        new_arr3.append(new_value)\n",
        "    else:\n",
        "        new_arr3.append(value)\n",
        "        print(value)\n",
        "\n",
        "# new_arr3"
      ],
      "metadata": {
        "id": "BWIYIIl_5_ba",
        "colab": {
          "base_uri": "https://localhost:8080/"
        },
        "outputId": "a741bacd-2e07-410c-8ebc-ad647d524b6c"
      },
      "execution_count": 18,
      "outputs": [
        {
          "output_type": "stream",
          "name": "stdout",
          "text": [
            "AGE<15\n",
            "AGE>=15 & AGE<20\n",
            "AGE>=20 & AGE<30\n",
            "AGE>=30 & AGE<60\n",
            "~(AGE>=15 & AGE<20) & ~(AGE>=30 & AGE<60) & ~(AGE>=20 & AGE<30) & ~(AGE<15)\n",
            "True\n",
            "(~ (CWS==11 | CWS==12 | CWS==21)) & GEDU.isin([5,6,7,11,12])\n",
            "~((~ (CWS==11 | CWS==12 | CWS==21)) & GEDU.isin([5,6,7,11,12]))\n",
            "(~ (CWS>=31 & CWS <41)) & GEDU>=5\n",
            "~((~ (CWS>=31 & CWS <41)) & GEDU>=5)\n"
          ]
        }
      ]
    },
    {
      "cell_type": "code",
      "source": [
        "Arr3 = new_arr3"
      ],
      "metadata": {
        "id": "WNp2AGBEaJl-"
      },
      "execution_count": 19,
      "outputs": []
    },
    {
      "cell_type": "code",
      "source": [
        "df['WRK'].unique()"
      ],
      "metadata": {
        "id": "M7YnPjuAAY53",
        "colab": {
          "base_uri": "https://localhost:8080/"
        },
        "outputId": "f45c3b28-8d78-41b6-ea67-fe4c675b951a"
      },
      "execution_count": 20,
      "outputs": [
        {
          "output_type": "execute_result",
          "data": {
            "text/plain": [
              "array([1])"
            ]
          },
          "metadata": {},
          "execution_count": 20
        }
      ]
    },
    {
      "cell_type": "code",
      "source": [
        "Arr2"
      ],
      "metadata": {
        "colab": {
          "base_uri": "https://localhost:8080/"
        },
        "id": "BiNMunJ16H3R",
        "outputId": "b34a3367-baf6-471c-cefb-cf38aec5e825"
      },
      "execution_count": 21,
      "outputs": [
        {
          "output_type": "execute_result",
          "data": {
            "text/plain": [
              "[1.0, 2.0, 3.0, 4.0, 5.0, 'ERN_SELF+ERN_REG', 'ERN_REG', 0.0, 'ERN_SELF', 0.0]"
            ]
          },
          "metadata": {},
          "execution_count": 21
        }
      ]
    },
    {
      "cell_type": "code",
      "source": [
        "for i in range(len(Arr2)):\n",
        "    if type(Arr3[i]) == str:\n",
        "        print(Arr3[i])"
      ],
      "metadata": {
        "id": "CXIrpfUnv-cv",
        "colab": {
          "base_uri": "https://localhost:8080/"
        },
        "outputId": "4cf76588-9e76-4a25-a4f9-79bf2c2e9d8a"
      },
      "execution_count": 22,
      "outputs": [
        {
          "output_type": "stream",
          "name": "stdout",
          "text": [
            "AGE<15\n",
            "AGE>=15 & AGE<20\n",
            "AGE>=20 & AGE<30\n",
            "AGE>=30 & AGE<60\n",
            "~(AGE>=15 & AGE<20) & ~(AGE>=30 & AGE<60) & ~(AGE>=20 & AGE<30) & ~(AGE<15)\n",
            "(~ (CWS==11 | CWS==12 | CWS==21)) & GEDU.isin([5,6,7,11,12])\n",
            "~((~ (CWS==11 | CWS==12 | CWS==21)) & GEDU.isin([5,6,7,11,12]))\n",
            "(~ (CWS>=31 & CWS <41)) & GEDU>=5\n",
            "~((~ (CWS>=31 & CWS <41)) & GEDU>=5)\n"
          ]
        }
      ]
    },
    {
      "cell_type": "code",
      "source": [
        "# print()\n",
        "df.query(\"CWS==31 & GEDU.isin([5,6,7,11,12])\")"
      ],
      "metadata": {
        "colab": {
          "base_uri": "https://localhost:8080/",
          "height": 487
        },
        "id": "v1_oTKdEY8fP",
        "outputId": "d70e85e4-c6aa-4e68-a69d-83ba0e4ed144"
      },
      "execution_count": 23,
      "outputs": [
        {
          "output_type": "execute_result",
          "data": {
            "text/plain": [
              "        SEC  ST    FSU  IDNO  SEG  SSS  SSU  STRM  SSTRM  SS  ...  PAS  PS_SS  \\\n",
              "69        1  28  17471     4    1    2    2     1      2   1  ...   31     31   \n",
              "90        1  28  17471     8    1    3    2     1      2   1  ...   31     31   \n",
              "208       1  28  17476     3    1    2    2     1      4   2  ...   31     31   \n",
              "228       1  28  17477     1    1    1    1     1      5   1  ...   31     31   \n",
              "255       1  28  17478     1    1    1    1     1      5   2  ...   31     31   \n",
              "...     ...  ..    ...   ...  ...  ...  ...   ...    ...  ..  ...  ...    ...   \n",
              "109815    2  34  27427     7    1    4    1     1      3   2  ...   31     31   \n",
              "109819    2  34  27428     1    1    1    1     1      3   2  ...   31     31   \n",
              "109832    2  34  27428     4    1    2    2     1      3   2  ...   31     31   \n",
              "109847    2  34  27428     7    1    4    1     1      3   2  ...   31     31   \n",
              "109849    2  34  27428     7    1    4    1     1      3   2  ...   91     91   \n",
              "\n",
              "        CWS  ERN_SELF  ERN_REG  AGE_GR    STRMID  POP  LF  WRK  \n",
              "69       31         0     7000       0  01010102    1   1    1  \n",
              "90       31         0     4500       0  01010102    1   1    1  \n",
              "208      31         0     8000       0  01010104    1   1    1  \n",
              "228      31         0    40000       0  01010105    1   1    1  \n",
              "255      31         0     6000       0  01010105    1   1    1  \n",
              "...     ...       ...      ...     ...       ...  ...  ..  ...  \n",
              "109815   31         0     7000       0  02030103    1   1    1  \n",
              "109819   31         0    25000       0  02030103    1   1    1  \n",
              "109832   31         0    15000       0  02030103    1   1    1  \n",
              "109847   31         0    15000       0  02030103    1   1    1  \n",
              "109849   31         0    15000       0  02030103    1   1    1  \n",
              "\n",
              "[5587 rows x 37 columns]"
            ],
            "text/html": [
              "\n",
              "  <div id=\"df-e0980247-99d0-45bf-bdf9-b526e72fea8f\">\n",
              "    <div class=\"colab-df-container\">\n",
              "      <div>\n",
              "<style scoped>\n",
              "    .dataframe tbody tr th:only-of-type {\n",
              "        vertical-align: middle;\n",
              "    }\n",
              "\n",
              "    .dataframe tbody tr th {\n",
              "        vertical-align: top;\n",
              "    }\n",
              "\n",
              "    .dataframe thead th {\n",
              "        text-align: right;\n",
              "    }\n",
              "</style>\n",
              "<table border=\"1\" class=\"dataframe\">\n",
              "  <thead>\n",
              "    <tr style=\"text-align: right;\">\n",
              "      <th></th>\n",
              "      <th>SEC</th>\n",
              "      <th>ST</th>\n",
              "      <th>FSU</th>\n",
              "      <th>IDNO</th>\n",
              "      <th>SEG</th>\n",
              "      <th>SSS</th>\n",
              "      <th>SSU</th>\n",
              "      <th>STRM</th>\n",
              "      <th>SSTRM</th>\n",
              "      <th>SS</th>\n",
              "      <th>...</th>\n",
              "      <th>PAS</th>\n",
              "      <th>PS_SS</th>\n",
              "      <th>CWS</th>\n",
              "      <th>ERN_SELF</th>\n",
              "      <th>ERN_REG</th>\n",
              "      <th>AGE_GR</th>\n",
              "      <th>STRMID</th>\n",
              "      <th>POP</th>\n",
              "      <th>LF</th>\n",
              "      <th>WRK</th>\n",
              "    </tr>\n",
              "  </thead>\n",
              "  <tbody>\n",
              "    <tr>\n",
              "      <th>69</th>\n",
              "      <td>1</td>\n",
              "      <td>28</td>\n",
              "      <td>17471</td>\n",
              "      <td>4</td>\n",
              "      <td>1</td>\n",
              "      <td>2</td>\n",
              "      <td>2</td>\n",
              "      <td>1</td>\n",
              "      <td>2</td>\n",
              "      <td>1</td>\n",
              "      <td>...</td>\n",
              "      <td>31</td>\n",
              "      <td>31</td>\n",
              "      <td>31</td>\n",
              "      <td>0</td>\n",
              "      <td>7000</td>\n",
              "      <td>0</td>\n",
              "      <td>01010102</td>\n",
              "      <td>1</td>\n",
              "      <td>1</td>\n",
              "      <td>1</td>\n",
              "    </tr>\n",
              "    <tr>\n",
              "      <th>90</th>\n",
              "      <td>1</td>\n",
              "      <td>28</td>\n",
              "      <td>17471</td>\n",
              "      <td>8</td>\n",
              "      <td>1</td>\n",
              "      <td>3</td>\n",
              "      <td>2</td>\n",
              "      <td>1</td>\n",
              "      <td>2</td>\n",
              "      <td>1</td>\n",
              "      <td>...</td>\n",
              "      <td>31</td>\n",
              "      <td>31</td>\n",
              "      <td>31</td>\n",
              "      <td>0</td>\n",
              "      <td>4500</td>\n",
              "      <td>0</td>\n",
              "      <td>01010102</td>\n",
              "      <td>1</td>\n",
              "      <td>1</td>\n",
              "      <td>1</td>\n",
              "    </tr>\n",
              "    <tr>\n",
              "      <th>208</th>\n",
              "      <td>1</td>\n",
              "      <td>28</td>\n",
              "      <td>17476</td>\n",
              "      <td>3</td>\n",
              "      <td>1</td>\n",
              "      <td>2</td>\n",
              "      <td>2</td>\n",
              "      <td>1</td>\n",
              "      <td>4</td>\n",
              "      <td>2</td>\n",
              "      <td>...</td>\n",
              "      <td>31</td>\n",
              "      <td>31</td>\n",
              "      <td>31</td>\n",
              "      <td>0</td>\n",
              "      <td>8000</td>\n",
              "      <td>0</td>\n",
              "      <td>01010104</td>\n",
              "      <td>1</td>\n",
              "      <td>1</td>\n",
              "      <td>1</td>\n",
              "    </tr>\n",
              "    <tr>\n",
              "      <th>228</th>\n",
              "      <td>1</td>\n",
              "      <td>28</td>\n",
              "      <td>17477</td>\n",
              "      <td>1</td>\n",
              "      <td>1</td>\n",
              "      <td>1</td>\n",
              "      <td>1</td>\n",
              "      <td>1</td>\n",
              "      <td>5</td>\n",
              "      <td>1</td>\n",
              "      <td>...</td>\n",
              "      <td>31</td>\n",
              "      <td>31</td>\n",
              "      <td>31</td>\n",
              "      <td>0</td>\n",
              "      <td>40000</td>\n",
              "      <td>0</td>\n",
              "      <td>01010105</td>\n",
              "      <td>1</td>\n",
              "      <td>1</td>\n",
              "      <td>1</td>\n",
              "    </tr>\n",
              "    <tr>\n",
              "      <th>255</th>\n",
              "      <td>1</td>\n",
              "      <td>28</td>\n",
              "      <td>17478</td>\n",
              "      <td>1</td>\n",
              "      <td>1</td>\n",
              "      <td>1</td>\n",
              "      <td>1</td>\n",
              "      <td>1</td>\n",
              "      <td>5</td>\n",
              "      <td>2</td>\n",
              "      <td>...</td>\n",
              "      <td>31</td>\n",
              "      <td>31</td>\n",
              "      <td>31</td>\n",
              "      <td>0</td>\n",
              "      <td>6000</td>\n",
              "      <td>0</td>\n",
              "      <td>01010105</td>\n",
              "      <td>1</td>\n",
              "      <td>1</td>\n",
              "      <td>1</td>\n",
              "    </tr>\n",
              "    <tr>\n",
              "      <th>...</th>\n",
              "      <td>...</td>\n",
              "      <td>...</td>\n",
              "      <td>...</td>\n",
              "      <td>...</td>\n",
              "      <td>...</td>\n",
              "      <td>...</td>\n",
              "      <td>...</td>\n",
              "      <td>...</td>\n",
              "      <td>...</td>\n",
              "      <td>...</td>\n",
              "      <td>...</td>\n",
              "      <td>...</td>\n",
              "      <td>...</td>\n",
              "      <td>...</td>\n",
              "      <td>...</td>\n",
              "      <td>...</td>\n",
              "      <td>...</td>\n",
              "      <td>...</td>\n",
              "      <td>...</td>\n",
              "      <td>...</td>\n",
              "      <td>...</td>\n",
              "    </tr>\n",
              "    <tr>\n",
              "      <th>109815</th>\n",
              "      <td>2</td>\n",
              "      <td>34</td>\n",
              "      <td>27427</td>\n",
              "      <td>7</td>\n",
              "      <td>1</td>\n",
              "      <td>4</td>\n",
              "      <td>1</td>\n",
              "      <td>1</td>\n",
              "      <td>3</td>\n",
              "      <td>2</td>\n",
              "      <td>...</td>\n",
              "      <td>31</td>\n",
              "      <td>31</td>\n",
              "      <td>31</td>\n",
              "      <td>0</td>\n",
              "      <td>7000</td>\n",
              "      <td>0</td>\n",
              "      <td>02030103</td>\n",
              "      <td>1</td>\n",
              "      <td>1</td>\n",
              "      <td>1</td>\n",
              "    </tr>\n",
              "    <tr>\n",
              "      <th>109819</th>\n",
              "      <td>2</td>\n",
              "      <td>34</td>\n",
              "      <td>27428</td>\n",
              "      <td>1</td>\n",
              "      <td>1</td>\n",
              "      <td>1</td>\n",
              "      <td>1</td>\n",
              "      <td>1</td>\n",
              "      <td>3</td>\n",
              "      <td>2</td>\n",
              "      <td>...</td>\n",
              "      <td>31</td>\n",
              "      <td>31</td>\n",
              "      <td>31</td>\n",
              "      <td>0</td>\n",
              "      <td>25000</td>\n",
              "      <td>0</td>\n",
              "      <td>02030103</td>\n",
              "      <td>1</td>\n",
              "      <td>1</td>\n",
              "      <td>1</td>\n",
              "    </tr>\n",
              "    <tr>\n",
              "      <th>109832</th>\n",
              "      <td>2</td>\n",
              "      <td>34</td>\n",
              "      <td>27428</td>\n",
              "      <td>4</td>\n",
              "      <td>1</td>\n",
              "      <td>2</td>\n",
              "      <td>2</td>\n",
              "      <td>1</td>\n",
              "      <td>3</td>\n",
              "      <td>2</td>\n",
              "      <td>...</td>\n",
              "      <td>31</td>\n",
              "      <td>31</td>\n",
              "      <td>31</td>\n",
              "      <td>0</td>\n",
              "      <td>15000</td>\n",
              "      <td>0</td>\n",
              "      <td>02030103</td>\n",
              "      <td>1</td>\n",
              "      <td>1</td>\n",
              "      <td>1</td>\n",
              "    </tr>\n",
              "    <tr>\n",
              "      <th>109847</th>\n",
              "      <td>2</td>\n",
              "      <td>34</td>\n",
              "      <td>27428</td>\n",
              "      <td>7</td>\n",
              "      <td>1</td>\n",
              "      <td>4</td>\n",
              "      <td>1</td>\n",
              "      <td>1</td>\n",
              "      <td>3</td>\n",
              "      <td>2</td>\n",
              "      <td>...</td>\n",
              "      <td>31</td>\n",
              "      <td>31</td>\n",
              "      <td>31</td>\n",
              "      <td>0</td>\n",
              "      <td>15000</td>\n",
              "      <td>0</td>\n",
              "      <td>02030103</td>\n",
              "      <td>1</td>\n",
              "      <td>1</td>\n",
              "      <td>1</td>\n",
              "    </tr>\n",
              "    <tr>\n",
              "      <th>109849</th>\n",
              "      <td>2</td>\n",
              "      <td>34</td>\n",
              "      <td>27428</td>\n",
              "      <td>7</td>\n",
              "      <td>1</td>\n",
              "      <td>4</td>\n",
              "      <td>1</td>\n",
              "      <td>1</td>\n",
              "      <td>3</td>\n",
              "      <td>2</td>\n",
              "      <td>...</td>\n",
              "      <td>91</td>\n",
              "      <td>91</td>\n",
              "      <td>31</td>\n",
              "      <td>0</td>\n",
              "      <td>15000</td>\n",
              "      <td>0</td>\n",
              "      <td>02030103</td>\n",
              "      <td>1</td>\n",
              "      <td>1</td>\n",
              "      <td>1</td>\n",
              "    </tr>\n",
              "  </tbody>\n",
              "</table>\n",
              "<p>5587 rows × 37 columns</p>\n",
              "</div>\n",
              "      <button class=\"colab-df-convert\" onclick=\"convertToInteractive('df-e0980247-99d0-45bf-bdf9-b526e72fea8f')\"\n",
              "              title=\"Convert this dataframe to an interactive table.\"\n",
              "              style=\"display:none;\">\n",
              "        \n",
              "  <svg xmlns=\"http://www.w3.org/2000/svg\" height=\"24px\"viewBox=\"0 0 24 24\"\n",
              "       width=\"24px\">\n",
              "    <path d=\"M0 0h24v24H0V0z\" fill=\"none\"/>\n",
              "    <path d=\"M18.56 5.44l.94 2.06.94-2.06 2.06-.94-2.06-.94-.94-2.06-.94 2.06-2.06.94zm-11 1L8.5 8.5l.94-2.06 2.06-.94-2.06-.94L8.5 2.5l-.94 2.06-2.06.94zm10 10l.94 2.06.94-2.06 2.06-.94-2.06-.94-.94-2.06-.94 2.06-2.06.94z\"/><path d=\"M17.41 7.96l-1.37-1.37c-.4-.4-.92-.59-1.43-.59-.52 0-1.04.2-1.43.59L10.3 9.45l-7.72 7.72c-.78.78-.78 2.05 0 2.83L4 21.41c.39.39.9.59 1.41.59.51 0 1.02-.2 1.41-.59l7.78-7.78 2.81-2.81c.8-.78.8-2.07 0-2.86zM5.41 20L4 18.59l7.72-7.72 1.47 1.35L5.41 20z\"/>\n",
              "  </svg>\n",
              "      </button>\n",
              "      \n",
              "  <style>\n",
              "    .colab-df-container {\n",
              "      display:flex;\n",
              "      flex-wrap:wrap;\n",
              "      gap: 12px;\n",
              "    }\n",
              "\n",
              "    .colab-df-convert {\n",
              "      background-color: #E8F0FE;\n",
              "      border: none;\n",
              "      border-radius: 50%;\n",
              "      cursor: pointer;\n",
              "      display: none;\n",
              "      fill: #1967D2;\n",
              "      height: 32px;\n",
              "      padding: 0 0 0 0;\n",
              "      width: 32px;\n",
              "    }\n",
              "\n",
              "    .colab-df-convert:hover {\n",
              "      background-color: #E2EBFA;\n",
              "      box-shadow: 0px 1px 2px rgba(60, 64, 67, 0.3), 0px 1px 3px 1px rgba(60, 64, 67, 0.15);\n",
              "      fill: #174EA6;\n",
              "    }\n",
              "\n",
              "    [theme=dark] .colab-df-convert {\n",
              "      background-color: #3B4455;\n",
              "      fill: #D2E3FC;\n",
              "    }\n",
              "\n",
              "    [theme=dark] .colab-df-convert:hover {\n",
              "      background-color: #434B5C;\n",
              "      box-shadow: 0px 1px 3px 1px rgba(0, 0, 0, 0.15);\n",
              "      filter: drop-shadow(0px 1px 2px rgba(0, 0, 0, 0.3));\n",
              "      fill: #FFFFFF;\n",
              "    }\n",
              "  </style>\n",
              "\n",
              "      <script>\n",
              "        const buttonEl =\n",
              "          document.querySelector('#df-e0980247-99d0-45bf-bdf9-b526e72fea8f button.colab-df-convert');\n",
              "        buttonEl.style.display =\n",
              "          google.colab.kernel.accessAllowed ? 'block' : 'none';\n",
              "\n",
              "        async function convertToInteractive(key) {\n",
              "          const element = document.querySelector('#df-e0980247-99d0-45bf-bdf9-b526e72fea8f');\n",
              "          const dataTable =\n",
              "            await google.colab.kernel.invokeFunction('convertToInteractive',\n",
              "                                                     [key], {});\n",
              "          if (!dataTable) return;\n",
              "\n",
              "          const docLinkHtml = 'Like what you see? Visit the ' +\n",
              "            '<a target=\"_blank\" href=https://colab.research.google.com/notebooks/data_table.ipynb>data table notebook</a>'\n",
              "            + ' to learn more about interactive tables.';\n",
              "          element.innerHTML = '';\n",
              "          dataTable['output_type'] = 'display_data';\n",
              "          await google.colab.output.renderOutput(dataTable, element);\n",
              "          const docLink = document.createElement('div');\n",
              "          docLink.innerHTML = docLinkHtml;\n",
              "          element.appendChild(docLink);\n",
              "        }\n",
              "      </script>\n",
              "    </div>\n",
              "  </div>\n",
              "  "
            ]
          },
          "metadata": {},
          "execution_count": 23
        }
      ]
    },
    {
      "cell_type": "code",
      "source": [
        "# Apply the queries in Arr3 to filter the rows of the dataframe\n",
        "for i, query_str in enumerate(Arr3):\n",
        "    \n",
        "    if query_str is True:\n",
        "        if type(Arr2[i]) == str:\n",
        "            if '+' in Arr2[i]:\n",
        "                df[Arr1[i]] = df[Arr2[i].split('+')].apply(lambda x: x.sum(), axis=1)\n",
        "                print('*** First if', Arr2[i], Arr1[i], Arr3[i], i)\n",
        "\n",
        "            else:\n",
        "                df[Arr1[i]] = df[[Arr2[i]]].apply(lambda x: x, axis=1)\n",
        "                print('*** First else', Arr2[i], Arr1[i], Arr3[i], i)\n",
        "        # if type(Arr3[i]):\n",
        "        #     print('^^^ Second if', Arr2[i], Arr1[i], Arr3[i], i)\n",
        "        #     df.loc[df_query.index, Arr1[i]] = Arr2[i]\n",
        "    \n",
        "    else:\n",
        "        # try:\n",
        "        # query_str = re.sub(r'0?\\s?(\\d+)', r'\\1', query_str)\n",
        "        print(query_str)\n",
        "        df_query = df.query(query_str)\n",
        "        # except:\n",
        "        #     pass\n",
        "\n",
        "        if type(Arr2[i]) == float:\n",
        "            df.loc[df_query.index, Arr1[i]] = Arr2[i]\n",
        "            # print('### Third if', Arr2[i], Arr1[i], Arr3[i])\n",
        "        else:\n",
        "            df.loc[df_query.index, Arr1[i]] = Arr2[i]\n",
        "            # print('@@@ First else', Arr2[i], Arr1[i], Arr3[i])\n",
        "\n",
        "\n",
        "        if type(Arr2[i]) == str:\n",
        "            if Arr2[i] in list(df.columns):\n",
        "                df[Arr1[i]] = df[[Arr2[i]]].apply(lambda x: x, axis=1)\n",
        "                # print('$$$ Fourth if', Arr2[i], Arr1[i], Arr3[i])\n",
        "\n",
        "# print(df)"
      ],
      "metadata": {
        "id": "0VEa4lv267ep",
        "colab": {
          "base_uri": "https://localhost:8080/"
        },
        "outputId": "22153825-d340-4876-8d9e-a90285c3f05b"
      },
      "execution_count": 24,
      "outputs": [
        {
          "output_type": "stream",
          "name": "stdout",
          "text": [
            "AGE<15\n",
            "AGE>=15 & AGE<20\n",
            "AGE>=20 & AGE<30\n",
            "AGE>=30 & AGE<60\n",
            "~(AGE>=15 & AGE<20) & ~(AGE>=30 & AGE<60) & ~(AGE>=20 & AGE<30) & ~(AGE<15)\n",
            "*** First if ERN_SELF+ERN_REG POP True 5\n",
            "(~ (CWS==11 | CWS==12 | CWS==21)) & GEDU.isin([5,6,7,11,12])\n",
            "~((~ (CWS==11 | CWS==12 | CWS==21)) & GEDU.isin([5,6,7,11,12]))\n",
            "(~ (CWS>=31 & CWS <41)) & GEDU>=5\n",
            "~((~ (CWS>=31 & CWS <41)) & GEDU>=5)\n"
          ]
        }
      ]
    },
    {
      "cell_type": "code",
      "source": [],
      "metadata": {
        "id": "nRAjp3gWIWfh"
      },
      "execution_count": 24,
      "outputs": []
    },
    {
      "cell_type": "code",
      "source": [
        "# # Apply the queries in Arr3 to filter the rows of the dataframe\n",
        "# for i, query_str in enumerate(Arr3):\n",
        "    \n",
        "#     if query_str is True:\n",
        "#         print(query_str)\n",
        "\n",
        "#         try:\n",
        "#             query_str = re.sub(r'(?<=\\d)\\s+(?=\\d)', '', query_str)\n",
        "#             df_query = df.query(query_str)\n",
        "#         except:\n",
        "#             pass\n",
        "\n",
        "#         if type(Arr2[i]) == str:\n",
        "#             if '+' in Arr2[i]:\n",
        "#                 df[Arr1[i]] = df[Arr2[i].split('+')].apply(lambda x: x.sum(), axis=1)\n",
        "#                 print('*** First if', Arr2[i], Arr1[i], Arr3[i], i)\n",
        "\n",
        "#             if True:\n",
        "#                 # try:\n",
        "#                 query_str = re.sub(r'(?<=\\d)\\s+(?=\\d)', '', query_str)\n",
        "#                 df_query = df.query(query_str)\n",
        "#                 # except:\n",
        "#                 #     pass\n",
        "#                 df[Arr1[i]] = df[[Arr2[i]]].apply(lambda x: x, axis=1)\n",
        "#                 print('*** First else', Arr2[i], Arr1[i], Arr3[i], i)\n",
        "\n",
        "#         else:\n",
        "#             df.loc[df_query.index, Arr1[i]] = Arr2[i]\n",
        "#             print('*** 2nd else', Arr2[i], Arr1[i], Arr3[i], i)\n",
        "    \n",
        "#     else:\n",
        "#         query_str = re.sub(r'(?<=\\d)\\s+(?=\\d)', '', query_str)\n",
        "#         # try:\n",
        "#         df_query = df.query(query_str)\n",
        "#         # except:\n",
        "#         #     pass\n",
        "\n",
        "#         if type(Arr2[i]) == float:\n",
        "#             df.loc[df_query.index, Arr1[i]] = Arr2[i]\n",
        "#             # print('### 2nd if', Arr2[i], Arr1[i], Arr3[i])\n",
        "#         else:\n",
        "#             df.loc[df_query.index, Arr1[i]] = Arr2[i]\n",
        "#             print('@@@ 3rd else', Arr2[i], Arr1[i], Arr3[i])\n",
        "\n",
        "\n",
        "#         if type(Arr2[i]) == str:\n",
        "#             if Arr2[i] in list(df.columns):\n",
        "#                 df[Arr1[i]] = df[[Arr2[i]]].apply(lambda x: x, axis=1)\n",
        "#                 print('$$$ 3rd if', Arr2[i], Arr1[i], Arr3[i])\n",
        "\n",
        "# # print(df)"
      ],
      "metadata": {
        "id": "9Ymd7BTvha86"
      },
      "execution_count": 25,
      "outputs": []
    },
    {
      "cell_type": "code",
      "source": [
        "df[['LF']].value_counts()"
      ],
      "metadata": {
        "colab": {
          "base_uri": "https://localhost:8080/"
        },
        "id": "I_UBlt_QSS0f",
        "outputId": "3fe8820e-0554-4d42-b503-d337f9a0bad6"
      },
      "execution_count": 26,
      "outputs": [
        {
          "output_type": "execute_result",
          "data": {
            "text/plain": [
              "LF   \n",
              "0        98409\n",
              "10000     1113\n",
              "8000       882\n",
              "15000      868\n",
              "5000       828\n",
              "         ...  \n",
              "2290         1\n",
              "10820        1\n",
              "10900        1\n",
              "10950        1\n",
              "13400        1\n",
              "Length: 445, dtype: int64"
            ]
          },
          "metadata": {},
          "execution_count": 26
        }
      ]
    },
    {
      "cell_type": "code",
      "source": [
        "# ### Decide the type of the Variables\n",
        "# ### --------------------------------\n",
        "    \n",
        "# def GROUP_Decide_Type(data):\n",
        "#     for key, value in data.items():    \n",
        "#         if str('GROUP').lower() in str(key).lower():\n",
        "#             value_name = [s.split()[0] for s in value]\n",
        "#             value_type = [s.split()[1] for s in value]\n",
        "#             return {k:v for k, v in zip(value_name, value_type)}\n",
        "\n",
        "\n",
        "# def VARIABLE_Decide_Type(data):\n",
        "#     for key, value in data.items():    \n",
        "#         if str('VARIABLE').lower() in str(key).lower():\n",
        "#             value_name = [s.split()[0] for s in value]\n",
        "#             value_type = [s.split()[1] for s in value]\n",
        "\n",
        "#             return {k:v for k, v in zip(value_name, value_type)}\n",
        "\n",
        "\n",
        "# def RENAME_Decide_Type(data):\n",
        "#     for key, value in data.items():    \n",
        "#         if str('RENAME').lower() in str(key).lower():\n",
        "#             value_name = [s.split()[0] for s in value]\n",
        "#             value_type = [s.split()[1] for s in value]\n",
        "\n",
        "#             return {k:v for k, v in zip(value_name, value_type)}\n",
        "\n",
        "# decide_group = GROUP_Decide_Type(data)\n",
        "# decide_var = VARIABLE_Decide_Type(data)\n",
        "# decide_rename = RENAME_Decide_Type(data)\n",
        "\n",
        "\n",
        "# for k, v in decide_group.items():\n",
        "#     if v == 'N':\n",
        "#         print(v)\n",
        "#         df[k] = pd.to_numeric(df[k])\n",
        "    \n",
        "#     if v == 'C' or 'c':\n",
        "#         df[k] = df[k].astype(str)\n",
        "\n",
        "# for i, j in decide_var.items():\n",
        "#     if j == 'N' or 'n':\n",
        "#         df[i] = pd.to_numeric(df[i])\n",
        "    \n",
        "#     if j == 'C' or 'c':\n",
        "#         df[i] = df[i].astype(str)\n",
        "\n",
        "# for m, n in decide_rename.items():\n",
        "#     if n is 'N' or 'n':\n",
        "#         df[m] = pd.to_numeric(df[m])\n",
        "    \n",
        "#     if n is 'C' or 'c':\n",
        "#         df[m] = df[m].astype(str)"
      ],
      "metadata": {
        "id": "mckCl-hXyex3"
      },
      "execution_count": 27,
      "outputs": []
    },
    {
      "cell_type": "code",
      "source": [
        "df.to_csv('WorkFile_Balanced_Half_Sample_Method_Example5.csv')"
      ],
      "metadata": {
        "id": "4wqjFwT1DjuX"
      },
      "execution_count": 28,
      "outputs": []
    },
    {
      "cell_type": "markdown",
      "source": [],
      "metadata": {
        "id": "Iuk_3yl_Nu5A"
      }
    },
    {
      "cell_type": "code",
      "source": [],
      "metadata": {
        "id": "iqbErrIfg852"
      },
      "execution_count": 28,
      "outputs": []
    },
    {
      "cell_type": "code",
      "source": [
        "df.columns"
      ],
      "metadata": {
        "id": "UezoawpS4vn4",
        "colab": {
          "base_uri": "https://localhost:8080/"
        },
        "outputId": "a6a34fcf-c05c-425c-b068-e33b5a549d59"
      },
      "execution_count": 29,
      "outputs": [
        {
          "output_type": "execute_result",
          "data": {
            "text/plain": [
              "Index(['SEC', 'ST', 'FSU', 'IDNO', 'SEG', 'SSS', 'SSU', 'STRM', 'SSTRM', 'SS',\n",
              "       'NSS', 'NSC', 'MULT', 'HH_SIZE', 'HHTYPE', 'RELG', 'SG', 'MHCE',\n",
              "       'DC_ALL', 'DC_ST', 'SRL', 'REL', 'SEX', 'MSEX', 'AGE', 'MARST', 'GEDU',\n",
              "       'PAS', 'PS_SS', 'CWS', 'ERN_SELF', 'ERN_REG', 'AGE_GR', 'STRMID', 'POP',\n",
              "       'LF', 'WRK'],\n",
              "      dtype='object')"
            ]
          },
          "metadata": {},
          "execution_count": 29
        }
      ]
    },
    {
      "cell_type": "code",
      "source": [
        "df['SEC'].unique()"
      ],
      "metadata": {
        "id": "zXY5TUr4rJsH",
        "colab": {
          "base_uri": "https://localhost:8080/"
        },
        "outputId": "8ed436ad-1f41-43af-b7cb-ed21073dd1ce"
      },
      "execution_count": 30,
      "outputs": [
        {
          "output_type": "execute_result",
          "data": {
            "text/plain": [
              "array([1, 2])"
            ]
          },
          "metadata": {},
          "execution_count": 30
        }
      ]
    },
    {
      "cell_type": "code",
      "source": [],
      "metadata": {
        "id": "PW7_Ab1ETtzt"
      },
      "execution_count": 30,
      "outputs": []
    },
    {
      "cell_type": "markdown",
      "source": [
        "**STEP 1**"
      ],
      "metadata": {
        "id": "OS08Y3aCseyh"
      }
    },
    {
      "cell_type": "code",
      "source": [
        "# # Read the data from the CSV file\n",
        "# df = pd.read_csv('Work_File1A.csv')\n",
        "\n",
        "# Get the current column names\n",
        "old_col_names = df.columns.tolist()\n",
        "\n",
        "# Create a dictionary with the new column names\n",
        "new_col_names = {col: col.strip() for col in old_col_names}\n",
        "\n",
        "# Rename the columns using the dictionary\n",
        "df.rename(columns=new_col_names, inplace=True)\n",
        "\n",
        "df['MULT'] = pd.to_numeric(df['MULT'])\n",
        "\n",
        "# Calculate the SS_MULT and CMULT fields\n",
        "df['SS_MULT'] = df['MULT'] / 100\n",
        "df['CMULT'] = df.apply(lambda row: row['MULT'] / 200 if row['NSC'] > row['NSS'] else row['MULT'] / 100, axis=1)\n",
        "\n",
        "lst_df = list(df.columns)\n",
        "\n",
        "groupby_cols = GROUP_(data, df)\n",
        "\n",
        "# Create a list of all possible subsets of groupby_cols\n",
        "groupby_cols_subsets = [list(subset) for i in range(len(groupby_cols) + 1)\n",
        "                        for subset in itertools.combinations(groupby_cols, i)]\n",
        "\n",
        "# Select columns that are not in groupby_cols\n",
        "cols = [col for col in df.columns if col in groupby_cols]\n",
        "\n",
        "agg_dict = {col: sum for col in cols if (df[col].dtype == int or df[col].dtype == float) and col in groupby_cols}\n",
        "\n",
        "################\n",
        "Arr_W1 = []\n",
        "\n",
        "\n",
        "### Loop over each subset of columns and perform the aggregation\n",
        "### ------------------------------------------------------------\n",
        "for groupby_cols_subset in groupby_cols_subsets:\n",
        "    # Define the prefix to use for the new columns\n",
        "    prefix = 'Z'\n",
        "\n",
        "    if len(groupby_cols_subset) == 0:\n",
        "\n",
        "        # # If empty list is selected, perform aggregation without grouping\n",
        "        # w1 = df.agg(agg_dict).to_frame().T\n",
        "\n",
        "        # print(new_df)\n",
        "\n",
        "        test_lst = groupby_cols\n",
        "\n",
        "        df['POP'] = pd.to_numeric(df['POP']) * df['CMULT']\n",
        "        df['LF'] = pd.to_numeric(df['LF']) * df['CMULT']\n",
        "        df['WRK'] = pd.to_numeric(df['WRK']) * df['CMULT']\n",
        "        df['MULT'] = df.shape[0]\n",
        "\n",
        "        agg_dict = {'POP': 'sum', 'LF': 'sum', 'WRK': 'sum'}\n",
        "\n",
        "        # Group the data by SEC and ST_GR and calculate the aggregates\n",
        "        w1 = df.agg(agg_dict).to_frame().T\n",
        "\n",
        "        # Rename the columns and reset the index\n",
        "        w1 = w1.rename(columns={'POP': 'pophat', 'LF': 'lfhat', 'WRK': 'wrkhat', 'MULT': 'count'}).reset_index()\n",
        "        w1['groupby_cols'] = 'All columns'\n",
        "\n",
        "        new_col_val_ = []\n",
        "\n",
        "        for i in range(len(list(set(groupby_cols_subsets[-1]) - set(w1.columns)))):\n",
        "            # Create a new column with the appropriate number of \"Z\"s and the prefix\n",
        "            new_col_val_.append(prefix * (i+1))\n",
        "\n",
        "        for i in range(len(list(set(groupby_cols_subsets[-1]) - set(w1.columns)))):\n",
        "            # Add the new column to the DataFrame\n",
        "            w1[test_lst[i]] = new_col_val_[i]\n",
        "\n",
        "        # print(w1)\n",
        "        ################\n",
        "        Arr_W1.append(w1)\n",
        "\n",
        "        continue\n",
        "\n",
        "    # Create a new dataframe by grouping by the selected columns and aggregating\n",
        "    # Note: here I'm just calculating the sum of columns C and D, but you can use any aggregation function\n",
        "    # new_df = df.groupby(list(groupby_cols_subset)).agg(agg_dict).reset_index()\n",
        "    \n",
        "    # Group the data by SEC and ST_GR and calculate the aggregates\n",
        "    w1 = df.groupby(groupby_cols_subset).agg({'POP': lambda x: (pd.to_numeric(x) * df['CMULT']).sum(),\n",
        "                                                'LF': lambda x: (pd.to_numeric(x) * df['CMULT']).sum(),\n",
        "                                                    'WRK': lambda x: (pd.to_numeric(x) * df['CMULT']).sum(),\n",
        "                                                        'MULT': 'count'}).reset_index()\n",
        "\n",
        "    # Rename the columns and reset the index\n",
        "    w1 = w1.rename(columns={'POP': 'pophat', 'LF': 'lfhat', 'WRK': 'wrkhat', 'MULT': 'no_sam'}).reset_index()\n",
        "\n",
        "    test_lst = groupby_cols_subset\n",
        "\n",
        "    # Add a new column to indicate which groupby columns are selected\n",
        "    w1['groupby_cols'] = ', '.join(groupby_cols_subset)\n",
        "\n",
        "    new_col_val = []\n",
        "    for i in range(len(list(set(groupby_cols_subsets[-1]) - set(w1.columns)))):\n",
        "        # Create a new column with the appropriate number of \"Z\"s and the prefix\n",
        "        new_col_val.append(prefix * (i+1))\n",
        "\n",
        "    for i in range(len(list(set(groupby_cols_subsets[-1]) - set(w1.columns)))):\n",
        "        # Add the new column to the DataFrame\n",
        "        w1[list(set(groupby_cols_subsets[-1]) - set(w1.columns))[i]] = new_col_val[i]\n",
        "\n",
        "    Arr_W1.append(w1)\n"
      ],
      "metadata": {
        "id": "FBjN92PqdCZx"
      },
      "execution_count": 61,
      "outputs": []
    },
    {
      "cell_type": "code",
      "source": [
        "Arr_W1"
      ],
      "metadata": {
        "id": "7OcfQmmShu-v",
        "colab": {
          "base_uri": "https://localhost:8080/"
        },
        "outputId": "6efafa4b-f724-49b8-9805-198c9a1d96d8"
      },
      "execution_count": 62,
      "outputs": [
        {
          "output_type": "execute_result",
          "data": {
            "text/plain": [
              "[   index        pophat         lfhat        wrkhat groupby_cols SEC AGE_GR\n",
              " 0      0  1.443412e+15  6.185486e+14  3.732672e+14  All columns   Z     ZZ,\n",
              "    index  SEC        pophat         lfhat        wrkhat  no_sam groupby_cols  \\\n",
              " 0      0    1  3.839722e+17  1.930662e+17  6.886093e+16   62248          SEC   \n",
              " 1      1    2  4.105608e+17  1.477973e+17  1.365466e+17   47608          SEC   \n",
              " \n",
              "   AGE_GR  \n",
              " 0      Z  \n",
              " 1      Z  ,\n",
              "    index  AGE_GR        pophat         lfhat        wrkhat  no_sam  \\\n",
              " 0      0       1  5.650106e+14  1.833875e+14  3.041124e+14   26055   \n",
              " 1      1       2  7.296130e+15  1.625116e+15  2.964095e+15   12104   \n",
              " 2      2       3  1.245872e+17  4.144304e+16  4.833664e+16   20108   \n",
              " 3      3       4  6.022275e+17  2.642711e+17  1.494338e+17   41296   \n",
              " 4      4       5  5.985707e+16  3.334086e+16  4.368904e+15   10293   \n",
              " \n",
              "   groupby_cols SEC  \n",
              " 0       AGE_GR   Z  \n",
              " 1       AGE_GR   Z  \n",
              " 2       AGE_GR   Z  \n",
              " 3       AGE_GR   Z  \n",
              " 4       AGE_GR   Z  ,\n",
              "    index  SEC  AGE_GR        pophat         lfhat        wrkhat  no_sam  \\\n",
              " 0      0    1       1  4.038145e+14  1.595561e+14  2.431832e+14   15529   \n",
              " 1      1    1       2  4.153324e+15  1.255456e+15  1.328869e+15    7307   \n",
              " 2      2    1       3  5.400500e+16  2.246500e+16  1.781034e+16   10982   \n",
              " 3      3    1       4  2.859784e+17  1.487409e+17  4.767036e+16   22740   \n",
              " 4      4    1       5  3.943164e+16  2.044528e+16  1.808170e+15    5690   \n",
              " 5      5    2       1  1.611962e+14  2.383146e+13  6.092927e+13   10526   \n",
              " 6      6    2       2  3.142805e+15  3.696603e+14  1.635225e+15    4797   \n",
              " 7      7    2       3  7.058221e+16  1.897804e+16  3.052629e+16    9126   \n",
              " 8      8    2       4  3.162491e+17  1.155302e+17  1.017635e+17   18556   \n",
              " 9      9    2       5  2.042542e+16  1.289559e+16  2.560734e+15    4603   \n",
              " \n",
              "   groupby_cols  \n",
              " 0  SEC, AGE_GR  \n",
              " 1  SEC, AGE_GR  \n",
              " 2  SEC, AGE_GR  \n",
              " 3  SEC, AGE_GR  \n",
              " 4  SEC, AGE_GR  \n",
              " 5  SEC, AGE_GR  \n",
              " 6  SEC, AGE_GR  \n",
              " 7  SEC, AGE_GR  \n",
              " 8  SEC, AGE_GR  \n",
              " 9  SEC, AGE_GR  ]"
            ]
          },
          "metadata": {},
          "execution_count": 62
        }
      ]
    },
    {
      "cell_type": "code",
      "source": [
        "df['SS'].unique()"
      ],
      "metadata": {
        "id": "PeSjbY4gjGgr",
        "colab": {
          "base_uri": "https://localhost:8080/"
        },
        "outputId": "446e20b5-004c-40a7-e7ff-3ab9a5551f42"
      },
      "execution_count": 63,
      "outputs": [
        {
          "output_type": "execute_result",
          "data": {
            "text/plain": [
              "array([1, 2])"
            ]
          },
          "metadata": {},
          "execution_count": 63
        }
      ]
    },
    {
      "cell_type": "code",
      "source": [
        "df['no_sam'] = 0"
      ],
      "metadata": {
        "id": "XwIcaR1d0Tob"
      },
      "execution_count": 64,
      "outputs": []
    },
    {
      "cell_type": "code",
      "source": [
        "df.columns"
      ],
      "metadata": {
        "id": "2LV13Nph0Tr4",
        "colab": {
          "base_uri": "https://localhost:8080/"
        },
        "outputId": "3eef73de-a6b7-4bf3-8ec7-636aa95274d7"
      },
      "execution_count": 65,
      "outputs": [
        {
          "output_type": "execute_result",
          "data": {
            "text/plain": [
              "Index(['SEC', 'ST', 'FSU', 'IDNO', 'SEG', 'SSS', 'SSU', 'STRM', 'SSTRM', 'SS',\n",
              "       'NSS', 'NSC', 'MULT', 'HH_SIZE', 'HHTYPE', 'RELG', 'SG', 'MHCE',\n",
              "       'DC_ALL', 'DC_ST', 'SRL', 'REL', 'SEX', 'MSEX', 'AGE', 'MARST', 'GEDU',\n",
              "       'PAS', 'PS_SS', 'CWS', 'ERN_SELF', 'ERN_REG', 'AGE_GR', 'STRMID', 'POP',\n",
              "       'LF', 'WRK', 'SS_MULT', 'CMULT', 'no_sam', 'popstr', 's1pop', 's2pop',\n",
              "       'lfstr', 's1lf', 's2lf', 'wrkstr', 's1wrk', 's2wrk'],\n",
              "      dtype='object')"
            ]
          },
          "metadata": {},
          "execution_count": 65
        }
      ]
    },
    {
      "cell_type": "markdown",
      "source": [
        "**STEP 2** IT is running slow, figure it out later...\n"
      ],
      "metadata": {
        "id": "8flHj01dsJeA"
      }
    },
    {
      "cell_type": "code",
      "source": [
        "# Filter dataframe to include only rows where SS is 1 or 2\n",
        "df = df.query(\"SS in [1, 2]\")\n",
        "# print(f\"Number of rows after filtering: {len(df)}\")\n",
        "\n",
        "Arr_W2 = []\n",
        "\n",
        "### Loop over subset of columns to perform aggregation\n",
        "for i in range(len(groupby_cols_subsets)):\n",
        "\n",
        "    new_groupby_cols_subset = ['STRMID']\n",
        "\n",
        "    # Define the prefix to use for the new columns\n",
        "    prefix = 'Z'\n",
        "\n",
        "    if i == 0:\n",
        "\n",
        "        df['popstr'] = pd.to_numeric(df['POP']) * df['CMULT']\n",
        "        df['s1pop'] = np.where(df['SS'] == 1, pd.to_numeric(df['POP']) * df['SS_MULT'], 0)\n",
        "        df['s2pop'] = np.where(df['SS'] == 2, pd.to_numeric(df['POP']) * df['SS_MULT'], 0)\n",
        "        df['lfstr'] = pd.to_numeric(df['LF']) * df['CMULT']\n",
        "        df['s1lf'] = np.where(df['SS'] == 1, pd.to_numeric(df['LF']) * df['SS_MULT'], 0)\n",
        "        df['s2lf'] = np.where(df['SS'] == 2, pd.to_numeric(df['LF']) * df['SS_MULT'], 0)\n",
        "        df['wrkstr'] = pd.to_numeric(df['WRK']) * df['CMULT']\n",
        "        df['s1wrk'] = np.where(df['SS'] == 1, pd.to_numeric(df['WRK']) * df['SS_MULT'], 0)\n",
        "        df['s2wrk'] = np.where(df['SS'] == 2, pd.to_numeric(df['WRK']) * df['SS_MULT'], 0)\n",
        "\n",
        "        agg_dict = {'popstr': 'sum', 's1pop': 'sum', 's2pop': 'sum', 'lfstr': 'sum', 's1lf': 'sum', \\\n",
        "                    's2lf': 'sum', 'wrkstr': 'sum', 's1wrk': 'sum', 's2wrk': 'sum'}\n",
        "\n",
        "        # # If empty list is selected, perform aggregation without grouping\n",
        "        w2 = df.agg(agg_dict).to_frame().T\n",
        "\n",
        "        w2['STRMID'] = 'ALL'\n",
        "\n",
        "        new_col_val_ = []\n",
        "\n",
        "        for i in range(len(list(set(groupby_cols) - set(w2.columns)))):\n",
        "            # Create a new column with the appropriate number of \"Z\"s and the prefix\n",
        "            new_col_val_.append(prefix * (i+1))\n",
        "\n",
        "        for i in range(len(list(set(groupby_cols) - set(w2.columns)))):\n",
        "            # Add the new column to the DataFrame\n",
        "            w2[groupby_cols[i]] = new_col_val_[i]\n",
        "\n",
        "        Arr_W2.append(w2)\n",
        "\n",
        "        continue\n",
        "\n",
        "    print(groupby_cols_subsets[i])\n",
        "\n",
        "    new_groupby_cols_subset.extend(groupby_cols_subsets[i])\n",
        "\n",
        "    print(new_groupby_cols_subset)\n",
        "\n",
        "    w2 = df.groupby(groupby_cols_subsets[i]).agg(\n",
        "            popstr=('POP', lambda x: np.sum(x * df['CMULT'])),\n",
        "            s1pop=('POP', lambda x: np.nansum(np.where(df['SS'] == 1, x * df['SS_MULT'], 0))),\n",
        "                s2pop=('POP', lambda x: np.nansum(np.where(df['SS'] == 2, x * df['SS_MULT'], 0))),\n",
        "                lfstr=('LF', lambda x: np.nansum(x * df['CMULT'])),\n",
        "                    s1lf=('LF', lambda x: np.nansum(np.where(df['SS'] == 1, x * df['SS_MULT'], 0))),\n",
        "                    s2lf=('LF', lambda x: np.nansum(np.where(df['SS'] == 2, x * df['SS_MULT'], 0))),\n",
        "                        wrkstr=('WRK', lambda x: np.nansum(x * df['CMULT'])),\n",
        "                        s1wrk=('WRK', lambda x: np.nansum(np.where(df['SS'] == 1, x * df['SS_MULT'], 0))),\n",
        "                        s2wrk=('WRK', lambda x: np.nansum(np.where(df['SS'] == 2, x * df['SS_MULT'], 0)))\n",
        "                            ).reset_index()\n",
        "\n",
        "    new_col_val = []\n",
        "    for i in range(len(list(set(groupby_cols_subsets[-1]) - set(w2.columns)))):\n",
        "        # Create a new column with the appropriate number of \"Z\"s and the prefix\n",
        "        new_col_val.append(prefix * (i+1))\n",
        "\n",
        "    for i in range(len(list(set(groupby_cols_subsets[-1]) - set(w2.columns)))):\n",
        "        # Add the new column to the DataFrame\n",
        "        w2[list(set(groupby_cols_subsets[-1]) - set(w2.columns))[i]] = new_col_val[i]\n",
        "\n",
        "    Arr_W2.append(w2)"
      ],
      "metadata": {
        "id": "KN_zT5h1i4eC",
        "colab": {
          "base_uri": "https://localhost:8080/"
        },
        "outputId": "fe7b9308-a7ce-4275-e6b4-bc366a5e3629"
      },
      "execution_count": 73,
      "outputs": [
        {
          "output_type": "stream",
          "name": "stdout",
          "text": [
            "['SEC']\n",
            "['STRMID', 'SEC']\n",
            "['AGE_GR']\n",
            "['STRMID', 'AGE_GR']\n",
            "['SEC', 'AGE_GR']\n",
            "['STRMID', 'SEC', 'AGE_GR']\n"
          ]
        }
      ]
    },
    {
      "cell_type": "code",
      "source": [
        "for i in Arr_W2:\n",
        "    print(i.columns)\n",
        "\n",
        "for i in Arr_W1:\n",
        "    print(i.columns)"
      ],
      "metadata": {
        "id": "rEtzMLU31Klt",
        "colab": {
          "base_uri": "https://localhost:8080/"
        },
        "outputId": "f508fd3f-1284-45c5-aec7-fb132674315a"
      },
      "execution_count": 74,
      "outputs": [
        {
          "output_type": "stream",
          "name": "stdout",
          "text": [
            "Index(['popstr', 's1pop', 's2pop', 'lfstr', 's1lf', 's2lf', 'wrkstr', 's1wrk',\n",
            "       's2wrk', 'STRMID', 'SEC', 'AGE_GR'],\n",
            "      dtype='object')\n",
            "Index(['SEC', 'popstr', 's1pop', 's2pop', 'lfstr', 's1lf', 's2lf', 'wrkstr',\n",
            "       's1wrk', 's2wrk', 'AGE_GR'],\n",
            "      dtype='object')\n",
            "Index(['AGE_GR', 'popstr', 's1pop', 's2pop', 'lfstr', 's1lf', 's2lf', 'wrkstr',\n",
            "       's1wrk', 's2wrk', 'SEC'],\n",
            "      dtype='object')\n",
            "Index(['SEC', 'AGE_GR', 'popstr', 's1pop', 's2pop', 'lfstr', 's1lf', 's2lf',\n",
            "       'wrkstr', 's1wrk', 's2wrk'],\n",
            "      dtype='object')\n",
            "Index(['index', 'pophat', 'lfhat', 'wrkhat', 'groupby_cols', 'SEC', 'AGE_GR'], dtype='object')\n",
            "Index(['index', 'SEC', 'pophat', 'lfhat', 'wrkhat', 'no_sam', 'groupby_cols',\n",
            "       'AGE_GR'],\n",
            "      dtype='object')\n",
            "Index(['index', 'AGE_GR', 'pophat', 'lfhat', 'wrkhat', 'no_sam',\n",
            "       'groupby_cols', 'SEC'],\n",
            "      dtype='object')\n",
            "Index(['index', 'SEC', 'AGE_GR', 'pophat', 'lfhat', 'wrkhat', 'no_sam',\n",
            "       'groupby_cols'],\n",
            "      dtype='object')\n"
          ]
        }
      ]
    },
    {
      "cell_type": "code",
      "source": [
        "Arr_W3 = []\n",
        "\n",
        "### Loop over subset of columns to perform aggregation\n",
        "for i in range(len(Arr_W2)):\n",
        "\n",
        "    # Join w2 and w1 on SEC and ST_GR columns\n",
        "    # w3 = Arr_W2[i].merge(Arr_W1[i], on=['SEC', 'AGE_GR'])\n",
        "    w3 = pd.concat([Arr_W2[i], Arr_W1[i]], axis=1)\n",
        "\n",
        "    w3['no_sam'] = w3.shape[0]\n",
        "    \n",
        "    # Add new columns to w3\n",
        "    w3['r1hat'] = w3['lfhat'] / w3['pophat']\n",
        "    w3['r2hat'] = w3['wrkhat'] / w3['pophat']\n",
        "\n",
        "    # Equate s1pop and s2pop\n",
        "    w3.loc[w3['popstr'] == w3['s1pop'], 's1pop'] = w3.loc[w3['popstr'] == w3['s1pop'], 's2pop']\n",
        "    w3.loc[w3['popstr'] == w3['s2pop'], 's2pop'] = w3.loc[w3['popstr'] == w3['s2pop'], 's1pop']\n",
        "\n",
        "    # Equate s1lf and s2lf\n",
        "    w3.loc[w3['lfstr'] == w3['s1lf'], 's1lf'] = w3.loc[w3['lfstr'] == w3['s1lf'], 's2lf']\n",
        "    w3.loc[w3['lfstr'] == w3['s2lf'], 's2lf'] = w3.loc[w3['lfstr'] == w3['s2lf'], 's1lf']\n",
        "\n",
        "    # Equate s1wrk and s2wrk\n",
        "    w3.loc[w3['wrkstr'] == w3['s1wrk'], 's1wrk'] = w3.loc[w3['wrkstr'] == w3['s1wrk'], 's2wrk']\n",
        "    w3.loc[w3['wrkstr'] == w3['s2wrk'], 's2wrk'] = w3.loc[w3['wrkstr'] == w3['s2wrk'], 's1wrk']\n",
        "    \n",
        "    Arr_W3.append(w3)\n",
        "\n"
      ],
      "metadata": {
        "id": "aOozfIhLjET1"
      },
      "execution_count": 75,
      "outputs": []
    },
    {
      "cell_type": "code",
      "source": [
        "Arr_W3"
      ],
      "metadata": {
        "colab": {
          "base_uri": "https://localhost:8080/"
        },
        "id": "P7Gno6olIXd1",
        "outputId": "10cf513f-5f52-4e90-8ebe-92248da2709f"
      },
      "execution_count": 76,
      "outputs": [
        {
          "output_type": "execute_result",
          "data": {
            "text/plain": [
              "[         popstr         s1pop         s2pop         lfstr          s1lf  \\\n",
              " 0  7.945329e+17  7.993634e+17  7.863115e+17  3.408635e+17  3.475222e+17   \n",
              " \n",
              "            s2lf        wrkstr         s1wrk         s2wrk STRMID  ... index  \\\n",
              " 0  3.319905e+17  2.054076e+17  2.092795e+17  2.007770e+17    ALL  ...     0   \n",
              " \n",
              "          pophat         lfhat        wrkhat  groupby_cols  SEC AGE_GR no_sam  \\\n",
              " 0  1.443412e+15  6.185486e+14  3.732672e+14   All columns    Z     ZZ      1   \n",
              " \n",
              "       r1hat     r2hat  \n",
              " 0  0.428532  0.258601  \n",
              " \n",
              " [1 rows x 22 columns],\n",
              "    SEC        popstr         s1pop         s2pop         lfstr          s1lf  \\\n",
              " 0    1  3.839722e+17  3.860585e+17  3.791775e+17  1.930662e+17  1.979511e+17   \n",
              " 1    2  4.105608e+17  4.133049e+17  4.071340e+17  1.477973e+17  1.495711e+17   \n",
              " \n",
              "            s2lf        wrkstr         s1wrk         s2wrk  ... index  SEC  \\\n",
              " 0  1.860575e+17  6.886093e+16  6.816423e+16  6.921668e+16  ...     0    1   \n",
              " 1  1.459330e+17  1.365466e+17  1.411152e+17  1.315603e+17  ...     1    2   \n",
              " \n",
              "          pophat         lfhat        wrkhat  no_sam  groupby_cols AGE_GR  \\\n",
              " 0  3.839722e+17  1.930662e+17  6.886093e+16       2           SEC      Z   \n",
              " 1  4.105608e+17  1.477973e+17  1.365466e+17       2           SEC      Z   \n",
              " \n",
              "       r1hat     r2hat  \n",
              " 0  0.502813  0.179338  \n",
              " 1  0.359989  0.332586  \n",
              " \n",
              " [2 rows x 21 columns],\n",
              "    AGE_GR        popstr         s1pop         s2pop         lfstr  \\\n",
              " 0       1  5.650106e+14  2.956998e+14  7.908684e+14  1.833875e+14   \n",
              " 1       2  7.296130e+15  6.428013e+15  7.964362e+15  1.625116e+15   \n",
              " 2       3  1.245872e+17  1.214131e+17  1.272384e+17  4.144304e+16   \n",
              " 3       4  6.022275e+17  6.068162e+17  5.950364e+17  2.642711e+17   \n",
              " 4       5  5.985707e+16  6.441044e+16  5.528147e+16  3.334086e+16   \n",
              " \n",
              "            s1lf          s2lf        wrkstr         s1wrk         s2wrk  ...  \\\n",
              " 0  6.190055e+13  3.048745e+14  3.041124e+14  2.316488e+14  3.331229e+14  ...   \n",
              " 1  1.584205e+15  1.666028e+15  2.964095e+15  2.582061e+15  3.146244e+15  ...   \n",
              " 2  4.112503e+16  4.176105e+16  4.833664e+16  4.830559e+16  4.790554e+16  ...   \n",
              " 3  2.668997e+17  2.594282e+17  1.494338e+17  1.546107e+17  1.442037e+17  ...   \n",
              " 4  3.785139e+16  2.883034e+16  4.368904e+15  3.549436e+15  5.188372e+15  ...   \n",
              " \n",
              "   index  AGE_GR        pophat         lfhat        wrkhat  no_sam  \\\n",
              " 0     0       1  5.650106e+14  1.833875e+14  3.041124e+14       5   \n",
              " 1     1       2  7.296130e+15  1.625116e+15  2.964095e+15       5   \n",
              " 2     2       3  1.245872e+17  4.144304e+16  4.833664e+16       5   \n",
              " 3     3       4  6.022275e+17  2.642711e+17  1.494338e+17       5   \n",
              " 4     4       5  5.985707e+16  3.334086e+16  4.368904e+15       5   \n",
              " \n",
              "    groupby_cols SEC     r1hat     r2hat  \n",
              " 0        AGE_GR   Z  0.324574  0.538242  \n",
              " 1        AGE_GR   Z  0.222737  0.406256  \n",
              " 2        AGE_GR   Z  0.332643  0.387974  \n",
              " 3        AGE_GR   Z  0.438823  0.248135  \n",
              " 4        AGE_GR   Z  0.557008  0.072989  \n",
              " \n",
              " [5 rows x 21 columns],\n",
              "    SEC  AGE_GR        popstr         s1pop         s2pop         lfstr  \\\n",
              " 0    1       1  4.038145e+14  2.912560e+14  5.163729e+14  1.595561e+14   \n",
              " 1    1       2  4.153324e+15  3.289981e+15  5.016668e+15  1.255456e+15   \n",
              " 2    1       3  5.400500e+16  5.527312e+16  5.244915e+16  2.246500e+16   \n",
              " 3    1       4  2.859784e+17  2.839757e+17  2.855826e+17  1.487409e+17   \n",
              " 4    1       5  3.943164e+16  4.322838e+16  3.561268e+16  2.044528e+16   \n",
              " 5    2       1  1.611962e+14  4.443782e+12  2.744954e+14  2.383146e+13   \n",
              " 6    2       2  3.142805e+15  3.138032e+15  2.947695e+15  3.696603e+14   \n",
              " 7    2       3  7.058221e+16  6.613994e+16  7.478922e+16  1.897804e+16   \n",
              " 8    2       4  3.162491e+17  3.228405e+17  3.094538e+17  1.155302e+17   \n",
              " 9    2       5  2.042542e+16  2.118206e+16  1.966878e+16  1.289559e+16   \n",
              " \n",
              "            s1lf          s2lf        wrkstr         s1wrk  ...  index  SEC  \\\n",
              " 0  5.745677e+13  2.616554e+14  2.431832e+14  2.316488e+14  ...      0    1   \n",
              " 1  1.211262e+15  1.299649e+15  1.328869e+15  9.993871e+14  ...      1    1   \n",
              " 2  2.393861e+16  2.099139e+16  1.781034e+16  1.812878e+16  ...      2    1   \n",
              " 3  1.484433e+17  1.469147e+17  4.767036e+16  4.802645e+16  ...      3    1   \n",
              " 4  2.430045e+16  1.659010e+16  1.808170e+15  7.779627e+14  ...      4    1   \n",
              " 5  4.443782e+12  4.321913e+13  6.092927e+13  0.000000e+00  ...      5    2   \n",
              " 6  3.729426e+14  3.663781e+14  1.635225e+15  1.582674e+15  ...      6    2   \n",
              " 7  1.718642e+16  2.076967e+16  3.052629e+16  3.017680e+16  ...      7    2   \n",
              " 8  1.184564e+17  1.125135e+17  1.017635e+17  1.065843e+17  ...      8    2   \n",
              " 9  1.355093e+16  1.224024e+16  2.560734e+15  2.771473e+15  ...      9    2   \n",
              " \n",
              "    AGE_GR        pophat         lfhat        wrkhat  no_sam  groupby_cols  \\\n",
              " 0       1  4.038145e+14  1.595561e+14  2.431832e+14      10   SEC, AGE_GR   \n",
              " 1       2  4.153324e+15  1.255456e+15  1.328869e+15      10   SEC, AGE_GR   \n",
              " 2       3  5.400500e+16  2.246500e+16  1.781034e+16      10   SEC, AGE_GR   \n",
              " 3       4  2.859784e+17  1.487409e+17  4.767036e+16      10   SEC, AGE_GR   \n",
              " 4       5  3.943164e+16  2.044528e+16  1.808170e+15      10   SEC, AGE_GR   \n",
              " 5       1  1.611962e+14  2.383146e+13  6.092927e+13      10   SEC, AGE_GR   \n",
              " 6       2  3.142805e+15  3.696603e+14  1.635225e+15      10   SEC, AGE_GR   \n",
              " 7       3  7.058221e+16  1.897804e+16  3.052629e+16      10   SEC, AGE_GR   \n",
              " 8       4  3.162491e+17  1.155302e+17  1.017635e+17      10   SEC, AGE_GR   \n",
              " 9       5  2.042542e+16  1.289559e+16  2.560734e+15      10   SEC, AGE_GR   \n",
              " \n",
              "       r1hat     r2hat  \n",
              " 0  0.395122  0.602215  \n",
              " 1  0.302277  0.319953  \n",
              " 2  0.415980  0.329791  \n",
              " 3  0.520112  0.166692  \n",
              " 4  0.518499  0.045856  \n",
              " 5  0.147841  0.377982  \n",
              " 6  0.117621  0.520308  \n",
              " 7  0.268879  0.432493  \n",
              " 8  0.365314  0.321783  \n",
              " 9  0.631350  0.125370  \n",
              " \n",
              " [10 rows x 21 columns]]"
            ]
          },
          "metadata": {},
          "execution_count": 76
        }
      ]
    },
    {
      "cell_type": "code",
      "source": [
        "Arr_W3[3].columns"
      ],
      "metadata": {
        "id": "Myt7II06w6Gg",
        "colab": {
          "base_uri": "https://localhost:8080/"
        },
        "outputId": "aac669b3-168d-4c51-85ea-588c5bfd62ea"
      },
      "execution_count": 77,
      "outputs": [
        {
          "output_type": "execute_result",
          "data": {
            "text/plain": [
              "Index(['SEC', 'AGE_GR', 'popstr', 's1pop', 's2pop', 'lfstr', 's1lf', 's2lf',\n",
              "       'wrkstr', 's1wrk', 's2wrk', 'index', 'SEC', 'AGE_GR', 'pophat', 'lfhat',\n",
              "       'wrkhat', 'no_sam', 'groupby_cols', 'r1hat', 'r2hat'],\n",
              "      dtype='object')"
            ]
          },
          "metadata": {},
          "execution_count": 77
        }
      ]
    },
    {
      "cell_type": "code",
      "source": [
        "### Drop duplicate columns\n",
        "for i in range(len(Arr_W3)):\n",
        "\n",
        "    Arr_W3[i] = Arr_W3[i].loc[:, ~Arr_W3[i].columns.duplicated()]\n",
        "\n",
        "    print(Arr_W3[i].columns)"
      ],
      "metadata": {
        "id": "l5dLy9MT5nOu",
        "colab": {
          "base_uri": "https://localhost:8080/"
        },
        "outputId": "de007389-861f-49c0-cde3-e2cb7fd7e8e7"
      },
      "execution_count": 78,
      "outputs": [
        {
          "output_type": "stream",
          "name": "stdout",
          "text": [
            "Index(['popstr', 's1pop', 's2pop', 'lfstr', 's1lf', 's2lf', 'wrkstr', 's1wrk',\n",
            "       's2wrk', 'STRMID', 'SEC', 'AGE_GR', 'index', 'pophat', 'lfhat',\n",
            "       'wrkhat', 'groupby_cols', 'no_sam', 'r1hat', 'r2hat'],\n",
            "      dtype='object')\n",
            "Index(['SEC', 'popstr', 's1pop', 's2pop', 'lfstr', 's1lf', 's2lf', 'wrkstr',\n",
            "       's1wrk', 's2wrk', 'AGE_GR', 'index', 'pophat', 'lfhat', 'wrkhat',\n",
            "       'no_sam', 'groupby_cols', 'r1hat', 'r2hat'],\n",
            "      dtype='object')\n",
            "Index(['AGE_GR', 'popstr', 's1pop', 's2pop', 'lfstr', 's1lf', 's2lf', 'wrkstr',\n",
            "       's1wrk', 's2wrk', 'SEC', 'index', 'pophat', 'lfhat', 'wrkhat', 'no_sam',\n",
            "       'groupby_cols', 'r1hat', 'r2hat'],\n",
            "      dtype='object')\n",
            "Index(['SEC', 'AGE_GR', 'popstr', 's1pop', 's2pop', 'lfstr', 's1lf', 's2lf',\n",
            "       'wrkstr', 's1wrk', 's2wrk', 'index', 'pophat', 'lfhat', 'wrkhat',\n",
            "       'no_sam', 'groupby_cols', 'r1hat', 'r2hat'],\n",
            "      dtype='object')\n"
          ]
        }
      ]
    },
    {
      "cell_type": "code",
      "source": [
        "Arr_W3[3]['SEC'].value_counts()"
      ],
      "metadata": {
        "colab": {
          "base_uri": "https://localhost:8080/"
        },
        "id": "TGb3pY2ap7pF",
        "outputId": "02ea707d-9170-462e-8e88-8d51c0dbdf9c"
      },
      "execution_count": 79,
      "outputs": [
        {
          "output_type": "execute_result",
          "data": {
            "text/plain": [
              "1    5\n",
              "2    5\n",
              "Name: SEC, dtype: int64"
            ]
          },
          "metadata": {},
          "execution_count": 79
        }
      ]
    },
    {
      "cell_type": "code",
      "source": [
        "agg_dict"
      ],
      "metadata": {
        "colab": {
          "base_uri": "https://localhost:8080/"
        },
        "id": "ercfY_74MGl_",
        "outputId": "4c196407-8f60-4b18-b193-d95bd27b79a5"
      },
      "execution_count": 80,
      "outputs": [
        {
          "output_type": "execute_result",
          "data": {
            "text/plain": [
              "{'popstr': 'sum',\n",
              " 's1pop': 'sum',\n",
              " 's2pop': 'sum',\n",
              " 'lfstr': 'sum',\n",
              " 's1lf': 'sum',\n",
              " 's2lf': 'sum',\n",
              " 'wrkstr': 'sum',\n",
              " 's1wrk': 'sum',\n",
              " 's2wrk': 'sum'}"
            ]
          },
          "metadata": {},
          "execution_count": 80
        }
      ]
    },
    {
      "cell_type": "code",
      "source": [
        "Arr_W4 = []\n",
        "\n",
        "\n",
        "### Loop over subset of columns to perform aggregation\n",
        "### Loop over subset of columns to perform aggregation\n",
        "for i in range(len(groupby_cols_subsets)):\n",
        "\n",
        "    if i == 0:\n",
        "        gby_list = ['no_sam', 'pophat', 'lfhat', 'wrkhat', 'r1hat', 'r2hat']\n",
        "\n",
        "        w4 = Arr_W3[i].groupby(gby_list).agg(\n",
        "\n",
        "        var_pop = ('s1pop', lambda x: np.sum((x - Arr_W3[i]['s2pop']) ** 2)),\n",
        "\n",
        "                        mse_R1 = ('s1lf', lambda x: np.nansum(\n",
        "                                    ((x - Arr_W3[i]['s2lf']) ** 2) +\n",
        "                                        ((Arr_W3[i]['r1hat'] ** 2) * ((Arr_W3[i]['s1pop'] - Arr_W3[i]['s2pop']) ** 2) -\n",
        "                                            (2 * Arr_W3[i]['r1hat'] * (x - Arr_W3[i]['s2lf']) * (Arr_W3[i]['s1pop'] - Arr_W3[i]['s2pop'])))\n",
        "                                )),\n",
        "\n",
        "                            mse_R2 = ('s1wrk', lambda x: np.nansum(\n",
        "                                        ((x - Arr_W3[i]['s2wrk']) ** 2) +\n",
        "                                            ((Arr_W3[i]['r2hat'] ** 2) * ((Arr_W3[i]['s1pop'] - Arr_W3[i]['s2pop']) ** 2) -\n",
        "                                                (2 * Arr_W3[i]['r2hat'] * (x - Arr_W3[i]['s2wrk']) * (Arr_W3[i]['s1pop'] - Arr_W3[i]['s2pop'])))\n",
        "                                    ),\n",
        "                    \n",
        "                                )).reset_index()\n",
        "\n",
        "        Arr_W4.append(w4)\n",
        "\n",
        "        continue\n",
        "\n",
        "    gby_list = ['no_sam', 'pophat', 'lfhat', 'wrkhat', 'r1hat', 'r2hat']\n",
        "\n",
        "    gby_list.extend(groupby_cols_subsets[i])\n",
        "\n",
        "    print(gby_list)\n",
        "\n",
        "    w4 = Arr_W3[i].groupby(gby_list).agg(\n",
        "\n",
        "    var_pop = ('s1pop', lambda x: np.sum((x - Arr_W3[i]['s2pop']) ** 2)),\n",
        "\n",
        "                    mse_R1 = ('s1lf', lambda x: np.nansum(\n",
        "                                ((x - Arr_W3[i]['s2lf']) ** 2) +\n",
        "                                    ((Arr_W3[i]['r1hat'] ** 2) * ((Arr_W3[i]['s1pop'] - Arr_W3[i]['s2pop']) ** 2) -\n",
        "                                        (2 * Arr_W3[i]['r1hat'] * (x - Arr_W3[i]['s2lf']) * (Arr_W3[i]['s1pop'] - Arr_W3[i]['s2pop'])))\n",
        "                            )),\n",
        "\n",
        "                        mse_R2 = ('s1wrk', lambda x: np.nansum(\n",
        "                                    ((x - Arr_W3[i]['s2wrk']) ** 2) +\n",
        "                                        ((Arr_W3[i]['r2hat'] ** 2) * ((Arr_W3[i]['s1pop'] - Arr_W3[i]['s2pop']) ** 2) -\n",
        "                                            (2 * Arr_W3[i]['r2hat'] * (x - Arr_W3[i]['s2wrk']) * (Arr_W3[i]['s1pop'] - Arr_W3[i]['s2pop'])))\n",
        "                                ),\n",
        "                \n",
        "                            )).reset_index()\n",
        "\n",
        "    Arr_W4.append(w4)"
      ],
      "metadata": {
        "colab": {
          "base_uri": "https://localhost:8080/"
        },
        "id": "K8WIi_ReQLH2",
        "outputId": "d6848c06-546c-4d73-fd69-bb873e963113"
      },
      "execution_count": 81,
      "outputs": [
        {
          "output_type": "stream",
          "name": "stdout",
          "text": [
            "['no_sam', 'pophat', 'lfhat', 'wrkhat', 'r1hat', 'r2hat', 'SEC']\n",
            "['no_sam', 'pophat', 'lfhat', 'wrkhat', 'r1hat', 'r2hat', 'AGE_GR']\n",
            "['no_sam', 'pophat', 'lfhat', 'wrkhat', 'r1hat', 'r2hat', 'SEC', 'AGE_GR']\n"
          ]
        }
      ]
    },
    {
      "cell_type": "code",
      "source": [
        "Arr_W4"
      ],
      "metadata": {
        "colab": {
          "base_uri": "https://localhost:8080/"
        },
        "id": "VixhptBX3AuB",
        "outputId": "879311ff-345d-453d-9140-6a21f9a5ef69"
      },
      "execution_count": 82,
      "outputs": [
        {
          "output_type": "execute_result",
          "data": {
            "text/plain": [
              "[   no_sam        pophat         lfhat        wrkhat     r1hat     r2hat  \\\n",
              " 0       1  1.443412e+15  6.185486e+14  3.732672e+14  0.428532  0.258601   \n",
              " \n",
              "         var_pop        mse_R1        mse_R2  \n",
              " 0  1.703539e+32  9.877509e+31  2.628858e+31  ,\n",
              "    no_sam        pophat         lfhat        wrkhat     r1hat     r2hat  SEC  \\\n",
              " 0       2  3.839722e+17  1.930662e+17  6.886093e+16  0.502813  0.179338    1   \n",
              " 1       2  4.105608e+17  1.477973e+17  1.365466e+17  0.359989  0.332586    2   \n",
              " \n",
              "         var_pop        mse_R1        mse_R2  \n",
              " 0  4.734825e+31  7.112841e+31  5.228009e+30  \n",
              " 1  3.808078e+31  2.006903e+30  5.628852e+31  ,\n",
              "    no_sam        pophat         lfhat        wrkhat     r1hat     r2hat  \\\n",
              " 0       5  5.650106e+14  1.833875e+14  3.041124e+14  0.324574  0.538242   \n",
              " 1       5  7.296130e+15  1.625116e+15  2.964095e+15  0.222737  0.406256   \n",
              " 2       5  5.985707e+16  3.334086e+16  4.368904e+15  0.557008  0.072989   \n",
              " 3       5  1.245872e+17  4.144304e+16  4.833664e+16  0.332643  0.387974   \n",
              " 4       5  6.022275e+17  2.642711e+17  1.494338e+17  0.438823  0.248135   \n",
              " \n",
              "    AGE_GR       var_pop        mse_R1        mse_R2  \n",
              " 0       1  2.451919e+29  6.765938e+27  2.724030e+28  \n",
              " 1       2  2.360369e+30  6.779690e+28  3.596155e+27  \n",
              " 2       5  8.333817e+31  1.549312e+31  5.314176e+30  \n",
              " 3       3  3.393423e+31  1.694485e+30  7.076211e+30  \n",
              " 4       4  1.387642e+32  5.300499e+30  5.601094e+31  ,\n",
              "    no_sam        pophat         lfhat        wrkhat     r1hat     r2hat  SEC  \\\n",
              " 0      10  1.611962e+14  2.383146e+13  6.092927e+13  0.147841  0.377982    2   \n",
              " 1      10  4.038145e+14  1.595561e+14  2.431832e+14  0.395122  0.602215    1   \n",
              " 2      10  3.142805e+15  3.696603e+14  1.635225e+15  0.117621  0.520308    2   \n",
              " 3      10  4.153324e+15  1.255456e+15  1.328869e+15  0.302277  0.319953    1   \n",
              " 4      10  2.042542e+16  1.289559e+16  2.560734e+15  0.631350  0.125370    2   \n",
              " 5      10  3.943164e+16  2.044528e+16  1.808170e+15  0.518499  0.045856    1   \n",
              " 6      10  5.400500e+16  2.246500e+16  1.781034e+16  0.415980  0.329791    1   \n",
              " 7      10  7.058221e+16  1.897804e+16  3.052629e+16  0.268879  0.432493    2   \n",
              " 8      10  2.859784e+17  1.487409e+17  4.767036e+16  0.520112  0.166692    1   \n",
              " 9      10  3.162491e+17  1.155302e+17  1.017635e+17  0.365314  0.321783    2   \n",
              " \n",
              "    AGE_GR       var_pop        mse_R1        mse_R2  \n",
              " 0       1  7.292789e+28  1.321220e+24  5.602355e+26  \n",
              " 1       1  5.067764e+28  1.328254e+28  1.265627e+28  \n",
              " 2       2  3.622821e+28  2.503737e+26  1.808640e+25  \n",
              " 3       2  2.981446e+30  1.879661e+29  1.134334e+28  \n",
              " 4       5  2.290004e+30  1.262264e+29  5.371248e+28  \n",
              " 5       5  5.799887e+31  1.414977e+31  5.806357e+30  \n",
              " 6       3  7.974799e+30  3.141777e+30  4.499462e+25  \n",
              " 7       3  7.481001e+31  1.581654e+30  1.034384e+31  \n",
              " 8       4  2.581992e+30  5.590318e+30  1.067566e+30  \n",
              " 9       4  1.792032e+32  1.107871e+30  2.845213e+31  ]"
            ]
          },
          "metadata": {},
          "execution_count": 82
        }
      ]
    },
    {
      "cell_type": "code",
      "source": [
        "Arr_W4 = []\n",
        "\n",
        "### Loop over subset of columns to perform aggregation\n",
        "for i in range(len(Arr_W3)):\n",
        "    # mask = Arr_W3[i].columns.duplicated()\n",
        "    # Arr_W3[i] = Arr_W3[i].loc[:, ~mask]\n",
        "\n",
        "    gby_list = ['no_sam', 'pophat', 'lfhat', 'wrkhat', 'r1hat', 'r2hat'] + groupby_cols\n",
        "\n",
        "    print(gby_list)\n",
        "\n",
        "    w4 = Arr_W3[i].groupby(gby_list).agg(\n",
        "\n",
        "        var_pop = ('s1pop', lambda x: np.sum((x - Arr_W3[i]['s2pop']) ** 2)),\n",
        "\n",
        "            mse_R1 = ('s1lf', lambda x: np.nansum(\n",
        "                        ((x - Arr_W3[i]['s2lf']) ** 2) +\n",
        "                            ((Arr_W3[i]['r1hat'] ** 2) * ((Arr_W3[i]['s1pop'] - Arr_W3[i]['s2pop']) ** 2) -\n",
        "                                (2 * Arr_W3[i]['r1hat'] * (x - Arr_W3[i]['s2lf']) * (Arr_W3[i]['s1pop'] - Arr_W3[i]['s2pop'])))\n",
        "                    )),\n",
        "\n",
        "                mse_R2 = ('s1wrk', lambda x: np.nansum(\n",
        "                            ((x - Arr_W3[i]['s2wrk']) ** 2) +\n",
        "                                ((Arr_W3[i]['r2hat'] ** 2) * ((Arr_W3[i]['s1pop'] - Arr_W3[i]['s2pop']) ** 2) -\n",
        "                                    (2 * Arr_W3[i]['r2hat'] * (x - Arr_W3[i]['s2wrk']) * (Arr_W3[i]['s1pop'] - Arr_W3[i]['s2pop'])))\n",
        "                        ),\n",
        "        \n",
        "    )).reset_index()\n",
        "\n",
        "    Arr_W4.append(w4)\n",
        "\n",
        "    print(Arr_W4[i])"
      ],
      "metadata": {
        "id": "qdsNdyRURiFf",
        "colab": {
          "base_uri": "https://localhost:8080/"
        },
        "outputId": "a53a538e-e894-4fa1-8cd0-be498779993b"
      },
      "execution_count": 83,
      "outputs": [
        {
          "output_type": "stream",
          "name": "stdout",
          "text": [
            "['no_sam', 'pophat', 'lfhat', 'wrkhat', 'r1hat', 'r2hat', 'SEC', 'AGE_GR']\n",
            "   no_sam        pophat         lfhat        wrkhat     r1hat     r2hat SEC  \\\n",
            "0       1  1.443412e+15  6.185486e+14  3.732672e+14  0.428532  0.258601   Z   \n",
            "\n",
            "  AGE_GR       var_pop        mse_R1        mse_R2  \n",
            "0     ZZ  1.703539e+32  9.877509e+31  2.628858e+31  \n",
            "['no_sam', 'pophat', 'lfhat', 'wrkhat', 'r1hat', 'r2hat', 'SEC', 'AGE_GR']\n",
            "   no_sam        pophat         lfhat        wrkhat     r1hat     r2hat  SEC  \\\n",
            "0       2  3.839722e+17  1.930662e+17  6.886093e+16  0.502813  0.179338    1   \n",
            "1       2  4.105608e+17  1.477973e+17  1.365466e+17  0.359989  0.332586    2   \n",
            "\n",
            "  AGE_GR       var_pop        mse_R1        mse_R2  \n",
            "0      Z  4.734825e+31  7.112841e+31  5.228009e+30  \n",
            "1      Z  3.808078e+31  2.006903e+30  5.628852e+31  \n",
            "['no_sam', 'pophat', 'lfhat', 'wrkhat', 'r1hat', 'r2hat', 'SEC', 'AGE_GR']\n",
            "   no_sam        pophat         lfhat        wrkhat     r1hat     r2hat SEC  \\\n",
            "0       5  5.650106e+14  1.833875e+14  3.041124e+14  0.324574  0.538242   Z   \n",
            "1       5  7.296130e+15  1.625116e+15  2.964095e+15  0.222737  0.406256   Z   \n",
            "2       5  5.985707e+16  3.334086e+16  4.368904e+15  0.557008  0.072989   Z   \n",
            "3       5  1.245872e+17  4.144304e+16  4.833664e+16  0.332643  0.387974   Z   \n",
            "4       5  6.022275e+17  2.642711e+17  1.494338e+17  0.438823  0.248135   Z   \n",
            "\n",
            "   AGE_GR       var_pop        mse_R1        mse_R2  \n",
            "0       1  2.451919e+29  6.765938e+27  2.724030e+28  \n",
            "1       2  2.360369e+30  6.779690e+28  3.596155e+27  \n",
            "2       5  8.333817e+31  1.549312e+31  5.314176e+30  \n",
            "3       3  3.393423e+31  1.694485e+30  7.076211e+30  \n",
            "4       4  1.387642e+32  5.300499e+30  5.601094e+31  \n",
            "['no_sam', 'pophat', 'lfhat', 'wrkhat', 'r1hat', 'r2hat', 'SEC', 'AGE_GR']\n",
            "   no_sam        pophat         lfhat        wrkhat     r1hat     r2hat  SEC  \\\n",
            "0      10  1.611962e+14  2.383146e+13  6.092927e+13  0.147841  0.377982    2   \n",
            "1      10  4.038145e+14  1.595561e+14  2.431832e+14  0.395122  0.602215    1   \n",
            "2      10  3.142805e+15  3.696603e+14  1.635225e+15  0.117621  0.520308    2   \n",
            "3      10  4.153324e+15  1.255456e+15  1.328869e+15  0.302277  0.319953    1   \n",
            "4      10  2.042542e+16  1.289559e+16  2.560734e+15  0.631350  0.125370    2   \n",
            "5      10  3.943164e+16  2.044528e+16  1.808170e+15  0.518499  0.045856    1   \n",
            "6      10  5.400500e+16  2.246500e+16  1.781034e+16  0.415980  0.329791    1   \n",
            "7      10  7.058221e+16  1.897804e+16  3.052629e+16  0.268879  0.432493    2   \n",
            "8      10  2.859784e+17  1.487409e+17  4.767036e+16  0.520112  0.166692    1   \n",
            "9      10  3.162491e+17  1.155302e+17  1.017635e+17  0.365314  0.321783    2   \n",
            "\n",
            "   AGE_GR       var_pop        mse_R1        mse_R2  \n",
            "0       1  7.292789e+28  1.321220e+24  5.602355e+26  \n",
            "1       1  5.067764e+28  1.328254e+28  1.265627e+28  \n",
            "2       2  3.622821e+28  2.503737e+26  1.808640e+25  \n",
            "3       2  2.981446e+30  1.879661e+29  1.134334e+28  \n",
            "4       5  2.290004e+30  1.262264e+29  5.371248e+28  \n",
            "5       5  5.799887e+31  1.414977e+31  5.806357e+30  \n",
            "6       3  7.974799e+30  3.141777e+30  4.499462e+25  \n",
            "7       3  7.481001e+31  1.581654e+30  1.034384e+31  \n",
            "8       4  2.581992e+30  5.590318e+30  1.067566e+30  \n",
            "9       4  1.792032e+32  1.107871e+30  2.845213e+31  \n"
          ]
        }
      ]
    },
    {
      "cell_type": "code",
      "source": [
        "Arr_W5 = []\n",
        "for i in range(len(Arr_W4)):\n",
        "    # Calculate RSEs for each variable in T1\n",
        "    w5 = Arr_W4[i].assign(\n",
        "        RSE_POP=lambda x: 100 * (x['var_pop'] ** 0.5) / (2 * x['pophat']),\n",
        "        RSE_R1=lambda x: 100 * (x['mse_R1'] ** 0.5) / (2 * x['lfhat']),\n",
        "        RSE_R2=lambda x: 100 * (x['mse_R2'] ** 0.5) / (2 * x['wrkhat'])\n",
        "    )\n",
        "\n",
        "    Arr_W5.append(w5)"
      ],
      "metadata": {
        "id": "DrX5BiwtRiI9"
      },
      "execution_count": 84,
      "outputs": []
    },
    {
      "cell_type": "code",
      "source": [
        "Arr_W5"
      ],
      "metadata": {
        "id": "UU3TQEp2UPPT",
        "colab": {
          "base_uri": "https://localhost:8080/"
        },
        "outputId": "9c1423ce-a704-4a7b-8596-f097ea1151e7"
      },
      "execution_count": 85,
      "outputs": [
        {
          "output_type": "execute_result",
          "data": {
            "text/plain": [
              "[   no_sam        pophat         lfhat        wrkhat     r1hat     r2hat SEC  \\\n",
              " 0       1  1.443412e+15  6.185486e+14  3.732672e+14  0.428532  0.258601   Z   \n",
              " \n",
              "   AGE_GR       var_pop        mse_R1        mse_R2     RSE_POP      RSE_R1  \\\n",
              " 0     ZZ  1.703539e+32  9.877509e+31  2.628858e+31  452.122041  803.377947   \n",
              " \n",
              "        RSE_R2  \n",
              " 0  686.805465  ,\n",
              "    no_sam        pophat         lfhat        wrkhat     r1hat     r2hat  SEC  \\\n",
              " 0       2  3.839722e+17  1.930662e+17  6.886093e+16  0.502813  0.179338    1   \n",
              " 1       2  4.105608e+17  1.477973e+17  1.365466e+17  0.359989  0.332586    2   \n",
              " \n",
              "   AGE_GR       var_pop        mse_R1        mse_R2   RSE_POP    RSE_R1  \\\n",
              " 0      Z  4.734825e+31  7.112841e+31  5.228009e+30  0.896029  2.184165   \n",
              " 1      Z  3.808078e+31  2.006903e+30  5.628852e+31  0.751529  0.479255   \n",
              " \n",
              "      RSE_R2  \n",
              " 0  1.660219  \n",
              " 1  2.747255  ,\n",
              "    no_sam        pophat         lfhat        wrkhat     r1hat     r2hat SEC  \\\n",
              " 0       5  5.650106e+14  1.833875e+14  3.041124e+14  0.324574  0.538242   Z   \n",
              " 1       5  7.296130e+15  1.625116e+15  2.964095e+15  0.222737  0.406256   Z   \n",
              " 2       5  5.985707e+16  3.334086e+16  4.368904e+15  0.557008  0.072989   Z   \n",
              " 3       5  1.245872e+17  4.144304e+16  4.833664e+16  0.332643  0.387974   Z   \n",
              " 4       5  6.022275e+17  2.642711e+17  1.494338e+17  0.438823  0.248135   Z   \n",
              " \n",
              "    AGE_GR       var_pop        mse_R1        mse_R2    RSE_POP     RSE_R1  \\\n",
              " 0       1  2.451919e+29  6.765938e+27  2.724030e+28  43.819404  22.426637   \n",
              " 1       2  2.360369e+30  6.779690e+28  3.596155e+27  10.528522   8.011070   \n",
              " 2       5  8.333817e+31  1.549312e+31  5.314176e+30   7.625645   5.902861   \n",
              " 3       3  3.393423e+31  1.694485e+30  7.076211e+30   2.337844   1.570497   \n",
              " 4       4  1.387642e+32  5.300499e+30  5.601094e+31   0.978021   0.435591   \n",
              " \n",
              "       RSE_R2  \n",
              " 0  27.135747  \n",
              " 1   1.011573  \n",
              " 2  26.382473  \n",
              " 3   2.751655  \n",
              " 4   2.504134  ,\n",
              "    no_sam        pophat         lfhat        wrkhat     r1hat     r2hat  SEC  \\\n",
              " 0      10  1.611962e+14  2.383146e+13  6.092927e+13  0.147841  0.377982    2   \n",
              " 1      10  4.038145e+14  1.595561e+14  2.431832e+14  0.395122  0.602215    1   \n",
              " 2      10  3.142805e+15  3.696603e+14  1.635225e+15  0.117621  0.520308    2   \n",
              " 3      10  4.153324e+15  1.255456e+15  1.328869e+15  0.302277  0.319953    1   \n",
              " 4      10  2.042542e+16  1.289559e+16  2.560734e+15  0.631350  0.125370    2   \n",
              " 5      10  3.943164e+16  2.044528e+16  1.808170e+15  0.518499  0.045856    1   \n",
              " 6      10  5.400500e+16  2.246500e+16  1.781034e+16  0.415980  0.329791    1   \n",
              " 7      10  7.058221e+16  1.897804e+16  3.052629e+16  0.268879  0.432493    2   \n",
              " 8      10  2.859784e+17  1.487409e+17  4.767036e+16  0.520112  0.166692    1   \n",
              " 9      10  3.162491e+17  1.155302e+17  1.017635e+17  0.365314  0.321783    2   \n",
              " \n",
              "    AGE_GR       var_pop        mse_R1        mse_R2    RSE_POP     RSE_R1  \\\n",
              " 0       1  7.292789e+28  1.321220e+24  5.602355e+26  83.764903   2.411609   \n",
              " 1       1  5.067764e+28  1.328254e+28  1.265627e+28  27.873809  36.115798   \n",
              " 2       2  3.622821e+28  2.503737e+26  1.808640e+25   3.028140   2.140235   \n",
              " 3       2  2.981446e+30  1.879661e+29  1.134334e+28  20.786799  17.266663   \n",
              " 4       5  2.290004e+30  1.262264e+29  5.371248e+28   3.704393   1.377539   \n",
              " 5       5  5.799887e+31  1.414977e+31  5.806357e+30   9.656836   9.199234   \n",
              " 6       3  7.974799e+30  3.141777e+30  4.499462e+25   2.614544   3.945039   \n",
              " 7       3  7.481001e+31  1.581654e+30  1.034384e+31   6.127095   3.313403   \n",
              " 8       4  2.581992e+30  5.590318e+30  1.067566e+30   0.280940   0.794800   \n",
              " 9       4  1.792032e+32  1.107871e+30  2.845213e+31   2.116477   0.455532   \n",
              " \n",
              "       RSE_R2  \n",
              " 0  19.423582  \n",
              " 1  23.130728  \n",
              " 2   0.130037  \n",
              " 3   4.007359  \n",
              " 4   4.525256  \n",
              " 5  66.631968  \n",
              " 6   0.018831  \n",
              " 7   5.267892  \n",
              " 8   1.083725  \n",
              " 9   2.620810  ]"
            ]
          },
          "metadata": {},
          "execution_count": 85
        }
      ]
    },
    {
      "cell_type": "code",
      "source": [
        "Tables = []\n",
        "\n",
        "for i in range(len(Arr_W5)):\n",
        "    gby_list = ['no_sam', 'pophat', 'lfhat', 'wrkhat', 'r1hat', 'r2hat', 'RSE_POP', 'RSE_R1', 'RSE_R2'] + groupby_cols\n",
        "    # assuming the data is loaded into a DataFrame called w5\n",
        "    T1 = Arr_W5[i][gby_list].copy()\n",
        "\n",
        "    # add empty columns for sec_desc and st_gr_desc\n",
        "    T1['sec_desc'] = ''\n",
        "    T1['st_gr_desc'] = ''\n",
        "\n",
        "    # apply formatting to columns\n",
        "    T1['R1'] = 100 * T1['r1hat']\n",
        "    T1['R2'] = 100 * T1['r2hat']\n",
        "\n",
        "    gby_list = ['sec_desc', 'st_gr_desc', 'no_sam', 'pophat','lfhat', 'wrkhat', 'RSE_POP', 'R1', 'RSE_R1', 'R2', 'RSE_R2'] + groupby_cols\n",
        "\n",
        "    # reorder columns\n",
        "    T1 = T1[gby_list]\n",
        "\n",
        "    gby_list = ['no_sam', 'pophat','lfhat', 'wrkhat', 'r1hat', 'r2hat', 'RSE_POP', 'RSE_R1', 'RSE_R2'] + groupby_cols\n",
        "\n",
        "    T1 = Arr_W5[i][gby_list].copy()\n",
        "\n",
        "    T1['sec_desc'] = ' '\n",
        "    T1['st_gr_desc'] = ' '\n",
        "\n",
        "    T1['R1'] = 100 * T1['r1hat']\n",
        "    T1['R2'] = 100 * T1['r2hat']\n",
        "\n",
        "    gby_list = ['no_sam', 'pophat','lfhat', 'wrkhat', 'RSE_POP', 'R1', 'RSE_R1', 'R2', 'RSE_R2'] + groupby_cols\n",
        "\n",
        "    T1 = T1[gby_list]\n",
        "\n",
        "    Tables.append(T1)\n",
        "    \n",
        "\n",
        "print(Tables)\n",
        "print('\\n')"
      ],
      "metadata": {
        "id": "bgkq9FL3RsR6",
        "colab": {
          "base_uri": "https://localhost:8080/"
        },
        "outputId": "a123ca9c-299b-4340-8e22-ec7bd4cd90c5"
      },
      "execution_count": 86,
      "outputs": [
        {
          "output_type": "stream",
          "name": "stdout",
          "text": [
            "[   no_sam        pophat         lfhat        wrkhat     RSE_POP        R1  \\\n",
            "0       1  1.443412e+15  6.185486e+14  3.732672e+14  452.122041  42.85322   \n",
            "\n",
            "       RSE_R1         R2      RSE_R2 SEC AGE_GR  \n",
            "0  803.377947  25.860057  686.805465   Z     ZZ  ,    no_sam        pophat         lfhat        wrkhat   RSE_POP         R1  \\\n",
            "0       2  3.839722e+17  1.930662e+17  6.886093e+16  0.896029  50.281288   \n",
            "1       2  4.105608e+17  1.477973e+17  1.365466e+17  0.751529  35.998895   \n",
            "\n",
            "     RSE_R1         R2    RSE_R2  SEC AGE_GR  \n",
            "0  2.184165  17.933833  1.660219    1      Z  \n",
            "1  0.479255  33.258570  2.747255    2      Z  ,    no_sam        pophat         lfhat        wrkhat    RSE_POP         R1  \\\n",
            "0       5  5.650106e+14  1.833875e+14  3.041124e+14  43.819404  32.457361   \n",
            "1       5  7.296130e+15  1.625116e+15  2.964095e+15  10.528522  22.273673   \n",
            "2       5  5.985707e+16  3.334086e+16  4.368904e+15   7.625645  55.700800   \n",
            "3       5  1.245872e+17  4.144304e+16  4.833664e+16   2.337844  33.264283   \n",
            "4       5  6.022275e+17  2.642711e+17  1.494338e+17   0.978021  43.882266   \n",
            "\n",
            "      RSE_R1         R2     RSE_R2 SEC  AGE_GR  \n",
            "0  22.426637  53.824195  27.135747   Z       1  \n",
            "1   8.011070  40.625574   1.011573   Z       2  \n",
            "2   5.902861   7.298894  26.382473   Z       5  \n",
            "3   1.570497  38.797431   2.751655   Z       3  \n",
            "4   0.435591  24.813515   2.504134   Z       4  ,    no_sam        pophat         lfhat        wrkhat    RSE_POP         R1  \\\n",
            "0      10  1.611962e+14  2.383146e+13  6.092927e+13  83.764903  14.784133   \n",
            "1      10  4.038145e+14  1.595561e+14  2.431832e+14  27.873809  39.512228   \n",
            "2      10  3.142805e+15  3.696603e+14  1.635225e+15   3.028140  11.762113   \n",
            "3      10  4.153324e+15  1.255456e+15  1.328869e+15  20.786799  30.227731   \n",
            "4      10  2.042542e+16  1.289559e+16  2.560734e+15   3.704393  63.134990   \n",
            "5      10  3.943164e+16  2.044528e+16  1.808170e+15   9.656836  51.849922   \n",
            "6      10  5.400500e+16  2.246500e+16  1.781034e+16   2.614544  41.597995   \n",
            "7      10  7.058221e+16  1.897804e+16  3.052629e+16   6.127095  26.887859   \n",
            "8      10  2.859784e+17  1.487409e+17  4.767036e+16   0.280940  52.011227   \n",
            "9      10  3.162491e+17  1.155302e+17  1.017635e+17   2.116477  36.531393   \n",
            "\n",
            "      RSE_R1         R2     RSE_R2  SEC  AGE_GR  \n",
            "0   2.411609  37.798212  19.423582    2       1  \n",
            "1  36.115798  60.221507  23.130728    1       1  \n",
            "2   2.140235  52.030761   0.130037    2       2  \n",
            "3  17.266663  31.995311   4.007359    1       2  \n",
            "4   1.377539  12.536994   4.525256    2       5  \n",
            "5   9.199234   4.585581  66.631968    1       5  \n",
            "6   3.945039  32.979061   0.018831    1       3  \n",
            "7   3.313403  43.249277   5.267892    2       3  \n",
            "8   0.794800  16.669219   1.083725    1       4  \n",
            "9   0.455532  32.178256   2.620810    2       4  ]\n",
            "\n",
            "\n"
          ]
        }
      ]
    },
    {
      "cell_type": "code",
      "source": [],
      "metadata": {
        "id": "EFtW9GLWt5Tz"
      },
      "execution_count": null,
      "outputs": []
    },
    {
      "cell_type": "code",
      "source": [
        "def merge_dataframes(tables):\n",
        "    merged_df = tables[0]\n",
        "    for df in tables[1:]:\n",
        "        merged_df = pd.concat([merged_df, df], axis=0)\n",
        "    return merged_df\n",
        "\n",
        "merge_dataframes(Tables)"
      ],
      "metadata": {
        "id": "lsHDF6ulRubm",
        "colab": {
          "base_uri": "https://localhost:8080/",
          "height": 677
        },
        "outputId": "f8cac17a-4d8b-4c8e-957d-fc2436d1448e"
      },
      "execution_count": 87,
      "outputs": [
        {
          "output_type": "execute_result",
          "data": {
            "text/plain": [
              "   no_sam        pophat         lfhat        wrkhat     RSE_POP         R1  \\\n",
              "0       1  1.443412e+15  6.185486e+14  3.732672e+14  452.122041  42.853220   \n",
              "0       2  3.839722e+17  1.930662e+17  6.886093e+16    0.896029  50.281288   \n",
              "1       2  4.105608e+17  1.477973e+17  1.365466e+17    0.751529  35.998895   \n",
              "0       5  5.650106e+14  1.833875e+14  3.041124e+14   43.819404  32.457361   \n",
              "1       5  7.296130e+15  1.625116e+15  2.964095e+15   10.528522  22.273673   \n",
              "2       5  5.985707e+16  3.334086e+16  4.368904e+15    7.625645  55.700800   \n",
              "3       5  1.245872e+17  4.144304e+16  4.833664e+16    2.337844  33.264283   \n",
              "4       5  6.022275e+17  2.642711e+17  1.494338e+17    0.978021  43.882266   \n",
              "0      10  1.611962e+14  2.383146e+13  6.092927e+13   83.764903  14.784133   \n",
              "1      10  4.038145e+14  1.595561e+14  2.431832e+14   27.873809  39.512228   \n",
              "2      10  3.142805e+15  3.696603e+14  1.635225e+15    3.028140  11.762113   \n",
              "3      10  4.153324e+15  1.255456e+15  1.328869e+15   20.786799  30.227731   \n",
              "4      10  2.042542e+16  1.289559e+16  2.560734e+15    3.704393  63.134990   \n",
              "5      10  3.943164e+16  2.044528e+16  1.808170e+15    9.656836  51.849922   \n",
              "6      10  5.400500e+16  2.246500e+16  1.781034e+16    2.614544  41.597995   \n",
              "7      10  7.058221e+16  1.897804e+16  3.052629e+16    6.127095  26.887859   \n",
              "8      10  2.859784e+17  1.487409e+17  4.767036e+16    0.280940  52.011227   \n",
              "9      10  3.162491e+17  1.155302e+17  1.017635e+17    2.116477  36.531393   \n",
              "\n",
              "       RSE_R1         R2      RSE_R2 SEC AGE_GR  \n",
              "0  803.377947  25.860057  686.805465   Z     ZZ  \n",
              "0    2.184165  17.933833    1.660219   1      Z  \n",
              "1    0.479255  33.258570    2.747255   2      Z  \n",
              "0   22.426637  53.824195   27.135747   Z      1  \n",
              "1    8.011070  40.625574    1.011573   Z      2  \n",
              "2    5.902861   7.298894   26.382473   Z      5  \n",
              "3    1.570497  38.797431    2.751655   Z      3  \n",
              "4    0.435591  24.813515    2.504134   Z      4  \n",
              "0    2.411609  37.798212   19.423582   2      1  \n",
              "1   36.115798  60.221507   23.130728   1      1  \n",
              "2    2.140235  52.030761    0.130037   2      2  \n",
              "3   17.266663  31.995311    4.007359   1      2  \n",
              "4    1.377539  12.536994    4.525256   2      5  \n",
              "5    9.199234   4.585581   66.631968   1      5  \n",
              "6    3.945039  32.979061    0.018831   1      3  \n",
              "7    3.313403  43.249277    5.267892   2      3  \n",
              "8    0.794800  16.669219    1.083725   1      4  \n",
              "9    0.455532  32.178256    2.620810   2      4  "
            ],
            "text/html": [
              "\n",
              "  <div id=\"df-2d185022-7960-4b93-99d1-ccdc9702a68d\">\n",
              "    <div class=\"colab-df-container\">\n",
              "      <div>\n",
              "<style scoped>\n",
              "    .dataframe tbody tr th:only-of-type {\n",
              "        vertical-align: middle;\n",
              "    }\n",
              "\n",
              "    .dataframe tbody tr th {\n",
              "        vertical-align: top;\n",
              "    }\n",
              "\n",
              "    .dataframe thead th {\n",
              "        text-align: right;\n",
              "    }\n",
              "</style>\n",
              "<table border=\"1\" class=\"dataframe\">\n",
              "  <thead>\n",
              "    <tr style=\"text-align: right;\">\n",
              "      <th></th>\n",
              "      <th>no_sam</th>\n",
              "      <th>pophat</th>\n",
              "      <th>lfhat</th>\n",
              "      <th>wrkhat</th>\n",
              "      <th>RSE_POP</th>\n",
              "      <th>R1</th>\n",
              "      <th>RSE_R1</th>\n",
              "      <th>R2</th>\n",
              "      <th>RSE_R2</th>\n",
              "      <th>SEC</th>\n",
              "      <th>AGE_GR</th>\n",
              "    </tr>\n",
              "  </thead>\n",
              "  <tbody>\n",
              "    <tr>\n",
              "      <th>0</th>\n",
              "      <td>1</td>\n",
              "      <td>1.443412e+15</td>\n",
              "      <td>6.185486e+14</td>\n",
              "      <td>3.732672e+14</td>\n",
              "      <td>452.122041</td>\n",
              "      <td>42.853220</td>\n",
              "      <td>803.377947</td>\n",
              "      <td>25.860057</td>\n",
              "      <td>686.805465</td>\n",
              "      <td>Z</td>\n",
              "      <td>ZZ</td>\n",
              "    </tr>\n",
              "    <tr>\n",
              "      <th>0</th>\n",
              "      <td>2</td>\n",
              "      <td>3.839722e+17</td>\n",
              "      <td>1.930662e+17</td>\n",
              "      <td>6.886093e+16</td>\n",
              "      <td>0.896029</td>\n",
              "      <td>50.281288</td>\n",
              "      <td>2.184165</td>\n",
              "      <td>17.933833</td>\n",
              "      <td>1.660219</td>\n",
              "      <td>1</td>\n",
              "      <td>Z</td>\n",
              "    </tr>\n",
              "    <tr>\n",
              "      <th>1</th>\n",
              "      <td>2</td>\n",
              "      <td>4.105608e+17</td>\n",
              "      <td>1.477973e+17</td>\n",
              "      <td>1.365466e+17</td>\n",
              "      <td>0.751529</td>\n",
              "      <td>35.998895</td>\n",
              "      <td>0.479255</td>\n",
              "      <td>33.258570</td>\n",
              "      <td>2.747255</td>\n",
              "      <td>2</td>\n",
              "      <td>Z</td>\n",
              "    </tr>\n",
              "    <tr>\n",
              "      <th>0</th>\n",
              "      <td>5</td>\n",
              "      <td>5.650106e+14</td>\n",
              "      <td>1.833875e+14</td>\n",
              "      <td>3.041124e+14</td>\n",
              "      <td>43.819404</td>\n",
              "      <td>32.457361</td>\n",
              "      <td>22.426637</td>\n",
              "      <td>53.824195</td>\n",
              "      <td>27.135747</td>\n",
              "      <td>Z</td>\n",
              "      <td>1</td>\n",
              "    </tr>\n",
              "    <tr>\n",
              "      <th>1</th>\n",
              "      <td>5</td>\n",
              "      <td>7.296130e+15</td>\n",
              "      <td>1.625116e+15</td>\n",
              "      <td>2.964095e+15</td>\n",
              "      <td>10.528522</td>\n",
              "      <td>22.273673</td>\n",
              "      <td>8.011070</td>\n",
              "      <td>40.625574</td>\n",
              "      <td>1.011573</td>\n",
              "      <td>Z</td>\n",
              "      <td>2</td>\n",
              "    </tr>\n",
              "    <tr>\n",
              "      <th>2</th>\n",
              "      <td>5</td>\n",
              "      <td>5.985707e+16</td>\n",
              "      <td>3.334086e+16</td>\n",
              "      <td>4.368904e+15</td>\n",
              "      <td>7.625645</td>\n",
              "      <td>55.700800</td>\n",
              "      <td>5.902861</td>\n",
              "      <td>7.298894</td>\n",
              "      <td>26.382473</td>\n",
              "      <td>Z</td>\n",
              "      <td>5</td>\n",
              "    </tr>\n",
              "    <tr>\n",
              "      <th>3</th>\n",
              "      <td>5</td>\n",
              "      <td>1.245872e+17</td>\n",
              "      <td>4.144304e+16</td>\n",
              "      <td>4.833664e+16</td>\n",
              "      <td>2.337844</td>\n",
              "      <td>33.264283</td>\n",
              "      <td>1.570497</td>\n",
              "      <td>38.797431</td>\n",
              "      <td>2.751655</td>\n",
              "      <td>Z</td>\n",
              "      <td>3</td>\n",
              "    </tr>\n",
              "    <tr>\n",
              "      <th>4</th>\n",
              "      <td>5</td>\n",
              "      <td>6.022275e+17</td>\n",
              "      <td>2.642711e+17</td>\n",
              "      <td>1.494338e+17</td>\n",
              "      <td>0.978021</td>\n",
              "      <td>43.882266</td>\n",
              "      <td>0.435591</td>\n",
              "      <td>24.813515</td>\n",
              "      <td>2.504134</td>\n",
              "      <td>Z</td>\n",
              "      <td>4</td>\n",
              "    </tr>\n",
              "    <tr>\n",
              "      <th>0</th>\n",
              "      <td>10</td>\n",
              "      <td>1.611962e+14</td>\n",
              "      <td>2.383146e+13</td>\n",
              "      <td>6.092927e+13</td>\n",
              "      <td>83.764903</td>\n",
              "      <td>14.784133</td>\n",
              "      <td>2.411609</td>\n",
              "      <td>37.798212</td>\n",
              "      <td>19.423582</td>\n",
              "      <td>2</td>\n",
              "      <td>1</td>\n",
              "    </tr>\n",
              "    <tr>\n",
              "      <th>1</th>\n",
              "      <td>10</td>\n",
              "      <td>4.038145e+14</td>\n",
              "      <td>1.595561e+14</td>\n",
              "      <td>2.431832e+14</td>\n",
              "      <td>27.873809</td>\n",
              "      <td>39.512228</td>\n",
              "      <td>36.115798</td>\n",
              "      <td>60.221507</td>\n",
              "      <td>23.130728</td>\n",
              "      <td>1</td>\n",
              "      <td>1</td>\n",
              "    </tr>\n",
              "    <tr>\n",
              "      <th>2</th>\n",
              "      <td>10</td>\n",
              "      <td>3.142805e+15</td>\n",
              "      <td>3.696603e+14</td>\n",
              "      <td>1.635225e+15</td>\n",
              "      <td>3.028140</td>\n",
              "      <td>11.762113</td>\n",
              "      <td>2.140235</td>\n",
              "      <td>52.030761</td>\n",
              "      <td>0.130037</td>\n",
              "      <td>2</td>\n",
              "      <td>2</td>\n",
              "    </tr>\n",
              "    <tr>\n",
              "      <th>3</th>\n",
              "      <td>10</td>\n",
              "      <td>4.153324e+15</td>\n",
              "      <td>1.255456e+15</td>\n",
              "      <td>1.328869e+15</td>\n",
              "      <td>20.786799</td>\n",
              "      <td>30.227731</td>\n",
              "      <td>17.266663</td>\n",
              "      <td>31.995311</td>\n",
              "      <td>4.007359</td>\n",
              "      <td>1</td>\n",
              "      <td>2</td>\n",
              "    </tr>\n",
              "    <tr>\n",
              "      <th>4</th>\n",
              "      <td>10</td>\n",
              "      <td>2.042542e+16</td>\n",
              "      <td>1.289559e+16</td>\n",
              "      <td>2.560734e+15</td>\n",
              "      <td>3.704393</td>\n",
              "      <td>63.134990</td>\n",
              "      <td>1.377539</td>\n",
              "      <td>12.536994</td>\n",
              "      <td>4.525256</td>\n",
              "      <td>2</td>\n",
              "      <td>5</td>\n",
              "    </tr>\n",
              "    <tr>\n",
              "      <th>5</th>\n",
              "      <td>10</td>\n",
              "      <td>3.943164e+16</td>\n",
              "      <td>2.044528e+16</td>\n",
              "      <td>1.808170e+15</td>\n",
              "      <td>9.656836</td>\n",
              "      <td>51.849922</td>\n",
              "      <td>9.199234</td>\n",
              "      <td>4.585581</td>\n",
              "      <td>66.631968</td>\n",
              "      <td>1</td>\n",
              "      <td>5</td>\n",
              "    </tr>\n",
              "    <tr>\n",
              "      <th>6</th>\n",
              "      <td>10</td>\n",
              "      <td>5.400500e+16</td>\n",
              "      <td>2.246500e+16</td>\n",
              "      <td>1.781034e+16</td>\n",
              "      <td>2.614544</td>\n",
              "      <td>41.597995</td>\n",
              "      <td>3.945039</td>\n",
              "      <td>32.979061</td>\n",
              "      <td>0.018831</td>\n",
              "      <td>1</td>\n",
              "      <td>3</td>\n",
              "    </tr>\n",
              "    <tr>\n",
              "      <th>7</th>\n",
              "      <td>10</td>\n",
              "      <td>7.058221e+16</td>\n",
              "      <td>1.897804e+16</td>\n",
              "      <td>3.052629e+16</td>\n",
              "      <td>6.127095</td>\n",
              "      <td>26.887859</td>\n",
              "      <td>3.313403</td>\n",
              "      <td>43.249277</td>\n",
              "      <td>5.267892</td>\n",
              "      <td>2</td>\n",
              "      <td>3</td>\n",
              "    </tr>\n",
              "    <tr>\n",
              "      <th>8</th>\n",
              "      <td>10</td>\n",
              "      <td>2.859784e+17</td>\n",
              "      <td>1.487409e+17</td>\n",
              "      <td>4.767036e+16</td>\n",
              "      <td>0.280940</td>\n",
              "      <td>52.011227</td>\n",
              "      <td>0.794800</td>\n",
              "      <td>16.669219</td>\n",
              "      <td>1.083725</td>\n",
              "      <td>1</td>\n",
              "      <td>4</td>\n",
              "    </tr>\n",
              "    <tr>\n",
              "      <th>9</th>\n",
              "      <td>10</td>\n",
              "      <td>3.162491e+17</td>\n",
              "      <td>1.155302e+17</td>\n",
              "      <td>1.017635e+17</td>\n",
              "      <td>2.116477</td>\n",
              "      <td>36.531393</td>\n",
              "      <td>0.455532</td>\n",
              "      <td>32.178256</td>\n",
              "      <td>2.620810</td>\n",
              "      <td>2</td>\n",
              "      <td>4</td>\n",
              "    </tr>\n",
              "  </tbody>\n",
              "</table>\n",
              "</div>\n",
              "      <button class=\"colab-df-convert\" onclick=\"convertToInteractive('df-2d185022-7960-4b93-99d1-ccdc9702a68d')\"\n",
              "              title=\"Convert this dataframe to an interactive table.\"\n",
              "              style=\"display:none;\">\n",
              "        \n",
              "  <svg xmlns=\"http://www.w3.org/2000/svg\" height=\"24px\"viewBox=\"0 0 24 24\"\n",
              "       width=\"24px\">\n",
              "    <path d=\"M0 0h24v24H0V0z\" fill=\"none\"/>\n",
              "    <path d=\"M18.56 5.44l.94 2.06.94-2.06 2.06-.94-2.06-.94-.94-2.06-.94 2.06-2.06.94zm-11 1L8.5 8.5l.94-2.06 2.06-.94-2.06-.94L8.5 2.5l-.94 2.06-2.06.94zm10 10l.94 2.06.94-2.06 2.06-.94-2.06-.94-.94-2.06-.94 2.06-2.06.94z\"/><path d=\"M17.41 7.96l-1.37-1.37c-.4-.4-.92-.59-1.43-.59-.52 0-1.04.2-1.43.59L10.3 9.45l-7.72 7.72c-.78.78-.78 2.05 0 2.83L4 21.41c.39.39.9.59 1.41.59.51 0 1.02-.2 1.41-.59l7.78-7.78 2.81-2.81c.8-.78.8-2.07 0-2.86zM5.41 20L4 18.59l7.72-7.72 1.47 1.35L5.41 20z\"/>\n",
              "  </svg>\n",
              "      </button>\n",
              "      \n",
              "  <style>\n",
              "    .colab-df-container {\n",
              "      display:flex;\n",
              "      flex-wrap:wrap;\n",
              "      gap: 12px;\n",
              "    }\n",
              "\n",
              "    .colab-df-convert {\n",
              "      background-color: #E8F0FE;\n",
              "      border: none;\n",
              "      border-radius: 50%;\n",
              "      cursor: pointer;\n",
              "      display: none;\n",
              "      fill: #1967D2;\n",
              "      height: 32px;\n",
              "      padding: 0 0 0 0;\n",
              "      width: 32px;\n",
              "    }\n",
              "\n",
              "    .colab-df-convert:hover {\n",
              "      background-color: #E2EBFA;\n",
              "      box-shadow: 0px 1px 2px rgba(60, 64, 67, 0.3), 0px 1px 3px 1px rgba(60, 64, 67, 0.15);\n",
              "      fill: #174EA6;\n",
              "    }\n",
              "\n",
              "    [theme=dark] .colab-df-convert {\n",
              "      background-color: #3B4455;\n",
              "      fill: #D2E3FC;\n",
              "    }\n",
              "\n",
              "    [theme=dark] .colab-df-convert:hover {\n",
              "      background-color: #434B5C;\n",
              "      box-shadow: 0px 1px 3px 1px rgba(0, 0, 0, 0.15);\n",
              "      filter: drop-shadow(0px 1px 2px rgba(0, 0, 0, 0.3));\n",
              "      fill: #FFFFFF;\n",
              "    }\n",
              "  </style>\n",
              "\n",
              "      <script>\n",
              "        const buttonEl =\n",
              "          document.querySelector('#df-2d185022-7960-4b93-99d1-ccdc9702a68d button.colab-df-convert');\n",
              "        buttonEl.style.display =\n",
              "          google.colab.kernel.accessAllowed ? 'block' : 'none';\n",
              "\n",
              "        async function convertToInteractive(key) {\n",
              "          const element = document.querySelector('#df-2d185022-7960-4b93-99d1-ccdc9702a68d');\n",
              "          const dataTable =\n",
              "            await google.colab.kernel.invokeFunction('convertToInteractive',\n",
              "                                                     [key], {});\n",
              "          if (!dataTable) return;\n",
              "\n",
              "          const docLinkHtml = 'Like what you see? Visit the ' +\n",
              "            '<a target=\"_blank\" href=https://colab.research.google.com/notebooks/data_table.ipynb>data table notebook</a>'\n",
              "            + ' to learn more about interactive tables.';\n",
              "          element.innerHTML = '';\n",
              "          dataTable['output_type'] = 'display_data';\n",
              "          await google.colab.output.renderOutput(dataTable, element);\n",
              "          const docLink = document.createElement('div');\n",
              "          docLink.innerHTML = docLinkHtml;\n",
              "          element.appendChild(docLink);\n",
              "        }\n",
              "      </script>\n",
              "    </div>\n",
              "  </div>\n",
              "  "
            ]
          },
          "metadata": {},
          "execution_count": 87
        }
      ]
    },
    {
      "cell_type": "code",
      "source": [
        "merge_dataframes(Tables).to_csv('Example1__Table(T).csv')"
      ],
      "metadata": {
        "id": "iz0cmdNY2MNY"
      },
      "execution_count": 88,
      "outputs": []
    },
    {
      "cell_type": "code",
      "source": [
        "# T1.to_csv('T1_Balanced_Half_Sample_Method.csv')"
      ],
      "metadata": {
        "id": "Lus9B0NNRxUn"
      },
      "execution_count": null,
      "outputs": []
    },
    {
      "cell_type": "code",
      "source": [
        "T1.columns"
      ],
      "metadata": {
        "id": "TL1edIn-Sbca"
      },
      "execution_count": null,
      "outputs": []
    },
    {
      "cell_type": "code",
      "source": [],
      "metadata": {
        "id": "AlNWzzKTSbhQ"
      },
      "execution_count": null,
      "outputs": []
    },
    {
      "cell_type": "code",
      "source": [],
      "metadata": {
        "id": "U9X030fuWb88"
      },
      "execution_count": null,
      "outputs": []
    },
    {
      "cell_type": "code",
      "source": [],
      "metadata": {
        "id": "I6hiFyTQWd2c"
      },
      "execution_count": null,
      "outputs": []
    }
  ]
}