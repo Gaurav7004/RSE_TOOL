{
  "nbformat": 4,
  "nbformat_minor": 0,
  "metadata": {
    "colab": {
      "provenance": [],
      "authorship_tag": "ABX9TyPDqIWbZaUtkoojwzK0yZ6u",
      "include_colab_link": true
    },
    "kernelspec": {
      "name": "python3",
      "display_name": "Python 3"
    },
    "language_info": {
      "name": "python"
    }
  },
  "cells": [
    {
      "cell_type": "markdown",
      "metadata": {
        "id": "view-in-github",
        "colab_type": "text"
      },
      "source": [
        "<a href=\"https://colab.research.google.com/github/Gaurav7004/RSE_TOOL/blob/main/RSE_TOOL_30thMarch2023_EVENING_6%3A00PM.ipynb\" target=\"_parent\"><img src=\"https://colab.research.google.com/assets/colab-badge.svg\" alt=\"Open In Colab\"/></a>"
      ]
    },
    {
      "cell_type": "code",
      "execution_count": 1,
      "metadata": {
        "id": "y-KFBWnpcdJe"
      },
      "outputs": [],
      "source": [
        "import pandas as pd\n",
        "# ! pip install pandarallel\n",
        "# from pandarallel import pandarallel\n",
        "import json\n",
        "import re"
      ]
    },
    {
      "cell_type": "code",
      "source": [
        "# pandarallel.initialize()"
      ],
      "metadata": {
        "id": "tsdvu58itpPJ"
      },
      "execution_count": 2,
      "outputs": []
    },
    {
      "cell_type": "code",
      "source": [],
      "metadata": {
        "id": "8Ugs_ryBKxzX"
      },
      "execution_count": 2,
      "outputs": []
    },
    {
      "cell_type": "code",
      "source": [
        "df = pd.read_csv('Data1.csv')"
      ],
      "metadata": {
        "id": "j_AWweohegUD",
        "colab": {
          "base_uri": "https://localhost:8080/"
        },
        "outputId": "91ddd696-c9c6-413d-9de3-3905707724ba"
      },
      "execution_count": 3,
      "outputs": [
        {
          "output_type": "stream",
          "name": "stderr",
          "text": [
            "<ipython-input-3-7e89209b1ff8>:1: DtypeWarning: Columns (21) have mixed types. Specify dtype option on import or set low_memory=False.\n",
            "  df = pd.read_csv('Data1.csv')\n"
          ]
        }
      ]
    },
    {
      "cell_type": "code",
      "source": [
        "## Data is the dictionary\n",
        "data = {}\n",
        "\n",
        "## Keys\n",
        "key = ''\n",
        "\n",
        "## values\n",
        "values = []\n",
        "\n",
        "## Open\n",
        "with open('TEST_EXAMPLE_2.RSE', \"r\") as f:\n",
        "    for line in f:\n",
        "        line = line.strip()\n",
        "        if line.startswith('#'):\n",
        "            if key:\n",
        "                key = key.split(\"'\")[0]\n",
        "                key = key.split(\"\\t\")[0]\n",
        "                data[key] = [v for v in values if v and not v.startswith(\"'\")]\n",
        "            key = line.split(\"'\")[0]\n",
        "            key = key.split(\"\\t\")[0]\n",
        "            values = []\n",
        "        elif line.startswith(\"'\"):\n",
        "            pass\n",
        "        else:\n",
        "            line = line.split(\"'\")[0]\n",
        "            values.append(line.strip())\n",
        "\n",
        "# add last group\n",
        "if key:\n",
        "    data[key] = [v for v in values if v and not v.startswith(\"'\")]\n",
        "\n",
        "print(json.dumps(data, indent=4))"
      ],
      "metadata": {
        "colab": {
          "base_uri": "https://localhost:8080/"
        },
        "id": "jCaBn0Ltw5Ac",
        "outputId": "5baa920f-5644-4efc-ea02-708ca499136e"
      },
      "execution_count": 4,
      "outputs": [
        {
          "output_type": "stream",
          "name": "stdout",
          "text": [
            "{\n",
            "    \"#SAMPLING SUBSAMPLE2\": [],\n",
            "    \"#GROUP 2\": [\n",
            "        \"SEC   C sec\",\n",
            "        \"ST_GR C NEWVAR\"\n",
            "    ],\n",
            "    \"#FILTER 1\": [\n",
            "        \"AGE>=15\"\n",
            "    ],\n",
            "    \"#VARIABLE 3  \": [\n",
            "        \"POP\\tN  NEWVAR\",\n",
            "        \"LF\\tN  NEWVAR\",\n",
            "        \"WRK\\tN  NEWVAR\"\n",
            "    ],\n",
            "    \"#FILE Data1.csv  \": [],\n",
            "    \"#RENAME  5    \": [\n",
            "        \"STRMID C sec+st+strm+sstrm\",\n",
            "        \"SS     C ss\",\n",
            "        \"NSS    N  nss\",\n",
            "        \"NSC    N  nsc\",\n",
            "        \"MULT   N  mult\"\n",
            "    ],\n",
            "    \"#TRANSFORM 4  \": [\n",
            "        \"AGE_Gr=(\\\"01\\\") AGE<5\",\n",
            "        \"AGE_Gr=(\\\"02\\\") AGE>=5 && AGE<10\",\n",
            "        \"AGE_Gr=(\\\"03\\\") AGE>=10 && AGE<20\",\n",
            "        \"AGE_Gr=(\\\"04\\\") AGE>=20 && AGE<60\",\n",
            "        \"AGE_Gr=(\\\"05\\\") AGE>=60\",\n",
            "        \"YP=(1)\",\n",
            "        \"YM=(1)        sex<>2\",\n",
            "        \"YM=(0)\\t\\tOtherwise\",\n",
            "        \"YF=(1)        sex=2\",\n",
            "        \"YF=(0)\\t\\tOtherwise\",\n",
            "        \"YH=(1)        GEDU>=\\\"11\\\"\",\n",
            "        \"YH=(0)\\t\\tOtherwise\",\n",
            "        \"newVar4=(1)  CWS in (\\\"11,12,21,31,41,51,61,61,71,72\\\")\",\n",
            "        \"newVar4=(0)  CWS in (\\\"11,12,21,31,41,51,61,61,71,72\\\")\"\n",
            "    ],\n",
            "    \"#EST_RSE 7\": [\n",
            "        \"S POP\",\n",
            "        \"E POP\",\n",
            "        \"R POP\",\n",
            "        \"E 100*LF/POP\",\n",
            "        \"R LF/POP\",\n",
            "        \"E 100*WRK/POP\",\n",
            "        \"R WRK/POP\"\n",
            "    ]\n",
            "}\n"
          ]
        }
      ]
    },
    {
      "cell_type": "code",
      "source": [
        "def SAMPLING_(data, df):\n",
        "    for key, value in data.items():\n",
        "        pass\n",
        "\n",
        "def GROUP_(data, df):\n",
        "    for key, value in data.items():\n",
        "        ### To read the sampling method used\n",
        "        if str('SAMPLING').lower() in str(key).lower():\n",
        "            if str('SUBSAMPLE2').lower() in str(key).lower():\n",
        "                return str('SUBSAMPLE2')\n",
        "            elif str('SRSWR').lower() in str(key).lower():\n",
        "                pass\n",
        "            elif str('SRSWOR').lower() in str(key).lower():\n",
        "                pass\n",
        "\n",
        "def FILTER_(data, df):\n",
        "    for key, value in data.items():\n",
        "        ### To read the sampling method used\n",
        "        if str('FILTER').lower() in str(key).lower():\n",
        "            ### Replace logical AND '&&' with 'and'\n",
        "            if '&&' in value[0]:\n",
        "                return value[0].replace('&&', 'and')\n",
        "            ### Replace logical OR '||' with 'or'\n",
        "            elif '||' in value[0]:\n",
        "                return value[0].replace('||', 'or')\n",
        "            else:\n",
        "                return value[0]\n",
        "\n",
        "def FILE_(data):\n",
        "    for key, value in data.items():\n",
        "        ### To read the file used\n",
        "        if str('FILE').lower() in str(key).lower():\n",
        "            if key.strip().endswith('.xlsx') or key.strip().endswith('.csv'):\n",
        "                match = re.search(r'[A-Za-z0-9]+\\.xlsx|[A-Za-z0-9]+\\.csv', key)   \n",
        "                if match:\n",
        "                    file_name = match.group(0)\n",
        "                    return file_name\n",
        "                else:\n",
        "                    file_name = None\n",
        "                    return file_name\n",
        "                print(file_name)\n",
        "\n",
        "            # return file_name\n",
        "\n",
        "def RENAME_(data, df):\n",
        "    # create an empty dictionary to store the column names\n",
        "    column_dict = {}\n",
        "\n",
        "    for key, value in data.items():\n",
        "        ### To read the file used\n",
        "        if str('RENAME').lower() in str(key).lower():\n",
        "            # value = [elem for elem in value[0].split(' ') if elem.strip()]\n",
        "            # return value\n",
        "\n",
        "            for col in value:\n",
        "                col_split = col.split()\n",
        "\n",
        "                # print(col_split[0])\n",
        "\n",
        "                # extract the last element as the column name\n",
        "                col_name = col_split[-1]\n",
        "\n",
        "                new_col_name = col_split[0]\n",
        "\n",
        "                ### if there is a \"+\" sign in the last element, concatenate the columns\n",
        "                if \"+\" in col_name:\n",
        "                    col_concat = col_name.split(\"+\")\n",
        "                    col_concat = [i.upper() for i in col_concat]\n",
        "\n",
        "                    # concatenate the columns\n",
        "                    df[new_col_name] = df.loc[:, col_concat].apply(lambda x: ''.join(['0' + str(i) if i < 10 else str(i) for i in x]), axis=1)\n",
        "\n",
        "                else:\n",
        "                    col_name = col_name.upper()\n",
        "                    print(type(col_name))\n",
        "\n",
        "\n",
        "def NEWVARIABLE_(data, df):\n",
        "    for key, value in data.items():\n",
        "        ### To read the file used\n",
        "        if str('VARIABLE').lower() in str(key).lower():\n",
        "            value = [s.split()[0] for s in value]\n",
        "            \n",
        "            for name in value:\n",
        "                df[name] = 0\n",
        "\n",
        "\n",
        "def TRANSFORM_(data):\n",
        "    # Initialize empty arrays to store the values\n",
        "    Arr1 = []\n",
        "    Arr2 = []\n",
        "    Arr3 = []\n",
        "\n",
        "    for key, value in data.items():\n",
        "        ### To read the file used\n",
        "        if str('TRANSFORM').lower() in str(key).lower():\n",
        "            lines = '\\n'.join(value)\n",
        "            lines = lines.split(\"\\n\")\n",
        "\n",
        "            # Loop through the lines and extract the values\n",
        "            for line in lines:\n",
        "                line_values = line.split('=')  # split the line into values\n",
        "                \n",
        "                var_name = line_values[0].strip()  # extract the variable name\n",
        "                \n",
        "                var_value = line_values[1].strip().split()[0]  # extract the variable value\n",
        "                \n",
        "                # Regular expression pattern to extract the condition\n",
        "                pattern = r'^\\w+=\\([^\\)]*\\)(?:\\s+(.*?)(?:\\n|$))?$'\n",
        "\n",
        "                # Split the string into lines and extract the condition from each line\n",
        "                conditions = []\n",
        "\n",
        "                for line in line.split('\\n'):\n",
        "                    match = re.match(pattern, line)\n",
        "                    \n",
        "                    if match:\n",
        "                        condition = match.group(1)\n",
        "                        if condition is not None:\n",
        "                            conditions.append(condition.strip())\n",
        "                        else:\n",
        "                            conditions.append(None)\n",
        "\n",
        "                # Append the values to the arrays\n",
        "                Arr1.append(var_name)\n",
        "                Arr2.append(var_value)\n",
        "                Arr3.append(condition)\n",
        "\n",
        "    return Arr1, Arr2, Arr3\n",
        "        \n",
        "\n",
        "def EST_RSE_(data):\n",
        "    for key, value in data.items():\n",
        "        pass\n",
        "\n",
        "# print(FILE_(data))\n",
        "\n",
        "TRANSFORM_(data)\n",
        "\n",
        "# # print(FILE_(data))\n",
        "# df = pd.read_csv(FILE_(data))\n",
        "# df = df.rename(columns=lambda x: x.strip())"
      ],
      "metadata": {
        "id": "JOeTfpj33fid",
        "colab": {
          "base_uri": "https://localhost:8080/"
        },
        "outputId": "79bcbfde-fe55-450a-f77a-e5499768a1ca"
      },
      "execution_count": 5,
      "outputs": [
        {
          "output_type": "execute_result",
          "data": {
            "text/plain": [
              "(['AGE_Gr',\n",
              "  'AGE_Gr',\n",
              "  'AGE_Gr',\n",
              "  'AGE_Gr',\n",
              "  'AGE_Gr',\n",
              "  'YP',\n",
              "  'YM',\n",
              "  'YM',\n",
              "  'YF',\n",
              "  'YF',\n",
              "  'YH',\n",
              "  'YH',\n",
              "  'newVar4',\n",
              "  'newVar4'],\n",
              " ['(\"01\")',\n",
              "  '(\"02\")',\n",
              "  '(\"03\")',\n",
              "  '(\"04\")',\n",
              "  '(\"05\")',\n",
              "  '(1)',\n",
              "  '(1)',\n",
              "  '(0)',\n",
              "  '(1)',\n",
              "  '(0)',\n",
              "  '(1)',\n",
              "  '(0)',\n",
              "  '(1)',\n",
              "  '(0)'],\n",
              " ['AGE<5',\n",
              "  'AGE>=5 && AGE<10',\n",
              "  'AGE>=10 && AGE<20',\n",
              "  'AGE>=20 && AGE<60',\n",
              "  'AGE>=60',\n",
              "  None,\n",
              "  'sex<>2',\n",
              "  'Otherwise',\n",
              "  'sex=2',\n",
              "  'Otherwise',\n",
              "  'GEDU>=\"11\"',\n",
              "  'Otherwise',\n",
              "  'CWS in (\"11,12,21,31,41,51,61,61,71,72\")',\n",
              "  'CWS in (\"11,12,21,31,41,51,61,61,71,72\")'])"
            ]
          },
          "metadata": {},
          "execution_count": 5
        }
      ]
    },
    {
      "cell_type": "code",
      "source": [
        "def parse_query_string(query_string):\n",
        "    # Replace curly quotes with straight quotes\n",
        "    query_string = query_string.replace(\"”\", \"\\\"\")\n",
        "    \n",
        "    if 'in' in query_string:\n",
        "        if ('NOT in' or 'not in') in query_string:\n",
        "            query_string = re.sub(r'(\\b\\w+\\b)\\s+NOT in\\s*\\(([^)]+)\\)', r'~df[\"\\1\"].isin([\\2])', query_string)\n",
        "            query_string = re.sub(r'(\\b\\w+\\b)\\s+in\\s*\\(([^)]+)\\)', r'df[\"\\1\"].isin([\\2])', query_string)\n",
        "        elif 'in' in query_string:\n",
        "            # Replace 'in' operators with 'isin' and add list brackets\n",
        "            query_string = re.sub(r'(\\b\\w+\\b)\\s+in\\s*\\(([^)]+)\\)', r'df[\"\\1\"].isin([\\2])', query_string)\n",
        "        else:\n",
        "            pass\n",
        "            \n",
        "    else:\n",
        "        query_string = re.sub(r'''(\\b\\w+\\b)(\\s*[<>=!]+\\s*)('[^']*'|\"[^\"]*\")|(\\b\\w+\\b)(\\s*[<>=!]+\\s*)(\"[^]*'|\"[^\"]*\")''', r'df[\"\\1\"]\\2\\3', query_string)\n",
        "        query_string = re.sub(r'''(\\b\\w+\\b)(\\s*[<>=!]+\\s*)(\\d+)''', r'df[\"\\1\"]\\2\\3', query_string)\n",
        "\n",
        "    # Replace double quotes with single quotes\n",
        "    query_string = query_string.replace(\"\\\"\", \"'\")\n",
        "    \n",
        "    # Replace 'AND' with '&', 'OR' with '|', and add parentheses\n",
        "    query_string = query_string.replace(\" AND \", \" and \")\\\n",
        "                        .replace(\" OR \", \" or \").\\\n",
        "                            replace(\"&&\", 'and').\\\n",
        "                                replace('||', 'or').\\\n",
        "                                    replace('<>', '!=')\n",
        "    \n",
        "    # Replace column names with df[column] syntax\n",
        "    query_string = re.sub(r'(\\b\\w+\\b)=', r'df[\"\\1\"]==', query_string)\n",
        "\n",
        "\n",
        "    # Define a function to replace variable names with df[\"<variable_name>\"]\n",
        "    def replace_var(match):\n",
        "        return f'df[\"{match.group(0)}\"]'\n",
        "\n",
        "    # Use regex to replace variable names with df[\"<variable_name>\"]\n",
        "    pattern = re.compile(r'''\\b\\w+\\b(?=\\s*[<>=!]=*\\s*[\\'\"\\d])''')\n",
        "    new_string = pattern.sub(replace_var, query_string)\n",
        "\n",
        "    query_string = re.sub(r\"'(\\d+)'|\\\"(\\d+)\\\"\", lambda match: str(int(match.group(1) or match.group(2))), query_string)\n",
        "    \n",
        "    return query_string\n",
        "\n",
        "final_parsed_query = []\n",
        "\n",
        "for i in list(TRANSFORM_(data))[2]:\n",
        "    # print(i)\n",
        "    if i:\n",
        "        parsed_query = parse_query_string(i)\n",
        "        final_parsed_query.append(parsed_query)\n",
        "    else:\n",
        "        final_parsed_query.append(i)\n",
        "\n",
        "print(final_parsed_query)"
      ],
      "metadata": {
        "id": "_lTGE07ya3aO",
        "colab": {
          "base_uri": "https://localhost:8080/"
        },
        "outputId": "cc2f16d4-2fa6-45ef-db8f-8b8aa52732ce"
      },
      "execution_count": 66,
      "outputs": [
        {
          "output_type": "stream",
          "name": "stdout",
          "text": [
            "[\"df['AGE']<5\", \"df['AGE']>=5 and df['AGE']<10\", \"df['AGE']>=10 and df['AGE']<20\", \"df['AGE']>=20 and df['AGE']<60\", \"df['AGE']>=60\", None, \"df['sex']!=2\", 'Otherwise', \"df['sex']=2\", 'Otherwise', \"df['GEDU']>=11\", 'Otherwise', \"df['CWS'].isin(['11,12,21,31,41,51,61,61,71,72'])\", \"df['CWS'].isin(['11,12,21,31,41,51,61,61,71,72'])\"]\n"
          ]
        }
      ]
    },
    {
      "cell_type": "code",
      "source": [
        "# # Define the input string\n",
        "# input_str = '''ST_GR=\"G1\"   in(ST,\"10,19,20,21\")\n",
        "#                   ST_GR=\"G2\"   in(ST,\"11,12,13,14,15,16,17,18\")\n",
        "#                     ST_GR=\"G3\"   Otherwise\n",
        "#                         POP=1\n",
        "#                             WRK=1  in(CWS,\"11,12,21,31,41,51,61,61,71,72\")\n",
        "#                                 WRK=0  NOT in(CWS,\"11,12,21,31,41,51,61,61,71,72\")\n",
        "#                                     LF=1      in(CWS,\"11,12,21,31,41,51,61,61,71,72,81\")\n",
        "#                                         LF=0      Otherwise'''\n",
        "\n",
        "# input_str = 'newVar4=1  CWS in (11,12,21,31,41,51,61,61,71,72)              * For persons Employed',\\\n",
        "#                 'newVar4=0  CWS not in (11,12,21,31,41,51,61,61,71,72)        * For rest',\\\n",
        "#                     'newVar5=1  CWS in (11,12,21,31,41,51,61,61,71,72,81)         * For persons in Labour Force',\\\n",
        "#                         'newVar5=0  CWS not in (11,12,21,31,41,51,61,61,71,72,81)   * For rest',\\\n",
        "#                             'newVar6=1  CWS in ()                                                                * For persons ALL',\\\n",
        "#                                 'newVar1=ERN_REG + ERN_SELF  GEDU_LVL in (05,06) – say for under graduates',\\\n",
        "#                             'newVar1=0 otherwise',\\\n",
        "#                         'newVar2=ERN_REG + ERN_SELF  GEDU_LVL in (07,08,09) – say for graduates',\\\n",
        "#                     'newVar2=0 otherwise',\\\n",
        "#                 'newVar3=ERN_REG + ERN_SELF  GEDU_LVL in (05,06,07,08,09) – addition of above two',\\\n",
        "#             'newVar3=0 otherwise'\n",
        "\n",
        "# Split the input string into lines\n",
        "# lines = input_str.split('\\n')\n",
        "\n",
        "# Initialize empty arrays to store the values\n",
        "Arr1 = []\n",
        "Arr2 = []\n",
        "Arr3 = []\n",
        "\n",
        "# Loop through the lines and extract the values\n",
        "for line in final_parsed_query:\n",
        "    print(line_values)\n",
        "    line_values = line.split('=')  # split the line into values\n",
        "    var_name = line_values[0].strip()  # extract the variable name\n",
        "    print(var_name)\n",
        "    var_value = line_values  # extract the variable value\n",
        "    print(var_value)\n",
        "    condition = 'None'  # initialize the condition to None\n",
        "\n",
        "    # Check if the line contains \"Otherwise\"\n",
        "    if \"Otherwise\" in line:\n",
        "        condition = \"Otherwise\"\n",
        "\n",
        "    # Check if the variable value contains an \"in\" statement\n",
        "    if \"in\" in line:\n",
        "        if \"NOT in\" in line:\n",
        "            condition = line.split()[1] + ' ' + line.split()[2]\n",
        "        else:\n",
        "            condition = line.split()[1]\n",
        "\n",
        "    # Append the values to the arrays\n",
        "    Arr1.append(var_name)\n",
        "    Arr2.append(var_value)\n",
        "    Arr3.append(condition)\n",
        "\n",
        "# Print the results\n",
        "# print(Arr1)\n",
        "# print(Arr2)\n",
        "# print(Arr3)\n",
        "\n",
        "Arr4 = []\n",
        "Arr5 = []\n",
        "\n",
        "for i in range(len(Arr3)):\n",
        "    if 'in' in Arr3[i]:\n",
        "        if 'NOT in' in Arr3[i]:\n",
        "            # pattern\n",
        "            pattern = r'^NOT\\s+in\\((\\w+),\\s*\"([^\"]+)\"\\)$'\n",
        "            # match\n",
        "            match = re.match(pattern, Arr3[i])\n",
        "\n",
        "            Arr4.append(match.group(1))\n",
        "            Arr5.append(match.group(2))\n",
        "            \n",
        "        else:\n",
        "            # pattern\n",
        "            pattern = r'^in\\((\\w+),\\s*\"([^\"]+)\"\\)$'\n",
        "            # match\n",
        "            match = re.match(pattern, Arr3[i])\n",
        "\n",
        "            Arr4.append(match.group(1))\n",
        "            Arr5.append(match.group(2))\n",
        "\n",
        "    elif 'Otherwise' in Arr3[i]:\n",
        "        # pattern\n",
        "        pattern = r'^Otherwise$'\n",
        "        # match\n",
        "        match = re.match(pattern, Arr3[i])\n",
        "\n",
        "        Arr4.append(match.group(0))\n",
        "        Arr5.append(None)\n",
        "\n",
        "    else:\n",
        "        Arr4.append(None)\n",
        "        Arr5.append(None)\n"
      ],
      "metadata": {
        "id": "NtMiw_fo7hvR",
        "colab": {
          "base_uri": "https://localhost:8080/",
          "height": 527
        },
        "outputId": "e81fa532-3e31-4911-85c1-60a730c73270"
      },
      "execution_count": 69,
      "outputs": [
        {
          "output_type": "stream",
          "name": "stdout",
          "text": [
            "[\"df['AGE']<5\"]\n",
            "df['AGE']<5\n",
            "[\"df['AGE']<5\"]\n",
            "[\"df['AGE']<5\"]\n",
            "df['AGE']>\n",
            "[\"df['AGE']>\", \"5 and df['AGE']<10\"]\n",
            "[\"df['AGE']>\", \"5 and df['AGE']<10\"]\n",
            "df['AGE']>\n",
            "[\"df['AGE']>\", \"10 and df['AGE']<20\"]\n",
            "[\"df['AGE']>\", \"10 and df['AGE']<20\"]\n",
            "df['AGE']>\n",
            "[\"df['AGE']>\", \"20 and df['AGE']<60\"]\n",
            "[\"df['AGE']>\", \"20 and df['AGE']<60\"]\n",
            "df['AGE']>\n",
            "[\"df['AGE']>\", '60']\n",
            "[\"df['AGE']>\", '60']\n"
          ]
        },
        {
          "output_type": "error",
          "ename": "AttributeError",
          "evalue": "ignored",
          "traceback": [
            "\u001b[0;31m---------------------------------------------------------------------------\u001b[0m",
            "\u001b[0;31mAttributeError\u001b[0m                            Traceback (most recent call last)",
            "\u001b[0;32m<ipython-input-69-e4159b66bef1>\u001b[0m in \u001b[0;36m<cell line: 32>\u001b[0;34m()\u001b[0m\n\u001b[1;32m     32\u001b[0m \u001b[0;32mfor\u001b[0m \u001b[0mline\u001b[0m \u001b[0;32min\u001b[0m \u001b[0mfinal_parsed_query\u001b[0m\u001b[0;34m:\u001b[0m\u001b[0;34m\u001b[0m\u001b[0;34m\u001b[0m\u001b[0m\n\u001b[1;32m     33\u001b[0m     \u001b[0mprint\u001b[0m\u001b[0;34m(\u001b[0m\u001b[0mline_values\u001b[0m\u001b[0;34m)\u001b[0m\u001b[0;34m\u001b[0m\u001b[0;34m\u001b[0m\u001b[0m\n\u001b[0;32m---> 34\u001b[0;31m     \u001b[0mline_values\u001b[0m \u001b[0;34m=\u001b[0m \u001b[0mline\u001b[0m\u001b[0;34m.\u001b[0m\u001b[0msplit\u001b[0m\u001b[0;34m(\u001b[0m\u001b[0;34m'='\u001b[0m\u001b[0;34m)\u001b[0m  \u001b[0;31m# split the line into values\u001b[0m\u001b[0;34m\u001b[0m\u001b[0;34m\u001b[0m\u001b[0m\n\u001b[0m\u001b[1;32m     35\u001b[0m     \u001b[0mvar_name\u001b[0m \u001b[0;34m=\u001b[0m \u001b[0mline_values\u001b[0m\u001b[0;34m[\u001b[0m\u001b[0;36m0\u001b[0m\u001b[0;34m]\u001b[0m\u001b[0;34m.\u001b[0m\u001b[0mstrip\u001b[0m\u001b[0;34m(\u001b[0m\u001b[0;34m)\u001b[0m  \u001b[0;31m# extract the variable name\u001b[0m\u001b[0;34m\u001b[0m\u001b[0;34m\u001b[0m\u001b[0m\n\u001b[1;32m     36\u001b[0m     \u001b[0mprint\u001b[0m\u001b[0;34m(\u001b[0m\u001b[0mvar_name\u001b[0m\u001b[0;34m)\u001b[0m\u001b[0;34m\u001b[0m\u001b[0;34m\u001b[0m\u001b[0m\n",
            "\u001b[0;31mAttributeError\u001b[0m: 'NoneType' object has no attribute 'split'"
          ]
        }
      ]
    },
    {
      "cell_type": "code",
      "source": [
        "\n",
        "lst = []\n",
        "for value in Arr5:\n",
        "    if value is None:\n",
        "        lst.append(value)\n",
        "    else:\n",
        "        lst.append([int(x) for x in value.split(',')])\n",
        "\n",
        "Arr5 = lst"
      ],
      "metadata": {
        "id": "znnZMqYSu1Zd"
      },
      "execution_count": 9,
      "outputs": []
    },
    {
      "cell_type": "code",
      "source": [
        "set(Arr1) - set(list(df.columns))"
      ],
      "metadata": {
        "id": "FpCHnWE634Lg",
        "colab": {
          "base_uri": "https://localhost:8080/"
        },
        "outputId": "3962234a-e2e3-4268-f53b-bef8d309fd7e"
      },
      "execution_count": 10,
      "outputs": [
        {
          "output_type": "execute_result",
          "data": {
            "text/plain": [
              "{'newVar1', 'newVar2', 'newVar3', 'newVar4', 'newVar5', 'newVar6'}"
            ]
          },
          "metadata": {},
          "execution_count": 10
        }
      ]
    },
    {
      "cell_type": "code",
      "source": [
        "\n",
        "# Check for name mismatches and create new columns\n",
        "mismatched_names = set(Arr1) - set(df.columns)\n",
        "\n",
        "new_columns = {name: [0] * df.shape[0] for name in mismatched_names}\n",
        "df = df.assign(**new_columns)\n",
        "\n",
        "mismatched_names"
      ],
      "metadata": {
        "id": "2Jb5zGh67zYH",
        "colab": {
          "base_uri": "https://localhost:8080/"
        },
        "outputId": "c37cfc3f-bfb8-4e6c-8cf5-160a52cbc0c0"
      },
      "execution_count": 11,
      "outputs": [
        {
          "output_type": "execute_result",
          "data": {
            "text/plain": [
              "{'newVar1', 'newVar2', 'newVar3', 'newVar4', 'newVar5', 'newVar6'}"
            ]
          },
          "metadata": {},
          "execution_count": 11
        }
      ]
    },
    {
      "cell_type": "code",
      "source": [
        "list(mismatched_names)"
      ],
      "metadata": {
        "id": "FXXUwiS9yHBa",
        "colab": {
          "base_uri": "https://localhost:8080/"
        },
        "outputId": "c978e27e-7a01-4c68-a5f8-1d3221e50bc7"
      },
      "execution_count": 12,
      "outputs": [
        {
          "output_type": "execute_result",
          "data": {
            "text/plain": [
              "['newVar1', 'newVar4', 'newVar3', 'newVar6', 'newVar2', 'newVar5']"
            ]
          },
          "metadata": {},
          "execution_count": 12
        }
      ]
    },
    {
      "cell_type": "code",
      "source": [
        "Arr5, Arr4, Arr3, Arr2, Arr1, df.columns"
      ],
      "metadata": {
        "id": "Emidn8eF8G3U",
        "colab": {
          "base_uri": "https://localhost:8080/"
        },
        "outputId": "81578871-b3fb-4fc8-e3bd-c6f87b563035"
      },
      "execution_count": 13,
      "outputs": [
        {
          "output_type": "execute_result",
          "data": {
            "text/plain": [
              "([None, None, None, None, None, None, None, None, None, None, None],\n",
              " [None, None, None, None, None, None, None, None, None, None, None],\n",
              " ['CWS', 'CWS', 'CWS', 'CWS', 'CWS', '+', 'None', '+', 'None', '+', 'None'],\n",
              " ['1', '0', '1', '0', '1', 'ERN_REG', '0', 'ERN_REG', '0', 'ERN_REG', '0'],\n",
              " ['newVar4',\n",
              "  'newVar4',\n",
              "  'newVar5',\n",
              "  'newVar5',\n",
              "  'newVar6',\n",
              "  'newVar1',\n",
              "  'newVar1',\n",
              "  'newVar2',\n",
              "  'newVar2',\n",
              "  'newVar3',\n",
              "  'newVar3'],\n",
              " Index(['SEC', ' ST', 'FSU', ' IDNO', ' SEG', ' SSS', ' SSU', ' STRM',\n",
              "        '  SSTRM', '  SS', ' NSS', ' NSC', ' MULT', ' HH_SIZE', '  HHTYPE',\n",
              "        '  RELG', '  SG', ' MHCE', '  DC_ALL', '  DC_ST', '  SRL', ' REL',\n",
              "        ' SEX', ' MSEX', '  AGE', ' MARST', '  GEDU_LVL', '   PAS', ' PS_SS',\n",
              "        '  CWS', '  ERN_SELF', '   ERN_REG', 'newVar1', 'newVar4', 'newVar3',\n",
              "        'newVar6', 'newVar2', 'newVar5'],\n",
              "       dtype='object'))"
            ]
          },
          "metadata": {},
          "execution_count": 13
        }
      ]
    },
    {
      "cell_type": "code",
      "source": [
        "for i in range(len(Arr3)):\n",
        "\n",
        "    if 'in' in Arr3[i]:\n",
        "        curr_column = 0\n",
        "        lst_stack = []\n",
        "\n",
        "        ### For NOT in case \n",
        "        if 'NOT in' in Arr3[i]:\n",
        "            if Arr1[i] in list(df.columns):\n",
        "                df.loc[~df[Arr4[i]].isin(Arr5[i]), (Arr1[i])] = Arr2[i]\n",
        "            else:\n",
        "                pass\n",
        "\n",
        "        ### For in case\n",
        "        else:\n",
        "            if Arr1[i] in list(df.columns) and Arr5[i] is not None:\n",
        "\n",
        "                if 'or' or 'and' in Arr3[i]:\n",
        "                    pass\n",
        "                else:\n",
        "                    # print(Arr1[i], Arr2[i], Arr4[i], Arr5[i])\n",
        "                    print(i)\n",
        "                    df.loc[df[Arr4[i]].isin(Arr5[i]), (Arr1[i])] = Arr2[i]\n",
        "                    lst_stack.extend(Arr5[i])\n",
        "                    curr_column = Arr4[i]\n",
        "\n",
        "\n",
        "\n",
        "            else:\n",
        "                pass\n",
        "\n",
        "    elif 'Otherwise' in Arr3[i]:\n",
        "            if Arr1[i] in list(df.columns) and curr_column == True:\n",
        "                ### Otherwise case (11,12,13,14,15,16,17,18,10,19,20,21)\n",
        "                df.loc[~df[curr_column].isin(lst_stack), (Arr1[i])] = Arr2[i]\n",
        "            else:\n",
        "                pass\n",
        "\n",
        "    else:\n",
        "        if Arr1[i] in list(df.columns):\n",
        "            # if Arr5[i] == None or Arr5[i] == 'None':\n",
        "            df.loc[df[Arr1[i]] == 0, Arr1[i]] = Arr2[i]\n",
        "\n",
        "    # print(lst_stack)\n"
      ],
      "metadata": {
        "id": "YGRFczcPpCBU"
      },
      "execution_count": 14,
      "outputs": []
    },
    {
      "cell_type": "code",
      "source": [
        "df"
      ],
      "metadata": {
        "id": "tgrO93kD-Dd9",
        "colab": {
          "base_uri": "https://localhost:8080/",
          "height": 487
        },
        "outputId": "93e76d7f-38c8-415a-831e-022e4946abce"
      },
      "execution_count": 15,
      "outputs": [
        {
          "output_type": "execute_result",
          "data": {
            "text/plain": [
              "        SEC   ST    FSU   IDNO   SEG   SSS   SSU   STRM    SSTRM    SS  ...  \\\n",
              "0         1   28  17469      1     1     1     1      1        1     1  ...   \n",
              "1         1   28  17469      1     1     1     1      1        1     1  ...   \n",
              "2         1   28  17469      1     1     1     1      1        1     1  ...   \n",
              "3         1   28  17469      1     1     1     1      1        1     1  ...   \n",
              "4         1   28  17469      2     1     1     2      1        1     1  ...   \n",
              "...     ...  ...    ...    ...   ...   ...   ...    ...      ...   ...  ...   \n",
              "109851    2   34  27428      7     1     4     1      1        3     2  ...   \n",
              "109852    2   34  27428      8     1     4     2      1        3     2  ...   \n",
              "109853    2   34  27428      8     1     4     2      1        3     2  ...   \n",
              "109854    2   34  27428      8     1     4     2      1        3     2  ...   \n",
              "109855    2   34  27428      8     1     4     2      1        3     2  ...   \n",
              "\n",
              "         PS_SS    CWS    ERN_SELF     ERN_REG  newVar1  newVar4  newVar3  \\\n",
              "0           51     51           0           0  ERN_REG        1  ERN_REG   \n",
              "1           91     91           0           0  ERN_REG        1  ERN_REG   \n",
              "2           91     91           0           0  ERN_REG        1  ERN_REG   \n",
              "3           51     51           0           0  ERN_REG        1  ERN_REG   \n",
              "4           51     51           0           0  ERN_REG        1  ERN_REG   \n",
              "...        ...    ...         ...         ...      ...      ...      ...   \n",
              "109851      94     94           0           0  ERN_REG        1  ERN_REG   \n",
              "109852      51     51           0           0  ERN_REG        1  ERN_REG   \n",
              "109853      91     91           0           0  ERN_REG        1  ERN_REG   \n",
              "109854      92     92           0           0  ERN_REG        1  ERN_REG   \n",
              "109855      94     94           0           0  ERN_REG        1  ERN_REG   \n",
              "\n",
              "        newVar6  newVar2  newVar5  \n",
              "0             1  ERN_REG        1  \n",
              "1             1  ERN_REG        1  \n",
              "2             1  ERN_REG        1  \n",
              "3             1  ERN_REG        1  \n",
              "4             1  ERN_REG        1  \n",
              "...         ...      ...      ...  \n",
              "109851        1  ERN_REG        1  \n",
              "109852        1  ERN_REG        1  \n",
              "109853        1  ERN_REG        1  \n",
              "109854        1  ERN_REG        1  \n",
              "109855        1  ERN_REG        1  \n",
              "\n",
              "[109856 rows x 38 columns]"
            ],
            "text/html": [
              "\n",
              "  <div id=\"df-93a465cf-dec2-4ed0-88ee-e76504f8eb13\">\n",
              "    <div class=\"colab-df-container\">\n",
              "      <div>\n",
              "<style scoped>\n",
              "    .dataframe tbody tr th:only-of-type {\n",
              "        vertical-align: middle;\n",
              "    }\n",
              "\n",
              "    .dataframe tbody tr th {\n",
              "        vertical-align: top;\n",
              "    }\n",
              "\n",
              "    .dataframe thead th {\n",
              "        text-align: right;\n",
              "    }\n",
              "</style>\n",
              "<table border=\"1\" class=\"dataframe\">\n",
              "  <thead>\n",
              "    <tr style=\"text-align: right;\">\n",
              "      <th></th>\n",
              "      <th>SEC</th>\n",
              "      <th>ST</th>\n",
              "      <th>FSU</th>\n",
              "      <th>IDNO</th>\n",
              "      <th>SEG</th>\n",
              "      <th>SSS</th>\n",
              "      <th>SSU</th>\n",
              "      <th>STRM</th>\n",
              "      <th>SSTRM</th>\n",
              "      <th>SS</th>\n",
              "      <th>...</th>\n",
              "      <th>PS_SS</th>\n",
              "      <th>CWS</th>\n",
              "      <th>ERN_SELF</th>\n",
              "      <th>ERN_REG</th>\n",
              "      <th>newVar1</th>\n",
              "      <th>newVar4</th>\n",
              "      <th>newVar3</th>\n",
              "      <th>newVar6</th>\n",
              "      <th>newVar2</th>\n",
              "      <th>newVar5</th>\n",
              "    </tr>\n",
              "  </thead>\n",
              "  <tbody>\n",
              "    <tr>\n",
              "      <th>0</th>\n",
              "      <td>1</td>\n",
              "      <td>28</td>\n",
              "      <td>17469</td>\n",
              "      <td>1</td>\n",
              "      <td>1</td>\n",
              "      <td>1</td>\n",
              "      <td>1</td>\n",
              "      <td>1</td>\n",
              "      <td>1</td>\n",
              "      <td>1</td>\n",
              "      <td>...</td>\n",
              "      <td>51</td>\n",
              "      <td>51</td>\n",
              "      <td>0</td>\n",
              "      <td>0</td>\n",
              "      <td>ERN_REG</td>\n",
              "      <td>1</td>\n",
              "      <td>ERN_REG</td>\n",
              "      <td>1</td>\n",
              "      <td>ERN_REG</td>\n",
              "      <td>1</td>\n",
              "    </tr>\n",
              "    <tr>\n",
              "      <th>1</th>\n",
              "      <td>1</td>\n",
              "      <td>28</td>\n",
              "      <td>17469</td>\n",
              "      <td>1</td>\n",
              "      <td>1</td>\n",
              "      <td>1</td>\n",
              "      <td>1</td>\n",
              "      <td>1</td>\n",
              "      <td>1</td>\n",
              "      <td>1</td>\n",
              "      <td>...</td>\n",
              "      <td>91</td>\n",
              "      <td>91</td>\n",
              "      <td>0</td>\n",
              "      <td>0</td>\n",
              "      <td>ERN_REG</td>\n",
              "      <td>1</td>\n",
              "      <td>ERN_REG</td>\n",
              "      <td>1</td>\n",
              "      <td>ERN_REG</td>\n",
              "      <td>1</td>\n",
              "    </tr>\n",
              "    <tr>\n",
              "      <th>2</th>\n",
              "      <td>1</td>\n",
              "      <td>28</td>\n",
              "      <td>17469</td>\n",
              "      <td>1</td>\n",
              "      <td>1</td>\n",
              "      <td>1</td>\n",
              "      <td>1</td>\n",
              "      <td>1</td>\n",
              "      <td>1</td>\n",
              "      <td>1</td>\n",
              "      <td>...</td>\n",
              "      <td>91</td>\n",
              "      <td>91</td>\n",
              "      <td>0</td>\n",
              "      <td>0</td>\n",
              "      <td>ERN_REG</td>\n",
              "      <td>1</td>\n",
              "      <td>ERN_REG</td>\n",
              "      <td>1</td>\n",
              "      <td>ERN_REG</td>\n",
              "      <td>1</td>\n",
              "    </tr>\n",
              "    <tr>\n",
              "      <th>3</th>\n",
              "      <td>1</td>\n",
              "      <td>28</td>\n",
              "      <td>17469</td>\n",
              "      <td>1</td>\n",
              "      <td>1</td>\n",
              "      <td>1</td>\n",
              "      <td>1</td>\n",
              "      <td>1</td>\n",
              "      <td>1</td>\n",
              "      <td>1</td>\n",
              "      <td>...</td>\n",
              "      <td>51</td>\n",
              "      <td>51</td>\n",
              "      <td>0</td>\n",
              "      <td>0</td>\n",
              "      <td>ERN_REG</td>\n",
              "      <td>1</td>\n",
              "      <td>ERN_REG</td>\n",
              "      <td>1</td>\n",
              "      <td>ERN_REG</td>\n",
              "      <td>1</td>\n",
              "    </tr>\n",
              "    <tr>\n",
              "      <th>4</th>\n",
              "      <td>1</td>\n",
              "      <td>28</td>\n",
              "      <td>17469</td>\n",
              "      <td>2</td>\n",
              "      <td>1</td>\n",
              "      <td>1</td>\n",
              "      <td>2</td>\n",
              "      <td>1</td>\n",
              "      <td>1</td>\n",
              "      <td>1</td>\n",
              "      <td>...</td>\n",
              "      <td>51</td>\n",
              "      <td>51</td>\n",
              "      <td>0</td>\n",
              "      <td>0</td>\n",
              "      <td>ERN_REG</td>\n",
              "      <td>1</td>\n",
              "      <td>ERN_REG</td>\n",
              "      <td>1</td>\n",
              "      <td>ERN_REG</td>\n",
              "      <td>1</td>\n",
              "    </tr>\n",
              "    <tr>\n",
              "      <th>...</th>\n",
              "      <td>...</td>\n",
              "      <td>...</td>\n",
              "      <td>...</td>\n",
              "      <td>...</td>\n",
              "      <td>...</td>\n",
              "      <td>...</td>\n",
              "      <td>...</td>\n",
              "      <td>...</td>\n",
              "      <td>...</td>\n",
              "      <td>...</td>\n",
              "      <td>...</td>\n",
              "      <td>...</td>\n",
              "      <td>...</td>\n",
              "      <td>...</td>\n",
              "      <td>...</td>\n",
              "      <td>...</td>\n",
              "      <td>...</td>\n",
              "      <td>...</td>\n",
              "      <td>...</td>\n",
              "      <td>...</td>\n",
              "      <td>...</td>\n",
              "    </tr>\n",
              "    <tr>\n",
              "      <th>109851</th>\n",
              "      <td>2</td>\n",
              "      <td>34</td>\n",
              "      <td>27428</td>\n",
              "      <td>7</td>\n",
              "      <td>1</td>\n",
              "      <td>4</td>\n",
              "      <td>1</td>\n",
              "      <td>1</td>\n",
              "      <td>3</td>\n",
              "      <td>2</td>\n",
              "      <td>...</td>\n",
              "      <td>94</td>\n",
              "      <td>94</td>\n",
              "      <td>0</td>\n",
              "      <td>0</td>\n",
              "      <td>ERN_REG</td>\n",
              "      <td>1</td>\n",
              "      <td>ERN_REG</td>\n",
              "      <td>1</td>\n",
              "      <td>ERN_REG</td>\n",
              "      <td>1</td>\n",
              "    </tr>\n",
              "    <tr>\n",
              "      <th>109852</th>\n",
              "      <td>2</td>\n",
              "      <td>34</td>\n",
              "      <td>27428</td>\n",
              "      <td>8</td>\n",
              "      <td>1</td>\n",
              "      <td>4</td>\n",
              "      <td>2</td>\n",
              "      <td>1</td>\n",
              "      <td>3</td>\n",
              "      <td>2</td>\n",
              "      <td>...</td>\n",
              "      <td>51</td>\n",
              "      <td>51</td>\n",
              "      <td>0</td>\n",
              "      <td>0</td>\n",
              "      <td>ERN_REG</td>\n",
              "      <td>1</td>\n",
              "      <td>ERN_REG</td>\n",
              "      <td>1</td>\n",
              "      <td>ERN_REG</td>\n",
              "      <td>1</td>\n",
              "    </tr>\n",
              "    <tr>\n",
              "      <th>109853</th>\n",
              "      <td>2</td>\n",
              "      <td>34</td>\n",
              "      <td>27428</td>\n",
              "      <td>8</td>\n",
              "      <td>1</td>\n",
              "      <td>4</td>\n",
              "      <td>2</td>\n",
              "      <td>1</td>\n",
              "      <td>3</td>\n",
              "      <td>2</td>\n",
              "      <td>...</td>\n",
              "      <td>91</td>\n",
              "      <td>91</td>\n",
              "      <td>0</td>\n",
              "      <td>0</td>\n",
              "      <td>ERN_REG</td>\n",
              "      <td>1</td>\n",
              "      <td>ERN_REG</td>\n",
              "      <td>1</td>\n",
              "      <td>ERN_REG</td>\n",
              "      <td>1</td>\n",
              "    </tr>\n",
              "    <tr>\n",
              "      <th>109854</th>\n",
              "      <td>2</td>\n",
              "      <td>34</td>\n",
              "      <td>27428</td>\n",
              "      <td>8</td>\n",
              "      <td>1</td>\n",
              "      <td>4</td>\n",
              "      <td>2</td>\n",
              "      <td>1</td>\n",
              "      <td>3</td>\n",
              "      <td>2</td>\n",
              "      <td>...</td>\n",
              "      <td>92</td>\n",
              "      <td>92</td>\n",
              "      <td>0</td>\n",
              "      <td>0</td>\n",
              "      <td>ERN_REG</td>\n",
              "      <td>1</td>\n",
              "      <td>ERN_REG</td>\n",
              "      <td>1</td>\n",
              "      <td>ERN_REG</td>\n",
              "      <td>1</td>\n",
              "    </tr>\n",
              "    <tr>\n",
              "      <th>109855</th>\n",
              "      <td>2</td>\n",
              "      <td>34</td>\n",
              "      <td>27428</td>\n",
              "      <td>8</td>\n",
              "      <td>1</td>\n",
              "      <td>4</td>\n",
              "      <td>2</td>\n",
              "      <td>1</td>\n",
              "      <td>3</td>\n",
              "      <td>2</td>\n",
              "      <td>...</td>\n",
              "      <td>94</td>\n",
              "      <td>94</td>\n",
              "      <td>0</td>\n",
              "      <td>0</td>\n",
              "      <td>ERN_REG</td>\n",
              "      <td>1</td>\n",
              "      <td>ERN_REG</td>\n",
              "      <td>1</td>\n",
              "      <td>ERN_REG</td>\n",
              "      <td>1</td>\n",
              "    </tr>\n",
              "  </tbody>\n",
              "</table>\n",
              "<p>109856 rows × 38 columns</p>\n",
              "</div>\n",
              "      <button class=\"colab-df-convert\" onclick=\"convertToInteractive('df-93a465cf-dec2-4ed0-88ee-e76504f8eb13')\"\n",
              "              title=\"Convert this dataframe to an interactive table.\"\n",
              "              style=\"display:none;\">\n",
              "        \n",
              "  <svg xmlns=\"http://www.w3.org/2000/svg\" height=\"24px\"viewBox=\"0 0 24 24\"\n",
              "       width=\"24px\">\n",
              "    <path d=\"M0 0h24v24H0V0z\" fill=\"none\"/>\n",
              "    <path d=\"M18.56 5.44l.94 2.06.94-2.06 2.06-.94-2.06-.94-.94-2.06-.94 2.06-2.06.94zm-11 1L8.5 8.5l.94-2.06 2.06-.94-2.06-.94L8.5 2.5l-.94 2.06-2.06.94zm10 10l.94 2.06.94-2.06 2.06-.94-2.06-.94-.94-2.06-.94 2.06-2.06.94z\"/><path d=\"M17.41 7.96l-1.37-1.37c-.4-.4-.92-.59-1.43-.59-.52 0-1.04.2-1.43.59L10.3 9.45l-7.72 7.72c-.78.78-.78 2.05 0 2.83L4 21.41c.39.39.9.59 1.41.59.51 0 1.02-.2 1.41-.59l7.78-7.78 2.81-2.81c.8-.78.8-2.07 0-2.86zM5.41 20L4 18.59l7.72-7.72 1.47 1.35L5.41 20z\"/>\n",
              "  </svg>\n",
              "      </button>\n",
              "      \n",
              "  <style>\n",
              "    .colab-df-container {\n",
              "      display:flex;\n",
              "      flex-wrap:wrap;\n",
              "      gap: 12px;\n",
              "    }\n",
              "\n",
              "    .colab-df-convert {\n",
              "      background-color: #E8F0FE;\n",
              "      border: none;\n",
              "      border-radius: 50%;\n",
              "      cursor: pointer;\n",
              "      display: none;\n",
              "      fill: #1967D2;\n",
              "      height: 32px;\n",
              "      padding: 0 0 0 0;\n",
              "      width: 32px;\n",
              "    }\n",
              "\n",
              "    .colab-df-convert:hover {\n",
              "      background-color: #E2EBFA;\n",
              "      box-shadow: 0px 1px 2px rgba(60, 64, 67, 0.3), 0px 1px 3px 1px rgba(60, 64, 67, 0.15);\n",
              "      fill: #174EA6;\n",
              "    }\n",
              "\n",
              "    [theme=dark] .colab-df-convert {\n",
              "      background-color: #3B4455;\n",
              "      fill: #D2E3FC;\n",
              "    }\n",
              "\n",
              "    [theme=dark] .colab-df-convert:hover {\n",
              "      background-color: #434B5C;\n",
              "      box-shadow: 0px 1px 3px 1px rgba(0, 0, 0, 0.15);\n",
              "      filter: drop-shadow(0px 1px 2px rgba(0, 0, 0, 0.3));\n",
              "      fill: #FFFFFF;\n",
              "    }\n",
              "  </style>\n",
              "\n",
              "      <script>\n",
              "        const buttonEl =\n",
              "          document.querySelector('#df-93a465cf-dec2-4ed0-88ee-e76504f8eb13 button.colab-df-convert');\n",
              "        buttonEl.style.display =\n",
              "          google.colab.kernel.accessAllowed ? 'block' : 'none';\n",
              "\n",
              "        async function convertToInteractive(key) {\n",
              "          const element = document.querySelector('#df-93a465cf-dec2-4ed0-88ee-e76504f8eb13');\n",
              "          const dataTable =\n",
              "            await google.colab.kernel.invokeFunction('convertToInteractive',\n",
              "                                                     [key], {});\n",
              "          if (!dataTable) return;\n",
              "\n",
              "          const docLinkHtml = 'Like what you see? Visit the ' +\n",
              "            '<a target=\"_blank\" href=https://colab.research.google.com/notebooks/data_table.ipynb>data table notebook</a>'\n",
              "            + ' to learn more about interactive tables.';\n",
              "          element.innerHTML = '';\n",
              "          dataTable['output_type'] = 'display_data';\n",
              "          await google.colab.output.renderOutput(dataTable, element);\n",
              "          const docLink = document.createElement('div');\n",
              "          docLink.innerHTML = docLinkHtml;\n",
              "          element.appendChild(docLink);\n",
              "        }\n",
              "      </script>\n",
              "    </div>\n",
              "  </div>\n",
              "  "
            ]
          },
          "metadata": {},
          "execution_count": 15
        }
      ]
    },
    {
      "cell_type": "code",
      "source": [
        "# df.to_csv('test.csv')"
      ],
      "metadata": {
        "id": "sqIyUtf63uL2"
      },
      "execution_count": 16,
      "outputs": []
    },
    {
      "cell_type": "code",
      "source": [
        "# Arr5, Arr4, Arr3, Arr2, Arr1\n",
        "\n",
        "Arr4, Arr3, Arr1, Arr5"
      ],
      "metadata": {
        "id": "a-cUzxIKrACo",
        "colab": {
          "base_uri": "https://localhost:8080/"
        },
        "outputId": "95372dbd-2f62-46f8-98d2-1bffd8300215"
      },
      "execution_count": 17,
      "outputs": [
        {
          "output_type": "execute_result",
          "data": {
            "text/plain": [
              "([None, None, None, None, None, None, None, None, None, None, None],\n",
              " ['CWS', 'CWS', 'CWS', 'CWS', 'CWS', '+', 'None', '+', 'None', '+', 'None'],\n",
              " ['newVar4',\n",
              "  'newVar4',\n",
              "  'newVar5',\n",
              "  'newVar5',\n",
              "  'newVar6',\n",
              "  'newVar1',\n",
              "  'newVar1',\n",
              "  'newVar2',\n",
              "  'newVar2',\n",
              "  'newVar3',\n",
              "  'newVar3'],\n",
              " [None, None, None, None, None, None, None, None, None, None, None])"
            ]
          },
          "metadata": {},
          "execution_count": 17
        }
      ]
    },
    {
      "cell_type": "code",
      "source": [
        "# Check for name mismatches and create new columns\n",
        "mismatched_names = set(Arr1) - set(df.columns)\n",
        "new_columns = {name: [0] * df.shape[0] for name in mismatched_names}\n",
        "df = df.assign(**new_columns)\n",
        "\n",
        "for i in range(len(Arr1)):\n",
        "    if Arr3[i] == 'in':\n",
        "        if isinstance(Arr5[i], int):\n",
        "            flattened_list = [Arr5[i]]\n",
        "        else:\n",
        "            flattened_list = [item for sublist in Arr5[i] for item in sublist] if (isinstance(Arr5[i], list) or isinstance(Arr5[i], tuple)) else [Arr5[i]]\n",
        "        df.loc[df[Arr4[i]].isin(flattened_list), (Arr1[i])] = Arr2[i]\n",
        "    elif Arr3[i] == 'NOT in':\n",
        "        if isinstance(Arr5[i], int):\n",
        "            flattened_list = [Arr5[i]]\n",
        "        else:\n",
        "            flattened_list = [item for sublist in Arr5[i] for item in sublist] if (isinstance(Arr5[i], list) or isinstance(Arr5[i], tuple)) else [Arr5[i]]\n",
        "        df.loc[~df[Arr4[i]].isin(flattened_list), (Arr1[i])] = 0\n"
      ],
      "metadata": {
        "id": "AONL8bkl9RZM"
      },
      "execution_count": 18,
      "outputs": []
    },
    {
      "cell_type": "code",
      "source": [
        "df.columns"
      ],
      "metadata": {
        "id": "zfpuZ4HUDNgR",
        "colab": {
          "base_uri": "https://localhost:8080/"
        },
        "outputId": "a27c4010-e713-43e9-e800-0800369e6c11"
      },
      "execution_count": 19,
      "outputs": [
        {
          "output_type": "execute_result",
          "data": {
            "text/plain": [
              "Index(['SEC', ' ST', 'FSU', ' IDNO', ' SEG', ' SSS', ' SSU', ' STRM',\n",
              "       '  SSTRM', '  SS', ' NSS', ' NSC', ' MULT', ' HH_SIZE', '  HHTYPE',\n",
              "       '  RELG', '  SG', ' MHCE', '  DC_ALL', '  DC_ST', '  SRL', ' REL',\n",
              "       ' SEX', ' MSEX', '  AGE', ' MARST', '  GEDU_LVL', '   PAS', ' PS_SS',\n",
              "       '  CWS', '  ERN_SELF', '   ERN_REG', 'newVar1', 'newVar4', 'newVar3',\n",
              "       'newVar6', 'newVar2', 'newVar5'],\n",
              "      dtype='object')"
            ]
          },
          "metadata": {},
          "execution_count": 19
        }
      ]
    },
    {
      "cell_type": "code",
      "source": [
        "ldsdsist(set(Arr1)), Arr1, Arr2, Arr4, Arr5\n",
        "\n",
        "# # check for name mismatches and create new columns\n",
        "# mismatched_names = set(Arr1) - set(list(df.columns))\n",
        "# new_columns = {name: [0]*df.shape[0] for name in mismatched_names}\n",
        "# df = df.assign(**new_columns)\n",
        "# df.columns\n",
        "\n",
        "# for k, v in new_columns.items():\n",
        "#     print(k)\n",
        "#     df.loc[df[new_columns].isin([5, 6]), ('newVar1')] = df['    ERN_REG'] + df['   ERN_SELF']\n",
        "#     df.loc[~df['  GEDU_LVL'].isin([5, 6]), ('newVar1')] = 0"
      ],
      "metadata": {
        "id": "CRyPUnRls5Mq",
        "colab": {
          "base_uri": "https://localhost:8080/",
          "height": 241
        },
        "outputId": "18e28160-6b79-4e49-bbe2-e46917a6418c"
      },
      "execution_count": 20,
      "outputs": [
        {
          "output_type": "error",
          "ename": "NameError",
          "evalue": "ignored",
          "traceback": [
            "\u001b[0;31m---------------------------------------------------------------------------\u001b[0m",
            "\u001b[0;31mNameError\u001b[0m                                 Traceback (most recent call last)",
            "\u001b[0;32m<ipython-input-20-8ef354b24f12>\u001b[0m in \u001b[0;36m<cell line: 1>\u001b[0;34m()\u001b[0m\n\u001b[0;32m----> 1\u001b[0;31m \u001b[0mldsdsist\u001b[0m\u001b[0;34m(\u001b[0m\u001b[0mset\u001b[0m\u001b[0;34m(\u001b[0m\u001b[0mArr1\u001b[0m\u001b[0;34m)\u001b[0m\u001b[0;34m)\u001b[0m\u001b[0;34m,\u001b[0m \u001b[0mArr1\u001b[0m\u001b[0;34m,\u001b[0m \u001b[0mArr2\u001b[0m\u001b[0;34m,\u001b[0m \u001b[0mArr4\u001b[0m\u001b[0;34m,\u001b[0m \u001b[0mArr5\u001b[0m\u001b[0;34m\u001b[0m\u001b[0;34m\u001b[0m\u001b[0m\n\u001b[0m\u001b[1;32m      2\u001b[0m \u001b[0;34m\u001b[0m\u001b[0m\n\u001b[1;32m      3\u001b[0m \u001b[0;31m# # check for name mismatches and create new columns\u001b[0m\u001b[0;34m\u001b[0m\u001b[0;34m\u001b[0m\u001b[0m\n\u001b[1;32m      4\u001b[0m \u001b[0;31m# mismatched_names = set(Arr1) - set(list(df.columns))\u001b[0m\u001b[0;34m\u001b[0m\u001b[0;34m\u001b[0m\u001b[0m\n\u001b[1;32m      5\u001b[0m \u001b[0;31m# new_columns = {name: [0]*df.shape[0] for name in mismatched_names}\u001b[0m\u001b[0;34m\u001b[0m\u001b[0;34m\u001b[0m\u001b[0m\n",
            "\u001b[0;31mNameError\u001b[0m: name 'ldsdsist' is not defined"
          ]
        }
      ]
    },
    {
      "cell_type": "code",
      "source": [
        "print(new_columns)"
      ],
      "metadata": {
        "id": "BAXH8kzSuvBS"
      },
      "execution_count": null,
      "outputs": []
    },
    {
      "cell_type": "code",
      "source": [],
      "metadata": {
        "id": "pdt2CoX90Lqs"
      },
      "execution_count": null,
      "outputs": []
    },
    {
      "cell_type": "code",
      "source": [
        "\n",
        "# df['newVar1'] = pd.Series([])\n",
        "# df.loc[df['  GEDU_LVL'].isin([5, 6]), ('newVar1')] = df['    ERN_REG'] + df['   ERN_SELF']\n",
        "# df.loc[~df['  GEDU_LVL'].isin([5, 6]), ('newVar1')] = 0"
      ],
      "metadata": {
        "id": "1EGpbbKnuRSo"
      },
      "execution_count": null,
      "outputs": []
    },
    {
      "cell_type": "code",
      "source": [
        "import re\n",
        "\n",
        "# input string\n",
        "string = 'NOT in(CWS,\"11,12,21,31,41,51,61,61,71,72\")'\n",
        "\n",
        "# pattern\n",
        "pattern = r'^NOT\\s+in\\((\\w+),\\s*\"([^\"]+)\"\\)$'\n",
        "\n",
        "# match\n",
        "match = re.match(pattern, string)\n",
        "\n",
        "print(match.group(1), type(match.group(2)))\n",
        "\n",
        "# extract groups\n",
        "if match:\n",
        "    cws = match.group(1)\n",
        "    integers = match.group(2)\n",
        "    integers_list = integers.split(',')\n",
        "    integers_set = set(integers_list)\n",
        "    print(f\"CWS: {cws}, Integers: {integers_set}\")\n",
        "else:\n",
        "    print(\"No match found.\")\n",
        "\n",
        "\n",
        "# convert integers to set of integers\n",
        "integers_set = set(map(int, integers_list))\n",
        "print(f\"CWS: {cws}, Integers: {integers_set}\")\n",
        "integers_set"
      ],
      "metadata": {
        "id": "LaaUDfcLNUeX"
      },
      "execution_count": null,
      "outputs": []
    },
    {
      "cell_type": "markdown",
      "source": [],
      "metadata": {
        "id": "tbG8D-iexHRx"
      }
    },
    {
      "cell_type": "code",
      "source": [
        "### Reading and filtering column names\n",
        "df = pd.read_csv(FILE_(data))\n",
        "df = df.rename(columns=lambda x: x.strip())\n",
        "\n",
        "# print(NEWVARIABLE_(data, df)[0])\n",
        "\n",
        "for col in RENAME_(data, df):\n",
        "    col = [elem for elem in col.split(' ') if elem.strip()]\n",
        "    \n",
        "    # df[col[0]] = df[]\n",
        "\n",
        "    col_search = col[2].split('+')\n",
        "\n",
        "    # print(col_search)\n",
        "\n",
        "    for txt in col_search:\n",
        "        if txt in df.columns.str.lower():\n",
        "            pass\n",
        "            \n",
        "        # else:\n",
        "        #     print('No')\n",
        "\n",
        "    # print(col[2].split('+'))\n",
        "\n",
        "# df.query(FILTER_(data))\n",
        "\n",
        "# df = pd.read_csv(FILE_(data))\n",
        "# df.head(2)"
      ],
      "metadata": {
        "id": "88myB1h9GWvn"
      },
      "execution_count": null,
      "outputs": []
    },
    {
      "cell_type": "code",
      "source": [],
      "metadata": {
        "id": "6rK2PcSG9MCv"
      },
      "execution_count": null,
      "outputs": []
    },
    {
      "cell_type": "code",
      "source": [],
      "metadata": {
        "id": "2SGqYyRI8l3k"
      },
      "execution_count": null,
      "outputs": []
    },
    {
      "cell_type": "code",
      "source": [
        "# ## read the RSE file and extract the lines from it\n",
        "# with open('Example1.RSE') as f:\n",
        "\n",
        "#     ## Reading each line of the file \n",
        "#     lines = f.readlines()\n",
        "\n",
        "# ## To generate keys of the dictionary \n",
        "# keys = []\n",
        "\n",
        "# for line in lines:\n",
        "#     # print(line)\n",
        "#     line = line.strip()\n",
        "\n",
        "#     if line.startswith(\"#\"):\n",
        "\n",
        "#         quote_index = line.find(\"'\") \n",
        "#         if quote_index != -1:\n",
        "#             key = line[1:quote_index].split()\n",
        "\n",
        "#             # Check if the line is empty\n",
        "#             if not line:\n",
        "#                 # Empty line found, break out of the loop\n",
        "#                 break\n",
        "\n",
        "#             if key not in keys:\n",
        "#                 keys.append(key)\n",
        "\n",
        "# print(keys)"
      ],
      "metadata": {
        "id": "tBsptR5t2jro"
      },
      "execution_count": null,
      "outputs": []
    },
    {
      "cell_type": "code",
      "source": [
        "### renaming the variables\n",
        "### **********************\n",
        "\n",
        "# rename the columns using a dictionary\n",
        "new_columns = {\n",
        "    'FSU': 'fsu',\n",
        "    'NS_SSS': 'NSS'\n",
        "}\n",
        "\n",
        "df = df.rename(columns=new_columns)\n",
        "\n",
        "df['STRMID'] = df['SEC'].apply(lambda x: f'0{x}' if x < 10 else str(x)) + \\\n",
        "                df['AST'].apply(lambda x: f'0{x}' if x < 10 else str(x)) + \\\n",
        "                 df[' STRM'].apply(lambda x: f'0{x}' if x < 10 else str(x)) + \\\n",
        "                  df['  SSTRM'].apply(lambda x: f'0{x}' if x < 10 else str(x))\n",
        "\n",
        "df[' SSU'] = df[' FSU'].astype(str) + df[' IDNO'].apply(lambda x: f'0{x}' if x < 10 else str(x))"
      ],
      "metadata": {
        "id": "-NL84AeLaLgU"
      },
      "execution_count": null,
      "outputs": []
    },
    {
      "cell_type": "code",
      "source": [
        "df[' SSU']"
      ],
      "metadata": {
        "id": "G-lLPLS_g0Jb"
      },
      "execution_count": null,
      "outputs": []
    },
    {
      "cell_type": "code",
      "source": [
        "age = df['  AGE']\n",
        "\n",
        "# Function to calculate the right age group\n",
        "def get_age_group(age):\n",
        "    if age < 5:\n",
        "        return \"01\"\n",
        "    elif age >= 5 and age < 10:\n",
        "        return \"02\"\n",
        "    elif age >= 10 and age < 20:\n",
        "        return \"03\"\n",
        "    elif age >= 20 and age < 60:\n",
        "        return \"04\"\n",
        "    elif age >= 60:\n",
        "        return \"05\"\n",
        "    else:\n",
        "        return \"00\"\n",
        "\n",
        "# Apply the get_age_group function to each row in the \"age\" column in parallel\n",
        "df['AGE_GROUP'] = df['  AGE'].parallel_apply(get_age_group)\n"
      ],
      "metadata": {
        "id": "N8ZBvrnaqjTX"
      },
      "execution_count": null,
      "outputs": []
    },
    {
      "cell_type": "code",
      "source": [
        "### Age group with right age\n",
        "def get_result(df):\n",
        "    age = df['  AGE']\n",
        "    ageGrp = df['AGE_GROUP']\n",
        "\n",
        "    if ageGrp == \"01\" and age < 5:\n",
        "        return \"01\"\n",
        "    elif ageGrp == \"02\" and age >= 5 and age < 10:\n",
        "        return \"02\"\n",
        "    elif ageGrp == \"03\" and age >= 10 and age < 20:\n",
        "        return \"03\"\n",
        "    elif ageGrp == \"04\" and age >= 20 and age < 60:\n",
        "        return \"04\"\n",
        "    elif ageGrp == \"05\" and age>=60:\n",
        "        return \"00\"\n",
        "    else:\n",
        "        return \"00\"\n",
        "\n",
        "df['AGE_GROUP'] = df.parallel_apply(get_result, axis=1)"
      ],
      "metadata": {
        "id": "OArj2-7cavaI"
      },
      "execution_count": null,
      "outputs": []
    },
    {
      "cell_type": "code",
      "source": [
        "df.columns"
      ],
      "metadata": {
        "id": "PYg1nU-htl-r"
      },
      "execution_count": null,
      "outputs": []
    },
    {
      "cell_type": "code",
      "source": [
        "def Y1_(df):\n",
        "    df['newVar1'] = pd.Series([])\n",
        "    df.loc[df['  GEDU_LVL'].isin([5, 6]), ('newVar1')] = df['    ERN_REG'] + df['   ERN_SELF']\n",
        "    df.loc[~df['  GEDU_LVL'].isin([5, 6]), ('newVar1')] = 0\n",
        "\n",
        "def Y2_(df):\n",
        "    df['newVar2'] = pd.Series([])\n",
        "    df.loc[df['  GEDU_LVL'].isin([7, 8, 9]), ('newVar2')] = df['    ERN_REG'] + df['   ERN_SELF']\n",
        "    df.loc[~df['  GEDU_LVL'].isin([7, 8, 9]), ('newVar2')] = 0\n",
        "\n",
        "def Y3_(df):\n",
        "    df['newVar3'] = pd.Series([])\n",
        "    df.loc[df['  GEDU_LVL'].isin([5, 6, 7, 8, 9]), ('newVar3')] = df['    ERN_REG'] + df['   ERN_SELF']\n",
        "    df.loc[~df['  GEDU_LVL'].isin([5, 6, 7, 8, 9]), ('newVar3')] = 0\n",
        "\n",
        "def Y4_(df):\n",
        "    df['newVar4'] = pd.Series([])\n",
        "    df.loc[df['   ACWS'].isin([11,12,21,31,41,51,61,61,71,72]), ('newVar4')] = 1\n",
        "    df.loc[~df['   ACWS'].isin([11,12,21,31,41,51,61,61,71,72]), ('newVar4')] = 0\n",
        "\n",
        "def Y5_(df):\n",
        "    df['newVar5'] = pd.Series([])\n",
        "    df.loc[df['   ACWS'].isin([11,12,21,31,41,51,61,61,71,72,81]), ('newVar5')] = 1\n",
        "    df.loc[~df['   ACWS'].isin([11,12,21,31,41,51,61,61,71,72,81]), ('newVar5')] = 0\n",
        "\n",
        "def Y6_(df):\n",
        "    df['newVar6'] = 1"
      ],
      "metadata": {
        "id": "SNjm9Ox2QDto"
      },
      "execution_count": null,
      "outputs": []
    },
    {
      "cell_type": "code",
      "source": [
        "Y1_(df), Y2_(df), Y3_(df), Y4_(df), Y5_(df), Y6_(df)"
      ],
      "metadata": {
        "id": "rmEHB_4CzxLu"
      },
      "execution_count": null,
      "outputs": []
    },
    {
      "cell_type": "code",
      "source": [
        "# ### Example-2: Defining another variable\n",
        "\n",
        "# print(\"select number of variables : \")\n",
        "\n",
        "# n_var = int(input())\n",
        "\n",
        "# ### creating no. of n_var\n",
        "# for i in range(1, n_var+1):\n",
        "#     # df['Y' + str(i)] = pd.Series([])\n",
        "#     df['X' + str(i)] = pd.Series([])\n",
        "\n",
        "#     if i == 1:\n",
        "#         df.loc[df['  GEDU_LVL'].isin([5, 6]), ('X' + str(i))] = df['    ERN_REG'] + df['   ERN_SELF']\n",
        "#         df.loc[~df['  GEDU_LVL'].isin([5, 6]), ('X' + str(i))] = 0\n",
        "#     elif i == 2:\n",
        "#         df.loc[df['  GEDU_LVL'].isin([7, 8, 9]), ('X' + str(i))] = df['    ERN_REG'] + df['   ERN_SELF']\n",
        "#         df.loc[~df['  GEDU_LVL'].isin([5, 6]), ('X' + str(i))] = 0\n",
        "#     elif i == 3:\n",
        "#         df.loc[df['  GEDU_LVL'].isin([5, 6, 7, 8, 9]), ('X' + str(i))] = df['    ERN_REG'] + df['   ERN_SELF']\n",
        "#         df.loc[~df['  GEDU_LVL'].isin([5, 6]), ('X' + str(i))] = 0\n",
        "    "
      ],
      "metadata": {
        "id": "UitiISSvgLqb"
      },
      "execution_count": null,
      "outputs": []
    },
    {
      "cell_type": "code",
      "source": [
        "df['newVar3'].unique()"
      ],
      "metadata": {
        "id": "cdqxWKQrsLdt"
      },
      "execution_count": null,
      "outputs": []
    },
    {
      "cell_type": "code",
      "source": [
        "### Transform the variables\n",
        "\n"
      ],
      "metadata": {
        "id": "QiohuFf6ELDu"
      },
      "execution_count": null,
      "outputs": []
    },
    {
      "cell_type": "code",
      "source": [],
      "metadata": {
        "id": "dW-UoIT5ELGn"
      },
      "execution_count": null,
      "outputs": []
    },
    {
      "cell_type": "code",
      "source": [],
      "metadata": {
        "id": "DHIS2AU0-LWA"
      },
      "execution_count": null,
      "outputs": []
    },
    {
      "cell_type": "code",
      "source": [],
      "metadata": {
        "id": "gjinDDBkELJP"
      },
      "execution_count": null,
      "outputs": []
    },
    {
      "cell_type": "code",
      "source": [],
      "metadata": {
        "id": "F5s_WheCELMH"
      },
      "execution_count": null,
      "outputs": []
    },
    {
      "cell_type": "code",
      "source": [],
      "metadata": {
        "id": "wWPpzCam-K92"
      },
      "execution_count": null,
      "outputs": []
    },
    {
      "cell_type": "code",
      "source": [],
      "metadata": {
        "id": "zPZZ1NDtELPv"
      },
      "execution_count": null,
      "outputs": []
    },
    {
      "cell_type": "code",
      "source": [
        "df.to_csv('GROUP SEC ST AGE_Group.csv')"
      ],
      "metadata": {
        "id": "0CFPzLejegdo"
      },
      "execution_count": null,
      "outputs": []
    },
    {
      "cell_type": "markdown",
      "source": [],
      "metadata": {
        "id": "sutqWwv5k4Dk"
      }
    },
    {
      "cell_type": "code",
      "source": [
        "df"
      ],
      "metadata": {
        "id": "ShQKtGWQeggE"
      },
      "execution_count": null,
      "outputs": []
    },
    {
      "cell_type": "code",
      "source": [],
      "metadata": {
        "id": "YWM1BPKbegjp"
      },
      "execution_count": null,
      "outputs": []
    },
    {
      "cell_type": "code",
      "source": [],
      "metadata": {
        "id": "glg1BRKWsIO3"
      },
      "execution_count": null,
      "outputs": []
    }
  ]
}