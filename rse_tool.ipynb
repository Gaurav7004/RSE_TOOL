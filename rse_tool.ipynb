{
  "nbformat": 4,
  "nbformat_minor": 0,
  "metadata": {
    "colab": {
      "provenance": [],
      "authorship_tag": "ABX9TyOCYGlpmBSoaNTQgw5YNFG+",
      "include_colab_link": true
    },
    "kernelspec": {
      "name": "python3",
      "display_name": "Python 3"
    },
    "language_info": {
      "name": "python"
    }
  },
  "cells": [
    {
      "cell_type": "markdown",
      "metadata": {
        "id": "view-in-github",
        "colab_type": "text"
      },
      "source": [
        "<a href=\"https://colab.research.google.com/github/Gaurav7004/RSE_TOOL/blob/main/rse_tool.ipynb\" target=\"_parent\"><img src=\"https://colab.research.google.com/assets/colab-badge.svg\" alt=\"Open In Colab\"/></a>"
      ]
    },
    {
      "cell_type": "code",
      "execution_count": null,
      "metadata": {
        "id": "y-KFBWnpcdJe"
      },
      "outputs": [],
      "source": [
        "import pandas as pd\n",
        "# ! pip install pandarallel\n",
        "from pandarallel import pandarallel\n",
        "import json"
      ]
    },
    {
      "cell_type": "code",
      "source": [
        "pandarallel.initialize()"
      ],
      "metadata": {
        "colab": {
          "base_uri": "https://localhost:8080/"
        },
        "id": "tsdvu58itpPJ",
        "outputId": "1f249e79-75ca-45f9-e2cd-af8958a401ed"
      },
      "execution_count": null,
      "outputs": [
        {
          "output_type": "stream",
          "name": "stdout",
          "text": [
            "INFO: Pandarallel will run on 1 workers.\n",
            "INFO: Pandarallel will use Memory file system to transfer data between the main process and workers.\n"
          ]
        }
      ]
    },
    {
      "cell_type": "code",
      "source": [
        "# df = pd.read_csv('Data1.csv')"
      ],
      "metadata": {
        "id": "j_AWweohegUD"
      },
      "execution_count": null,
      "outputs": []
    },
    {
      "cell_type": "code",
      "source": [
        "## Data is the dictionary\n",
        "data = {}\n",
        "\n",
        "## Keys\n",
        "key = ''\n",
        "\n",
        "## values\n",
        "values = []\n",
        "\n",
        "## Open\n",
        "with open('Example1.RSE', \"r\") as f:\n",
        "    for line in f:\n",
        "        line = line.strip()\n",
        "        if line.startswith('#'):\n",
        "            if key:\n",
        "                key = key.split(\"'\")[0]\n",
        "                key = key.split(\"\\t\")[0]\n",
        "                data[key] = [v for v in values if v and not v.startswith(\"'\")]\n",
        "            key = line.split(\"'\")[0]\n",
        "            key = key.split(\"\\t\")[0]\n",
        "            values = []\n",
        "        elif line.startswith(\"'\"):\n",
        "            pass\n",
        "        else:\n",
        "            line = line.split(\"'\")[0]\n",
        "            values.append(line.strip())\n",
        "\n",
        "# add last group\n",
        "if key:\n",
        "    data[key] = [v for v in values if v and not v.startswith(\"'\")]\n",
        "\n",
        "print(json.dumps(data, indent=4))"
      ],
      "metadata": {
        "colab": {
          "base_uri": "https://localhost:8080/"
        },
        "id": "jCaBn0Ltw5Ac",
        "outputId": "f781c89d-c142-4ceb-bfc1-4be0e354ee8d"
      },
      "execution_count": null,
      "outputs": [
        {
          "output_type": "stream",
          "name": "stdout",
          "text": [
            "{\n",
            "    \"#SAMPLING SUBSAMPLE2\": [],\n",
            "    \"#GROUP 2\": [\n",
            "        \"SEC   C sec\",\n",
            "        \"ST_GR C NEWVAR\"\n",
            "    ],\n",
            "    \"#FILTER 1\": [\n",
            "        \"AGE>=15\"\n",
            "    ],\n",
            "    \"#VARIABLE 3  \": [\n",
            "        \"POP\\tN  NEWVAR\",\n",
            "        \"LF\\tN  NEWVAR\",\n",
            "        \"WRK\\tN  NEWVAR\"\n",
            "    ],\n",
            "    \"#FILE Data1.Xlsx\": [],\n",
            "    \"#RENAME  5    \": [\n",
            "        \"STRMID C sec+st+strm+sstrm\",\n",
            "        \"SS     C ss\",\n",
            "        \"NSS    N  nss\",\n",
            "        \"NSC    N  nsc\",\n",
            "        \"MULT   N  mult\"\n",
            "    ],\n",
            "    \"#TRANSFORM 4  \": [\n",
            "        \"ST_GR=\\\"G1\\\"   in(ST,\\\"10,19,20,21\\\")\",\n",
            "        \"ST_GR=\\\"G2\\\"   in(ST,\\\"11,12,13,14,15,16,17,18\\\")\",\n",
            "        \"ST_GR=\\\"G3\\\"   Otherwise\",\n",
            "        \"POP=1\",\n",
            "        \"WRK=1  in(CWS,\\\"11,12,21,31,41,51,61,61,71,72\\\")\",\n",
            "        \"WRK=0  NOT in(CWS,\\\"11,12,21,31,41,51,61,61,71,72\\\")\",\n",
            "        \"LF=1      in(CWS,\\\"11,12,21,31,41,51,61,61,71,72,81\\\")\",\n",
            "        \"LF=0      Otherwise\"\n",
            "    ],\n",
            "    \"#EST_RSE 7\": [\n",
            "        \"S POP\",\n",
            "        \"E POP\",\n",
            "        \"R POP\",\n",
            "        \"E 100*LF/POP\",\n",
            "        \"R LF/POP\",\n",
            "        \"E 100*WRK/POP\",\n",
            "        \"R WRK/POP\"\n",
            "    ]\n",
            "}\n"
          ]
        }
      ]
    },
    {
      "cell_type": "code",
      "source": [
        "# ## read the RSE file and extract the lines from it\n",
        "# with open('Example1.RSE') as f:\n",
        "\n",
        "#     ## Reading each line of the file \n",
        "#     lines = f.readlines()\n",
        "\n",
        "# ## To generate keys of the dictionary \n",
        "# keys = []\n",
        "\n",
        "# for line in lines:\n",
        "#     # print(line)\n",
        "#     line = line.strip()\n",
        "\n",
        "#     if line.startswith(\"#\"):\n",
        "\n",
        "#         quote_index = line.find(\"'\") \n",
        "#         if quote_index != -1:\n",
        "#             key = line[1:quote_index].split()\n",
        "\n",
        "#             # Check if the line is empty\n",
        "#             if not line:\n",
        "#                 # Empty line found, break out of the loop\n",
        "#                 break\n",
        "\n",
        "#             if key not in keys:\n",
        "#                 keys.append(key)\n",
        "\n",
        "# print(keys)"
      ],
      "metadata": {
        "colab": {
          "base_uri": "https://localhost:8080/"
        },
        "id": "tBsptR5t2jro",
        "outputId": "d52723b6-906e-40dd-e226-e14e21dbea0e"
      },
      "execution_count": null,
      "outputs": [
        {
          "output_type": "stream",
          "name": "stdout",
          "text": [
            "[['SAMPLING', 'SUBSAMPLE2'], ['GROUP', '2'], ['FILTER', '1'], ['VARIABLE', '3'], ['FILE', 'Data1.Xlsx'], ['RENAME', '5'], ['TRANSFORM', '4'], ['EST_RSE', '7']]\n"
          ]
        }
      ]
    },
    {
      "cell_type": "code",
      "source": [
        "### renaming the variables\n",
        "### **********************\n",
        "\n",
        "# rename the columns using a dictionary\n",
        "new_columns = {\n",
        "    'FSU': 'fsu',\n",
        "    'NS_SSS': 'NSS'\n",
        "}\n",
        "\n",
        "df = df.rename(columns=new_columns)\n",
        "\n",
        "df['STRMID'] = df['SEC'].apply(lambda x: f'0{x}' if x < 10 else str(x)) + \\\n",
        "                df['AST'].apply(lambda x: f'0{x}' if x < 10 else str(x)) + \\\n",
        "                 df[' STRM'].apply(lambda x: f'0{x}' if x < 10 else str(x)) + \\\n",
        "                  df['  SSTRM'].apply(lambda x: f'0{x}' if x < 10 else str(x))\n",
        "\n",
        "df[' SSU'] = df[' FSU'].astype(str) + df[' IDNO'].apply(lambda x: f'0{x}' if x < 10 else str(x))"
      ],
      "metadata": {
        "id": "-NL84AeLaLgU"
      },
      "execution_count": null,
      "outputs": []
    },
    {
      "cell_type": "code",
      "source": [
        "df[' SSU']"
      ],
      "metadata": {
        "id": "G-lLPLS_g0Jb"
      },
      "execution_count": null,
      "outputs": []
    },
    {
      "cell_type": "code",
      "source": [
        "age = df['  AGE']\n",
        "\n",
        "# Function to calculate the right age group\n",
        "def get_age_group(age):\n",
        "    if age < 5:\n",
        "        return \"01\"\n",
        "    elif age >= 5 and age < 10:\n",
        "        return \"02\"\n",
        "    elif age >= 10 and age < 20:\n",
        "        return \"03\"\n",
        "    elif age >= 20 and age < 60:\n",
        "        return \"04\"\n",
        "    elif age >= 60:\n",
        "        return \"05\"\n",
        "    else:\n",
        "        return \"00\"\n",
        "\n",
        "# Apply the get_age_group function to each row in the \"age\" column in parallel\n",
        "df['AGE_GROUP'] = df['  AGE'].parallel_apply(get_age_group)\n"
      ],
      "metadata": {
        "id": "N8ZBvrnaqjTX"
      },
      "execution_count": null,
      "outputs": []
    },
    {
      "cell_type": "code",
      "source": [
        "### Age group with right age\n",
        "def get_result(df):\n",
        "    age = df['  AGE']\n",
        "    ageGrp = df['AGE_GROUP']\n",
        "\n",
        "    if ageGrp == \"01\" and age < 5:\n",
        "        return \"01\"\n",
        "    elif ageGrp == \"02\" and age >= 5 and age < 10:\n",
        "        return \"02\"\n",
        "    elif ageGrp == \"03\" and age >= 10 and age < 20:\n",
        "        return \"03\"\n",
        "    elif ageGrp == \"04\" and age >= 20 and age < 60:\n",
        "        return \"04\"\n",
        "    elif ageGrp == \"05\" and age>=60:\n",
        "        return \"00\"\n",
        "    else:\n",
        "        return \"00\"\n",
        "\n",
        "df['AGE_GROUP'] = df.parallel_apply(get_result, axis=1)"
      ],
      "metadata": {
        "id": "OArj2-7cavaI"
      },
      "execution_count": null,
      "outputs": []
    },
    {
      "cell_type": "code",
      "source": [
        "def Y1_(df):\n",
        "    df['newVar1'] = pd.Series([])\n",
        "    df.loc[df['  GEDU_LVL'].isin([5, 6]), ('newVar1')] = df['    ERN_REG'] + df['   ERN_SELF']\n",
        "    df.loc[~df['  GEDU_LVL'].isin([5, 6]), ('newVar1')] = 0\n",
        "\n",
        "def Y2_(df):\n",
        "    df['newVar2'] = pd.Series([])\n",
        "    df.loc[df['  GEDU_LVL'].isin([7, 8, 9]), ('newVar2')] = df['    ERN_REG'] + df['   ERN_SELF']\n",
        "    df.loc[~df['  GEDU_LVL'].isin([7, 8, 9]), ('newVar2')] = 0\n",
        "\n",
        "def Y3_(df):\n",
        "    df['newVar3'] = pd.Series([])\n",
        "    df.loc[df['  GEDU_LVL'].isin([5, 6, 7, 8, 9]), ('newVar3')] = df['    ERN_REG'] + df['   ERN_SELF']\n",
        "    df.loc[~df['  GEDU_LVL'].isin([5, 6, 7, 8, 9]), ('newVar3')] = 0\n",
        "\n",
        "def Y4_(df):\n",
        "    df['newVar4'] = pd.Series([])\n",
        "    df.loc[df['   ACWS'].isin([11,12,21,31,41,51,61,61,71,72]), ('newVar4')] = 1\n",
        "    df.loc[~df['   ACWS'].isin([11,12,21,31,41,51,61,61,71,72]), ('newVar4')] = 0\n",
        "\n",
        "def Y5_(df):\n",
        "    df['newVar5'] = pd.Series([])\n",
        "    df.loc[df['   ACWS'].isin([11,12,21,31,41,51,61,61,71,72,81]), ('newVar5')] = 1\n",
        "    df.loc[~df['   ACWS'].isin([11,12,21,31,41,51,61,61,71,72,81]), ('newVar5')] = 0\n",
        "\n",
        "def Y6_(df):\n",
        "    df['newVar6'] = 1"
      ],
      "metadata": {
        "id": "SNjm9Ox2QDto"
      },
      "execution_count": null,
      "outputs": []
    },
    {
      "cell_type": "code",
      "source": [
        "Y1_(df), Y2_(df), Y3_(df), Y4_(df), Y5_(df), Y6_(df)"
      ],
      "metadata": {
        "id": "rmEHB_4CzxLu"
      },
      "execution_count": null,
      "outputs": []
    },
    {
      "cell_type": "code",
      "source": [
        "# ### Example-2: Defining another variable\n",
        "\n",
        "# print(\"select number of variables : \")\n",
        "\n",
        "# n_var = int(input())\n",
        "\n",
        "# ### creating no. of n_var\n",
        "# for i in range(1, n_var+1):\n",
        "#     # df['Y' + str(i)] = pd.Series([])\n",
        "#     df['X' + str(i)] = pd.Series([])\n",
        "\n",
        "#     if i == 1:\n",
        "#         df.loc[df['  GEDU_LVL'].isin([5, 6]), ('X' + str(i))] = df['    ERN_REG'] + df['   ERN_SELF']\n",
        "#         df.loc[~df['  GEDU_LVL'].isin([5, 6]), ('X' + str(i))] = 0\n",
        "#     elif i == 2:\n",
        "#         df.loc[df['  GEDU_LVL'].isin([7, 8, 9]), ('X' + str(i))] = df['    ERN_REG'] + df['   ERN_SELF']\n",
        "#         df.loc[~df['  GEDU_LVL'].isin([5, 6]), ('X' + str(i))] = 0\n",
        "#     elif i == 3:\n",
        "#         df.loc[df['  GEDU_LVL'].isin([5, 6, 7, 8, 9]), ('X' + str(i))] = df['    ERN_REG'] + df['   ERN_SELF']\n",
        "#         df.loc[~df['  GEDU_LVL'].isin([5, 6]), ('X' + str(i))] = 0\n",
        "    "
      ],
      "metadata": {
        "id": "UitiISSvgLqb"
      },
      "execution_count": null,
      "outputs": []
    },
    {
      "cell_type": "code",
      "source": [
        "df['newVar3'].unique()"
      ],
      "metadata": {
        "id": "cdqxWKQrsLdt"
      },
      "execution_count": null,
      "outputs": []
    },
    {
      "cell_type": "code",
      "source": [
        "### Transform the variables\n",
        "\n"
      ],
      "metadata": {
        "id": "QiohuFf6ELDu"
      },
      "execution_count": null,
      "outputs": []
    },
    {
      "cell_type": "code",
      "source": [],
      "metadata": {
        "id": "dW-UoIT5ELGn"
      },
      "execution_count": null,
      "outputs": []
    },
    {
      "cell_type": "code",
      "source": [],
      "metadata": {
        "id": "DHIS2AU0-LWA"
      },
      "execution_count": null,
      "outputs": []
    },
    {
      "cell_type": "code",
      "source": [],
      "metadata": {
        "id": "gjinDDBkELJP"
      },
      "execution_count": null,
      "outputs": []
    },
    {
      "cell_type": "code",
      "source": [],
      "metadata": {
        "id": "F5s_WheCELMH"
      },
      "execution_count": null,
      "outputs": []
    },
    {
      "cell_type": "code",
      "source": [],
      "metadata": {
        "id": "wWPpzCam-K92"
      },
      "execution_count": null,
      "outputs": []
    },
    {
      "cell_type": "code",
      "source": [],
      "metadata": {
        "id": "zPZZ1NDtELPv"
      },
      "execution_count": null,
      "outputs": []
    },
    {
      "cell_type": "code",
      "source": [
        "df.to_csv('GROUP SEC ST AGE_Group.csv')"
      ],
      "metadata": {
        "id": "0CFPzLejegdo"
      },
      "execution_count": null,
      "outputs": []
    },
    {
      "cell_type": "markdown",
      "source": [],
      "metadata": {
        "id": "sutqWwv5k4Dk"
      }
    },
    {
      "cell_type": "code",
      "source": [
        "df"
      ],
      "metadata": {
        "id": "ShQKtGWQeggE"
      },
      "execution_count": null,
      "outputs": []
    },
    {
      "cell_type": "code",
      "source": [],
      "metadata": {
        "id": "YWM1BPKbegjp"
      },
      "execution_count": null,
      "outputs": []
    },
    {
      "cell_type": "code",
      "source": [],
      "metadata": {
        "id": "glg1BRKWsIO3"
      },
      "execution_count": null,
      "outputs": []
    }
  ]
}