{
  "nbformat": 4,
  "nbformat_minor": 0,
  "metadata": {
    "colab": {
      "provenance": [],
      "authorship_tag": "ABX9TyMQ0Jvcv4gt5eeT/by3YyeR",
      "include_colab_link": true
    },
    "kernelspec": {
      "name": "python3",
      "display_name": "Python 3"
    },
    "language_info": {
      "name": "python"
    }
  },
  "cells": [
    {
      "cell_type": "markdown",
      "metadata": {
        "id": "view-in-github",
        "colab_type": "text"
      },
      "source": [
        "<a href=\"https://colab.research.google.com/github/Gaurav7004/RSE_TOOL/blob/main/RSE_TOOL_14thMarch2023.ipynb\" target=\"_parent\"><img src=\"https://colab.research.google.com/assets/colab-badge.svg\" alt=\"Open In Colab\"/></a>"
      ]
    },
    {
      "cell_type": "code",
      "execution_count": 1,
      "metadata": {
        "id": "y-KFBWnpcdJe"
      },
      "outputs": [],
      "source": [
        "import pandas as pd\n",
        "# ! pip install pandarallel\n",
        "# from pandarallel import pandarallel\n",
        "import json\n",
        "import re"
      ]
    },
    {
      "cell_type": "code",
      "source": [
        "# pandarallel.initialize()"
      ],
      "metadata": {
        "id": "tsdvu58itpPJ"
      },
      "execution_count": 2,
      "outputs": []
    },
    {
      "cell_type": "code",
      "source": [
        "# df = pd.read_csv('Data1.csv')"
      ],
      "metadata": {
        "id": "j_AWweohegUD"
      },
      "execution_count": 3,
      "outputs": []
    },
    {
      "cell_type": "code",
      "source": [
        "## Data is the dictionary\n",
        "data = {}\n",
        "\n",
        "## Keys\n",
        "key = ''\n",
        "\n",
        "## values\n",
        "values = []\n",
        "\n",
        "## Open\n",
        "with open('Example1.RSE', \"r\") as f:\n",
        "    for line in f:\n",
        "        line = line.strip()\n",
        "        if line.startswith('#'):\n",
        "            if key:\n",
        "                key = key.split(\"'\")[0]\n",
        "                key = key.split(\"\\t\")[0]\n",
        "                data[key] = [v for v in values if v and not v.startswith(\"'\")]\n",
        "            key = line.split(\"'\")[0]\n",
        "            key = key.split(\"\\t\")[0]\n",
        "            values = []\n",
        "        elif line.startswith(\"'\"):\n",
        "            pass\n",
        "        else:\n",
        "            line = line.split(\"'\")[0]\n",
        "            values.append(line.strip())\n",
        "\n",
        "# add last group\n",
        "if key:\n",
        "    data[key] = [v for v in values if v and not v.startswith(\"'\")]\n",
        "\n",
        "print(json.dumps(data, indent=4))"
      ],
      "metadata": {
        "colab": {
          "base_uri": "https://localhost:8080/"
        },
        "id": "jCaBn0Ltw5Ac",
        "outputId": "6b38d4c7-6125-421b-f3e5-c942cf33f400"
      },
      "execution_count": 4,
      "outputs": [
        {
          "output_type": "stream",
          "name": "stdout",
          "text": [
            "{\n",
            "    \"#SAMPLING SUBSAMPLE2\": [],\n",
            "    \"#GROUP 2\": [\n",
            "        \"SEC   C sec\",\n",
            "        \"ST_GR C NEWVAR\"\n",
            "    ],\n",
            "    \"#FILTER 1\": [\n",
            "        \"AGE>=15\"\n",
            "    ],\n",
            "    \"#VARIABLE 3  \": [\n",
            "        \"POP\\tN  NEWVAR\",\n",
            "        \"LF\\tN  NEWVAR\",\n",
            "        \"WRK\\tN  NEWVAR\"\n",
            "    ],\n",
            "    \"#FILE Data1.csv  \": [],\n",
            "    \"#RENAME  5    \": [\n",
            "        \"STRMID C sec+st+strm+sstrm\",\n",
            "        \"SS     C ss\",\n",
            "        \"NSS    N  nss\",\n",
            "        \"NSC    N  nsc\",\n",
            "        \"MULT   N  mult\"\n",
            "    ],\n",
            "    \"#TRANSFORM 4  \": [\n",
            "        \"ST_GR=\\\"G1\\\"   in(ST,\\\"10,19,20,21\\\")\",\n",
            "        \"ST_GR=\\\"G2\\\"   in(ST,\\\"11,12,13,14,15,16,17,18\\\")\",\n",
            "        \"ST_GR=\\\"G3\\\"   Otherwise\",\n",
            "        \"POP=1\",\n",
            "        \"WRK=1  in(CWS,\\\"11,12,21,31,41,51,61,61,71,72\\\")\",\n",
            "        \"WRK=0  NOT in(CWS,\\\"11,12,21,31,41,51,61,61,71,72\\\")\",\n",
            "        \"LF=1      in(CWS,\\\"11,12,21,31,41,51,61,61,71,72,81\\\")\",\n",
            "        \"LF=0      Otherwise\"\n",
            "    ],\n",
            "    \"#EST_RSE 7\": [\n",
            "        \"S POP\",\n",
            "        \"E POP\",\n",
            "        \"R POP\",\n",
            "        \"E 100*LF/POP\",\n",
            "        \"R LF/POP\",\n",
            "        \"E 100*WRK/POP\",\n",
            "        \"R WRK/POP\"\n",
            "    ]\n",
            "}\n"
          ]
        }
      ]
    },
    {
      "cell_type": "code",
      "source": [
        "for key, value in data.items():\n",
        "    print(key)"
      ],
      "metadata": {
        "colab": {
          "base_uri": "https://localhost:8080/"
        },
        "id": "vQ7UCmJBxG-c",
        "outputId": "76e559f7-3e5b-491c-bf81-8a74231d98d3"
      },
      "execution_count": 5,
      "outputs": [
        {
          "output_type": "stream",
          "name": "stdout",
          "text": [
            "#SAMPLING SUBSAMPLE2\n",
            "#GROUP 2\n",
            "#FILTER 1\n",
            "#VARIABLE 3  \n",
            "#FILE Data1.csv  \n",
            "#RENAME  5    \n",
            "#TRANSFORM 4  \n",
            "#EST_RSE 7\n"
          ]
        }
      ]
    },
    {
      "cell_type": "code",
      "source": [
        "def SAMPLING_(data, df):\n",
        "    for key, value in data.items():\n",
        "        pass\n",
        "\n",
        "def GROUP_(data, df):\n",
        "    for key, value in data.items():\n",
        "        ### To read the sampling method used\n",
        "        if str('SAMPLING').lower() in str(key).lower():\n",
        "            if str('SUBSAMPLE2').lower() in str(key).lower():\n",
        "                return str('SUBSAMPLE2')\n",
        "            elif str('SRSWR').lower() in str(key).lower():\n",
        "                pass\n",
        "            elif str('SRSWOR').lower() in str(key).lower():\n",
        "                pass\n",
        "\n",
        "def FILTER_(data, df):\n",
        "    for key, value in data.items():\n",
        "        ### To read the sampling method used\n",
        "        if str('FILTER').lower() in str(key).lower():\n",
        "            ### Replace logical AND '&&' with 'and'\n",
        "            if '&&' in value[0]:\n",
        "                return value[0].replace('&&', 'and')\n",
        "            ### Replace logical OR '||' with 'or'\n",
        "            elif '||' in value[0]:\n",
        "                return value[0].replace('||', 'or')\n",
        "            else:\n",
        "                return value[0]\n",
        "\n",
        "def FILE_(data):\n",
        "    for key, value in data.items():\n",
        "        ### To read the file used\n",
        "        if str('FILE').lower() in str(key).lower():\n",
        "            if key.strip().endswith('.xlsx') or key.strip().endswith('.csv'):\n",
        "                match = re.search(r'[A-Za-z0-9]+\\.xlsx|[A-Za-z0-9]+\\.csv', key)   \n",
        "                if match:\n",
        "                    file_name = match.group(0)\n",
        "                    return file_name\n",
        "                else:\n",
        "                    file_name = None\n",
        "                    return file_name\n",
        "                print(file_name)\n",
        "\n",
        "            # return file_name\n",
        "\n",
        "def RENAME_(data, df):\n",
        "    # create an empty dictionary to store the column names\n",
        "    column_dict = {}\n",
        "\n",
        "    for key, value in data.items():\n",
        "        ### To read the file used\n",
        "        if str('RENAME').lower() in str(key).lower():\n",
        "            # value = [elem for elem in value[0].split(' ') if elem.strip()]\n",
        "            # return value\n",
        "\n",
        "            for col in value:\n",
        "                col_split = col.split()\n",
        "\n",
        "                # print(col_split[0])\n",
        "\n",
        "                # extract the last element as the column name\n",
        "                col_name = col_split[-1]\n",
        "\n",
        "                new_col_name = col_split[0]\n",
        "\n",
        "                ### if there is a \"+\" sign in the last element, concatenate the columns\n",
        "                if \"+\" in col_name:\n",
        "                    col_concat = col_name.split(\"+\")\n",
        "                    col_concat = [i.upper() for i in col_concat]\n",
        "\n",
        "                    # concatenate the columns\n",
        "                    df[new_col_name] = df.loc[:, col_concat].apply(lambda x: ''.join(['0' + str(i) if i < 10 else str(i) for i in x]), axis=1)\n",
        "\n",
        "                else:\n",
        "                    col_name = col_name.upper()\n",
        "                    # print(col_name)\n",
        "\n",
        "\n",
        "def NEWVARIABLE_(data, df):\n",
        "    for key, value in data.items():\n",
        "        ### To read the file used\n",
        "        if str('VARIABLE').lower() in str(key).lower():\n",
        "            value = [s.split()[0] for s in value]\n",
        "            \n",
        "            for name in value:\n",
        "                df[name] = 0\n",
        "\n",
        "\n",
        "def TRANSFORM_(data, df):\n",
        "    # Initialize empty arrays to store the values\n",
        "    Arr1 = []\n",
        "    Arr2 = []\n",
        "    Arr3 = []\n",
        "\n",
        "    for key, value in data.items():\n",
        "        ### To read the file used\n",
        "        if str('TRANSFORM').lower() in str(key).lower():\n",
        "            lines = '\\n'.join(value)\n",
        "            lines = lines.split(\"\\n\")\n",
        "\n",
        "            # Loop through the lines and extract the values\n",
        "            for line in lines:\n",
        "                line_values = line.split('=')  # split the line into values\n",
        "                var_name = line_values[0].strip()  # extract the variable name\n",
        "                var_value = line_values[1].strip().split()[0]  # extract the variable value\n",
        "                condition = 'None'  # initialize the condition to None\n",
        "\n",
        "                # Check if the line contains \"Otherwise\"\n",
        "                if \"Otherwise\" in line:\n",
        "                    condition = \"Otherwise\"\n",
        "\n",
        "                # Check if the variable value contains an \"in\" statement\n",
        "                if \"in\" in line:\n",
        "                    if \"NOT in\" in line:\n",
        "                        condition = line.split()[1] + ' ' + line.split()[2]\n",
        "                    else:\n",
        "                        condition = line.split()[1]\n",
        "\n",
        "                # Append the values to the arrays\n",
        "                Arr1.append(var_name)\n",
        "                Arr2.append(var_value)\n",
        "                Arr3.append(condition)\n",
        "\n",
        "    return Arr1, Arr2, Arr3\n",
        "        \n",
        "\n",
        "def EST_RSE_(data):\n",
        "    for key, value in data.items():\n",
        "        pass\n",
        "\n",
        "# print(FILE_(data))\n",
        "df = pd.read_csv(FILE_(data))\n",
        "df = df.rename(columns=lambda x: x.strip())\n",
        "\n",
        "TRANSFORM_(data, df)"
      ],
      "metadata": {
        "id": "JOeTfpj33fid",
        "colab": {
          "base_uri": "https://localhost:8080/"
        },
        "outputId": "335b054b-d6fb-45f8-d14f-a2a1a0cb4d7e"
      },
      "execution_count": 6,
      "outputs": [
        {
          "output_type": "stream",
          "name": "stderr",
          "text": [
            "<ipython-input-6-4b219da086b2>:131: DtypeWarning: Columns (21) have mixed types. Specify dtype option on import or set low_memory=False.\n",
            "  df = pd.read_csv(FILE_(data))\n"
          ]
        },
        {
          "output_type": "execute_result",
          "data": {
            "text/plain": [
              "(['ST_GR', 'ST_GR', 'ST_GR', 'POP', 'WRK', 'WRK', 'LF', 'LF'],\n",
              " ['\"G1\"', '\"G2\"', '\"G3\"', '1', '1', '0', '1', '0'],\n",
              " ['in(ST,\"10,19,20,21\")',\n",
              "  'in(ST,\"11,12,13,14,15,16,17,18\")',\n",
              "  'Otherwise',\n",
              "  'None',\n",
              "  'in(CWS,\"11,12,21,31,41,51,61,61,71,72\")',\n",
              "  'NOT in(CWS,\"11,12,21,31,41,51,61,61,71,72\")',\n",
              "  'in(CWS,\"11,12,21,31,41,51,61,61,71,72,81\")',\n",
              "  'Otherwise'])"
            ]
          },
          "metadata": {},
          "execution_count": 6
        }
      ]
    },
    {
      "cell_type": "code",
      "source": [],
      "metadata": {
        "id": "_lTGE07ya3aO"
      },
      "execution_count": 6,
      "outputs": []
    },
    {
      "cell_type": "code",
      "source": [
        "# Define the input string\n",
        "input_str = '''ST_GR=\"G1\"   in(ST,\"10,19,20,21\")\n",
        "                  ST_GR=\"G2\"   in(ST,\"11,12,13,14,15,16,17,18\")\n",
        "                  ST_GR=\"G3\"   Otherwise\n",
        "                  POP=1\n",
        "                  WRK=1  in(CWS,\"11,12,21,31,41,51,61,61,71,72\")\n",
        "                  WRK=0  NOT in(CWS,\"11,12,21,31,41,51,61,61,71,72\")\n",
        "                  LF=1      in(CWS,\"11,12,21,31,41,51,61,61,71,72,81\")\n",
        "                  LF=0      Otherwise'''\n",
        "\n",
        "# Split the input string into lines\n",
        "lines = input_str.split('\\n')\n",
        "\n",
        "# Initialize empty arrays to store the values\n",
        "Arr1 = []\n",
        "Arr2 = []\n",
        "Arr3 = []\n",
        "\n",
        "# Loop through the lines and extract the values\n",
        "for line in lines:\n",
        "    line_values = line.split('=')  # split the line into values\n",
        "    var_name = line_values[0].strip()  # extract the variable name\n",
        "    var_value = line_values[1].strip().split()[0]  # extract the variable value\n",
        "    condition = 'None'  # initialize the condition to None\n",
        "\n",
        "    # Check if the line contains \"Otherwise\"\n",
        "    if \"Otherwise\" in line:\n",
        "        condition = \"Otherwise\"\n",
        "\n",
        "    # Check if the variable value contains an \"in\" statement\n",
        "    if \"in\" in line:\n",
        "        if \"NOT in\" in line:\n",
        "            condition = line.split()[1] + ' ' + line.split()[2]\n",
        "        else:\n",
        "            condition = line.split()[1]\n",
        "\n",
        "    # Append the values to the arrays\n",
        "    Arr1.append(var_name)\n",
        "    Arr2.append(var_value)\n",
        "    Arr3.append(condition)\n",
        "\n",
        "# Print the results\n",
        "# print(Arr1)\n",
        "# print(Arr2)\n",
        "# print(Arr3)\n",
        "\n",
        "Arr4 = []\n",
        "Arr5 = []\n",
        "\n",
        "for i in range(len(Arr3)):\n",
        "    if 'in' in Arr3[i]:\n",
        "        if 'NOT in' in Arr3[i]:\n",
        "            # pattern\n",
        "            pattern = r'^NOT\\s+in\\((\\w+),\\s*\"([^\"]+)\"\\)$'\n",
        "            # match\n",
        "            match = re.match(pattern, Arr3[i])\n",
        "\n",
        "            Arr4.append(match.group(1))\n",
        "            Arr5.append(match.group(2))\n",
        "            \n",
        "        else:\n",
        "            # pattern\n",
        "            pattern = r'^in\\((\\w+),\\s*\"([^\"]+)\"\\)$'\n",
        "            # match\n",
        "            match = re.match(pattern, Arr3[i])\n",
        "\n",
        "            Arr4.append(match.group(1))\n",
        "            Arr5.append(match.group(2))\n",
        "\n",
        "    elif 'Otherwise' in Arr3[i]:\n",
        "        # pattern\n",
        "        pattern = r'^Otherwise$'\n",
        "        # match\n",
        "        match = re.match(pattern, Arr3[i])\n",
        "\n",
        "        Arr4.append(match.group(0))\n",
        "        Arr5.append(None)\n",
        "\n",
        "    else:\n",
        "        Arr4.append(None)\n",
        "        Arr5.append(None)\n"
      ],
      "metadata": {
        "id": "NtMiw_fo7hvR"
      },
      "execution_count": 33,
      "outputs": []
    },
    {
      "cell_type": "code",
      "source": [
        "Arr1, Arr2, Arr4, Arr5"
      ],
      "metadata": {
        "colab": {
          "base_uri": "https://localhost:8080/"
        },
        "id": "CRyPUnRls5Mq",
        "outputId": "2ad63a4f-79b8-4d93-dcb9-3fc634c1ac43"
      },
      "execution_count": 34,
      "outputs": [
        {
          "output_type": "execute_result",
          "data": {
            "text/plain": [
              "(['ST_GR', 'ST_GR', 'ST_GR', 'POP', 'WRK', 'WRK', 'LF', 'LF'],\n",
              " ['\"G1\"', '\"G2\"', '\"G3\"', '1', '1', '0', '1', '0'],\n",
              " ['ST', 'ST', 'Otherwise', None, 'CWS', 'CWS', 'CWS', 'Otherwise'],\n",
              " ['10,19,20,21',\n",
              "  '11,12,13,14,15,16,17,18',\n",
              "  None,\n",
              "  None,\n",
              "  '11,12,21,31,41,51,61,61,71,72',\n",
              "  '11,12,21,31,41,51,61,61,71,72',\n",
              "  '11,12,21,31,41,51,61,61,71,72,81',\n",
              "  None])"
            ]
          },
          "metadata": {},
          "execution_count": 34
        }
      ]
    },
    {
      "cell_type": "code",
      "source": [
        "import re\n",
        "\n",
        "# input string\n",
        "string = 'NOT in(CWS,\"11,12,21,31,41,51,61,61,71,72\")'\n",
        "\n",
        "# pattern\n",
        "pattern = r'^NOT\\s+in\\((\\w+),\\s*\"([^\"]+)\"\\)$'\n",
        "\n",
        "# match\n",
        "match = re.match(pattern, string)\n",
        "\n",
        "print(match.group(1), type(match.group(2)))\n",
        "\n",
        "# extract groups\n",
        "if match:\n",
        "    cws = match.group(1)\n",
        "    integers = match.group(2)\n",
        "    integers_list = integers.split(',')\n",
        "    integers_set = set(integers_list)\n",
        "    print(f\"CWS: {cws}, Integers: {integers_set}\")\n",
        "else:\n",
        "    print(\"No match found.\")\n",
        "\n",
        "\n",
        "# convert integers to set of integers\n",
        "integers_set = set(map(int, integers_list))\n",
        "print(f\"CWS: {cws}, Integers: {integers_set}\")\n",
        "integers_set"
      ],
      "metadata": {
        "colab": {
          "base_uri": "https://localhost:8080/"
        },
        "id": "LaaUDfcLNUeX",
        "outputId": "8a349ee6-15df-410c-b1f1-71e292c3269a"
      },
      "execution_count": 17,
      "outputs": [
        {
          "output_type": "stream",
          "name": "stdout",
          "text": [
            "CWS <class 'str'>\n",
            "CWS: CWS, Integers: {'31', '51', '11', '71', '21', '72', '41', '61', '12'}\n",
            "CWS: CWS, Integers: {71, 72, 41, 11, 12, 51, 21, 61, 31}\n"
          ]
        },
        {
          "output_type": "execute_result",
          "data": {
            "text/plain": [
              "{11, 12, 21, 31, 41, 51, 61, 71, 72}"
            ]
          },
          "metadata": {},
          "execution_count": 17
        }
      ]
    },
    {
      "cell_type": "markdown",
      "source": [],
      "metadata": {
        "id": "tbG8D-iexHRx"
      }
    },
    {
      "cell_type": "code",
      "source": [
        "### Reading and filtering column names\n",
        "df = pd.read_csv(FILE_(data))\n",
        "df = df.rename(columns=lambda x: x.strip())\n",
        "\n",
        "# print(NEWVARIABLE_(data, df)[0])\n",
        "\n",
        "for col in RENAME_(data, df):\n",
        "    col = [elem for elem in col.split(' ') if elem.strip()]\n",
        "    \n",
        "    # df[col[0]] = df[]\n",
        "\n",
        "    col_search = col[2].split('+')\n",
        "\n",
        "    # print(col_search)\n",
        "\n",
        "    for txt in col_search:\n",
        "        if txt in df.columns.str.lower():\n",
        "            pass\n",
        "            \n",
        "        # else:\n",
        "        #     print('No')\n",
        "\n",
        "    # print(col[2].split('+'))\n",
        "\n",
        "# df.query(FILTER_(data))\n",
        "\n",
        "# df = pd.read_csv(FILE_(data))\n",
        "# df.head(2)"
      ],
      "metadata": {
        "id": "88myB1h9GWvn",
        "colab": {
          "base_uri": "https://localhost:8080/",
          "height": 297
        },
        "outputId": "c9ed7987-8483-4a3a-b9ed-d20cb92f73b4"
      },
      "execution_count": 9,
      "outputs": [
        {
          "output_type": "stream",
          "name": "stderr",
          "text": [
            "<ipython-input-9-7e0dc0a7bbd3>:2: DtypeWarning: Columns (21) have mixed types. Specify dtype option on import or set low_memory=False.\n",
            "  df = pd.read_csv(FILE_(data))\n"
          ]
        },
        {
          "output_type": "error",
          "ename": "TypeError",
          "evalue": "ignored",
          "traceback": [
            "\u001b[0;31m---------------------------------------------------------------------------\u001b[0m",
            "\u001b[0;31mTypeError\u001b[0m                                 Traceback (most recent call last)",
            "\u001b[0;32m<ipython-input-9-7e0dc0a7bbd3>\u001b[0m in \u001b[0;36m<module>\u001b[0;34m\u001b[0m\n\u001b[1;32m      5\u001b[0m \u001b[0;31m# print(NEWVARIABLE_(data, df)[0])\u001b[0m\u001b[0;34m\u001b[0m\u001b[0;34m\u001b[0m\u001b[0m\n\u001b[1;32m      6\u001b[0m \u001b[0;34m\u001b[0m\u001b[0m\n\u001b[0;32m----> 7\u001b[0;31m \u001b[0;32mfor\u001b[0m \u001b[0mcol\u001b[0m \u001b[0;32min\u001b[0m \u001b[0mRENAME_\u001b[0m\u001b[0;34m(\u001b[0m\u001b[0mdata\u001b[0m\u001b[0;34m,\u001b[0m \u001b[0mdf\u001b[0m\u001b[0;34m)\u001b[0m\u001b[0;34m:\u001b[0m\u001b[0;34m\u001b[0m\u001b[0;34m\u001b[0m\u001b[0m\n\u001b[0m\u001b[1;32m      8\u001b[0m     \u001b[0mcol\u001b[0m \u001b[0;34m=\u001b[0m \u001b[0;34m[\u001b[0m\u001b[0melem\u001b[0m \u001b[0;32mfor\u001b[0m \u001b[0melem\u001b[0m \u001b[0;32min\u001b[0m \u001b[0mcol\u001b[0m\u001b[0;34m.\u001b[0m\u001b[0msplit\u001b[0m\u001b[0;34m(\u001b[0m\u001b[0;34m' '\u001b[0m\u001b[0;34m)\u001b[0m \u001b[0;32mif\u001b[0m \u001b[0melem\u001b[0m\u001b[0;34m.\u001b[0m\u001b[0mstrip\u001b[0m\u001b[0;34m(\u001b[0m\u001b[0;34m)\u001b[0m\u001b[0;34m]\u001b[0m\u001b[0;34m\u001b[0m\u001b[0;34m\u001b[0m\u001b[0m\n\u001b[1;32m      9\u001b[0m \u001b[0;34m\u001b[0m\u001b[0m\n",
            "\u001b[0;31mTypeError\u001b[0m: 'NoneType' object is not iterable"
          ]
        }
      ]
    },
    {
      "cell_type": "code",
      "source": [],
      "metadata": {
        "id": "6rK2PcSG9MCv"
      },
      "execution_count": null,
      "outputs": []
    },
    {
      "cell_type": "code",
      "source": [],
      "metadata": {
        "id": "2SGqYyRI8l3k"
      },
      "execution_count": null,
      "outputs": []
    },
    {
      "cell_type": "code",
      "source": [
        "# ## read the RSE file and extract the lines from it\n",
        "# with open('Example1.RSE') as f:\n",
        "\n",
        "#     ## Reading each line of the file \n",
        "#     lines = f.readlines()\n",
        "\n",
        "# ## To generate keys of the dictionary \n",
        "# keys = []\n",
        "\n",
        "# for line in lines:\n",
        "#     # print(line)\n",
        "#     line = line.strip()\n",
        "\n",
        "#     if line.startswith(\"#\"):\n",
        "\n",
        "#         quote_index = line.find(\"'\") \n",
        "#         if quote_index != -1:\n",
        "#             key = line[1:quote_index].split()\n",
        "\n",
        "#             # Check if the line is empty\n",
        "#             if not line:\n",
        "#                 # Empty line found, break out of the loop\n",
        "#                 break\n",
        "\n",
        "#             if key not in keys:\n",
        "#                 keys.append(key)\n",
        "\n",
        "# print(keys)"
      ],
      "metadata": {
        "id": "tBsptR5t2jro"
      },
      "execution_count": null,
      "outputs": []
    },
    {
      "cell_type": "code",
      "source": [
        "### renaming the variables\n",
        "### **********************\n",
        "\n",
        "# rename the columns using a dictionary\n",
        "new_columns = {\n",
        "    'FSU': 'fsu',\n",
        "    'NS_SSS': 'NSS'\n",
        "}\n",
        "\n",
        "df = df.rename(columns=new_columns)\n",
        "\n",
        "df['STRMID'] = df['SEC'].apply(lambda x: f'0{x}' if x < 10 else str(x)) + \\\n",
        "                df['AST'].apply(lambda x: f'0{x}' if x < 10 else str(x)) + \\\n",
        "                 df[' STRM'].apply(lambda x: f'0{x}' if x < 10 else str(x)) + \\\n",
        "                  df['  SSTRM'].apply(lambda x: f'0{x}' if x < 10 else str(x))\n",
        "\n",
        "df[' SSU'] = df[' FSU'].astype(str) + df[' IDNO'].apply(lambda x: f'0{x}' if x < 10 else str(x))"
      ],
      "metadata": {
        "id": "-NL84AeLaLgU"
      },
      "execution_count": null,
      "outputs": []
    },
    {
      "cell_type": "code",
      "source": [
        "df[' SSU']"
      ],
      "metadata": {
        "id": "G-lLPLS_g0Jb"
      },
      "execution_count": null,
      "outputs": []
    },
    {
      "cell_type": "code",
      "source": [
        "age = df['  AGE']\n",
        "\n",
        "# Function to calculate the right age group\n",
        "def get_age_group(age):\n",
        "    if age < 5:\n",
        "        return \"01\"\n",
        "    elif age >= 5 and age < 10:\n",
        "        return \"02\"\n",
        "    elif age >= 10 and age < 20:\n",
        "        return \"03\"\n",
        "    elif age >= 20 and age < 60:\n",
        "        return \"04\"\n",
        "    elif age >= 60:\n",
        "        return \"05\"\n",
        "    else:\n",
        "        return \"00\"\n",
        "\n",
        "# Apply the get_age_group function to each row in the \"age\" column in parallel\n",
        "df['AGE_GROUP'] = df['  AGE'].parallel_apply(get_age_group)\n"
      ],
      "metadata": {
        "id": "N8ZBvrnaqjTX"
      },
      "execution_count": null,
      "outputs": []
    },
    {
      "cell_type": "code",
      "source": [
        "### Age group with right age\n",
        "def get_result(df):\n",
        "    age = df['  AGE']\n",
        "    ageGrp = df['AGE_GROUP']\n",
        "\n",
        "    if ageGrp == \"01\" and age < 5:\n",
        "        return \"01\"\n",
        "    elif ageGrp == \"02\" and age >= 5 and age < 10:\n",
        "        return \"02\"\n",
        "    elif ageGrp == \"03\" and age >= 10 and age < 20:\n",
        "        return \"03\"\n",
        "    elif ageGrp == \"04\" and age >= 20 and age < 60:\n",
        "        return \"04\"\n",
        "    elif ageGrp == \"05\" and age>=60:\n",
        "        return \"00\"\n",
        "    else:\n",
        "        return \"00\"\n",
        "\n",
        "df['AGE_GROUP'] = df.parallel_apply(get_result, axis=1)"
      ],
      "metadata": {
        "id": "OArj2-7cavaI"
      },
      "execution_count": null,
      "outputs": []
    },
    {
      "cell_type": "code",
      "source": [
        "df.columns"
      ],
      "metadata": {
        "colab": {
          "base_uri": "https://localhost:8080/"
        },
        "id": "PYg1nU-htl-r",
        "outputId": "e8974a05-2634-402f-a551-3b0b42a96a92"
      },
      "execution_count": 35,
      "outputs": [
        {
          "output_type": "execute_result",
          "data": {
            "text/plain": [
              "Index(['SEC', 'ST', 'FSU', 'IDNO', 'SEG', 'SSS', 'SSU', 'STRM', 'SSTRM', 'SS',\n",
              "       'NSS', 'NSC', 'MULT', 'HH_SIZE', 'HHTYPE', 'RELG', 'SG', 'MHCE',\n",
              "       'DC_ALL', 'DC_ST', 'SRL', 'REL', 'SEX', 'MSEX', 'AGE', 'MARST',\n",
              "       'GEDU_LVL', 'PAS', 'PS_SS', 'CWS', 'ERN_SELF', 'ERN_REG', 'STRMID'],\n",
              "      dtype='object')"
            ]
          },
          "metadata": {},
          "execution_count": 35
        }
      ]
    },
    {
      "cell_type": "code",
      "source": [
        "def Y1_(df):\n",
        "    df['newVar1'] = pd.Series([])\n",
        "    df.loc[df['  GEDU_LVL'].isin([5, 6]), ('newVar1')] = df['    ERN_REG'] + df['   ERN_SELF']\n",
        "    df.loc[~df['  GEDU_LVL'].isin([5, 6]), ('newVar1')] = 0\n",
        "\n",
        "def Y2_(df):\n",
        "    df['newVar2'] = pd.Series([])\n",
        "    df.loc[df['  GEDU_LVL'].isin([7, 8, 9]), ('newVar2')] = df['    ERN_REG'] + df['   ERN_SELF']\n",
        "    df.loc[~df['  GEDU_LVL'].isin([7, 8, 9]), ('newVar2')] = 0\n",
        "\n",
        "def Y3_(df):\n",
        "    df['newVar3'] = pd.Series([])\n",
        "    df.loc[df['  GEDU_LVL'].isin([5, 6, 7, 8, 9]), ('newVar3')] = df['    ERN_REG'] + df['   ERN_SELF']\n",
        "    df.loc[~df['  GEDU_LVL'].isin([5, 6, 7, 8, 9]), ('newVar3')] = 0\n",
        "\n",
        "def Y4_(df):\n",
        "    df['newVar4'] = pd.Series([])\n",
        "    df.loc[df['   ACWS'].isin([11,12,21,31,41,51,61,61,71,72]), ('newVar4')] = 1\n",
        "    df.loc[~df['   ACWS'].isin([11,12,21,31,41,51,61,61,71,72]), ('newVar4')] = 0\n",
        "\n",
        "def Y5_(df):\n",
        "    df['newVar5'] = pd.Series([])\n",
        "    df.loc[df['   ACWS'].isin([11,12,21,31,41,51,61,61,71,72,81]), ('newVar5')] = 1\n",
        "    df.loc[~df['   ACWS'].isin([11,12,21,31,41,51,61,61,71,72,81]), ('newVar5')] = 0\n",
        "\n",
        "def Y6_(df):\n",
        "    df['newVar6'] = 1"
      ],
      "metadata": {
        "id": "SNjm9Ox2QDto"
      },
      "execution_count": null,
      "outputs": []
    },
    {
      "cell_type": "code",
      "source": [
        "Y1_(df), Y2_(df), Y3_(df), Y4_(df), Y5_(df), Y6_(df)"
      ],
      "metadata": {
        "id": "rmEHB_4CzxLu"
      },
      "execution_count": null,
      "outputs": []
    },
    {
      "cell_type": "code",
      "source": [
        "# ### Example-2: Defining another variable\n",
        "\n",
        "# print(\"select number of variables : \")\n",
        "\n",
        "# n_var = int(input())\n",
        "\n",
        "# ### creating no. of n_var\n",
        "# for i in range(1, n_var+1):\n",
        "#     # df['Y' + str(i)] = pd.Series([])\n",
        "#     df['X' + str(i)] = pd.Series([])\n",
        "\n",
        "#     if i == 1:\n",
        "#         df.loc[df['  GEDU_LVL'].isin([5, 6]), ('X' + str(i))] = df['    ERN_REG'] + df['   ERN_SELF']\n",
        "#         df.loc[~df['  GEDU_LVL'].isin([5, 6]), ('X' + str(i))] = 0\n",
        "#     elif i == 2:\n",
        "#         df.loc[df['  GEDU_LVL'].isin([7, 8, 9]), ('X' + str(i))] = df['    ERN_REG'] + df['   ERN_SELF']\n",
        "#         df.loc[~df['  GEDU_LVL'].isin([5, 6]), ('X' + str(i))] = 0\n",
        "#     elif i == 3:\n",
        "#         df.loc[df['  GEDU_LVL'].isin([5, 6, 7, 8, 9]), ('X' + str(i))] = df['    ERN_REG'] + df['   ERN_SELF']\n",
        "#         df.loc[~df['  GEDU_LVL'].isin([5, 6]), ('X' + str(i))] = 0\n",
        "    "
      ],
      "metadata": {
        "id": "UitiISSvgLqb"
      },
      "execution_count": null,
      "outputs": []
    },
    {
      "cell_type": "code",
      "source": [
        "df['newVar3'].unique()"
      ],
      "metadata": {
        "id": "cdqxWKQrsLdt"
      },
      "execution_count": null,
      "outputs": []
    },
    {
      "cell_type": "code",
      "source": [
        "### Transform the variables\n",
        "\n"
      ],
      "metadata": {
        "id": "QiohuFf6ELDu"
      },
      "execution_count": null,
      "outputs": []
    },
    {
      "cell_type": "code",
      "source": [],
      "metadata": {
        "id": "dW-UoIT5ELGn"
      },
      "execution_count": null,
      "outputs": []
    },
    {
      "cell_type": "code",
      "source": [],
      "metadata": {
        "id": "DHIS2AU0-LWA"
      },
      "execution_count": null,
      "outputs": []
    },
    {
      "cell_type": "code",
      "source": [],
      "metadata": {
        "id": "gjinDDBkELJP"
      },
      "execution_count": null,
      "outputs": []
    },
    {
      "cell_type": "code",
      "source": [],
      "metadata": {
        "id": "F5s_WheCELMH"
      },
      "execution_count": null,
      "outputs": []
    },
    {
      "cell_type": "code",
      "source": [],
      "metadata": {
        "id": "wWPpzCam-K92"
      },
      "execution_count": null,
      "outputs": []
    },
    {
      "cell_type": "code",
      "source": [],
      "metadata": {
        "id": "zPZZ1NDtELPv"
      },
      "execution_count": null,
      "outputs": []
    },
    {
      "cell_type": "code",
      "source": [
        "df.to_csv('GROUP SEC ST AGE_Group.csv')"
      ],
      "metadata": {
        "id": "0CFPzLejegdo"
      },
      "execution_count": null,
      "outputs": []
    },
    {
      "cell_type": "markdown",
      "source": [],
      "metadata": {
        "id": "sutqWwv5k4Dk"
      }
    },
    {
      "cell_type": "code",
      "source": [
        "df"
      ],
      "metadata": {
        "id": "ShQKtGWQeggE"
      },
      "execution_count": null,
      "outputs": []
    },
    {
      "cell_type": "code",
      "source": [],
      "metadata": {
        "id": "YWM1BPKbegjp"
      },
      "execution_count": null,
      "outputs": []
    },
    {
      "cell_type": "code",
      "source": [],
      "metadata": {
        "id": "glg1BRKWsIO3"
      },
      "execution_count": null,
      "outputs": []
    }
  ]
}