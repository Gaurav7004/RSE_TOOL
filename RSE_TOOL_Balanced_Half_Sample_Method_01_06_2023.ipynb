{
  "nbformat": 4,
  "nbformat_minor": 0,
  "metadata": {
    "colab": {
      "provenance": [],
      "authorship_tag": "ABX9TyOUyEHydZbS6Mmqpa/hlngR",
      "include_colab_link": true
    },
    "kernelspec": {
      "name": "python3",
      "display_name": "Python 3"
    },
    "language_info": {
      "name": "python"
    }
  },
  "cells": [
    {
      "cell_type": "markdown",
      "metadata": {
        "id": "view-in-github",
        "colab_type": "text"
      },
      "source": [
        "<a href=\"https://colab.research.google.com/github/Gaurav7004/RSE_TOOL/blob/main/RSE_TOOL_Balanced_Half_Sample_Method_01_06_2023.ipynb\" target=\"_parent\"><img src=\"https://colab.research.google.com/assets/colab-badge.svg\" alt=\"Open In Colab\"/></a>"
      ]
    },
    {
      "cell_type": "code",
      "execution_count": 1,
      "metadata": {
        "id": "y-KFBWnpcdJe"
      },
      "outputs": [],
      "source": [
        "# ! pip install pandarallel\n",
        "# from pandarallel import pandarallel\n",
        "import json\n",
        "import re\n",
        "import pandas as pd\n",
        "import numpy as np\n",
        "import itertools"
      ]
    },
    {
      "cell_type": "code",
      "source": [
        "# pandarallel.initialize()"
      ],
      "metadata": {
        "id": "tsdvu58itpPJ"
      },
      "execution_count": 2,
      "outputs": []
    },
    {
      "cell_type": "code",
      "source": [
        "df = pd.read_csv('Data1.csv')\n",
        "\n",
        "# remove blank spaces from front and back of column names\n",
        "df.columns = df.columns.str.strip()\n",
        "df.columns"
      ],
      "metadata": {
        "id": "j_AWweohegUD",
        "colab": {
          "base_uri": "https://localhost:8080/"
        },
        "outputId": "f7a0ffdc-a0cf-4ce1-8e4e-15142f125e7f"
      },
      "execution_count": 3,
      "outputs": [
        {
          "output_type": "stream",
          "name": "stderr",
          "text": [
            "<ipython-input-3-fc8b3e05b5c4>:1: DtypeWarning: Columns (21) have mixed types. Specify dtype option on import or set low_memory=False.\n",
            "  df = pd.read_csv('Data1.csv')\n"
          ]
        },
        {
          "output_type": "execute_result",
          "data": {
            "text/plain": [
              "Index(['SEC', 'ST', 'FSU', 'IDNO', 'SEG', 'SSS', 'SSU', 'STRM', 'SSTRM', 'SS',\n",
              "       'NSS', 'NSC', 'MULT', 'HH_SIZE', 'HHTYPE', 'RELG', 'SG', 'MHCE',\n",
              "       'DC_ALL', 'DC_ST', 'SRL', 'REL', 'SEX', 'MSEX', 'AGE', 'MARST', 'GEDU',\n",
              "       'PAS', 'PS_SS', 'CWS', 'ERN_SELF', 'ERN_REG'],\n",
              "      dtype='object')"
            ]
          },
          "metadata": {},
          "execution_count": 3
        }
      ]
    },
    {
      "cell_type": "code",
      "source": [
        "## Data is the dictionary\n",
        "data = {}\n",
        "\n",
        "## Keys\n",
        "key = ''\n",
        "\n",
        "## values\n",
        "values = []\n",
        "\n",
        "## Open\n",
        "with open('Example1.RSE', \"r\") as f:\n",
        "    for line in f:\n",
        "        line = line.strip()\n",
        "        if line.startswith('#'):\n",
        "            if key:\n",
        "                key = key.split(\"'\")[0]\n",
        "                key = key.split(\"\\t\")[0]\n",
        "                data[key] = [v for v in values if v and not v.startswith(\"'\")]\n",
        "            key = line.split(\"'\")[0]\n",
        "            key = key.split(\"\\t\")[0]\n",
        "            values = []\n",
        "        elif line.startswith(\"'\"):\n",
        "            pass\n",
        "        else:\n",
        "            line = line.split(\"'\")[0]\n",
        "            values.append(line.strip())\n",
        "\n",
        "# add last group\n",
        "if key:\n",
        "    data[key] = [v for v in values if v and not v.startswith(\"'\")]\n",
        "\n",
        "print(json.dumps(data, indent=4))"
      ],
      "metadata": {
        "colab": {
          "base_uri": "https://localhost:8080/"
        },
        "id": "jCaBn0Ltw5Ac",
        "outputId": "2395fbfa-fac6-4684-f820-a63d58efffed"
      },
      "execution_count": 4,
      "outputs": [
        {
          "output_type": "stream",
          "name": "stdout",
          "text": [
            "{\n",
            "    \"#SAMPLING SUBSAMPLE2\": [],\n",
            "    \"#GROUP 2\": [\n",
            "        \"SEC   C sec\",\n",
            "        \"ST_GR C NEWVAR\"\n",
            "    ],\n",
            "    \"#FILTER 1\": [\n",
            "        \"AGE>=15\"\n",
            "    ],\n",
            "    \"#VARIABLE 3  \": [\n",
            "        \"POP\\tN  NEWVAR\",\n",
            "        \"LF\\tN  NEWVAR\",\n",
            "        \"WRK\\tN  NEWVAR\"\n",
            "    ],\n",
            "    \"#FILE Data1.Xlsx\": [],\n",
            "    \"#RENAME  5    \": [\n",
            "        \"STRMID C sec+st+strm+sstrm\",\n",
            "        \"SS     C ss\",\n",
            "        \"NSS    N  nss\",\n",
            "        \"NSC    N  nsc\",\n",
            "        \"MULT   N  mult\"\n",
            "    ],\n",
            "    \"#TRANSFORM 4  \": [\n",
            "        \"ST_GR=(\\\"G1\\\")   ST in (\\\"10,19,20,21\\\")\",\n",
            "        \"ST_GR=(\\\"G2\\\")   ST in (\\\"11,12,13,14,15,16,17,18\\\")\",\n",
            "        \"ST_GR=(\\\"G3\\\")   Otherwise\",\n",
            "        \"POP=(1)\",\n",
            "        \"WRK=(1)  CWS in (\\\"11,12,21,31,41,51,61,61,71,72\\\")\",\n",
            "        \"WRK=(0)  CWS NOT in (\\\"11,12,21,31,41,51,61,61,71,72\\\")\",\n",
            "        \"LF=(1)   CWS in (\\\"11,12,21,31,41,51,61,61,71,72,81\\\")\",\n",
            "        \"LF=(0)   Otherwise\"\n",
            "    ],\n",
            "    \"#EST_RSE 7\": [\n",
            "        \"S POP\",\n",
            "        \"E POP\",\n",
            "        \"R POP\",\n",
            "        \"E 100*LF/POP\",\n",
            "        \"R LF/POP\",\n",
            "        \"E 100*WRK/POP\",\n",
            "        \"R WRK/POP\"\n",
            "    ]\n",
            "}\n"
          ]
        }
      ]
    },
    {
      "cell_type": "code",
      "source": [],
      "metadata": {
        "id": "Y5bB2O8dZasr"
      },
      "execution_count": 4,
      "outputs": []
    },
    {
      "cell_type": "code",
      "source": [],
      "metadata": {
        "id": "skh-cMWMuNvh"
      },
      "execution_count": 4,
      "outputs": []
    },
    {
      "cell_type": "code",
      "source": [
        "def SAMPLING_(data, df):\n",
        "    for key, value in data.items():\n",
        "        ## To read the sampling method used\n",
        "        if str('SAMPLING').lower() in str(key).lower():\n",
        "            if str('SUBSAMPLE2').lower() in str(key).lower():\n",
        "                return str('SUBSAMPLE2')\n",
        "\n",
        "            elif str('SRSWR').lower() in str(key).lower():\n",
        "                pass\n",
        "            elif str('SRSWOR').lower() in str(key).lower():\n",
        "                pass\n",
        "\n",
        "SAMPLING_(data, df)"
      ],
      "metadata": {
        "id": "Ja3Sc1tvDbc_",
        "colab": {
          "base_uri": "https://localhost:8080/",
          "height": 37
        },
        "outputId": "ab46a624-a481-482a-b7cb-2240806f4b89"
      },
      "execution_count": 5,
      "outputs": [
        {
          "output_type": "execute_result",
          "data": {
            "text/plain": [
              "'SUBSAMPLE2'"
            ],
            "application/vnd.google.colaboratory.intrinsic+json": {
              "type": "string"
            }
          },
          "metadata": {},
          "execution_count": 5
        }
      ]
    },
    {
      "cell_type": "code",
      "source": [
        "df.columns"
      ],
      "metadata": {
        "colab": {
          "base_uri": "https://localhost:8080/"
        },
        "id": "2jZhrNagLdQz",
        "outputId": "056283f3-1801-4b14-88a7-cd96e325fa2d"
      },
      "execution_count": 6,
      "outputs": [
        {
          "output_type": "execute_result",
          "data": {
            "text/plain": [
              "Index(['SEC', 'ST', 'FSU', 'IDNO', 'SEG', 'SSS', 'SSU', 'STRM', 'SSTRM', 'SS',\n",
              "       'NSS', 'NSC', 'MULT', 'HH_SIZE', 'HHTYPE', 'RELG', 'SG', 'MHCE',\n",
              "       'DC_ALL', 'DC_ST', 'SRL', 'REL', 'SEX', 'MSEX', 'AGE', 'MARST', 'GEDU',\n",
              "       'PAS', 'PS_SS', 'CWS', 'ERN_SELF', 'ERN_REG'],\n",
              "      dtype='object')"
            ]
          },
          "metadata": {},
          "execution_count": 6
        }
      ]
    },
    {
      "cell_type": "code",
      "source": [
        "### ---------------------------------------------------------------------------------------------------------\n",
        "def GROUP_(data, df):\n",
        "    for key, value in data.items():    \n",
        "        if str('GROUP').lower() in str(key).lower():\n",
        "            value = [s.split()[0] for s in value]\n",
        "            for name in value:\n",
        "                if name in df.columns:\n",
        "                    pass\n",
        "                elif name not in df.columns:\n",
        "                    df[name] = 0\n",
        "\n",
        "            return value\n",
        "\n",
        "\n",
        "    for key, value in data.items():\n",
        "        print(key, value)\n",
        "        ### To read the group columns\n",
        "        if str('GROUP').lower() in str(key).lower():\n",
        "            # Define regular expression to match three words separated by whitespace\n",
        "            regex = r'\\w+\\s+\\w+\\s+\\w+'\n",
        "\n",
        "            for i in range(len(value)):\n",
        "                # Find the first match in the string\n",
        "                match = re.search(regex, value[i])\n",
        "\n",
        "                # Print the match\n",
        "                lst = match.group().split()\n",
        "\n",
        "                print(lst[0], lst[1])\n",
        "\n",
        "                if lst[0] in df.columns:\n",
        "                    if lst[1] == 'C':\n",
        "                        df[lst[0]] = df[lst[0]].astype(str)\n",
        "                elif lst[0] not in df.columns:\n",
        "                    # if lst[1] == 'C':\n",
        "                    #     df[lst[0]] = ''\n",
        "                    pass\n",
        "\n",
        "        else:\n",
        "            pass\n",
        "\n",
        "### ---------------------------------------------------------------------------------------------------------\n",
        "def FILTER_(data, df):\n",
        "    lst_queries = []\n",
        "    for key, value in data.items():\n",
        "\n",
        "        if str('FILTER').lower() in str(key).lower():\n",
        "            # Define regular expression to match three words separated by whitespace\n",
        "            regex = r'\\([^()]+\\)|\\w+[<>!=]+[0-9]+(?:\\s*(?:&&|\\|\\|)\\s*(?:\\([^()]+\\)|\\w+[<>!=]+[0-9]+))*'\n",
        "\n",
        "            for i in range(len(value)):\n",
        "                # Find the first match in the string\n",
        "                match = re.search(regex, value[i])\n",
        "\n",
        "                # Print the match\n",
        "                lst_queries.append(match.group())\n",
        "\n",
        "        else:\n",
        "            pass\n",
        "\n",
        "    filter_query = ' & '.join(['({})'.format(item) for item in lst_queries])\n",
        "   \n",
        "    try:\n",
        "        df = df.query(filter_query)\n",
        "        return df\n",
        "    except:\n",
        "        return df\n",
        "\n",
        "\n",
        "### ---------------------------------------------------------------------------------------------------------\n",
        "def FILE_(data):\n",
        "    for key, value in data.items():\n",
        "        ### To read the file used\n",
        "        if str('FILE').lower() in str(key).lower():\n",
        "            if key.strip().endswith('.xlsx') or key.strip().endswith('.csv'):\n",
        "                match = re.search(r'[A-Za-z0-9]+\\.xlsx|[A-Za-z0-9]+\\.csv', key)   \n",
        "                if match:\n",
        "                    file_name = match.group(0)\n",
        "                    return file_name\n",
        "                else:\n",
        "                    file_name = None\n",
        "                    return file_name\n",
        "                print(file_name)\n",
        "\n",
        "            # return file_name\n",
        "\n",
        "### ---------------------------------------------------------------------------------------------------------\n",
        "def RENAME_(data, df):\n",
        "    # create an empty dictionary to store the column names\n",
        "    column_dict = {}\n",
        "\n",
        "    for key, value in data.items():\n",
        "        ### To read the file used\n",
        "        if str('RENAME').lower() in str(key).lower():\n",
        "            # value = [elem for elem in value[0].split(' ') if elem.strip()]\n",
        "            # return value\n",
        "\n",
        "            for col in value:\n",
        "                col_split = col.split()\n",
        "\n",
        "                # print(col_split[0])\n",
        "\n",
        "                # extract the last element as the column name\n",
        "                col_name = col_split[-1]\n",
        "\n",
        "                new_col_name = col_split[0]\n",
        "\n",
        "                ### if there is a \"+\" sign in the last element, concatenate the columns\n",
        "                if \"+\" in col_name:\n",
        "                    col_concat = col_name.split(\"+\")\n",
        "                    col_concat = [i.upper() for i in col_concat]\n",
        "\n",
        "                    # concatenate the columns\n",
        "                    # df[new_col_name] = df.loc[:, col_concat].apply(lambda x: ''.join(['0' + str(i) if i < 10 else str(i) for i in x]), axis=1)\n",
        "                    # df[new_col_name] = df.loc[:, col_concat].apply(lambda x: ''.join(['0' + str(i) if i < 10 else str(i) for i in x]), axis=1)\n",
        "                    df[new_col_name] = df.loc[:, col_concat].apply(lambda x: ''.join(['0' + str(i) if int(i) < 10 else str(i) for i in x]), axis=1)\n",
        "\n",
        "\n",
        "                else:\n",
        "                    col_name = col_name.upper()\n",
        "\n",
        "### ---------------------------------------------------------------------------------------------------------\n",
        "def NEWVARIABLE_(data, df):\n",
        "    for key, value in data.items():\n",
        "        ### To read the file used\n",
        "        if str('VARIABLE').lower() in str(key).lower():\n",
        "            value = [s.split()[0] for s in value]\n",
        "            \n",
        "            for name in value:\n",
        "                df[name] = 1\n",
        "\n",
        "### ---------------------------------------------------------------------------------------------------------\n",
        "def TRANSFORM_(data):\n",
        "    global condition\n",
        "\n",
        "    # Initialize empty arrays to store the values\n",
        "    Arr1 = []\n",
        "    Arr2 = []\n",
        "    Arr3 = []\n",
        "\n",
        "    for key, value in data.items():\n",
        "        ### To read the file used\n",
        "        if str('TRANSFORM').lower() in str(key).lower():\n",
        "            lines = '\\n'.join(value)\n",
        "            lines = lines.split(\"\\n\")\n",
        "\n",
        "            # Loop through the lines and extract the values\n",
        "            for line in lines:\n",
        "                line_values = line.split('=')  # split the line into values\n",
        "                print(line_values)\n",
        "                var_name = line_values[0].strip()  # extract the variable name\n",
        "                \n",
        "                var_value = line_values[1].strip().split()[0]  # extract the variable value\n",
        "\n",
        "                            \n",
        "                # Regular expression pattern to extract the condition\n",
        "                pattern = r'^\\w+=\\([^\\)]*\\)(?:\\s+(.*?)(?:\\n|$))?$'\n",
        "\n",
        "                # Split the string into lines and extract the condition from each line\n",
        "                conditions = []\n",
        "\n",
        "                for line in line.split('\\n'):\n",
        "                    match = re.match(pattern, line)\n",
        "                 \n",
        "                    if match:\n",
        "                        condition = match.group(1)\n",
        "                        \n",
        "                        if condition is not None:\n",
        "                            conditions.append(condition.strip())\n",
        "                        else:\n",
        "                            conditions.append(None)\n",
        "\n",
        "                # Append the values to the arrays\n",
        "                Arr1.append(var_name)\n",
        "                Arr2.append(var_value)\n",
        "\n",
        "                Arr3.append(condition)\n",
        "\n",
        "    return Arr1, Arr2, Arr3\n",
        "        \n",
        "### ---------------------------------------------------------------------------------------------------------\n",
        "def EST_RSE_(data):\n",
        "    for key, value in data.items():\n",
        "        pass\n",
        "\n",
        "df = FILTER_(data, df)\n",
        "GROUP_(data, df)\n",
        "TRANSFORM_(data)\n",
        "RENAME_(data, df)\n",
        "NEWVARIABLE_(data, df)\n",
        "FILE_(data)\n",
        "\n"
      ],
      "metadata": {
        "id": "JOeTfpj33fid",
        "colab": {
          "base_uri": "https://localhost:8080/"
        },
        "outputId": "87fce010-845e-4170-ec21-58c9f41da7e4"
      },
      "execution_count": 7,
      "outputs": [
        {
          "output_type": "stream",
          "name": "stdout",
          "text": [
            "['ST_GR', '(\"G1\")   ST in (\"10,19,20,21\")']\n",
            "['ST_GR', '(\"G2\")   ST in (\"11,12,13,14,15,16,17,18\")']\n",
            "['ST_GR', '(\"G3\")   Otherwise']\n",
            "['POP', '(1)']\n",
            "['WRK', '(1)  CWS in (\"11,12,21,31,41,51,61,61,71,72\")']\n",
            "['WRK', '(0)  CWS NOT in (\"11,12,21,31,41,51,61,61,71,72\")']\n",
            "['LF', '(1)   CWS in (\"11,12,21,31,41,51,61,61,71,72,81\")']\n",
            "['LF', '(0)   Otherwise']\n"
          ]
        }
      ]
    },
    {
      "cell_type": "code",
      "source": [
        "GROUP_(data, df)"
      ],
      "metadata": {
        "colab": {
          "base_uri": "https://localhost:8080/"
        },
        "id": "xqvXn2jGuQgT",
        "outputId": "aa1bf227-3711-447b-9d0c-b41749fa9700"
      },
      "execution_count": 8,
      "outputs": [
        {
          "output_type": "execute_result",
          "data": {
            "text/plain": [
              "['SEC', 'ST_GR']"
            ]
          },
          "metadata": {},
          "execution_count": 8
        }
      ]
    },
    {
      "cell_type": "code",
      "source": [
        "EST_RSE_(data)"
      ],
      "metadata": {
        "id": "VQ4j3Mni9tOd"
      },
      "execution_count": 9,
      "outputs": []
    },
    {
      "cell_type": "code",
      "source": [
        "def parse_query_string(query_string):\n",
        "    # Replace curly quotes with straight quotes\n",
        "    query_string = query_string.replace(\"”\", \"\\\"\")\n",
        "    \n",
        "    if 'in' in query_string:\n",
        "        if ('NOT in' or 'not in') in query_string:\n",
        "            query_string = re.sub(r'(\\b\\w+\\b)\\s+NOT in\\s*\\(([^)]+)\\)', r'~\\1.isin([\\2])', query_string)\n",
        "            query_string = re.sub(r'(\\b\\w+\\b)\\s+in\\s*\\(([^)]+)\\)', r'\\1.isin([\\2])', query_string)\n",
        "        elif 'in' in query_string:\n",
        "            # Replace 'in' operators with 'isin' and add list brackets\n",
        "            query_string = re.sub(r'(\\b\\w+\\b)\\s+in\\s*\\(([^)]+)\\)', r'\\1.isin([\\2])', query_string)\n",
        "        else:\n",
        "            pass\n",
        "            \n",
        "    else:\n",
        "        query_string = re.sub(r'''(\\b\\w+\\b)(\\s*[<>=!]+\\s*)('[^']*'|\"[^\"]*\")|(\\b\\w+\\b)(\\s*[<>=!]+\\s*)(\"[^]*'|\"[^\"]*\")''', r'\\1\\2\\3', query_string)\n",
        "        query_string = re.sub(r'''(\\b\\w+\\b)(\\s*[<>=!]+\\s*)(\\d+)''', r'\\1\\2\\3', query_string)\n",
        "\n",
        "    # Replace double quotes with single quotes\n",
        "    query_string = query_string.replace(\"\\\"\", \"'\")\n",
        "    \n",
        "    # Replace 'AND' with '&', 'OR' with '|', and add parentheses\n",
        "    query_string = query_string.replace(\" AND \", \" & \")\\\n",
        "                        .replace(\" OR \", \" | \").\\\n",
        "                            replace(\"&&\", '&').\\\n",
        "                                replace('||', '|').\\\n",
        "                                    replace('<>', '!=').\\\n",
        "                                        replace('NOT', '~')\n",
        "    \n",
        "    # Replace column names with df[column] syntax\n",
        "    query_string = re.sub(r'(\\b\\w+\\b)=', r'\\1==', query_string)\n",
        "\n",
        "\n",
        "    # # Define a function to replace variable names with df[\"<variable_name>\"]\n",
        "    # def replace_var(match):\n",
        "    #     return f'df[\"{match.group(0)}\"]'\n",
        "\n",
        "    # # Use regex to replace variable names with df[\"<variable_name>\"]\n",
        "    # pattern = re.compile(r'''\\b\\w+\\b(?=\\s*[<>=!]=*\\s*[\\'\"\\d])''')\n",
        "    # new_string = pattern.sub(replace_var, query_string)\n",
        "\n",
        "    query_string = re.sub(r\"'(\\d+)'|\\\"(\\d+)\\\"\", lambda match: str(int(match.group(1) or match.group(2))), query_string)\n",
        "    query_string = re.sub(r'\\[(\\d+,\\s*)+\\d+\\]', lambda match: '[' + match.group(0).replace(\"\\'\", \"'\") + ']', query_string)\n",
        "    \n",
        "    return query_string\n",
        "\n",
        "\n",
        "final_parsed_query = []\n",
        "\n",
        "for i in list(TRANSFORM_(data))[2]:\n",
        "    # print(i)\n",
        "    if i:\n",
        "        parsed_query = parse_query_string(i)\n",
        "        final_parsed_query.append(parsed_query)\n",
        "    else:\n",
        "        final_parsed_query.append(i)\n",
        "\n",
        "### Calling the final_parsed_query function\n",
        "### ---------------------------------------\n",
        "final_parsed_query"
      ],
      "metadata": {
        "id": "_lTGE07ya3aO",
        "colab": {
          "base_uri": "https://localhost:8080/"
        },
        "outputId": "35002502-b3e8-41ea-8192-86a6a418e230"
      },
      "execution_count": 10,
      "outputs": [
        {
          "output_type": "stream",
          "name": "stdout",
          "text": [
            "['ST_GR', '(\"G1\")   ST in (\"10,19,20,21\")']\n",
            "['ST_GR', '(\"G2\")   ST in (\"11,12,13,14,15,16,17,18\")']\n",
            "['ST_GR', '(\"G3\")   Otherwise']\n",
            "['POP', '(1)']\n",
            "['WRK', '(1)  CWS in (\"11,12,21,31,41,51,61,61,71,72\")']\n",
            "['WRK', '(0)  CWS NOT in (\"11,12,21,31,41,51,61,61,71,72\")']\n",
            "['LF', '(1)   CWS in (\"11,12,21,31,41,51,61,61,71,72,81\")']\n",
            "['LF', '(0)   Otherwise']\n"
          ]
        },
        {
          "output_type": "execute_result",
          "data": {
            "text/plain": [
              "[\"ST.isin(['10,19,20,21'])\",\n",
              " \"ST.isin(['11,12,13,14,15,16,17,18'])\",\n",
              " 'Otherwise',\n",
              " None,\n",
              " \"CWS.isin(['11,12,21,31,41,51,61,61,71,72'])\",\n",
              " \"~CWS.isin(['11,12,21,31,41,51,61,61,71,72'])\",\n",
              " \"CWS.isin(['11,12,21,31,41,51,61,61,71,72,81'])\",\n",
              " 'Otherwise']"
            ]
          },
          "metadata": {},
          "execution_count": 10
        }
      ]
    },
    {
      "cell_type": "code",
      "source": [
        "df['AGE'].unique()"
      ],
      "metadata": {
        "id": "GVTZkgr9YtIK",
        "colab": {
          "base_uri": "https://localhost:8080/"
        },
        "outputId": "c8aeaf3d-7ff6-4b7a-a972-ddbfeb1bee24"
      },
      "execution_count": 11,
      "outputs": [
        {
          "output_type": "execute_result",
          "data": {
            "text/plain": [
              "array([ 40,  18,  19,  38,  21,  28,  52,  26,  45,  25,  36,  17,  30,\n",
              "        55,  44,  16,  20,  68,  35,  42,  39,  65,  43,  15,  60,  48,\n",
              "        22,  27,  24,  62,  23,  56,  66,  47,  50,  57,  61,  58,  31,\n",
              "        34,  64,  54,  29,  32,  41,  59,  51,  75,  70,  37,  33,  85,\n",
              "        72,  53,  73,  46,  67,  49,  80,  63,  78,  71,  82,  81,  69,\n",
              "        74,  86,  76,  84,  83,  79,  95,  87,  90,  77,  89, 110,  96,\n",
              "       100,  88,  93,  92,  98,  94, 105,  91,  99,  97, 109])"
            ]
          },
          "metadata": {},
          "execution_count": 11
        }
      ]
    },
    {
      "cell_type": "code",
      "source": [
        "Arr1 = list(TRANSFORM_(data))[0]\n",
        "Arr2 = list(TRANSFORM_(data))[1]\n",
        "\n",
        "# print(Arr2)\n",
        "Arr2 = [i.strip('()\\'\\\"') for i in Arr2]\n",
        "Arr3 = final_parsed_query\n",
        "\n",
        "Arr2 = [float(elem) if elem.replace('.', '', 1).isdigit() else elem for elem in Arr2]\n",
        "print(Arr2)\n",
        "\n",
        "# print(Arr1)\n",
        "# print(Arr2)\n",
        "# print(Arr3)"
      ],
      "metadata": {
        "id": "NtMiw_fo7hvR",
        "colab": {
          "base_uri": "https://localhost:8080/"
        },
        "outputId": "01efdf79-1d3c-460d-d967-614413caa157"
      },
      "execution_count": 12,
      "outputs": [
        {
          "output_type": "stream",
          "name": "stdout",
          "text": [
            "['ST_GR', '(\"G1\")   ST in (\"10,19,20,21\")']\n",
            "['ST_GR', '(\"G2\")   ST in (\"11,12,13,14,15,16,17,18\")']\n",
            "['ST_GR', '(\"G3\")   Otherwise']\n",
            "['POP', '(1)']\n",
            "['WRK', '(1)  CWS in (\"11,12,21,31,41,51,61,61,71,72\")']\n",
            "['WRK', '(0)  CWS NOT in (\"11,12,21,31,41,51,61,61,71,72\")']\n",
            "['LF', '(1)   CWS in (\"11,12,21,31,41,51,61,61,71,72,81\")']\n",
            "['LF', '(0)   Otherwise']\n",
            "['ST_GR', '(\"G1\")   ST in (\"10,19,20,21\")']\n",
            "['ST_GR', '(\"G2\")   ST in (\"11,12,13,14,15,16,17,18\")']\n",
            "['ST_GR', '(\"G3\")   Otherwise']\n",
            "['POP', '(1)']\n",
            "['WRK', '(1)  CWS in (\"11,12,21,31,41,51,61,61,71,72\")']\n",
            "['WRK', '(0)  CWS NOT in (\"11,12,21,31,41,51,61,61,71,72\")']\n",
            "['LF', '(1)   CWS in (\"11,12,21,31,41,51,61,61,71,72,81\")']\n",
            "['LF', '(0)   Otherwise']\n",
            "['G1', 'G2', 'G3', 1.0, 1.0, 0.0, 1.0, 0.0]\n"
          ]
        }
      ]
    },
    {
      "cell_type": "code",
      "source": [
        "df.head(3)"
      ],
      "metadata": {
        "id": "hYYh_PXq7C_S",
        "colab": {
          "base_uri": "https://localhost:8080/",
          "height": 236
        },
        "outputId": "84b39229-6d29-4c91-b3d5-708e355f1105"
      },
      "execution_count": 13,
      "outputs": [
        {
          "output_type": "execute_result",
          "data": {
            "text/plain": [
              "   SEC  ST    FSU  IDNO  SEG  SSS  SSU  STRM  SSTRM  SS  ...  PAS  PS_SS  CWS  \\\n",
              "0    1  28  17469     1    1    1    1     1      1   1  ...   51     51   51   \n",
              "1    1  28  17469     1    1    1    1     1      1   1  ...   91     91   91   \n",
              "2    1  28  17469     1    1    1    1     1      1   1  ...   91     91   91   \n",
              "\n",
              "   ERN_SELF  ERN_REG  ST_GR    STRMID  POP  LF  WRK  \n",
              "0         0        0      0  01280101    1   1    1  \n",
              "1         0        0      0  01280101    1   1    1  \n",
              "2         0        0      0  01280101    1   1    1  \n",
              "\n",
              "[3 rows x 37 columns]"
            ],
            "text/html": [
              "\n",
              "  <div id=\"df-f0c3b32b-6aef-4668-a937-9366b5f1ad9b\">\n",
              "    <div class=\"colab-df-container\">\n",
              "      <div>\n",
              "<style scoped>\n",
              "    .dataframe tbody tr th:only-of-type {\n",
              "        vertical-align: middle;\n",
              "    }\n",
              "\n",
              "    .dataframe tbody tr th {\n",
              "        vertical-align: top;\n",
              "    }\n",
              "\n",
              "    .dataframe thead th {\n",
              "        text-align: right;\n",
              "    }\n",
              "</style>\n",
              "<table border=\"1\" class=\"dataframe\">\n",
              "  <thead>\n",
              "    <tr style=\"text-align: right;\">\n",
              "      <th></th>\n",
              "      <th>SEC</th>\n",
              "      <th>ST</th>\n",
              "      <th>FSU</th>\n",
              "      <th>IDNO</th>\n",
              "      <th>SEG</th>\n",
              "      <th>SSS</th>\n",
              "      <th>SSU</th>\n",
              "      <th>STRM</th>\n",
              "      <th>SSTRM</th>\n",
              "      <th>SS</th>\n",
              "      <th>...</th>\n",
              "      <th>PAS</th>\n",
              "      <th>PS_SS</th>\n",
              "      <th>CWS</th>\n",
              "      <th>ERN_SELF</th>\n",
              "      <th>ERN_REG</th>\n",
              "      <th>ST_GR</th>\n",
              "      <th>STRMID</th>\n",
              "      <th>POP</th>\n",
              "      <th>LF</th>\n",
              "      <th>WRK</th>\n",
              "    </tr>\n",
              "  </thead>\n",
              "  <tbody>\n",
              "    <tr>\n",
              "      <th>0</th>\n",
              "      <td>1</td>\n",
              "      <td>28</td>\n",
              "      <td>17469</td>\n",
              "      <td>1</td>\n",
              "      <td>1</td>\n",
              "      <td>1</td>\n",
              "      <td>1</td>\n",
              "      <td>1</td>\n",
              "      <td>1</td>\n",
              "      <td>1</td>\n",
              "      <td>...</td>\n",
              "      <td>51</td>\n",
              "      <td>51</td>\n",
              "      <td>51</td>\n",
              "      <td>0</td>\n",
              "      <td>0</td>\n",
              "      <td>0</td>\n",
              "      <td>01280101</td>\n",
              "      <td>1</td>\n",
              "      <td>1</td>\n",
              "      <td>1</td>\n",
              "    </tr>\n",
              "    <tr>\n",
              "      <th>1</th>\n",
              "      <td>1</td>\n",
              "      <td>28</td>\n",
              "      <td>17469</td>\n",
              "      <td>1</td>\n",
              "      <td>1</td>\n",
              "      <td>1</td>\n",
              "      <td>1</td>\n",
              "      <td>1</td>\n",
              "      <td>1</td>\n",
              "      <td>1</td>\n",
              "      <td>...</td>\n",
              "      <td>91</td>\n",
              "      <td>91</td>\n",
              "      <td>91</td>\n",
              "      <td>0</td>\n",
              "      <td>0</td>\n",
              "      <td>0</td>\n",
              "      <td>01280101</td>\n",
              "      <td>1</td>\n",
              "      <td>1</td>\n",
              "      <td>1</td>\n",
              "    </tr>\n",
              "    <tr>\n",
              "      <th>2</th>\n",
              "      <td>1</td>\n",
              "      <td>28</td>\n",
              "      <td>17469</td>\n",
              "      <td>1</td>\n",
              "      <td>1</td>\n",
              "      <td>1</td>\n",
              "      <td>1</td>\n",
              "      <td>1</td>\n",
              "      <td>1</td>\n",
              "      <td>1</td>\n",
              "      <td>...</td>\n",
              "      <td>91</td>\n",
              "      <td>91</td>\n",
              "      <td>91</td>\n",
              "      <td>0</td>\n",
              "      <td>0</td>\n",
              "      <td>0</td>\n",
              "      <td>01280101</td>\n",
              "      <td>1</td>\n",
              "      <td>1</td>\n",
              "      <td>1</td>\n",
              "    </tr>\n",
              "  </tbody>\n",
              "</table>\n",
              "<p>3 rows × 37 columns</p>\n",
              "</div>\n",
              "      <button class=\"colab-df-convert\" onclick=\"convertToInteractive('df-f0c3b32b-6aef-4668-a937-9366b5f1ad9b')\"\n",
              "              title=\"Convert this dataframe to an interactive table.\"\n",
              "              style=\"display:none;\">\n",
              "        \n",
              "  <svg xmlns=\"http://www.w3.org/2000/svg\" height=\"24px\"viewBox=\"0 0 24 24\"\n",
              "       width=\"24px\">\n",
              "    <path d=\"M0 0h24v24H0V0z\" fill=\"none\"/>\n",
              "    <path d=\"M18.56 5.44l.94 2.06.94-2.06 2.06-.94-2.06-.94-.94-2.06-.94 2.06-2.06.94zm-11 1L8.5 8.5l.94-2.06 2.06-.94-2.06-.94L8.5 2.5l-.94 2.06-2.06.94zm10 10l.94 2.06.94-2.06 2.06-.94-2.06-.94-.94-2.06-.94 2.06-2.06.94z\"/><path d=\"M17.41 7.96l-1.37-1.37c-.4-.4-.92-.59-1.43-.59-.52 0-1.04.2-1.43.59L10.3 9.45l-7.72 7.72c-.78.78-.78 2.05 0 2.83L4 21.41c.39.39.9.59 1.41.59.51 0 1.02-.2 1.41-.59l7.78-7.78 2.81-2.81c.8-.78.8-2.07 0-2.86zM5.41 20L4 18.59l7.72-7.72 1.47 1.35L5.41 20z\"/>\n",
              "  </svg>\n",
              "      </button>\n",
              "      \n",
              "  <style>\n",
              "    .colab-df-container {\n",
              "      display:flex;\n",
              "      flex-wrap:wrap;\n",
              "      gap: 12px;\n",
              "    }\n",
              "\n",
              "    .colab-df-convert {\n",
              "      background-color: #E8F0FE;\n",
              "      border: none;\n",
              "      border-radius: 50%;\n",
              "      cursor: pointer;\n",
              "      display: none;\n",
              "      fill: #1967D2;\n",
              "      height: 32px;\n",
              "      padding: 0 0 0 0;\n",
              "      width: 32px;\n",
              "    }\n",
              "\n",
              "    .colab-df-convert:hover {\n",
              "      background-color: #E2EBFA;\n",
              "      box-shadow: 0px 1px 2px rgba(60, 64, 67, 0.3), 0px 1px 3px 1px rgba(60, 64, 67, 0.15);\n",
              "      fill: #174EA6;\n",
              "    }\n",
              "\n",
              "    [theme=dark] .colab-df-convert {\n",
              "      background-color: #3B4455;\n",
              "      fill: #D2E3FC;\n",
              "    }\n",
              "\n",
              "    [theme=dark] .colab-df-convert:hover {\n",
              "      background-color: #434B5C;\n",
              "      box-shadow: 0px 1px 3px 1px rgba(0, 0, 0, 0.15);\n",
              "      filter: drop-shadow(0px 1px 2px rgba(0, 0, 0, 0.3));\n",
              "      fill: #FFFFFF;\n",
              "    }\n",
              "  </style>\n",
              "\n",
              "      <script>\n",
              "        const buttonEl =\n",
              "          document.querySelector('#df-f0c3b32b-6aef-4668-a937-9366b5f1ad9b button.colab-df-convert');\n",
              "        buttonEl.style.display =\n",
              "          google.colab.kernel.accessAllowed ? 'block' : 'none';\n",
              "\n",
              "        async function convertToInteractive(key) {\n",
              "          const element = document.querySelector('#df-f0c3b32b-6aef-4668-a937-9366b5f1ad9b');\n",
              "          const dataTable =\n",
              "            await google.colab.kernel.invokeFunction('convertToInteractive',\n",
              "                                                     [key], {});\n",
              "          if (!dataTable) return;\n",
              "\n",
              "          const docLinkHtml = 'Like what you see? Visit the ' +\n",
              "            '<a target=\"_blank\" href=https://colab.research.google.com/notebooks/data_table.ipynb>data table notebook</a>'\n",
              "            + ' to learn more about interactive tables.';\n",
              "          element.innerHTML = '';\n",
              "          dataTable['output_type'] = 'display_data';\n",
              "          await google.colab.output.renderOutput(dataTable, element);\n",
              "          const docLink = document.createElement('div');\n",
              "          docLink.innerHTML = docLinkHtml;\n",
              "          element.appendChild(docLink);\n",
              "        }\n",
              "      </script>\n",
              "    </div>\n",
              "  </div>\n",
              "  "
            ]
          },
          "metadata": {},
          "execution_count": 13
        }
      ]
    },
    {
      "cell_type": "code",
      "source": [
        "set(Arr1) - set(list(df.columns))"
      ],
      "metadata": {
        "id": "FpCHnWE634Lg",
        "colab": {
          "base_uri": "https://localhost:8080/"
        },
        "outputId": "384387bd-d208-46db-d8a2-fe10e4d31bc7"
      },
      "execution_count": 14,
      "outputs": [
        {
          "output_type": "execute_result",
          "data": {
            "text/plain": [
              "set()"
            ]
          },
          "metadata": {},
          "execution_count": 14
        }
      ]
    },
    {
      "cell_type": "code",
      "source": [
        "\n",
        "# Check for name mismatches and create new columns\n",
        "mismatched_names = set(Arr1) - set(df.columns)\n",
        "\n",
        "new_columns = {name: [0] * df.shape[0] for name in mismatched_names}\n",
        "df = df.assign(**new_columns)\n",
        "\n",
        "mismatched_names"
      ],
      "metadata": {
        "id": "2Jb5zGh67zYH",
        "colab": {
          "base_uri": "https://localhost:8080/"
        },
        "outputId": "2aec6d93-441c-482c-f8a9-b5e9d2d03ee5"
      },
      "execution_count": 15,
      "outputs": [
        {
          "output_type": "execute_result",
          "data": {
            "text/plain": [
              "set()"
            ]
          },
          "metadata": {},
          "execution_count": 15
        }
      ]
    },
    {
      "cell_type": "code",
      "source": [
        "Arr3"
      ],
      "metadata": {
        "id": "SQYkxNyITODY",
        "colab": {
          "base_uri": "https://localhost:8080/"
        },
        "outputId": "583974da-f27c-4dfc-8ab7-42742512df82"
      },
      "execution_count": 16,
      "outputs": [
        {
          "output_type": "execute_result",
          "data": {
            "text/plain": [
              "[\"ST.isin(['10,19,20,21'])\",\n",
              " \"ST.isin(['11,12,13,14,15,16,17,18'])\",\n",
              " 'Otherwise',\n",
              " None,\n",
              " \"CWS.isin(['11,12,21,31,41,51,61,61,71,72'])\",\n",
              " \"~CWS.isin(['11,12,21,31,41,51,61,61,71,72'])\",\n",
              " \"CWS.isin(['11,12,21,31,41,51,61,61,71,72,81'])\",\n",
              " 'Otherwise']"
            ]
          },
          "metadata": {},
          "execution_count": 16
        }
      ]
    },
    {
      "cell_type": "code",
      "source": [
        "Arr3 = [i.replace(\"(['\", \"([\").replace(\"'])\", \"])\") if i is not None else 'True' if Arr3[j] == 'Otherwise' else True for j, i in enumerate(Arr3)]\n",
        "Arr3"
      ],
      "metadata": {
        "id": "YlL6LYR-43rC",
        "colab": {
          "base_uri": "https://localhost:8080/"
        },
        "outputId": "999ba4e2-81d3-465f-bb08-e1c0f971e390"
      },
      "execution_count": 17,
      "outputs": [
        {
          "output_type": "execute_result",
          "data": {
            "text/plain": [
              "['ST.isin([10,19,20,21])',\n",
              " 'ST.isin([11,12,13,14,15,16,17,18])',\n",
              " 'Otherwise',\n",
              " True,\n",
              " 'CWS.isin([11,12,21,31,41,51,61,61,71,72])',\n",
              " '~CWS.isin([11,12,21,31,41,51,61,61,71,72])',\n",
              " 'CWS.isin([11,12,21,31,41,51,61,61,71,72,81])',\n",
              " 'Otherwise']"
            ]
          },
          "metadata": {},
          "execution_count": 17
        }
      ]
    },
    {
      "cell_type": "code",
      "source": [
        "new_arr3 = []\n",
        "for i, value in enumerate(Arr3):\n",
        "    if value == 'Otherwise':\n",
        "        other_values = set(['~(' + Arr3[j] + ')' for j in range(len(Arr3)) if Arr1[j] == Arr1[i] and Arr3[j] != 'Otherwise'])\n",
        "        new_value = ' & '.join(other_values)\n",
        "        print(new_value)\n",
        "        new_arr3.append(new_value)\n",
        "    else:\n",
        "        new_arr3.append(value)\n",
        "        print(value)\n",
        "\n",
        "# new_arr3"
      ],
      "metadata": {
        "id": "BWIYIIl_5_ba",
        "colab": {
          "base_uri": "https://localhost:8080/"
        },
        "outputId": "73452993-af3d-4d16-d79a-662edd34433b"
      },
      "execution_count": 18,
      "outputs": [
        {
          "output_type": "stream",
          "name": "stdout",
          "text": [
            "ST.isin([10,19,20,21])\n",
            "ST.isin([11,12,13,14,15,16,17,18])\n",
            "~(ST.isin([10,19,20,21])) & ~(ST.isin([11,12,13,14,15,16,17,18]))\n",
            "True\n",
            "CWS.isin([11,12,21,31,41,51,61,61,71,72])\n",
            "~CWS.isin([11,12,21,31,41,51,61,61,71,72])\n",
            "CWS.isin([11,12,21,31,41,51,61,61,71,72,81])\n",
            "~(CWS.isin([11,12,21,31,41,51,61,61,71,72,81]))\n"
          ]
        }
      ]
    },
    {
      "cell_type": "code",
      "source": [
        "Arr3 = new_arr3"
      ],
      "metadata": {
        "id": "WNp2AGBEaJl-"
      },
      "execution_count": 19,
      "outputs": []
    },
    {
      "cell_type": "code",
      "source": [
        "df['WRK'].unique()"
      ],
      "metadata": {
        "id": "M7YnPjuAAY53",
        "colab": {
          "base_uri": "https://localhost:8080/"
        },
        "outputId": "6557ddd7-5348-435a-e136-c927a6599eaf"
      },
      "execution_count": 20,
      "outputs": [
        {
          "output_type": "execute_result",
          "data": {
            "text/plain": [
              "array([1])"
            ]
          },
          "metadata": {},
          "execution_count": 20
        }
      ]
    },
    {
      "cell_type": "code",
      "source": [
        "Arr2"
      ],
      "metadata": {
        "colab": {
          "base_uri": "https://localhost:8080/"
        },
        "id": "BiNMunJ16H3R",
        "outputId": "711a15b6-6e93-4031-a709-1cd11874e9a3"
      },
      "execution_count": 21,
      "outputs": [
        {
          "output_type": "execute_result",
          "data": {
            "text/plain": [
              "['G1', 'G2', 'G3', 1.0, 1.0, 0.0, 1.0, 0.0]"
            ]
          },
          "metadata": {},
          "execution_count": 21
        }
      ]
    },
    {
      "cell_type": "code",
      "source": [
        "for i in range(len(Arr2)):\n",
        "    if type(Arr3[i]) == str:\n",
        "        print(Arr3[i])"
      ],
      "metadata": {
        "id": "CXIrpfUnv-cv",
        "colab": {
          "base_uri": "https://localhost:8080/"
        },
        "outputId": "526663fd-dd11-4ebf-801e-dde318775704"
      },
      "execution_count": 22,
      "outputs": [
        {
          "output_type": "stream",
          "name": "stdout",
          "text": [
            "ST.isin([10,19,20,21])\n",
            "ST.isin([11,12,13,14,15,16,17,18])\n",
            "~(ST.isin([10,19,20,21])) & ~(ST.isin([11,12,13,14,15,16,17,18]))\n",
            "CWS.isin([11,12,21,31,41,51,61,61,71,72])\n",
            "~CWS.isin([11,12,21,31,41,51,61,61,71,72])\n",
            "CWS.isin([11,12,21,31,41,51,61,61,71,72,81])\n",
            "~(CWS.isin([11,12,21,31,41,51,61,61,71,72,81]))\n"
          ]
        }
      ]
    },
    {
      "cell_type": "code",
      "source": [
        "# print()\n",
        "df.query(\"CWS==31 & GEDU.isin([5,6,7,11,12])\")"
      ],
      "metadata": {
        "colab": {
          "base_uri": "https://localhost:8080/",
          "height": 487
        },
        "id": "v1_oTKdEY8fP",
        "outputId": "b4507ae0-a2ff-41e8-f668-aeff7be73c17"
      },
      "execution_count": 23,
      "outputs": [
        {
          "output_type": "execute_result",
          "data": {
            "text/plain": [
              "        SEC  ST    FSU  IDNO  SEG  SSS  SSU  STRM  SSTRM  SS  ...  PAS  PS_SS  \\\n",
              "69        1  28  17471     4    1    2    2     1      2   1  ...   31     31   \n",
              "90        1  28  17471     8    1    3    2     1      2   1  ...   31     31   \n",
              "208       1  28  17476     3    1    2    2     1      4   2  ...   31     31   \n",
              "228       1  28  17477     1    1    1    1     1      5   1  ...   31     31   \n",
              "255       1  28  17478     1    1    1    1     1      5   2  ...   31     31   \n",
              "...     ...  ..    ...   ...  ...  ...  ...   ...    ...  ..  ...  ...    ...   \n",
              "109801    2  34  27427     4    1    2    2     1      3   2  ...   31     31   \n",
              "109815    2  34  27427     7    1    4    1     1      3   2  ...   31     31   \n",
              "109819    2  34  27428     1    1    1    1     1      3   2  ...   31     31   \n",
              "109832    2  34  27428     4    1    2    2     1      3   2  ...   31     31   \n",
              "109847    2  34  27428     7    1    4    1     1      3   2  ...   31     31   \n",
              "\n",
              "        CWS  ERN_SELF  ERN_REG  ST_GR    STRMID  POP  LF  WRK  \n",
              "69       31         0     7000      0  01280102    1   1    1  \n",
              "90       31         0     4500      0  01280102    1   1    1  \n",
              "208      31         0     8000      0  01280104    1   1    1  \n",
              "228      31         0    40000      0  01280105    1   1    1  \n",
              "255      31         0     6000      0  01280105    1   1    1  \n",
              "...     ...       ...      ...    ...       ...  ...  ..  ...  \n",
              "109801   31         0    25000      0  02340103    1   1    1  \n",
              "109815   31         0     7000      0  02340103    1   1    1  \n",
              "109819   31         0    25000      0  02340103    1   1    1  \n",
              "109832   31         0    15000      0  02340103    1   1    1  \n",
              "109847   31         0    15000      0  02340103    1   1    1  \n",
              "\n",
              "[5574 rows x 37 columns]"
            ],
            "text/html": [
              "\n",
              "  <div id=\"df-9fae71a8-1911-471f-8dd8-94f86d2f5004\">\n",
              "    <div class=\"colab-df-container\">\n",
              "      <div>\n",
              "<style scoped>\n",
              "    .dataframe tbody tr th:only-of-type {\n",
              "        vertical-align: middle;\n",
              "    }\n",
              "\n",
              "    .dataframe tbody tr th {\n",
              "        vertical-align: top;\n",
              "    }\n",
              "\n",
              "    .dataframe thead th {\n",
              "        text-align: right;\n",
              "    }\n",
              "</style>\n",
              "<table border=\"1\" class=\"dataframe\">\n",
              "  <thead>\n",
              "    <tr style=\"text-align: right;\">\n",
              "      <th></th>\n",
              "      <th>SEC</th>\n",
              "      <th>ST</th>\n",
              "      <th>FSU</th>\n",
              "      <th>IDNO</th>\n",
              "      <th>SEG</th>\n",
              "      <th>SSS</th>\n",
              "      <th>SSU</th>\n",
              "      <th>STRM</th>\n",
              "      <th>SSTRM</th>\n",
              "      <th>SS</th>\n",
              "      <th>...</th>\n",
              "      <th>PAS</th>\n",
              "      <th>PS_SS</th>\n",
              "      <th>CWS</th>\n",
              "      <th>ERN_SELF</th>\n",
              "      <th>ERN_REG</th>\n",
              "      <th>ST_GR</th>\n",
              "      <th>STRMID</th>\n",
              "      <th>POP</th>\n",
              "      <th>LF</th>\n",
              "      <th>WRK</th>\n",
              "    </tr>\n",
              "  </thead>\n",
              "  <tbody>\n",
              "    <tr>\n",
              "      <th>69</th>\n",
              "      <td>1</td>\n",
              "      <td>28</td>\n",
              "      <td>17471</td>\n",
              "      <td>4</td>\n",
              "      <td>1</td>\n",
              "      <td>2</td>\n",
              "      <td>2</td>\n",
              "      <td>1</td>\n",
              "      <td>2</td>\n",
              "      <td>1</td>\n",
              "      <td>...</td>\n",
              "      <td>31</td>\n",
              "      <td>31</td>\n",
              "      <td>31</td>\n",
              "      <td>0</td>\n",
              "      <td>7000</td>\n",
              "      <td>0</td>\n",
              "      <td>01280102</td>\n",
              "      <td>1</td>\n",
              "      <td>1</td>\n",
              "      <td>1</td>\n",
              "    </tr>\n",
              "    <tr>\n",
              "      <th>90</th>\n",
              "      <td>1</td>\n",
              "      <td>28</td>\n",
              "      <td>17471</td>\n",
              "      <td>8</td>\n",
              "      <td>1</td>\n",
              "      <td>3</td>\n",
              "      <td>2</td>\n",
              "      <td>1</td>\n",
              "      <td>2</td>\n",
              "      <td>1</td>\n",
              "      <td>...</td>\n",
              "      <td>31</td>\n",
              "      <td>31</td>\n",
              "      <td>31</td>\n",
              "      <td>0</td>\n",
              "      <td>4500</td>\n",
              "      <td>0</td>\n",
              "      <td>01280102</td>\n",
              "      <td>1</td>\n",
              "      <td>1</td>\n",
              "      <td>1</td>\n",
              "    </tr>\n",
              "    <tr>\n",
              "      <th>208</th>\n",
              "      <td>1</td>\n",
              "      <td>28</td>\n",
              "      <td>17476</td>\n",
              "      <td>3</td>\n",
              "      <td>1</td>\n",
              "      <td>2</td>\n",
              "      <td>2</td>\n",
              "      <td>1</td>\n",
              "      <td>4</td>\n",
              "      <td>2</td>\n",
              "      <td>...</td>\n",
              "      <td>31</td>\n",
              "      <td>31</td>\n",
              "      <td>31</td>\n",
              "      <td>0</td>\n",
              "      <td>8000</td>\n",
              "      <td>0</td>\n",
              "      <td>01280104</td>\n",
              "      <td>1</td>\n",
              "      <td>1</td>\n",
              "      <td>1</td>\n",
              "    </tr>\n",
              "    <tr>\n",
              "      <th>228</th>\n",
              "      <td>1</td>\n",
              "      <td>28</td>\n",
              "      <td>17477</td>\n",
              "      <td>1</td>\n",
              "      <td>1</td>\n",
              "      <td>1</td>\n",
              "      <td>1</td>\n",
              "      <td>1</td>\n",
              "      <td>5</td>\n",
              "      <td>1</td>\n",
              "      <td>...</td>\n",
              "      <td>31</td>\n",
              "      <td>31</td>\n",
              "      <td>31</td>\n",
              "      <td>0</td>\n",
              "      <td>40000</td>\n",
              "      <td>0</td>\n",
              "      <td>01280105</td>\n",
              "      <td>1</td>\n",
              "      <td>1</td>\n",
              "      <td>1</td>\n",
              "    </tr>\n",
              "    <tr>\n",
              "      <th>255</th>\n",
              "      <td>1</td>\n",
              "      <td>28</td>\n",
              "      <td>17478</td>\n",
              "      <td>1</td>\n",
              "      <td>1</td>\n",
              "      <td>1</td>\n",
              "      <td>1</td>\n",
              "      <td>1</td>\n",
              "      <td>5</td>\n",
              "      <td>2</td>\n",
              "      <td>...</td>\n",
              "      <td>31</td>\n",
              "      <td>31</td>\n",
              "      <td>31</td>\n",
              "      <td>0</td>\n",
              "      <td>6000</td>\n",
              "      <td>0</td>\n",
              "      <td>01280105</td>\n",
              "      <td>1</td>\n",
              "      <td>1</td>\n",
              "      <td>1</td>\n",
              "    </tr>\n",
              "    <tr>\n",
              "      <th>...</th>\n",
              "      <td>...</td>\n",
              "      <td>...</td>\n",
              "      <td>...</td>\n",
              "      <td>...</td>\n",
              "      <td>...</td>\n",
              "      <td>...</td>\n",
              "      <td>...</td>\n",
              "      <td>...</td>\n",
              "      <td>...</td>\n",
              "      <td>...</td>\n",
              "      <td>...</td>\n",
              "      <td>...</td>\n",
              "      <td>...</td>\n",
              "      <td>...</td>\n",
              "      <td>...</td>\n",
              "      <td>...</td>\n",
              "      <td>...</td>\n",
              "      <td>...</td>\n",
              "      <td>...</td>\n",
              "      <td>...</td>\n",
              "      <td>...</td>\n",
              "    </tr>\n",
              "    <tr>\n",
              "      <th>109801</th>\n",
              "      <td>2</td>\n",
              "      <td>34</td>\n",
              "      <td>27427</td>\n",
              "      <td>4</td>\n",
              "      <td>1</td>\n",
              "      <td>2</td>\n",
              "      <td>2</td>\n",
              "      <td>1</td>\n",
              "      <td>3</td>\n",
              "      <td>2</td>\n",
              "      <td>...</td>\n",
              "      <td>31</td>\n",
              "      <td>31</td>\n",
              "      <td>31</td>\n",
              "      <td>0</td>\n",
              "      <td>25000</td>\n",
              "      <td>0</td>\n",
              "      <td>02340103</td>\n",
              "      <td>1</td>\n",
              "      <td>1</td>\n",
              "      <td>1</td>\n",
              "    </tr>\n",
              "    <tr>\n",
              "      <th>109815</th>\n",
              "      <td>2</td>\n",
              "      <td>34</td>\n",
              "      <td>27427</td>\n",
              "      <td>7</td>\n",
              "      <td>1</td>\n",
              "      <td>4</td>\n",
              "      <td>1</td>\n",
              "      <td>1</td>\n",
              "      <td>3</td>\n",
              "      <td>2</td>\n",
              "      <td>...</td>\n",
              "      <td>31</td>\n",
              "      <td>31</td>\n",
              "      <td>31</td>\n",
              "      <td>0</td>\n",
              "      <td>7000</td>\n",
              "      <td>0</td>\n",
              "      <td>02340103</td>\n",
              "      <td>1</td>\n",
              "      <td>1</td>\n",
              "      <td>1</td>\n",
              "    </tr>\n",
              "    <tr>\n",
              "      <th>109819</th>\n",
              "      <td>2</td>\n",
              "      <td>34</td>\n",
              "      <td>27428</td>\n",
              "      <td>1</td>\n",
              "      <td>1</td>\n",
              "      <td>1</td>\n",
              "      <td>1</td>\n",
              "      <td>1</td>\n",
              "      <td>3</td>\n",
              "      <td>2</td>\n",
              "      <td>...</td>\n",
              "      <td>31</td>\n",
              "      <td>31</td>\n",
              "      <td>31</td>\n",
              "      <td>0</td>\n",
              "      <td>25000</td>\n",
              "      <td>0</td>\n",
              "      <td>02340103</td>\n",
              "      <td>1</td>\n",
              "      <td>1</td>\n",
              "      <td>1</td>\n",
              "    </tr>\n",
              "    <tr>\n",
              "      <th>109832</th>\n",
              "      <td>2</td>\n",
              "      <td>34</td>\n",
              "      <td>27428</td>\n",
              "      <td>4</td>\n",
              "      <td>1</td>\n",
              "      <td>2</td>\n",
              "      <td>2</td>\n",
              "      <td>1</td>\n",
              "      <td>3</td>\n",
              "      <td>2</td>\n",
              "      <td>...</td>\n",
              "      <td>31</td>\n",
              "      <td>31</td>\n",
              "      <td>31</td>\n",
              "      <td>0</td>\n",
              "      <td>15000</td>\n",
              "      <td>0</td>\n",
              "      <td>02340103</td>\n",
              "      <td>1</td>\n",
              "      <td>1</td>\n",
              "      <td>1</td>\n",
              "    </tr>\n",
              "    <tr>\n",
              "      <th>109847</th>\n",
              "      <td>2</td>\n",
              "      <td>34</td>\n",
              "      <td>27428</td>\n",
              "      <td>7</td>\n",
              "      <td>1</td>\n",
              "      <td>4</td>\n",
              "      <td>1</td>\n",
              "      <td>1</td>\n",
              "      <td>3</td>\n",
              "      <td>2</td>\n",
              "      <td>...</td>\n",
              "      <td>31</td>\n",
              "      <td>31</td>\n",
              "      <td>31</td>\n",
              "      <td>0</td>\n",
              "      <td>15000</td>\n",
              "      <td>0</td>\n",
              "      <td>02340103</td>\n",
              "      <td>1</td>\n",
              "      <td>1</td>\n",
              "      <td>1</td>\n",
              "    </tr>\n",
              "  </tbody>\n",
              "</table>\n",
              "<p>5574 rows × 37 columns</p>\n",
              "</div>\n",
              "      <button class=\"colab-df-convert\" onclick=\"convertToInteractive('df-9fae71a8-1911-471f-8dd8-94f86d2f5004')\"\n",
              "              title=\"Convert this dataframe to an interactive table.\"\n",
              "              style=\"display:none;\">\n",
              "        \n",
              "  <svg xmlns=\"http://www.w3.org/2000/svg\" height=\"24px\"viewBox=\"0 0 24 24\"\n",
              "       width=\"24px\">\n",
              "    <path d=\"M0 0h24v24H0V0z\" fill=\"none\"/>\n",
              "    <path d=\"M18.56 5.44l.94 2.06.94-2.06 2.06-.94-2.06-.94-.94-2.06-.94 2.06-2.06.94zm-11 1L8.5 8.5l.94-2.06 2.06-.94-2.06-.94L8.5 2.5l-.94 2.06-2.06.94zm10 10l.94 2.06.94-2.06 2.06-.94-2.06-.94-.94-2.06-.94 2.06-2.06.94z\"/><path d=\"M17.41 7.96l-1.37-1.37c-.4-.4-.92-.59-1.43-.59-.52 0-1.04.2-1.43.59L10.3 9.45l-7.72 7.72c-.78.78-.78 2.05 0 2.83L4 21.41c.39.39.9.59 1.41.59.51 0 1.02-.2 1.41-.59l7.78-7.78 2.81-2.81c.8-.78.8-2.07 0-2.86zM5.41 20L4 18.59l7.72-7.72 1.47 1.35L5.41 20z\"/>\n",
              "  </svg>\n",
              "      </button>\n",
              "      \n",
              "  <style>\n",
              "    .colab-df-container {\n",
              "      display:flex;\n",
              "      flex-wrap:wrap;\n",
              "      gap: 12px;\n",
              "    }\n",
              "\n",
              "    .colab-df-convert {\n",
              "      background-color: #E8F0FE;\n",
              "      border: none;\n",
              "      border-radius: 50%;\n",
              "      cursor: pointer;\n",
              "      display: none;\n",
              "      fill: #1967D2;\n",
              "      height: 32px;\n",
              "      padding: 0 0 0 0;\n",
              "      width: 32px;\n",
              "    }\n",
              "\n",
              "    .colab-df-convert:hover {\n",
              "      background-color: #E2EBFA;\n",
              "      box-shadow: 0px 1px 2px rgba(60, 64, 67, 0.3), 0px 1px 3px 1px rgba(60, 64, 67, 0.15);\n",
              "      fill: #174EA6;\n",
              "    }\n",
              "\n",
              "    [theme=dark] .colab-df-convert {\n",
              "      background-color: #3B4455;\n",
              "      fill: #D2E3FC;\n",
              "    }\n",
              "\n",
              "    [theme=dark] .colab-df-convert:hover {\n",
              "      background-color: #434B5C;\n",
              "      box-shadow: 0px 1px 3px 1px rgba(0, 0, 0, 0.15);\n",
              "      filter: drop-shadow(0px 1px 2px rgba(0, 0, 0, 0.3));\n",
              "      fill: #FFFFFF;\n",
              "    }\n",
              "  </style>\n",
              "\n",
              "      <script>\n",
              "        const buttonEl =\n",
              "          document.querySelector('#df-9fae71a8-1911-471f-8dd8-94f86d2f5004 button.colab-df-convert');\n",
              "        buttonEl.style.display =\n",
              "          google.colab.kernel.accessAllowed ? 'block' : 'none';\n",
              "\n",
              "        async function convertToInteractive(key) {\n",
              "          const element = document.querySelector('#df-9fae71a8-1911-471f-8dd8-94f86d2f5004');\n",
              "          const dataTable =\n",
              "            await google.colab.kernel.invokeFunction('convertToInteractive',\n",
              "                                                     [key], {});\n",
              "          if (!dataTable) return;\n",
              "\n",
              "          const docLinkHtml = 'Like what you see? Visit the ' +\n",
              "            '<a target=\"_blank\" href=https://colab.research.google.com/notebooks/data_table.ipynb>data table notebook</a>'\n",
              "            + ' to learn more about interactive tables.';\n",
              "          element.innerHTML = '';\n",
              "          dataTable['output_type'] = 'display_data';\n",
              "          await google.colab.output.renderOutput(dataTable, element);\n",
              "          const docLink = document.createElement('div');\n",
              "          docLink.innerHTML = docLinkHtml;\n",
              "          element.appendChild(docLink);\n",
              "        }\n",
              "      </script>\n",
              "    </div>\n",
              "  </div>\n",
              "  "
            ]
          },
          "metadata": {},
          "execution_count": 23
        }
      ]
    },
    {
      "cell_type": "code",
      "source": [
        "# Apply the queries in Arr3 to filter the rows of the dataframe\n",
        "for i, query_str in enumerate(Arr3):\n",
        "    \n",
        "    if query_str is True:\n",
        "        if type(Arr2[i]) == str:\n",
        "            if '+' in Arr2[i]:\n",
        "                df[Arr1[i]] = df[Arr2[i].split('+')].apply(lambda x: x.sum(), axis=1)\n",
        "                print('*** First if', Arr2[i], Arr1[i], Arr3[i], i)\n",
        "\n",
        "            else:\n",
        "                df[Arr1[i]] = df[[Arr2[i]]].apply(lambda x: x, axis=1)\n",
        "                print('*** First else', Arr2[i], Arr1[i], Arr3[i], i)\n",
        "        # if type(Arr3[i]):\n",
        "        #     print('^^^ Second if', Arr2[i], Arr1[i], Arr3[i], i)\n",
        "        #     df.loc[df_query.index, Arr1[i]] = Arr2[i]\n",
        "    \n",
        "    else:\n",
        "        # try:\n",
        "        # query_str = re.sub(r'0?\\s?(\\d+)', r'\\1', query_str)\n",
        "        print(query_str)\n",
        "        df_query = df.query(query_str)\n",
        "        # except:\n",
        "        #     pass\n",
        "\n",
        "        if type(Arr2[i]) == float:\n",
        "            df.loc[df_query.index, Arr1[i]] = Arr2[i]\n",
        "            # print('### Third if', Arr2[i], Arr1[i], Arr3[i])\n",
        "        else:\n",
        "            df.loc[df_query.index, Arr1[i]] = Arr2[i]\n",
        "            # print('@@@ First else', Arr2[i], Arr1[i], Arr3[i])\n",
        "\n",
        "\n",
        "        if type(Arr2[i]) == str:\n",
        "            if Arr2[i] in list(df.columns):\n",
        "                df[Arr1[i]] = df[[Arr2[i]]].apply(lambda x: x, axis=1)\n",
        "                # print('$$$ Fourth if', Arr2[i], Arr1[i], Arr3[i])\n",
        "\n",
        "# print(df)"
      ],
      "metadata": {
        "id": "0VEa4lv267ep",
        "colab": {
          "base_uri": "https://localhost:8080/"
        },
        "outputId": "3b37c36f-a2df-4502-94b2-79268c763ae5"
      },
      "execution_count": 24,
      "outputs": [
        {
          "output_type": "stream",
          "name": "stdout",
          "text": [
            "ST.isin([10,19,20,21])\n",
            "ST.isin([11,12,13,14,15,16,17,18])\n",
            "~(ST.isin([10,19,20,21])) & ~(ST.isin([11,12,13,14,15,16,17,18]))\n",
            "CWS.isin([11,12,21,31,41,51,61,61,71,72])\n",
            "~CWS.isin([11,12,21,31,41,51,61,61,71,72])\n",
            "CWS.isin([11,12,21,31,41,51,61,61,71,72,81])\n",
            "~(CWS.isin([11,12,21,31,41,51,61,61,71,72,81]))\n"
          ]
        }
      ]
    },
    {
      "cell_type": "code",
      "source": [],
      "metadata": {
        "id": "nRAjp3gWIWfh"
      },
      "execution_count": 24,
      "outputs": []
    },
    {
      "cell_type": "code",
      "source": [
        "# # Apply the queries in Arr3 to filter the rows of the dataframe\n",
        "# for i, query_str in enumerate(Arr3):\n",
        "    \n",
        "#     if query_str is True:\n",
        "#         print(query_str)\n",
        "\n",
        "#         try:\n",
        "#             query_str = re.sub(r'(?<=\\d)\\s+(?=\\d)', '', query_str)\n",
        "#             df_query = df.query(query_str)\n",
        "#         except:\n",
        "#             pass\n",
        "\n",
        "#         if type(Arr2[i]) == str:\n",
        "#             if '+' in Arr2[i]:\n",
        "#                 df[Arr1[i]] = df[Arr2[i].split('+')].apply(lambda x: x.sum(), axis=1)\n",
        "#                 print('*** First if', Arr2[i], Arr1[i], Arr3[i], i)\n",
        "\n",
        "#             if True:\n",
        "#                 # try:\n",
        "#                 query_str = re.sub(r'(?<=\\d)\\s+(?=\\d)', '', query_str)\n",
        "#                 df_query = df.query(query_str)\n",
        "#                 # except:\n",
        "#                 #     pass\n",
        "#                 df[Arr1[i]] = df[[Arr2[i]]].apply(lambda x: x, axis=1)\n",
        "#                 print('*** First else', Arr2[i], Arr1[i], Arr3[i], i)\n",
        "\n",
        "#         else:\n",
        "#             df.loc[df_query.index, Arr1[i]] = Arr2[i]\n",
        "#             print('*** 2nd else', Arr2[i], Arr1[i], Arr3[i], i)\n",
        "    \n",
        "#     else:\n",
        "#         query_str = re.sub(r'(?<=\\d)\\s+(?=\\d)', '', query_str)\n",
        "#         # try:\n",
        "#         df_query = df.query(query_str)\n",
        "#         # except:\n",
        "#         #     pass\n",
        "\n",
        "#         if type(Arr2[i]) == float:\n",
        "#             df.loc[df_query.index, Arr1[i]] = Arr2[i]\n",
        "#             # print('### 2nd if', Arr2[i], Arr1[i], Arr3[i])\n",
        "#         else:\n",
        "#             df.loc[df_query.index, Arr1[i]] = Arr2[i]\n",
        "#             print('@@@ 3rd else', Arr2[i], Arr1[i], Arr3[i])\n",
        "\n",
        "\n",
        "#         if type(Arr2[i]) == str:\n",
        "#             if Arr2[i] in list(df.columns):\n",
        "#                 df[Arr1[i]] = df[[Arr2[i]]].apply(lambda x: x, axis=1)\n",
        "#                 print('$$$ 3rd if', Arr2[i], Arr1[i], Arr3[i])\n",
        "\n",
        "# # print(df)"
      ],
      "metadata": {
        "id": "9Ymd7BTvha86"
      },
      "execution_count": 25,
      "outputs": []
    },
    {
      "cell_type": "code",
      "source": [
        "df[['LF']].value_counts()"
      ],
      "metadata": {
        "colab": {
          "base_uri": "https://localhost:8080/"
        },
        "id": "I_UBlt_QSS0f",
        "outputId": "e5c0b00d-7a6b-44b2-8f0f-9e7c421cfd7b"
      },
      "execution_count": 26,
      "outputs": [
        {
          "output_type": "execute_result",
          "data": {
            "text/plain": [
              "LF\n",
              "0     44608\n",
              "1     39193\n",
              "dtype: int64"
            ]
          },
          "metadata": {},
          "execution_count": 26
        }
      ]
    },
    {
      "cell_type": "code",
      "source": [
        "# ### Decide the type of the Variables\n",
        "# ### --------------------------------\n",
        "    \n",
        "# def GROUP_Decide_Type(data):\n",
        "#     for key, value in data.items():    \n",
        "#         if str('GROUP').lower() in str(key).lower():\n",
        "#             value_name = [s.split()[0] for s in value]\n",
        "#             value_type = [s.split()[1] for s in value]\n",
        "#             return {k:v for k, v in zip(value_name, value_type)}\n",
        "\n",
        "\n",
        "# def VARIABLE_Decide_Type(data):\n",
        "#     for key, value in data.items():    \n",
        "#         if str('VARIABLE').lower() in str(key).lower():\n",
        "#             value_name = [s.split()[0] for s in value]\n",
        "#             value_type = [s.split()[1] for s in value]\n",
        "\n",
        "#             return {k:v for k, v in zip(value_name, value_type)}\n",
        "\n",
        "\n",
        "# def RENAME_Decide_Type(data):\n",
        "#     for key, value in data.items():    \n",
        "#         if str('RENAME').lower() in str(key).lower():\n",
        "#             value_name = [s.split()[0] for s in value]\n",
        "#             value_type = [s.split()[1] for s in value]\n",
        "\n",
        "#             return {k:v for k, v in zip(value_name, value_type)}\n",
        "\n",
        "# decide_group = GROUP_Decide_Type(data)\n",
        "# decide_var = VARIABLE_Decide_Type(data)\n",
        "# decide_rename = RENAME_Decide_Type(data)\n",
        "\n",
        "\n",
        "# for k, v in decide_group.items():\n",
        "#     if v == 'N':\n",
        "#         print(v)\n",
        "#         df[k] = pd.to_numeric(df[k])\n",
        "    \n",
        "#     if v == 'C' or 'c':\n",
        "#         df[k] = df[k].astype(str)\n",
        "\n",
        "# for i, j in decide_var.items():\n",
        "#     if j == 'N' or 'n':\n",
        "#         df[i] = pd.to_numeric(df[i])\n",
        "    \n",
        "#     if j == 'C' or 'c':\n",
        "#         df[i] = df[i].astype(str)\n",
        "\n",
        "# for m, n in decide_rename.items():\n",
        "#     if n is 'N' or 'n':\n",
        "#         df[m] = pd.to_numeric(df[m])\n",
        "    \n",
        "#     if n is 'C' or 'c':\n",
        "#         df[m] = df[m].astype(str)"
      ],
      "metadata": {
        "id": "mckCl-hXyex3"
      },
      "execution_count": 27,
      "outputs": []
    },
    {
      "cell_type": "code",
      "source": [
        "df.to_csv('WorkFile_Balanced_Half_Sample_Method_Example1.csv')"
      ],
      "metadata": {
        "id": "4wqjFwT1DjuX"
      },
      "execution_count": 28,
      "outputs": []
    },
    {
      "cell_type": "markdown",
      "source": [],
      "metadata": {
        "id": "Iuk_3yl_Nu5A"
      }
    },
    {
      "cell_type": "code",
      "source": [],
      "metadata": {
        "id": "iqbErrIfg852"
      },
      "execution_count": 28,
      "outputs": []
    },
    {
      "cell_type": "code",
      "source": [
        "df.columns"
      ],
      "metadata": {
        "id": "UezoawpS4vn4",
        "colab": {
          "base_uri": "https://localhost:8080/"
        },
        "outputId": "044bb8ac-6d40-464d-93a7-d23a6fc21303"
      },
      "execution_count": 29,
      "outputs": [
        {
          "output_type": "execute_result",
          "data": {
            "text/plain": [
              "Index(['SEC', 'ST', 'FSU', 'IDNO', 'SEG', 'SSS', 'SSU', 'STRM', 'SSTRM', 'SS',\n",
              "       'NSS', 'NSC', 'MULT', 'HH_SIZE', 'HHTYPE', 'RELG', 'SG', 'MHCE',\n",
              "       'DC_ALL', 'DC_ST', 'SRL', 'REL', 'SEX', 'MSEX', 'AGE', 'MARST', 'GEDU',\n",
              "       'PAS', 'PS_SS', 'CWS', 'ERN_SELF', 'ERN_REG', 'ST_GR', 'STRMID', 'POP',\n",
              "       'LF', 'WRK'],\n",
              "      dtype='object')"
            ]
          },
          "metadata": {},
          "execution_count": 29
        }
      ]
    },
    {
      "cell_type": "code",
      "source": [
        "df['SEC'].unique()"
      ],
      "metadata": {
        "id": "zXY5TUr4rJsH",
        "colab": {
          "base_uri": "https://localhost:8080/"
        },
        "outputId": "b98baba2-bc45-4767-d49a-4d8f1e32e326"
      },
      "execution_count": 30,
      "outputs": [
        {
          "output_type": "execute_result",
          "data": {
            "text/plain": [
              "array([1, 2])"
            ]
          },
          "metadata": {},
          "execution_count": 30
        }
      ]
    },
    {
      "cell_type": "code",
      "source": [],
      "metadata": {
        "id": "PW7_Ab1ETtzt"
      },
      "execution_count": 30,
      "outputs": []
    },
    {
      "cell_type": "markdown",
      "source": [
        "**STEP 1**"
      ],
      "metadata": {
        "id": "OS08Y3aCseyh"
      }
    },
    {
      "cell_type": "code",
      "source": [
        "# # Read the data from the CSV file\n",
        "# df = pd.read_csv('Work_File1A.csv')\n",
        "\n",
        "# Get the current column names\n",
        "old_col_names = df.columns.tolist()\n",
        "\n",
        "# Create a dictionary with the new column names\n",
        "new_col_names = {col: col.strip() for col in old_col_names}\n",
        "\n",
        "# Rename the columns using the dictionary\n",
        "df.rename(columns=new_col_names, inplace=True)\n",
        "\n",
        "df['MULT'] = pd.to_numeric(df['MULT'])\n",
        "\n",
        "# Calculate the SS_MULT and CMULT fields\n",
        "df['SS_MULT'] = df['MULT'] / 100\n",
        "df['CMULT'] = df.apply(lambda row: row['MULT'] / 200 if row['NSC'] > row['NSS'] else row['MULT'] / 100, axis=1)\n",
        "\n",
        "lst_df = list(df.columns)\n",
        "\n",
        "groupby_cols = GROUP_(data, df)\n",
        "\n",
        "# Create a list of all possible subsets of groupby_cols\n",
        "groupby_cols_subsets = [list(subset) for i in range(len(groupby_cols) + 1)\n",
        "                        for subset in itertools.combinations(groupby_cols, i)]\n",
        "\n",
        "# Select columns that are not in groupby_cols\n",
        "cols = [col for col in df.columns if col in groupby_cols]\n",
        "\n",
        "agg_dict = {col: sum for col in cols if (df[col].dtype == int or df[col].dtype == float) and col in groupby_cols}\n",
        "\n",
        "\n",
        "\n",
        "\n",
        "\n",
        "################\n",
        "Arr_W1 = []\n",
        "\n",
        "\n",
        "### Loop over each subset of columns and perform the aggregation\n",
        "### ------------------------------------------------------------\n",
        "for i in range(len(groupby_cols_subsets)):\n",
        "\n",
        "    print(groupby_cols_subsets[i])\n",
        "\n",
        "    # Define the prefix to use for the new columns\n",
        "    prefix = 'Z'\n",
        "\n",
        "    ## For All Combinations\n",
        "    if i == 0:\n",
        "\n",
        "        # # If empty list is selected, perform aggregation without grouping\n",
        "        # w1 = df.agg(agg_dict).to_frame().T\n",
        "\n",
        "        # print(new_df)\n",
        "\n",
        "        test_lst = groupby_cols\n",
        "\n",
        "        df['POP'] = pd.to_numeric(df['POP']) * df['CMULT']\n",
        "        df['LF'] = pd.to_numeric(df['LF']) * df['CMULT']\n",
        "        df['WRK'] = pd.to_numeric(df['WRK']) * df['CMULT']\n",
        "        df['no_sam'] = df.shape[0]\n",
        "\n",
        "        agg_dict = {'POP': 'sum', 'LF': 'sum', 'WRK': 'sum', 'no_sam': 'size'}\n",
        "\n",
        "        # Group the data by SEC and ST_GR and calculate the aggregates\n",
        "        w1 = df.agg(agg_dict).to_frame().T\n",
        "\n",
        "        w1 = w1.rename(columns={'POP': 'pophat', 'LF': 'lfhat', 'WRK': 'wrkhat' }).reset_index()\n",
        "\n",
        "        w1['groupby_cols'] = 'All columns'\n",
        "\n",
        "        new_col_val_ = []\n",
        "\n",
        "        for i in range(len(list(set(groupby_cols_subsets[-1]) - set(w1.columns)))):\n",
        "            # Create a new column with the appropriate number of \"Z\"s and the prefix\n",
        "            new_col_val_.append(prefix * (i+1))\n",
        "\n",
        "        for i in range(len(list(set(groupby_cols_subsets[-1]) - set(w1.columns)))):\n",
        "            # Add the new column to the DataFrame\n",
        "            w1[test_lst[i]] = new_col_val_[i]\n",
        "\n",
        "        ################\n",
        "        Arr_W1.append(w1)\n",
        "        \n",
        "    else:\n",
        "        # Create a new dataframe by grouping by the selected columns and aggregating\n",
        "        # Note: here I'm just calculating the sum of columns C and D, but you can use any aggregation function\n",
        "        # new_df = df.groupby(list(groupby_cols_subset)).agg(agg_dict).reset_index()\n",
        "\n",
        "        w11 = df.groupby(groupby_cols_subsets[i]).agg(\n",
        "                                                        pophat=('POP', 'sum'),\n",
        "                                                            lfhat=('LF', 'sum'),\n",
        "                                                                wrkhat=('WRK', 'sum'),\n",
        "                                                                    no_sam= ('POP', 'size')\n",
        "                                                        ).reset_index()\n",
        "\n",
        "        print(w11)\n",
        "\n",
        "        # Rename the columns and reset the index\n",
        "        # w1 = w1.rename(columns={'POP': 'pophat', 'LF': 'lfhat', 'WRK': 'wrkhat'}).reset_index()\n",
        "\n",
        "        test_lst = groupby_cols_subsets[i]\n",
        "\n",
        "        # Add a new column to indicate which groupby columns are selected\n",
        "        w11['groupby_cols'] = ', '.join(groupby_cols_subsets[i])\n",
        "\n",
        "        new_col_val = []\n",
        "        for i in range(len(list(set(groupby_cols_subsets[-1]) - set(w11.columns)))):\n",
        "            # Create a new column with the appropriate number of \"Z\"s and the prefix\n",
        "            new_col_val.append(prefix * (i+1))\n",
        "\n",
        "        for i in range(len(list(set(groupby_cols_subsets[-1]) - set(w11.columns)))):\n",
        "            # Add the new column to the DataFrame\n",
        "            w11[list(set(groupby_cols_subsets[-1]) - set(w11.columns))[i]] = new_col_val[i]\n",
        "\n",
        "\n",
        "        Arr_W1.append(w11)\n",
        "\n",
        "        \n",
        "        print(Arr_W1)"
      ],
      "metadata": {
        "id": "FBjN92PqdCZx",
        "colab": {
          "base_uri": "https://localhost:8080/"
        },
        "outputId": "0fa331e3-5931-4d5d-f65f-eaff99ef4318"
      },
      "execution_count": 31,
      "outputs": [
        {
          "output_type": "stream",
          "name": "stdout",
          "text": [
            "[]\n",
            "['SEC']\n",
            "   SEC        pophat         lfhat        wrkhat  no_sam\n",
            "0    1  5.591594e+08  2.699406e+08  2.513465e+08   46719\n",
            "1    2  2.459235e+08  1.126721e+08  1.032697e+08   37082\n",
            "[   index        pophat         lfhat        wrkhat   no_sam groupby_cols SEC  \\\n",
            "0      0  8.050829e+08  3.826127e+08  3.546162e+08  83801.0  All columns   Z   \n",
            "\n",
            "  ST_GR  \n",
            "0    ZZ  ,    SEC        pophat         lfhat        wrkhat  no_sam groupby_cols ST_GR\n",
            "0    1  5.591594e+08  2.699406e+08  2.513465e+08   46719          SEC     Z\n",
            "1    2  2.459235e+08  1.126721e+08  1.032697e+08   37082          SEC     Z]\n",
            "['ST_GR']\n",
            "  ST_GR        pophat         lfhat        wrkhat  no_sam\n",
            "0    G1  1.769427e+08  7.581469e+07  7.050562e+07   14365\n",
            "1    G2  2.935630e+07  1.435083e+07  1.313345e+07   11786\n",
            "2    G3  5.987839e+08  2.924472e+08  2.709771e+08   57650\n",
            "[   index        pophat         lfhat        wrkhat   no_sam groupby_cols SEC  \\\n",
            "0      0  8.050829e+08  3.826127e+08  3.546162e+08  83801.0  All columns   Z   \n",
            "\n",
            "  ST_GR  \n",
            "0    ZZ  ,    SEC        pophat         lfhat        wrkhat  no_sam groupby_cols ST_GR\n",
            "0    1  5.591594e+08  2.699406e+08  2.513465e+08   46719          SEC     Z\n",
            "1    2  2.459235e+08  1.126721e+08  1.032697e+08   37082          SEC     Z,   ST_GR        pophat         lfhat        wrkhat  no_sam groupby_cols SEC\n",
            "0    G1  1.769427e+08  7.581469e+07  7.050562e+07   14365        ST_GR   Z\n",
            "1    G2  2.935630e+07  1.435083e+07  1.313345e+07   11786        ST_GR   Z\n",
            "2    G3  5.987839e+08  2.924472e+08  2.709771e+08   57650        ST_GR   Z]\n",
            "['SEC', 'ST_GR']\n",
            "   SEC ST_GR        pophat         lfhat        wrkhat  no_sam\n",
            "0    1    G1  1.441490e+08  6.177476e+07  5.757861e+07    9158\n",
            "1    1    G2  2.483506e+07  1.227208e+07  1.126034e+07    7202\n",
            "2    1    G3  3.901753e+08  1.958938e+08  1.825075e+08   30359\n",
            "3    2    G1  3.279368e+07  1.403994e+07  1.292701e+07    5207\n",
            "4    2    G2  4.521249e+06  2.078752e+06  1.873110e+06    4584\n",
            "5    2    G3  2.086086e+08  9.655337e+07  8.846961e+07   27291\n",
            "[   index        pophat         lfhat        wrkhat   no_sam groupby_cols SEC  \\\n",
            "0      0  8.050829e+08  3.826127e+08  3.546162e+08  83801.0  All columns   Z   \n",
            "\n",
            "  ST_GR  \n",
            "0    ZZ  ,    SEC        pophat         lfhat        wrkhat  no_sam groupby_cols ST_GR\n",
            "0    1  5.591594e+08  2.699406e+08  2.513465e+08   46719          SEC     Z\n",
            "1    2  2.459235e+08  1.126721e+08  1.032697e+08   37082          SEC     Z,   ST_GR        pophat         lfhat        wrkhat  no_sam groupby_cols SEC\n",
            "0    G1  1.769427e+08  7.581469e+07  7.050562e+07   14365        ST_GR   Z\n",
            "1    G2  2.935630e+07  1.435083e+07  1.313345e+07   11786        ST_GR   Z\n",
            "2    G3  5.987839e+08  2.924472e+08  2.709771e+08   57650        ST_GR   Z,    SEC ST_GR        pophat         lfhat        wrkhat  no_sam groupby_cols\n",
            "0    1    G1  1.441490e+08  6.177476e+07  5.757861e+07    9158   SEC, ST_GR\n",
            "1    1    G2  2.483506e+07  1.227208e+07  1.126034e+07    7202   SEC, ST_GR\n",
            "2    1    G3  3.901753e+08  1.958938e+08  1.825075e+08   30359   SEC, ST_GR\n",
            "3    2    G1  3.279368e+07  1.403994e+07  1.292701e+07    5207   SEC, ST_GR\n",
            "4    2    G2  4.521249e+06  2.078752e+06  1.873110e+06    4584   SEC, ST_GR\n",
            "5    2    G3  2.086086e+08  9.655337e+07  8.846961e+07   27291   SEC, ST_GR]\n"
          ]
        }
      ]
    },
    {
      "cell_type": "code",
      "source": [
        "Arr_W1[3]"
      ],
      "metadata": {
        "colab": {
          "base_uri": "https://localhost:8080/",
          "height": 237
        },
        "id": "PQSXmznerlaY",
        "outputId": "507036b1-0ab2-47ea-a178-a2fe84219028"
      },
      "execution_count": 32,
      "outputs": [
        {
          "output_type": "execute_result",
          "data": {
            "text/plain": [
              "   SEC ST_GR        pophat         lfhat        wrkhat  no_sam groupby_cols\n",
              "0    1    G1  1.441490e+08  6.177476e+07  5.757861e+07    9158   SEC, ST_GR\n",
              "1    1    G2  2.483506e+07  1.227208e+07  1.126034e+07    7202   SEC, ST_GR\n",
              "2    1    G3  3.901753e+08  1.958938e+08  1.825075e+08   30359   SEC, ST_GR\n",
              "3    2    G1  3.279368e+07  1.403994e+07  1.292701e+07    5207   SEC, ST_GR\n",
              "4    2    G2  4.521249e+06  2.078752e+06  1.873110e+06    4584   SEC, ST_GR\n",
              "5    2    G3  2.086086e+08  9.655337e+07  8.846961e+07   27291   SEC, ST_GR"
            ],
            "text/html": [
              "\n",
              "  <div id=\"df-b1fb95e0-89b5-4ef1-9eb0-33ef591400da\">\n",
              "    <div class=\"colab-df-container\">\n",
              "      <div>\n",
              "<style scoped>\n",
              "    .dataframe tbody tr th:only-of-type {\n",
              "        vertical-align: middle;\n",
              "    }\n",
              "\n",
              "    .dataframe tbody tr th {\n",
              "        vertical-align: top;\n",
              "    }\n",
              "\n",
              "    .dataframe thead th {\n",
              "        text-align: right;\n",
              "    }\n",
              "</style>\n",
              "<table border=\"1\" class=\"dataframe\">\n",
              "  <thead>\n",
              "    <tr style=\"text-align: right;\">\n",
              "      <th></th>\n",
              "      <th>SEC</th>\n",
              "      <th>ST_GR</th>\n",
              "      <th>pophat</th>\n",
              "      <th>lfhat</th>\n",
              "      <th>wrkhat</th>\n",
              "      <th>no_sam</th>\n",
              "      <th>groupby_cols</th>\n",
              "    </tr>\n",
              "  </thead>\n",
              "  <tbody>\n",
              "    <tr>\n",
              "      <th>0</th>\n",
              "      <td>1</td>\n",
              "      <td>G1</td>\n",
              "      <td>1.441490e+08</td>\n",
              "      <td>6.177476e+07</td>\n",
              "      <td>5.757861e+07</td>\n",
              "      <td>9158</td>\n",
              "      <td>SEC, ST_GR</td>\n",
              "    </tr>\n",
              "    <tr>\n",
              "      <th>1</th>\n",
              "      <td>1</td>\n",
              "      <td>G2</td>\n",
              "      <td>2.483506e+07</td>\n",
              "      <td>1.227208e+07</td>\n",
              "      <td>1.126034e+07</td>\n",
              "      <td>7202</td>\n",
              "      <td>SEC, ST_GR</td>\n",
              "    </tr>\n",
              "    <tr>\n",
              "      <th>2</th>\n",
              "      <td>1</td>\n",
              "      <td>G3</td>\n",
              "      <td>3.901753e+08</td>\n",
              "      <td>1.958938e+08</td>\n",
              "      <td>1.825075e+08</td>\n",
              "      <td>30359</td>\n",
              "      <td>SEC, ST_GR</td>\n",
              "    </tr>\n",
              "    <tr>\n",
              "      <th>3</th>\n",
              "      <td>2</td>\n",
              "      <td>G1</td>\n",
              "      <td>3.279368e+07</td>\n",
              "      <td>1.403994e+07</td>\n",
              "      <td>1.292701e+07</td>\n",
              "      <td>5207</td>\n",
              "      <td>SEC, ST_GR</td>\n",
              "    </tr>\n",
              "    <tr>\n",
              "      <th>4</th>\n",
              "      <td>2</td>\n",
              "      <td>G2</td>\n",
              "      <td>4.521249e+06</td>\n",
              "      <td>2.078752e+06</td>\n",
              "      <td>1.873110e+06</td>\n",
              "      <td>4584</td>\n",
              "      <td>SEC, ST_GR</td>\n",
              "    </tr>\n",
              "    <tr>\n",
              "      <th>5</th>\n",
              "      <td>2</td>\n",
              "      <td>G3</td>\n",
              "      <td>2.086086e+08</td>\n",
              "      <td>9.655337e+07</td>\n",
              "      <td>8.846961e+07</td>\n",
              "      <td>27291</td>\n",
              "      <td>SEC, ST_GR</td>\n",
              "    </tr>\n",
              "  </tbody>\n",
              "</table>\n",
              "</div>\n",
              "      <button class=\"colab-df-convert\" onclick=\"convertToInteractive('df-b1fb95e0-89b5-4ef1-9eb0-33ef591400da')\"\n",
              "              title=\"Convert this dataframe to an interactive table.\"\n",
              "              style=\"display:none;\">\n",
              "        \n",
              "  <svg xmlns=\"http://www.w3.org/2000/svg\" height=\"24px\"viewBox=\"0 0 24 24\"\n",
              "       width=\"24px\">\n",
              "    <path d=\"M0 0h24v24H0V0z\" fill=\"none\"/>\n",
              "    <path d=\"M18.56 5.44l.94 2.06.94-2.06 2.06-.94-2.06-.94-.94-2.06-.94 2.06-2.06.94zm-11 1L8.5 8.5l.94-2.06 2.06-.94-2.06-.94L8.5 2.5l-.94 2.06-2.06.94zm10 10l.94 2.06.94-2.06 2.06-.94-2.06-.94-.94-2.06-.94 2.06-2.06.94z\"/><path d=\"M17.41 7.96l-1.37-1.37c-.4-.4-.92-.59-1.43-.59-.52 0-1.04.2-1.43.59L10.3 9.45l-7.72 7.72c-.78.78-.78 2.05 0 2.83L4 21.41c.39.39.9.59 1.41.59.51 0 1.02-.2 1.41-.59l7.78-7.78 2.81-2.81c.8-.78.8-2.07 0-2.86zM5.41 20L4 18.59l7.72-7.72 1.47 1.35L5.41 20z\"/>\n",
              "  </svg>\n",
              "      </button>\n",
              "      \n",
              "  <style>\n",
              "    .colab-df-container {\n",
              "      display:flex;\n",
              "      flex-wrap:wrap;\n",
              "      gap: 12px;\n",
              "    }\n",
              "\n",
              "    .colab-df-convert {\n",
              "      background-color: #E8F0FE;\n",
              "      border: none;\n",
              "      border-radius: 50%;\n",
              "      cursor: pointer;\n",
              "      display: none;\n",
              "      fill: #1967D2;\n",
              "      height: 32px;\n",
              "      padding: 0 0 0 0;\n",
              "      width: 32px;\n",
              "    }\n",
              "\n",
              "    .colab-df-convert:hover {\n",
              "      background-color: #E2EBFA;\n",
              "      box-shadow: 0px 1px 2px rgba(60, 64, 67, 0.3), 0px 1px 3px 1px rgba(60, 64, 67, 0.15);\n",
              "      fill: #174EA6;\n",
              "    }\n",
              "\n",
              "    [theme=dark] .colab-df-convert {\n",
              "      background-color: #3B4455;\n",
              "      fill: #D2E3FC;\n",
              "    }\n",
              "\n",
              "    [theme=dark] .colab-df-convert:hover {\n",
              "      background-color: #434B5C;\n",
              "      box-shadow: 0px 1px 3px 1px rgba(0, 0, 0, 0.15);\n",
              "      filter: drop-shadow(0px 1px 2px rgba(0, 0, 0, 0.3));\n",
              "      fill: #FFFFFF;\n",
              "    }\n",
              "  </style>\n",
              "\n",
              "      <script>\n",
              "        const buttonEl =\n",
              "          document.querySelector('#df-b1fb95e0-89b5-4ef1-9eb0-33ef591400da button.colab-df-convert');\n",
              "        buttonEl.style.display =\n",
              "          google.colab.kernel.accessAllowed ? 'block' : 'none';\n",
              "\n",
              "        async function convertToInteractive(key) {\n",
              "          const element = document.querySelector('#df-b1fb95e0-89b5-4ef1-9eb0-33ef591400da');\n",
              "          const dataTable =\n",
              "            await google.colab.kernel.invokeFunction('convertToInteractive',\n",
              "                                                     [key], {});\n",
              "          if (!dataTable) return;\n",
              "\n",
              "          const docLinkHtml = 'Like what you see? Visit the ' +\n",
              "            '<a target=\"_blank\" href=https://colab.research.google.com/notebooks/data_table.ipynb>data table notebook</a>'\n",
              "            + ' to learn more about interactive tables.';\n",
              "          element.innerHTML = '';\n",
              "          dataTable['output_type'] = 'display_data';\n",
              "          await google.colab.output.renderOutput(dataTable, element);\n",
              "          const docLink = document.createElement('div');\n",
              "          docLink.innerHTML = docLinkHtml;\n",
              "          element.appendChild(docLink);\n",
              "        }\n",
              "      </script>\n",
              "    </div>\n",
              "  </div>\n",
              "  "
            ]
          },
          "metadata": {},
          "execution_count": 32
        }
      ]
    },
    {
      "cell_type": "code",
      "source": [
        "Arr_W1[0]['pophat'].sum(), Arr_W1[1]['pophat'].sum(), Arr_W1[2]['pophat'].sum(), Arr_W1[3]['pophat'].sum()"
      ],
      "metadata": {
        "colab": {
          "base_uri": "https://localhost:8080/"
        },
        "id": "ec6IY3zHjl9V",
        "outputId": "489fd868-6d59-4853-a452-3ea873ae9735"
      },
      "execution_count": 33,
      "outputs": [
        {
          "output_type": "execute_result",
          "data": {
            "text/plain": [
              "(805082936.44, 805082936.44, 805082936.4399999, 805082936.44)"
            ]
          },
          "metadata": {},
          "execution_count": 33
        }
      ]
    },
    {
      "cell_type": "code",
      "source": [
        "df['CMULT'].sum()\n",
        "Arr_W1[0]"
      ],
      "metadata": {
        "id": "7OcfQmmShu-v",
        "colab": {
          "base_uri": "https://localhost:8080/",
          "height": 80
        },
        "outputId": "16f88cfd-61ce-4462-d932-e2687007b7d7"
      },
      "execution_count": 34,
      "outputs": [
        {
          "output_type": "execute_result",
          "data": {
            "text/plain": [
              "   index        pophat         lfhat        wrkhat   no_sam groupby_cols SEC  \\\n",
              "0      0  8.050829e+08  3.826127e+08  3.546162e+08  83801.0  All columns   Z   \n",
              "\n",
              "  ST_GR  \n",
              "0    ZZ  "
            ],
            "text/html": [
              "\n",
              "  <div id=\"df-59778f11-597b-4868-92bb-7b76ed62a38b\">\n",
              "    <div class=\"colab-df-container\">\n",
              "      <div>\n",
              "<style scoped>\n",
              "    .dataframe tbody tr th:only-of-type {\n",
              "        vertical-align: middle;\n",
              "    }\n",
              "\n",
              "    .dataframe tbody tr th {\n",
              "        vertical-align: top;\n",
              "    }\n",
              "\n",
              "    .dataframe thead th {\n",
              "        text-align: right;\n",
              "    }\n",
              "</style>\n",
              "<table border=\"1\" class=\"dataframe\">\n",
              "  <thead>\n",
              "    <tr style=\"text-align: right;\">\n",
              "      <th></th>\n",
              "      <th>index</th>\n",
              "      <th>pophat</th>\n",
              "      <th>lfhat</th>\n",
              "      <th>wrkhat</th>\n",
              "      <th>no_sam</th>\n",
              "      <th>groupby_cols</th>\n",
              "      <th>SEC</th>\n",
              "      <th>ST_GR</th>\n",
              "    </tr>\n",
              "  </thead>\n",
              "  <tbody>\n",
              "    <tr>\n",
              "      <th>0</th>\n",
              "      <td>0</td>\n",
              "      <td>8.050829e+08</td>\n",
              "      <td>3.826127e+08</td>\n",
              "      <td>3.546162e+08</td>\n",
              "      <td>83801.0</td>\n",
              "      <td>All columns</td>\n",
              "      <td>Z</td>\n",
              "      <td>ZZ</td>\n",
              "    </tr>\n",
              "  </tbody>\n",
              "</table>\n",
              "</div>\n",
              "      <button class=\"colab-df-convert\" onclick=\"convertToInteractive('df-59778f11-597b-4868-92bb-7b76ed62a38b')\"\n",
              "              title=\"Convert this dataframe to an interactive table.\"\n",
              "              style=\"display:none;\">\n",
              "        \n",
              "  <svg xmlns=\"http://www.w3.org/2000/svg\" height=\"24px\"viewBox=\"0 0 24 24\"\n",
              "       width=\"24px\">\n",
              "    <path d=\"M0 0h24v24H0V0z\" fill=\"none\"/>\n",
              "    <path d=\"M18.56 5.44l.94 2.06.94-2.06 2.06-.94-2.06-.94-.94-2.06-.94 2.06-2.06.94zm-11 1L8.5 8.5l.94-2.06 2.06-.94-2.06-.94L8.5 2.5l-.94 2.06-2.06.94zm10 10l.94 2.06.94-2.06 2.06-.94-2.06-.94-.94-2.06-.94 2.06-2.06.94z\"/><path d=\"M17.41 7.96l-1.37-1.37c-.4-.4-.92-.59-1.43-.59-.52 0-1.04.2-1.43.59L10.3 9.45l-7.72 7.72c-.78.78-.78 2.05 0 2.83L4 21.41c.39.39.9.59 1.41.59.51 0 1.02-.2 1.41-.59l7.78-7.78 2.81-2.81c.8-.78.8-2.07 0-2.86zM5.41 20L4 18.59l7.72-7.72 1.47 1.35L5.41 20z\"/>\n",
              "  </svg>\n",
              "      </button>\n",
              "      \n",
              "  <style>\n",
              "    .colab-df-container {\n",
              "      display:flex;\n",
              "      flex-wrap:wrap;\n",
              "      gap: 12px;\n",
              "    }\n",
              "\n",
              "    .colab-df-convert {\n",
              "      background-color: #E8F0FE;\n",
              "      border: none;\n",
              "      border-radius: 50%;\n",
              "      cursor: pointer;\n",
              "      display: none;\n",
              "      fill: #1967D2;\n",
              "      height: 32px;\n",
              "      padding: 0 0 0 0;\n",
              "      width: 32px;\n",
              "    }\n",
              "\n",
              "    .colab-df-convert:hover {\n",
              "      background-color: #E2EBFA;\n",
              "      box-shadow: 0px 1px 2px rgba(60, 64, 67, 0.3), 0px 1px 3px 1px rgba(60, 64, 67, 0.15);\n",
              "      fill: #174EA6;\n",
              "    }\n",
              "\n",
              "    [theme=dark] .colab-df-convert {\n",
              "      background-color: #3B4455;\n",
              "      fill: #D2E3FC;\n",
              "    }\n",
              "\n",
              "    [theme=dark] .colab-df-convert:hover {\n",
              "      background-color: #434B5C;\n",
              "      box-shadow: 0px 1px 3px 1px rgba(0, 0, 0, 0.15);\n",
              "      filter: drop-shadow(0px 1px 2px rgba(0, 0, 0, 0.3));\n",
              "      fill: #FFFFFF;\n",
              "    }\n",
              "  </style>\n",
              "\n",
              "      <script>\n",
              "        const buttonEl =\n",
              "          document.querySelector('#df-59778f11-597b-4868-92bb-7b76ed62a38b button.colab-df-convert');\n",
              "        buttonEl.style.display =\n",
              "          google.colab.kernel.accessAllowed ? 'block' : 'none';\n",
              "\n",
              "        async function convertToInteractive(key) {\n",
              "          const element = document.querySelector('#df-59778f11-597b-4868-92bb-7b76ed62a38b');\n",
              "          const dataTable =\n",
              "            await google.colab.kernel.invokeFunction('convertToInteractive',\n",
              "                                                     [key], {});\n",
              "          if (!dataTable) return;\n",
              "\n",
              "          const docLinkHtml = 'Like what you see? Visit the ' +\n",
              "            '<a target=\"_blank\" href=https://colab.research.google.com/notebooks/data_table.ipynb>data table notebook</a>'\n",
              "            + ' to learn more about interactive tables.';\n",
              "          element.innerHTML = '';\n",
              "          dataTable['output_type'] = 'display_data';\n",
              "          await google.colab.output.renderOutput(dataTable, element);\n",
              "          const docLink = document.createElement('div');\n",
              "          docLink.innerHTML = docLinkHtml;\n",
              "          element.appendChild(docLink);\n",
              "        }\n",
              "      </script>\n",
              "    </div>\n",
              "  </div>\n",
              "  "
            ]
          },
          "metadata": {},
          "execution_count": 34
        }
      ]
    },
    {
      "cell_type": "code",
      "source": [
        "df['SS'].unique()"
      ],
      "metadata": {
        "id": "PeSjbY4gjGgr",
        "colab": {
          "base_uri": "https://localhost:8080/"
        },
        "outputId": "b5bc8309-d92c-4dd2-fa46-184ef8142a82"
      },
      "execution_count": 35,
      "outputs": [
        {
          "output_type": "execute_result",
          "data": {
            "text/plain": [
              "array([1, 2])"
            ]
          },
          "metadata": {},
          "execution_count": 35
        }
      ]
    },
    {
      "cell_type": "markdown",
      "source": [
        "**STEP 2** IT is running slow, figure it out later...\n"
      ],
      "metadata": {
        "id": "8flHj01dsJeA"
      }
    },
    {
      "cell_type": "code",
      "source": [
        "# Filter dataframe to include only rows where SS is 1 or 2\n",
        "df = df.query(\"SS in [1, 2]\")\n",
        "# print(f\"Number of rows after filtering: {len(df)}\")\n",
        "\n",
        "Arr_W2 = []\n",
        "\n",
        "### Loop over subset of columns to perform aggregation\n",
        "for i in range(len(groupby_cols_subsets)):\n",
        "\n",
        "    new_groupby_cols_subset = ['STRMID']\n",
        "\n",
        "    # Define the prefix to use for the new columns\n",
        "    prefix = 'Z'\n",
        "\n",
        "    if i == 0:\n",
        "\n",
        "        df['popstr'] = pd.to_numeric(df['POP']) * df['CMULT']\n",
        "        df['s1pop'] = np.where(df['SS'] == 1, pd.to_numeric(df['POP']) * df['SS_MULT'], 0)\n",
        "        df['s2pop'] = np.where(df['SS'] == 2, pd.to_numeric(df['POP']) * df['SS_MULT'], 0)\n",
        "        df['lfstr'] = pd.to_numeric(df['LF']) * df['CMULT']\n",
        "        df['s1lf'] = np.where(df['SS'] == 1, pd.to_numeric(df['LF']) * df['SS_MULT'], 0)\n",
        "        df['s2lf'] = np.where(df['SS'] == 2, pd.to_numeric(df['LF']) * df['SS_MULT'], 0)\n",
        "        df['wrkstr'] = pd.to_numeric(df['WRK']) * df['CMULT']\n",
        "        df['s1wrk'] = np.where(df['SS'] == 1, pd.to_numeric(df['WRK']) * df['SS_MULT'], 0)\n",
        "        df['s2wrk'] = np.where(df['SS'] == 2, pd.to_numeric(df['WRK']) * df['SS_MULT'], 0)\n",
        "\n",
        "        agg_dict = {'popstr': 'sum', 's1pop': 'sum', 's2pop': 'sum', 'lfstr': 'sum', 's1lf': 'sum', \\\n",
        "                    's2lf': 'sum', 'wrkstr': 'sum', 's1wrk': 'sum', 's2wrk': 'sum'}\n",
        "\n",
        "        # # If empty list is selected, perform aggregation without grouping\n",
        "        w2 = df.agg(agg_dict).to_frame().T\n",
        "\n",
        "        w2['STRMID'] = 'ALL'\n",
        "\n",
        "        new_col_val_ = []\n",
        "\n",
        "        for i in range(len(list(set(groupby_cols) - set(w2.columns)))):\n",
        "            # Create a new column with the appropriate number of \"Z\"s and the prefix\n",
        "            new_col_val_.append(prefix * (i+1))\n",
        "\n",
        "        for i in range(len(list(set(groupby_cols) - set(w2.columns)))):\n",
        "            # Add the new column to the DataFrame\n",
        "            w2[groupby_cols[i]] = new_col_val_[i]\n",
        "\n",
        "        Arr_W2.append(w2)\n",
        "\n",
        "        continue\n",
        "\n",
        "    print(groupby_cols_subsets[i])\n",
        "\n",
        "    new_groupby_cols_subset.extend(groupby_cols_subsets[i])\n",
        "\n",
        "    print(new_groupby_cols_subset)\n",
        "\n",
        "    w2 = df.groupby(groupby_cols_subsets[i]).agg(\n",
        "            popstr=('POP', lambda x: np.sum(x * df['CMULT'])),\n",
        "            s1pop=('POP', lambda x: np.nansum(np.where(df['SS'] == 1, x * df['SS_MULT'], 0))),\n",
        "                s2pop=('POP', lambda x: np.nansum(np.where(df['SS'] == 2, x * df['SS_MULT'], 0))),\n",
        "                lfstr=('LF', lambda x: np.nansum(x * df['CMULT'])),\n",
        "                    s1lf=('LF', lambda x: np.nansum(np.where(df['SS'] == 1, x * df['SS_MULT'], 0))),\n",
        "                    s2lf=('LF', lambda x: np.nansum(np.where(df['SS'] == 2, x * df['SS_MULT'], 0))),\n",
        "                        wrkstr=('WRK', lambda x: np.nansum(x * df['CMULT'])),\n",
        "                        s1wrk=('WRK', lambda x: np.nansum(np.where(df['SS'] == 1, x * df['SS_MULT'], 0))),\n",
        "                        s2wrk=('WRK', lambda x: np.nansum(np.where(df['SS'] == 2, x * df['SS_MULT'], 0)))\n",
        "                            ).reset_index()\n",
        "\n",
        "    new_col_val = []\n",
        "    for i in range(len(list(set(groupby_cols_subsets[-1]) - set(w2.columns)))):\n",
        "        # Create a new column with the appropriate number of \"Z\"s and the prefix\n",
        "        new_col_val.append(prefix * (i+1))\n",
        "\n",
        "    for i in range(len(list(set(groupby_cols_subsets[-1]) - set(w2.columns)))):\n",
        "        # Add the new column to the DataFrame\n",
        "        w2[list(set(groupby_cols_subsets[-1]) - set(w2.columns))[i]] = new_col_val[i]\n",
        "\n",
        "    Arr_W2.append(w2)"
      ],
      "metadata": {
        "id": "KN_zT5h1i4eC",
        "colab": {
          "base_uri": "https://localhost:8080/"
        },
        "outputId": "9b27fec8-8da6-4e64-ac02-3a89be6afa64"
      },
      "execution_count": 36,
      "outputs": [
        {
          "output_type": "stream",
          "name": "stdout",
          "text": [
            "['SEC']\n",
            "['STRMID', 'SEC']\n",
            "['ST_GR']\n",
            "['STRMID', 'ST_GR']\n",
            "['SEC', 'ST_GR']\n",
            "['STRMID', 'SEC', 'ST_GR']\n"
          ]
        }
      ]
    },
    {
      "cell_type": "code",
      "source": [
        "Arr_W2[0], Arr_W1[0]"
      ],
      "metadata": {
        "colab": {
          "base_uri": "https://localhost:8080/"
        },
        "id": "QqDwNbvYxDm_",
        "outputId": "43315262-cc10-4a44-8d5b-d167924a7014"
      },
      "execution_count": 37,
      "outputs": [
        {
          "output_type": "execute_result",
          "data": {
            "text/plain": [
              "(         popstr         s1pop         s2pop         lfstr          s1lf  \\\n",
              " 0  2.325014e+13  2.302328e+13  2.337018e+13  1.122140e+13  1.114522e+13   \n",
              " \n",
              "            s2lf        wrkstr         s1wrk         s2wrk STRMID SEC ST_GR  \n",
              " 0  1.122295e+13  1.041509e+13  1.040060e+13  1.036422e+13    ALL   Z    ZZ  ,\n",
              "    index        pophat         lfhat        wrkhat   no_sam groupby_cols SEC  \\\n",
              " 0      0  8.050829e+08  3.826127e+08  3.546162e+08  83801.0  All columns   Z   \n",
              " \n",
              "   ST_GR  \n",
              " 0    ZZ  )"
            ]
          },
          "metadata": {},
          "execution_count": 37
        }
      ]
    },
    {
      "cell_type": "code",
      "source": [
        "Arr_W2[1]['popstr'].sum(), Arr_W2[0]['popstr'].sum(), Arr_W2[2]['popstr'].sum(), Arr_W2[3]['popstr'].sum()\n",
        "\n",
        "# for i in Arr_W1:\n",
        "#     print(i.columns)"
      ],
      "metadata": {
        "id": "rEtzMLU31Klt",
        "colab": {
          "base_uri": "https://localhost:8080/"
        },
        "outputId": "0f6d0432-d5e5-4812-c066-d04fe18949b8"
      },
      "execution_count": 38,
      "outputs": [
        {
          "output_type": "execute_result",
          "data": {
            "text/plain": [
              "(23250139060018.977,\n",
              " 23250139060018.977,\n",
              " 23250139060018.973,\n",
              " 23250139060018.973)"
            ]
          },
          "metadata": {},
          "execution_count": 38
        }
      ]
    },
    {
      "cell_type": "code",
      "source": [
        "Arr_W3 = []\n",
        "\n",
        "# Define the prefix to use for the new columns\n",
        "prefix = 'Z'\n",
        "\n",
        "### Loop over subset of columns to perform aggregation\n",
        "for i in range(len(Arr_W2)):\n",
        "\n",
        "    # Define the prefix to use for the new columns\n",
        "    prefix = 'Z'\n",
        "\n",
        "    # Join w2 and w1 on SEC and ST_GR columns\n",
        "    # w3 = Arr_W2[i].merge(Arr_W1[i], on=['SEC', 'AGE_GR'])\n",
        "    w3 = pd.concat([Arr_W2[i], Arr_W1[i]], axis=1)\n",
        "\n",
        "    # if i==0:\n",
        "    #     w3['no_sam'] = df.shape[0]\n",
        "    # elif i>0:\n",
        "    #     w3['no_sam'] = df.shape[0]\n",
        "    \n",
        "    # Add new columns to w3\n",
        "    w3['r1hat'] = w3['lfhat'] / w3['pophat']\n",
        "    w3['r2hat'] = w3['wrkhat'] / w3['pophat']\n",
        "\n",
        "    # Equate s1pop and s2pop\n",
        "    w3.loc[w3['popstr'] == w3['s1pop'], 's1pop'] = w3.loc[w3['popstr'] == w3['s1pop'], 's2pop']\n",
        "    w3.loc[w3['popstr'] == w3['s2pop'], 's2pop'] = w3.loc[w3['popstr'] == w3['s2pop'], 's1pop']\n",
        "\n",
        "    # Equate s1lf and s2lf\n",
        "    w3.loc[w3['lfstr'] == w3['s1lf'], 's1lf'] = w3.loc[w3['lfstr'] == w3['s1lf'], 's2lf']\n",
        "    w3.loc[w3['lfstr'] == w3['s2lf'], 's2lf'] = w3.loc[w3['lfstr'] == w3['s2lf'], 's1lf']\n",
        "\n",
        "    # Equate s1wrk and s2wrk\n",
        "    w3.loc[w3['wrkstr'] == w3['s1wrk'], 's1wrk'] = w3.loc[w3['wrkstr'] == w3['s1wrk'], 's2wrk']\n",
        "    w3.loc[w3['wrkstr'] == w3['s2wrk'], 's2wrk'] = w3.loc[w3['wrkstr'] == w3['s2wrk'], 's1wrk']\n",
        "    \n",
        "    new_col_val = []\n",
        "    for i in range(len(list(set(groupby_cols_subsets[-1]) - set(w3.columns)))):\n",
        "        # Create a new column with the appropriate number of \"Z\"s and the prefix\n",
        "        new_col_val.append(prefix * (i+1))\n",
        "\n",
        "    for i in range(len(list(set(groupby_cols_subsets[-1]) - set(w3.columns)))):\n",
        "        # Add the new column to the DataFrame\n",
        "        w3[list(set(groupby_cols_subsets[-1]) - set(w3.columns))[i]] = new_col_val[i]\n",
        "\n",
        "    Arr_W3.append(w3)\n",
        "\n",
        "\n"
      ],
      "metadata": {
        "id": "aOozfIhLjET1"
      },
      "execution_count": 39,
      "outputs": []
    },
    {
      "cell_type": "code",
      "source": [
        "Arr_W3[1]['popstr'].sum(), Arr_W3[0]['popstr'].sum(), Arr_W3[2]['popstr'].sum(), Arr_W3[3]['popstr'].sum()"
      ],
      "metadata": {
        "colab": {
          "base_uri": "https://localhost:8080/"
        },
        "id": "P7Gno6olIXd1",
        "outputId": "09aeb37c-626e-4061-cb7e-5f4b662df75b"
      },
      "execution_count": 40,
      "outputs": [
        {
          "output_type": "execute_result",
          "data": {
            "text/plain": [
              "(23250139060018.977,\n",
              " 23250139060018.977,\n",
              " 23250139060018.973,\n",
              " 23250139060018.973)"
            ]
          },
          "metadata": {},
          "execution_count": 40
        }
      ]
    },
    {
      "cell_type": "code",
      "source": [],
      "metadata": {
        "id": "rJnTWLAHwTsB"
      },
      "execution_count": 40,
      "outputs": []
    },
    {
      "cell_type": "code",
      "source": [
        "Arr_W3[1]"
      ],
      "metadata": {
        "id": "Myt7II06w6Gg",
        "colab": {
          "base_uri": "https://localhost:8080/",
          "height": 176
        },
        "outputId": "fee7b6fb-6217-4a33-9d21-9023ace74384"
      },
      "execution_count": 41,
      "outputs": [
        {
          "output_type": "execute_result",
          "data": {
            "text/plain": [
              "   SEC        popstr         s1pop         s2pop         lfstr          s1lf  \\\n",
              "0    1  1.962086e+13  1.963379e+13  1.950255e+13  9.538981e+12  9.582669e+12   \n",
              "1    2  3.629275e+12  3.389497e+12  3.867630e+12  1.682414e+12  1.562547e+12   \n",
              "\n",
              "           s2lf        wrkstr         s1wrk         s2wrk ST_GR  SEC  \\\n",
              "0  9.421381e+12  8.853905e+12  8.956921e+12  8.686241e+12     Z    1   \n",
              "1  1.801572e+12  1.561183e+12  1.443676e+12  1.677981e+12     Z    2   \n",
              "\n",
              "         pophat         lfhat        wrkhat  no_sam groupby_cols ST_GR  \\\n",
              "0  5.591594e+08  2.699406e+08  2.513465e+08   46719          SEC     Z   \n",
              "1  2.459235e+08  1.126721e+08  1.032697e+08   37082          SEC     Z   \n",
              "\n",
              "      r1hat     r2hat  \n",
              "0  0.482761  0.449508  \n",
              "1  0.458159  0.419926  "
            ],
            "text/html": [
              "\n",
              "  <div id=\"df-0cf37e63-a9de-4f18-9d91-4978ea6a4879\">\n",
              "    <div class=\"colab-df-container\">\n",
              "      <div>\n",
              "<style scoped>\n",
              "    .dataframe tbody tr th:only-of-type {\n",
              "        vertical-align: middle;\n",
              "    }\n",
              "\n",
              "    .dataframe tbody tr th {\n",
              "        vertical-align: top;\n",
              "    }\n",
              "\n",
              "    .dataframe thead th {\n",
              "        text-align: right;\n",
              "    }\n",
              "</style>\n",
              "<table border=\"1\" class=\"dataframe\">\n",
              "  <thead>\n",
              "    <tr style=\"text-align: right;\">\n",
              "      <th></th>\n",
              "      <th>SEC</th>\n",
              "      <th>popstr</th>\n",
              "      <th>s1pop</th>\n",
              "      <th>s2pop</th>\n",
              "      <th>lfstr</th>\n",
              "      <th>s1lf</th>\n",
              "      <th>s2lf</th>\n",
              "      <th>wrkstr</th>\n",
              "      <th>s1wrk</th>\n",
              "      <th>s2wrk</th>\n",
              "      <th>ST_GR</th>\n",
              "      <th>SEC</th>\n",
              "      <th>pophat</th>\n",
              "      <th>lfhat</th>\n",
              "      <th>wrkhat</th>\n",
              "      <th>no_sam</th>\n",
              "      <th>groupby_cols</th>\n",
              "      <th>ST_GR</th>\n",
              "      <th>r1hat</th>\n",
              "      <th>r2hat</th>\n",
              "    </tr>\n",
              "  </thead>\n",
              "  <tbody>\n",
              "    <tr>\n",
              "      <th>0</th>\n",
              "      <td>1</td>\n",
              "      <td>1.962086e+13</td>\n",
              "      <td>1.963379e+13</td>\n",
              "      <td>1.950255e+13</td>\n",
              "      <td>9.538981e+12</td>\n",
              "      <td>9.582669e+12</td>\n",
              "      <td>9.421381e+12</td>\n",
              "      <td>8.853905e+12</td>\n",
              "      <td>8.956921e+12</td>\n",
              "      <td>8.686241e+12</td>\n",
              "      <td>Z</td>\n",
              "      <td>1</td>\n",
              "      <td>5.591594e+08</td>\n",
              "      <td>2.699406e+08</td>\n",
              "      <td>2.513465e+08</td>\n",
              "      <td>46719</td>\n",
              "      <td>SEC</td>\n",
              "      <td>Z</td>\n",
              "      <td>0.482761</td>\n",
              "      <td>0.449508</td>\n",
              "    </tr>\n",
              "    <tr>\n",
              "      <th>1</th>\n",
              "      <td>2</td>\n",
              "      <td>3.629275e+12</td>\n",
              "      <td>3.389497e+12</td>\n",
              "      <td>3.867630e+12</td>\n",
              "      <td>1.682414e+12</td>\n",
              "      <td>1.562547e+12</td>\n",
              "      <td>1.801572e+12</td>\n",
              "      <td>1.561183e+12</td>\n",
              "      <td>1.443676e+12</td>\n",
              "      <td>1.677981e+12</td>\n",
              "      <td>Z</td>\n",
              "      <td>2</td>\n",
              "      <td>2.459235e+08</td>\n",
              "      <td>1.126721e+08</td>\n",
              "      <td>1.032697e+08</td>\n",
              "      <td>37082</td>\n",
              "      <td>SEC</td>\n",
              "      <td>Z</td>\n",
              "      <td>0.458159</td>\n",
              "      <td>0.419926</td>\n",
              "    </tr>\n",
              "  </tbody>\n",
              "</table>\n",
              "</div>\n",
              "      <button class=\"colab-df-convert\" onclick=\"convertToInteractive('df-0cf37e63-a9de-4f18-9d91-4978ea6a4879')\"\n",
              "              title=\"Convert this dataframe to an interactive table.\"\n",
              "              style=\"display:none;\">\n",
              "        \n",
              "  <svg xmlns=\"http://www.w3.org/2000/svg\" height=\"24px\"viewBox=\"0 0 24 24\"\n",
              "       width=\"24px\">\n",
              "    <path d=\"M0 0h24v24H0V0z\" fill=\"none\"/>\n",
              "    <path d=\"M18.56 5.44l.94 2.06.94-2.06 2.06-.94-2.06-.94-.94-2.06-.94 2.06-2.06.94zm-11 1L8.5 8.5l.94-2.06 2.06-.94-2.06-.94L8.5 2.5l-.94 2.06-2.06.94zm10 10l.94 2.06.94-2.06 2.06-.94-2.06-.94-.94-2.06-.94 2.06-2.06.94z\"/><path d=\"M17.41 7.96l-1.37-1.37c-.4-.4-.92-.59-1.43-.59-.52 0-1.04.2-1.43.59L10.3 9.45l-7.72 7.72c-.78.78-.78 2.05 0 2.83L4 21.41c.39.39.9.59 1.41.59.51 0 1.02-.2 1.41-.59l7.78-7.78 2.81-2.81c.8-.78.8-2.07 0-2.86zM5.41 20L4 18.59l7.72-7.72 1.47 1.35L5.41 20z\"/>\n",
              "  </svg>\n",
              "      </button>\n",
              "      \n",
              "  <style>\n",
              "    .colab-df-container {\n",
              "      display:flex;\n",
              "      flex-wrap:wrap;\n",
              "      gap: 12px;\n",
              "    }\n",
              "\n",
              "    .colab-df-convert {\n",
              "      background-color: #E8F0FE;\n",
              "      border: none;\n",
              "      border-radius: 50%;\n",
              "      cursor: pointer;\n",
              "      display: none;\n",
              "      fill: #1967D2;\n",
              "      height: 32px;\n",
              "      padding: 0 0 0 0;\n",
              "      width: 32px;\n",
              "    }\n",
              "\n",
              "    .colab-df-convert:hover {\n",
              "      background-color: #E2EBFA;\n",
              "      box-shadow: 0px 1px 2px rgba(60, 64, 67, 0.3), 0px 1px 3px 1px rgba(60, 64, 67, 0.15);\n",
              "      fill: #174EA6;\n",
              "    }\n",
              "\n",
              "    [theme=dark] .colab-df-convert {\n",
              "      background-color: #3B4455;\n",
              "      fill: #D2E3FC;\n",
              "    }\n",
              "\n",
              "    [theme=dark] .colab-df-convert:hover {\n",
              "      background-color: #434B5C;\n",
              "      box-shadow: 0px 1px 3px 1px rgba(0, 0, 0, 0.15);\n",
              "      filter: drop-shadow(0px 1px 2px rgba(0, 0, 0, 0.3));\n",
              "      fill: #FFFFFF;\n",
              "    }\n",
              "  </style>\n",
              "\n",
              "      <script>\n",
              "        const buttonEl =\n",
              "          document.querySelector('#df-0cf37e63-a9de-4f18-9d91-4978ea6a4879 button.colab-df-convert');\n",
              "        buttonEl.style.display =\n",
              "          google.colab.kernel.accessAllowed ? 'block' : 'none';\n",
              "\n",
              "        async function convertToInteractive(key) {\n",
              "          const element = document.querySelector('#df-0cf37e63-a9de-4f18-9d91-4978ea6a4879');\n",
              "          const dataTable =\n",
              "            await google.colab.kernel.invokeFunction('convertToInteractive',\n",
              "                                                     [key], {});\n",
              "          if (!dataTable) return;\n",
              "\n",
              "          const docLinkHtml = 'Like what you see? Visit the ' +\n",
              "            '<a target=\"_blank\" href=https://colab.research.google.com/notebooks/data_table.ipynb>data table notebook</a>'\n",
              "            + ' to learn more about interactive tables.';\n",
              "          element.innerHTML = '';\n",
              "          dataTable['output_type'] = 'display_data';\n",
              "          await google.colab.output.renderOutput(dataTable, element);\n",
              "          const docLink = document.createElement('div');\n",
              "          docLink.innerHTML = docLinkHtml;\n",
              "          element.appendChild(docLink);\n",
              "        }\n",
              "      </script>\n",
              "    </div>\n",
              "  </div>\n",
              "  "
            ]
          },
          "metadata": {},
          "execution_count": 41
        }
      ]
    },
    {
      "cell_type": "code",
      "source": [
        "### Drop duplicate columns\n",
        "for i in range(len(Arr_W3)):\n",
        "\n",
        "    Arr_W3[i] = Arr_W3[i].loc[:, ~Arr_W3[i].columns.duplicated()]\n",
        "\n",
        "    print(Arr_W3[i].columns)"
      ],
      "metadata": {
        "id": "l5dLy9MT5nOu",
        "colab": {
          "base_uri": "https://localhost:8080/"
        },
        "outputId": "4c03f47e-3080-4c90-8270-6d9e0a7d65a5"
      },
      "execution_count": 42,
      "outputs": [
        {
          "output_type": "stream",
          "name": "stdout",
          "text": [
            "Index(['popstr', 's1pop', 's2pop', 'lfstr', 's1lf', 's2lf', 'wrkstr', 's1wrk',\n",
            "       's2wrk', 'STRMID', 'SEC', 'ST_GR', 'index', 'pophat', 'lfhat', 'wrkhat',\n",
            "       'no_sam', 'groupby_cols', 'r1hat', 'r2hat'],\n",
            "      dtype='object')\n",
            "Index(['SEC', 'popstr', 's1pop', 's2pop', 'lfstr', 's1lf', 's2lf', 'wrkstr',\n",
            "       's1wrk', 's2wrk', 'ST_GR', 'pophat', 'lfhat', 'wrkhat', 'no_sam',\n",
            "       'groupby_cols', 'r1hat', 'r2hat'],\n",
            "      dtype='object')\n",
            "Index(['ST_GR', 'popstr', 's1pop', 's2pop', 'lfstr', 's1lf', 's2lf', 'wrkstr',\n",
            "       's1wrk', 's2wrk', 'SEC', 'pophat', 'lfhat', 'wrkhat', 'no_sam',\n",
            "       'groupby_cols', 'r1hat', 'r2hat'],\n",
            "      dtype='object')\n",
            "Index(['SEC', 'ST_GR', 'popstr', 's1pop', 's2pop', 'lfstr', 's1lf', 's2lf',\n",
            "       'wrkstr', 's1wrk', 's2wrk', 'pophat', 'lfhat', 'wrkhat', 'no_sam',\n",
            "       'groupby_cols', 'r1hat', 'r2hat'],\n",
            "      dtype='object')\n"
          ]
        }
      ]
    },
    {
      "cell_type": "code",
      "source": [
        "Arr_W3[3]['SEC'].value_counts()"
      ],
      "metadata": {
        "colab": {
          "base_uri": "https://localhost:8080/"
        },
        "id": "TGb3pY2ap7pF",
        "outputId": "b1c213ba-97d7-49c2-cefa-4d9ac8d384ef"
      },
      "execution_count": 43,
      "outputs": [
        {
          "output_type": "execute_result",
          "data": {
            "text/plain": [
              "1    3\n",
              "2    3\n",
              "Name: SEC, dtype: int64"
            ]
          },
          "metadata": {},
          "execution_count": 43
        }
      ]
    },
    {
      "cell_type": "code",
      "source": [
        "agg_dict"
      ],
      "metadata": {
        "colab": {
          "base_uri": "https://localhost:8080/"
        },
        "id": "ercfY_74MGl_",
        "outputId": "2f10566d-cfa3-40d0-8cf0-ee6036093f13"
      },
      "execution_count": 44,
      "outputs": [
        {
          "output_type": "execute_result",
          "data": {
            "text/plain": [
              "{'popstr': 'sum',\n",
              " 's1pop': 'sum',\n",
              " 's2pop': 'sum',\n",
              " 'lfstr': 'sum',\n",
              " 's1lf': 'sum',\n",
              " 's2lf': 'sum',\n",
              " 'wrkstr': 'sum',\n",
              " 's1wrk': 'sum',\n",
              " 's2wrk': 'sum'}"
            ]
          },
          "metadata": {},
          "execution_count": 44
        }
      ]
    },
    {
      "cell_type": "code",
      "source": [
        "Arr_W4 = []\n",
        "\n",
        "### Loop over subset of columns to perform aggregation\n",
        "for i in range(len(Arr_W3)):\n",
        "    mask = Arr_W3[i].columns.duplicated()\n",
        "    Arr_W3[i] = Arr_W3[i].loc[:, ~mask]\n",
        "\n",
        "    gby_list = ['no_sam', 'pophat', 'lfhat', 'wrkhat', 'r1hat', 'r2hat'] + groupby_cols\n",
        "\n",
        "    print(gby_list)\n",
        "\n",
        "    w4 = Arr_W3[i].groupby(gby_list).agg(\n",
        "\n",
        "        var_pop = ('s1pop', lambda x: np.sum((x - Arr_W3[i]['s2pop']) ** 2)),\n",
        "\n",
        "            mse_R1 = ('s1lf', lambda x: np.nansum(\n",
        "                        ((x - Arr_W3[i]['s2lf']) ** 2) +\n",
        "                            ((Arr_W3[i]['r1hat'] ** 2) * ((Arr_W3[i]['s1pop'] - Arr_W3[i]['s2pop']) ** 2) -\n",
        "                                (2 * Arr_W3[i]['r1hat'] * (x - Arr_W3[i]['s2lf']) * (Arr_W3[i]['s1pop'] - Arr_W3[i]['s2pop'])))\n",
        "                    )),\n",
        "\n",
        "                mse_R2 = ('s1wrk', lambda x: np.nansum(\n",
        "                            ((x - Arr_W3[i]['s2wrk']) ** 2) +\n",
        "                                ((Arr_W3[i]['r2hat'] ** 2) * ((Arr_W3[i]['s1pop'] - Arr_W3[i]['s2pop']) ** 2) -\n",
        "                                    (2 * Arr_W3[i]['r2hat'] * (x - Arr_W3[i]['s2wrk']) * (Arr_W3[i]['s1pop'] - Arr_W3[i]['s2pop'])))\n",
        "                        ),\n",
        "        \n",
        "    )).reset_index()\n",
        "\n",
        "    Arr_W4.append(w4)\n",
        "\n",
        "    print(Arr_W4[i])"
      ],
      "metadata": {
        "colab": {
          "base_uri": "https://localhost:8080/"
        },
        "id": "K8WIi_ReQLH2",
        "outputId": "181a4bab-e8f2-423c-a7b8-c2fff6261817"
      },
      "execution_count": 45,
      "outputs": [
        {
          "output_type": "stream",
          "name": "stdout",
          "text": [
            "['no_sam', 'pophat', 'lfhat', 'wrkhat', 'r1hat', 'r2hat', 'SEC', 'ST_GR']\n",
            "    no_sam        pophat         lfhat        wrkhat     r1hat     r2hat SEC  \\\n",
            "0  83801.0  8.050829e+08  3.826127e+08  3.546162e+08  0.475246  0.440472   Z   \n",
            "\n",
            "  ST_GR       var_pop        mse_R1        mse_R2  \n",
            "0    ZZ  1.203369e+23  7.590561e+21  3.578653e+22  \n",
            "['no_sam', 'pophat', 'lfhat', 'wrkhat', 'r1hat', 'r2hat', 'SEC', 'ST_GR']\n",
            "   no_sam        pophat         lfhat        wrkhat     r1hat     r2hat  SEC  \\\n",
            "0   37082  2.459235e+08  1.126721e+08  1.032697e+08  0.458159  0.419926    2   \n",
            "1   46719  5.591594e+08  2.699406e+08  2.513465e+08  0.482761  0.449508    1   \n",
            "\n",
            "  ST_GR       var_pop        mse_R1        mse_R2  \n",
            "0     Z  2.286106e+23  3.986052e+20  1.123872e+21  \n",
            "1     Z  1.722297e+22  9.590807e+21  4.481190e+22  \n",
            "['no_sam', 'pophat', 'lfhat', 'wrkhat', 'r1hat', 'r2hat', 'SEC', 'ST_GR']\n",
            "   no_sam        pophat         lfhat        wrkhat     r1hat     r2hat SEC  \\\n",
            "0   11786  2.935630e+07  1.435083e+07  1.313345e+07  0.488850  0.447381   Z   \n",
            "1   14365  1.769427e+08  7.581469e+07  7.050562e+07  0.428470  0.398466   Z   \n",
            "2   57650  5.987839e+08  2.924472e+08  2.709771e+08  0.488402  0.452546   Z   \n",
            "\n",
            "  ST_GR       var_pop        mse_R1        mse_R2  \n",
            "0    G2  2.425918e+20  4.953395e+18  1.494128e+20  \n",
            "1    G1  3.263689e+23  3.391843e+22  7.155878e+20  \n",
            "2    G3  8.147007e+23  9.478794e+22  5.697938e+22  \n",
            "['no_sam', 'pophat', 'lfhat', 'wrkhat', 'r1hat', 'r2hat', 'SEC', 'ST_GR']\n",
            "   no_sam        pophat         lfhat        wrkhat     r1hat     r2hat  SEC  \\\n",
            "0    4584  4.521249e+06  2.078752e+06  1.873110e+06  0.459774  0.414290    2   \n",
            "1    5207  3.279368e+07  1.403994e+07  1.292701e+07  0.428129  0.394192    2   \n",
            "2    7202  2.483506e+07  1.227208e+07  1.126034e+07  0.494143  0.453405    1   \n",
            "3    9158  1.441490e+08  6.177476e+07  5.757861e+07  0.428548  0.399438    1   \n",
            "4   27291  2.086086e+08  9.655337e+07  8.846961e+07  0.462845  0.424094    2   \n",
            "5   30359  3.901753e+08  1.958938e+08  1.825075e+08  0.502066  0.467758    1   \n",
            "\n",
            "  ST_GR       var_pop        mse_R1        mse_R2  \n",
            "0    G2  1.461030e+19  1.554283e+18  2.166305e+18  \n",
            "1    G1  5.512568e+18  8.201976e+19  5.720880e+19  \n",
            "2    G2  3.762708e+20  1.422608e+18  1.208890e+20  \n",
            "3    G1  3.290570e+23  3.068045e+22  3.902431e+20  \n",
            "4    G3  2.300227e+23  9.969445e+19  6.488456e+20  \n",
            "5    G3  1.789297e+23  9.695987e+22  6.603096e+22  \n"
          ]
        }
      ]
    },
    {
      "cell_type": "code",
      "source": [],
      "metadata": {
        "id": "eLq8LOI13IXq"
      },
      "execution_count": 45,
      "outputs": []
    },
    {
      "cell_type": "code",
      "source": [
        "Arr_W4[1]"
      ],
      "metadata": {
        "colab": {
          "base_uri": "https://localhost:8080/",
          "height": 176
        },
        "id": "dvgmnAmjvkBT",
        "outputId": "eb65ddd3-fc88-4ecc-82b0-8683481f766e"
      },
      "execution_count": 46,
      "outputs": [
        {
          "output_type": "execute_result",
          "data": {
            "text/plain": [
              "   no_sam        pophat         lfhat        wrkhat     r1hat     r2hat  SEC  \\\n",
              "0   37082  2.459235e+08  1.126721e+08  1.032697e+08  0.458159  0.419926    2   \n",
              "1   46719  5.591594e+08  2.699406e+08  2.513465e+08  0.482761  0.449508    1   \n",
              "\n",
              "  ST_GR       var_pop        mse_R1        mse_R2  \n",
              "0     Z  2.286106e+23  3.986052e+20  1.123872e+21  \n",
              "1     Z  1.722297e+22  9.590807e+21  4.481190e+22  "
            ],
            "text/html": [
              "\n",
              "  <div id=\"df-3dc9f04d-1b21-45d3-9e82-4171530c34a7\">\n",
              "    <div class=\"colab-df-container\">\n",
              "      <div>\n",
              "<style scoped>\n",
              "    .dataframe tbody tr th:only-of-type {\n",
              "        vertical-align: middle;\n",
              "    }\n",
              "\n",
              "    .dataframe tbody tr th {\n",
              "        vertical-align: top;\n",
              "    }\n",
              "\n",
              "    .dataframe thead th {\n",
              "        text-align: right;\n",
              "    }\n",
              "</style>\n",
              "<table border=\"1\" class=\"dataframe\">\n",
              "  <thead>\n",
              "    <tr style=\"text-align: right;\">\n",
              "      <th></th>\n",
              "      <th>no_sam</th>\n",
              "      <th>pophat</th>\n",
              "      <th>lfhat</th>\n",
              "      <th>wrkhat</th>\n",
              "      <th>r1hat</th>\n",
              "      <th>r2hat</th>\n",
              "      <th>SEC</th>\n",
              "      <th>ST_GR</th>\n",
              "      <th>var_pop</th>\n",
              "      <th>mse_R1</th>\n",
              "      <th>mse_R2</th>\n",
              "    </tr>\n",
              "  </thead>\n",
              "  <tbody>\n",
              "    <tr>\n",
              "      <th>0</th>\n",
              "      <td>37082</td>\n",
              "      <td>2.459235e+08</td>\n",
              "      <td>1.126721e+08</td>\n",
              "      <td>1.032697e+08</td>\n",
              "      <td>0.458159</td>\n",
              "      <td>0.419926</td>\n",
              "      <td>2</td>\n",
              "      <td>Z</td>\n",
              "      <td>2.286106e+23</td>\n",
              "      <td>3.986052e+20</td>\n",
              "      <td>1.123872e+21</td>\n",
              "    </tr>\n",
              "    <tr>\n",
              "      <th>1</th>\n",
              "      <td>46719</td>\n",
              "      <td>5.591594e+08</td>\n",
              "      <td>2.699406e+08</td>\n",
              "      <td>2.513465e+08</td>\n",
              "      <td>0.482761</td>\n",
              "      <td>0.449508</td>\n",
              "      <td>1</td>\n",
              "      <td>Z</td>\n",
              "      <td>1.722297e+22</td>\n",
              "      <td>9.590807e+21</td>\n",
              "      <td>4.481190e+22</td>\n",
              "    </tr>\n",
              "  </tbody>\n",
              "</table>\n",
              "</div>\n",
              "      <button class=\"colab-df-convert\" onclick=\"convertToInteractive('df-3dc9f04d-1b21-45d3-9e82-4171530c34a7')\"\n",
              "              title=\"Convert this dataframe to an interactive table.\"\n",
              "              style=\"display:none;\">\n",
              "        \n",
              "  <svg xmlns=\"http://www.w3.org/2000/svg\" height=\"24px\"viewBox=\"0 0 24 24\"\n",
              "       width=\"24px\">\n",
              "    <path d=\"M0 0h24v24H0V0z\" fill=\"none\"/>\n",
              "    <path d=\"M18.56 5.44l.94 2.06.94-2.06 2.06-.94-2.06-.94-.94-2.06-.94 2.06-2.06.94zm-11 1L8.5 8.5l.94-2.06 2.06-.94-2.06-.94L8.5 2.5l-.94 2.06-2.06.94zm10 10l.94 2.06.94-2.06 2.06-.94-2.06-.94-.94-2.06-.94 2.06-2.06.94z\"/><path d=\"M17.41 7.96l-1.37-1.37c-.4-.4-.92-.59-1.43-.59-.52 0-1.04.2-1.43.59L10.3 9.45l-7.72 7.72c-.78.78-.78 2.05 0 2.83L4 21.41c.39.39.9.59 1.41.59.51 0 1.02-.2 1.41-.59l7.78-7.78 2.81-2.81c.8-.78.8-2.07 0-2.86zM5.41 20L4 18.59l7.72-7.72 1.47 1.35L5.41 20z\"/>\n",
              "  </svg>\n",
              "      </button>\n",
              "      \n",
              "  <style>\n",
              "    .colab-df-container {\n",
              "      display:flex;\n",
              "      flex-wrap:wrap;\n",
              "      gap: 12px;\n",
              "    }\n",
              "\n",
              "    .colab-df-convert {\n",
              "      background-color: #E8F0FE;\n",
              "      border: none;\n",
              "      border-radius: 50%;\n",
              "      cursor: pointer;\n",
              "      display: none;\n",
              "      fill: #1967D2;\n",
              "      height: 32px;\n",
              "      padding: 0 0 0 0;\n",
              "      width: 32px;\n",
              "    }\n",
              "\n",
              "    .colab-df-convert:hover {\n",
              "      background-color: #E2EBFA;\n",
              "      box-shadow: 0px 1px 2px rgba(60, 64, 67, 0.3), 0px 1px 3px 1px rgba(60, 64, 67, 0.15);\n",
              "      fill: #174EA6;\n",
              "    }\n",
              "\n",
              "    [theme=dark] .colab-df-convert {\n",
              "      background-color: #3B4455;\n",
              "      fill: #D2E3FC;\n",
              "    }\n",
              "\n",
              "    [theme=dark] .colab-df-convert:hover {\n",
              "      background-color: #434B5C;\n",
              "      box-shadow: 0px 1px 3px 1px rgba(0, 0, 0, 0.15);\n",
              "      filter: drop-shadow(0px 1px 2px rgba(0, 0, 0, 0.3));\n",
              "      fill: #FFFFFF;\n",
              "    }\n",
              "  </style>\n",
              "\n",
              "      <script>\n",
              "        const buttonEl =\n",
              "          document.querySelector('#df-3dc9f04d-1b21-45d3-9e82-4171530c34a7 button.colab-df-convert');\n",
              "        buttonEl.style.display =\n",
              "          google.colab.kernel.accessAllowed ? 'block' : 'none';\n",
              "\n",
              "        async function convertToInteractive(key) {\n",
              "          const element = document.querySelector('#df-3dc9f04d-1b21-45d3-9e82-4171530c34a7');\n",
              "          const dataTable =\n",
              "            await google.colab.kernel.invokeFunction('convertToInteractive',\n",
              "                                                     [key], {});\n",
              "          if (!dataTable) return;\n",
              "\n",
              "          const docLinkHtml = 'Like what you see? Visit the ' +\n",
              "            '<a target=\"_blank\" href=https://colab.research.google.com/notebooks/data_table.ipynb>data table notebook</a>'\n",
              "            + ' to learn more about interactive tables.';\n",
              "          element.innerHTML = '';\n",
              "          dataTable['output_type'] = 'display_data';\n",
              "          await google.colab.output.renderOutput(dataTable, element);\n",
              "          const docLink = document.createElement('div');\n",
              "          docLink.innerHTML = docLinkHtml;\n",
              "          element.appendChild(docLink);\n",
              "        }\n",
              "      </script>\n",
              "    </div>\n",
              "  </div>\n",
              "  "
            ]
          },
          "metadata": {},
          "execution_count": 46
        }
      ]
    },
    {
      "cell_type": "code",
      "source": [
        "Arr_W4[1]['pophat'].sum(), Arr_W4[0]['pophat'].sum(), Arr_W4[2]['pophat'].sum(), Arr_W4[3]['pophat'].sum()"
      ],
      "metadata": {
        "colab": {
          "base_uri": "https://localhost:8080/"
        },
        "id": "VixhptBX3AuB",
        "outputId": "f3ed1541-869f-4c21-aaef-c4e961bd25ce"
      },
      "execution_count": 47,
      "outputs": [
        {
          "output_type": "execute_result",
          "data": {
            "text/plain": [
              "(805082936.44, 805082936.44, 805082936.4399999, 805082936.44)"
            ]
          },
          "metadata": {},
          "execution_count": 47
        }
      ]
    },
    {
      "cell_type": "code",
      "source": [],
      "metadata": {
        "id": "1PjPY9bOteFH"
      },
      "execution_count": 47,
      "outputs": []
    },
    {
      "cell_type": "code",
      "source": [
        "Arr_W5 = []\n",
        "for i in range(len(Arr_W4)):\n",
        "    # Calculate RSEs for each variable in T1\n",
        "    w5 = Arr_W4[i].assign(\n",
        "        RSE_POP=lambda x: 100 * (x['var_pop'] ** 0.5) / (2 * x['pophat']),\n",
        "        RSE_R1=lambda x: 100 * (x['mse_R1'] ** 0.5) / (2 * x['lfhat']),\n",
        "        RSE_R2=lambda x: 100 * (x['mse_R2'] ** 0.5) / (2 * x['wrkhat'])\n",
        "    )\n",
        "\n",
        "    Arr_W5.append(w5)"
      ],
      "metadata": {
        "id": "DrX5BiwtRiI9"
      },
      "execution_count": 48,
      "outputs": []
    },
    {
      "cell_type": "code",
      "source": [
        "Arr_W5[1]['pophat'].sum(), Arr_W5[0]['pophat'].sum(), Arr_W5[2]['pophat'].sum(), Arr_W5[3]['pophat'].sum()"
      ],
      "metadata": {
        "id": "UU3TQEp2UPPT",
        "colab": {
          "base_uri": "https://localhost:8080/"
        },
        "outputId": "0133ffad-d4f6-4e1f-d0a2-dba1f9d07b73"
      },
      "execution_count": 49,
      "outputs": [
        {
          "output_type": "execute_result",
          "data": {
            "text/plain": [
              "(805082936.44, 805082936.44, 805082936.4399999, 805082936.44)"
            ]
          },
          "metadata": {},
          "execution_count": 49
        }
      ]
    },
    {
      "cell_type": "code",
      "source": [
        "Arr_W5[0]"
      ],
      "metadata": {
        "colab": {
          "base_uri": "https://localhost:8080/",
          "height": 144
        },
        "id": "hnXbzCI2vSdq",
        "outputId": "eff1cd98-33b5-437a-af06-2956db6e14bf"
      },
      "execution_count": 50,
      "outputs": [
        {
          "output_type": "execute_result",
          "data": {
            "text/plain": [
              "    no_sam        pophat         lfhat        wrkhat     r1hat     r2hat SEC  \\\n",
              "0  83801.0  8.050829e+08  3.826127e+08  3.546162e+08  0.475246  0.440472   Z   \n",
              "\n",
              "  ST_GR       var_pop        mse_R1        mse_R2       RSE_POP        RSE_R1  \\\n",
              "0    ZZ  1.203369e+23  7.590561e+21  3.578653e+22  21544.118941  11385.380829   \n",
              "\n",
              "         RSE_R2  \n",
              "0  26672.963894  "
            ],
            "text/html": [
              "\n",
              "  <div id=\"df-42788e41-4f8c-4c43-81f2-4d480df461b4\">\n",
              "    <div class=\"colab-df-container\">\n",
              "      <div>\n",
              "<style scoped>\n",
              "    .dataframe tbody tr th:only-of-type {\n",
              "        vertical-align: middle;\n",
              "    }\n",
              "\n",
              "    .dataframe tbody tr th {\n",
              "        vertical-align: top;\n",
              "    }\n",
              "\n",
              "    .dataframe thead th {\n",
              "        text-align: right;\n",
              "    }\n",
              "</style>\n",
              "<table border=\"1\" class=\"dataframe\">\n",
              "  <thead>\n",
              "    <tr style=\"text-align: right;\">\n",
              "      <th></th>\n",
              "      <th>no_sam</th>\n",
              "      <th>pophat</th>\n",
              "      <th>lfhat</th>\n",
              "      <th>wrkhat</th>\n",
              "      <th>r1hat</th>\n",
              "      <th>r2hat</th>\n",
              "      <th>SEC</th>\n",
              "      <th>ST_GR</th>\n",
              "      <th>var_pop</th>\n",
              "      <th>mse_R1</th>\n",
              "      <th>mse_R2</th>\n",
              "      <th>RSE_POP</th>\n",
              "      <th>RSE_R1</th>\n",
              "      <th>RSE_R2</th>\n",
              "    </tr>\n",
              "  </thead>\n",
              "  <tbody>\n",
              "    <tr>\n",
              "      <th>0</th>\n",
              "      <td>83801.0</td>\n",
              "      <td>8.050829e+08</td>\n",
              "      <td>3.826127e+08</td>\n",
              "      <td>3.546162e+08</td>\n",
              "      <td>0.475246</td>\n",
              "      <td>0.440472</td>\n",
              "      <td>Z</td>\n",
              "      <td>ZZ</td>\n",
              "      <td>1.203369e+23</td>\n",
              "      <td>7.590561e+21</td>\n",
              "      <td>3.578653e+22</td>\n",
              "      <td>21544.118941</td>\n",
              "      <td>11385.380829</td>\n",
              "      <td>26672.963894</td>\n",
              "    </tr>\n",
              "  </tbody>\n",
              "</table>\n",
              "</div>\n",
              "      <button class=\"colab-df-convert\" onclick=\"convertToInteractive('df-42788e41-4f8c-4c43-81f2-4d480df461b4')\"\n",
              "              title=\"Convert this dataframe to an interactive table.\"\n",
              "              style=\"display:none;\">\n",
              "        \n",
              "  <svg xmlns=\"http://www.w3.org/2000/svg\" height=\"24px\"viewBox=\"0 0 24 24\"\n",
              "       width=\"24px\">\n",
              "    <path d=\"M0 0h24v24H0V0z\" fill=\"none\"/>\n",
              "    <path d=\"M18.56 5.44l.94 2.06.94-2.06 2.06-.94-2.06-.94-.94-2.06-.94 2.06-2.06.94zm-11 1L8.5 8.5l.94-2.06 2.06-.94-2.06-.94L8.5 2.5l-.94 2.06-2.06.94zm10 10l.94 2.06.94-2.06 2.06-.94-2.06-.94-.94-2.06-.94 2.06-2.06.94z\"/><path d=\"M17.41 7.96l-1.37-1.37c-.4-.4-.92-.59-1.43-.59-.52 0-1.04.2-1.43.59L10.3 9.45l-7.72 7.72c-.78.78-.78 2.05 0 2.83L4 21.41c.39.39.9.59 1.41.59.51 0 1.02-.2 1.41-.59l7.78-7.78 2.81-2.81c.8-.78.8-2.07 0-2.86zM5.41 20L4 18.59l7.72-7.72 1.47 1.35L5.41 20z\"/>\n",
              "  </svg>\n",
              "      </button>\n",
              "      \n",
              "  <style>\n",
              "    .colab-df-container {\n",
              "      display:flex;\n",
              "      flex-wrap:wrap;\n",
              "      gap: 12px;\n",
              "    }\n",
              "\n",
              "    .colab-df-convert {\n",
              "      background-color: #E8F0FE;\n",
              "      border: none;\n",
              "      border-radius: 50%;\n",
              "      cursor: pointer;\n",
              "      display: none;\n",
              "      fill: #1967D2;\n",
              "      height: 32px;\n",
              "      padding: 0 0 0 0;\n",
              "      width: 32px;\n",
              "    }\n",
              "\n",
              "    .colab-df-convert:hover {\n",
              "      background-color: #E2EBFA;\n",
              "      box-shadow: 0px 1px 2px rgba(60, 64, 67, 0.3), 0px 1px 3px 1px rgba(60, 64, 67, 0.15);\n",
              "      fill: #174EA6;\n",
              "    }\n",
              "\n",
              "    [theme=dark] .colab-df-convert {\n",
              "      background-color: #3B4455;\n",
              "      fill: #D2E3FC;\n",
              "    }\n",
              "\n",
              "    [theme=dark] .colab-df-convert:hover {\n",
              "      background-color: #434B5C;\n",
              "      box-shadow: 0px 1px 3px 1px rgba(0, 0, 0, 0.15);\n",
              "      filter: drop-shadow(0px 1px 2px rgba(0, 0, 0, 0.3));\n",
              "      fill: #FFFFFF;\n",
              "    }\n",
              "  </style>\n",
              "\n",
              "      <script>\n",
              "        const buttonEl =\n",
              "          document.querySelector('#df-42788e41-4f8c-4c43-81f2-4d480df461b4 button.colab-df-convert');\n",
              "        buttonEl.style.display =\n",
              "          google.colab.kernel.accessAllowed ? 'block' : 'none';\n",
              "\n",
              "        async function convertToInteractive(key) {\n",
              "          const element = document.querySelector('#df-42788e41-4f8c-4c43-81f2-4d480df461b4');\n",
              "          const dataTable =\n",
              "            await google.colab.kernel.invokeFunction('convertToInteractive',\n",
              "                                                     [key], {});\n",
              "          if (!dataTable) return;\n",
              "\n",
              "          const docLinkHtml = 'Like what you see? Visit the ' +\n",
              "            '<a target=\"_blank\" href=https://colab.research.google.com/notebooks/data_table.ipynb>data table notebook</a>'\n",
              "            + ' to learn more about interactive tables.';\n",
              "          element.innerHTML = '';\n",
              "          dataTable['output_type'] = 'display_data';\n",
              "          await google.colab.output.renderOutput(dataTable, element);\n",
              "          const docLink = document.createElement('div');\n",
              "          docLink.innerHTML = docLinkHtml;\n",
              "          element.appendChild(docLink);\n",
              "        }\n",
              "      </script>\n",
              "    </div>\n",
              "  </div>\n",
              "  "
            ]
          },
          "metadata": {},
          "execution_count": 50
        }
      ]
    },
    {
      "cell_type": "code",
      "source": [
        "Tables = []\n",
        "\n",
        "for i in range(len(Arr_W5)):\n",
        "    gby_list = ['no_sam', 'pophat', 'lfhat', 'wrkhat', 'r1hat', 'r2hat', 'RSE_POP', 'RSE_R1', 'RSE_R2'] + groupby_cols\n",
        "    \n",
        "    # assuming the data is loaded into a DataFrame called w5\n",
        "    T1 = Arr_W5[i][gby_list].copy()\n",
        "\n",
        "    # add empty columns for sec_desc and st_gr_desc\n",
        "    T1['sec_desc'] = ''\n",
        "    T1['st_gr_desc'] = ''\n",
        "\n",
        "    # apply formatting to columns\n",
        "    T1['R1'] = 100 * T1['r1hat']\n",
        "    T1['R2'] = 100 * T1['r2hat']\n",
        "\n",
        "    gby_list = ['sec_desc', 'st_gr_desc', 'no_sam', 'pophat','lfhat', 'wrkhat', 'RSE_POP', 'R1', 'RSE_R1', 'R2', 'RSE_R2'] + groupby_cols\n",
        "\n",
        "    # reorder columns\n",
        "    T1 = T1[gby_list]\n",
        "\n",
        "    gby_list = ['no_sam', 'pophat','lfhat', 'wrkhat', 'r1hat', 'r2hat', 'RSE_POP', 'RSE_R1', 'RSE_R2'] + groupby_cols\n",
        "\n",
        "    T1 = Arr_W5[i][gby_list].copy()\n",
        "\n",
        "    T1['sec_desc'] = ' '\n",
        "    T1['st_gr_desc'] = ' '\n",
        "\n",
        "    T1['R1'] = 100 * T1['r1hat']\n",
        "    T1['R2'] = 100 * T1['r2hat']\n",
        "\n",
        "    gby_list = ['no_sam', 'pophat','lfhat', 'wrkhat', 'RSE_POP', 'R1', 'RSE_R1', 'R2', 'RSE_R2'] + groupby_cols\n",
        "\n",
        "    T1 = T1[gby_list]\n",
        "\n",
        "    Tables.append(T1)\n",
        "    \n",
        "\n",
        "print(Tables)\n",
        "print('\\n')"
      ],
      "metadata": {
        "id": "bgkq9FL3RsR6",
        "colab": {
          "base_uri": "https://localhost:8080/"
        },
        "outputId": "cb31b2fe-7c54-4bf2-feb8-3e5e8e44cf9b"
      },
      "execution_count": 51,
      "outputs": [
        {
          "output_type": "stream",
          "name": "stdout",
          "text": [
            "[    no_sam        pophat         lfhat        wrkhat       RSE_POP         R1  \\\n",
            "0  83801.0  8.050829e+08  3.826127e+08  3.546162e+08  21544.118941  47.524631   \n",
            "\n",
            "         RSE_R1         R2        RSE_R2 SEC ST_GR  \n",
            "0  11385.380829  44.047162  26672.963894   Z    ZZ  ,    no_sam        pophat         lfhat        wrkhat       RSE_POP         R1  \\\n",
            "0   37082  2.459235e+08  1.126721e+08  1.032697e+08  97211.610553  45.815900   \n",
            "1   46719  5.591594e+08  2.699406e+08  2.513465e+08  11735.143823  48.276147   \n",
            "\n",
            "         RSE_R1         R2        RSE_R2  SEC ST_GR  \n",
            "0   8859.826839  41.992625  16231.374141    2     Z  \n",
            "1  18139.667176  44.950766  42110.843880    1     Z  ,    no_sam        pophat         lfhat        wrkhat        RSE_POP         R1  \\\n",
            "0   11786  2.935630e+07  1.435083e+07  1.313345e+07   26528.134707  48.885000   \n",
            "1   14365  1.769427e+08  7.581469e+07  7.050562e+07  161432.752753  42.847025   \n",
            "2   57650  5.987839e+08  2.924472e+08  2.709771e+08   75370.070824  48.840186   \n",
            "\n",
            "          RSE_R1         R2        RSE_R2 SEC ST_GR  \n",
            "0    7754.333582  44.738082  46535.581585   Z    G2  \n",
            "1  121460.332210  39.846577  18970.454899   Z    G1  \n",
            "2   52637.967351  45.254576  44044.962065   Z    G3  ,    no_sam        pophat         lfhat        wrkhat        RSE_POP         R1  \\\n",
            "0    4584  4.521249e+06  2.078752e+06  1.873110e+06   42270.862246  45.977384   \n",
            "1    5207  3.279368e+07  1.403994e+07  1.292701e+07    3579.784203  42.812940   \n",
            "2    7202  2.483506e+07  1.227208e+07  1.126034e+07   39053.067349  49.414335   \n",
            "3    9158  1.441490e+08  6.177476e+07  5.757861e+07  198972.840956  42.854780   \n",
            "4   27291  2.086086e+08  9.655337e+07  8.846961e+07  114953.772085  46.284471   \n",
            "5   30359  3.901753e+08  1.958938e+08  1.825075e+08   54206.510715  50.206607   \n",
            "\n",
            "          RSE_R1         R2        RSE_R2  SEC ST_GR  \n",
            "0   29986.951328  41.429033  39288.603679    2    G2  \n",
            "1   32252.550734  39.419213  29255.218744    2    G1  \n",
            "2    4859.533561  45.340498  48821.595194    1    G2  \n",
            "3  141771.796711  39.943801  17154.436566    1    G1  \n",
            "4    5170.565516  42.409386  14396.156207    2    G3  \n",
            "5   79477.706397  46.775767  70398.449177    1    G3  ]\n",
            "\n",
            "\n"
          ]
        }
      ]
    },
    {
      "cell_type": "code",
      "source": [
        "Tables[1]['pophat'].sum(), Tables[0]['pophat'].sum(), Tables[2]['pophat'].sum(), Tables[3]['pophat'].sum()"
      ],
      "metadata": {
        "id": "EFtW9GLWt5Tz",
        "colab": {
          "base_uri": "https://localhost:8080/"
        },
        "outputId": "66be579e-9d59-4851-d992-62d159abc749"
      },
      "execution_count": 52,
      "outputs": [
        {
          "output_type": "execute_result",
          "data": {
            "text/plain": [
              "(805082936.44, 805082936.44, 805082936.4399999, 805082936.44)"
            ]
          },
          "metadata": {},
          "execution_count": 52
        }
      ]
    },
    {
      "cell_type": "code",
      "source": [
        "def merge_dataframes(tables):\n",
        "    merged_df = tables[0]\n",
        "    for df in tables[1:]:\n",
        "        merged_df = pd.concat([merged_df, df], axis=0)\n",
        "    return merged_df\n",
        "\n",
        "merge_dataframes(Tables)\n"
      ],
      "metadata": {
        "id": "lsHDF6ulRubm",
        "colab": {
          "base_uri": "https://localhost:8080/",
          "height": 378
        },
        "outputId": "841779d0-c52a-4950-c345-c0851033ebca"
      },
      "execution_count": 53,
      "outputs": [
        {
          "output_type": "execute_result",
          "data": {
            "text/plain": [
              "    no_sam        pophat         lfhat        wrkhat        RSE_POP  \\\n",
              "0  83801.0  8.050829e+08  3.826127e+08  3.546162e+08   21544.118941   \n",
              "0  37082.0  2.459235e+08  1.126721e+08  1.032697e+08   97211.610553   \n",
              "1  46719.0  5.591594e+08  2.699406e+08  2.513465e+08   11735.143823   \n",
              "0  11786.0  2.935630e+07  1.435083e+07  1.313345e+07   26528.134707   \n",
              "1  14365.0  1.769427e+08  7.581469e+07  7.050562e+07  161432.752753   \n",
              "2  57650.0  5.987839e+08  2.924472e+08  2.709771e+08   75370.070824   \n",
              "0   4584.0  4.521249e+06  2.078752e+06  1.873110e+06   42270.862246   \n",
              "1   5207.0  3.279368e+07  1.403994e+07  1.292701e+07    3579.784203   \n",
              "2   7202.0  2.483506e+07  1.227208e+07  1.126034e+07   39053.067349   \n",
              "3   9158.0  1.441490e+08  6.177476e+07  5.757861e+07  198972.840956   \n",
              "4  27291.0  2.086086e+08  9.655337e+07  8.846961e+07  114953.772085   \n",
              "5  30359.0  3.901753e+08  1.958938e+08  1.825075e+08   54206.510715   \n",
              "\n",
              "          R1         RSE_R1         R2        RSE_R2 SEC ST_GR  \n",
              "0  47.524631   11385.380829  44.047162  26672.963894   Z    ZZ  \n",
              "0  45.815900    8859.826839  41.992625  16231.374141   2     Z  \n",
              "1  48.276147   18139.667176  44.950766  42110.843880   1     Z  \n",
              "0  48.885000    7754.333582  44.738082  46535.581585   Z    G2  \n",
              "1  42.847025  121460.332210  39.846577  18970.454899   Z    G1  \n",
              "2  48.840186   52637.967351  45.254576  44044.962065   Z    G3  \n",
              "0  45.977384   29986.951328  41.429033  39288.603679   2    G2  \n",
              "1  42.812940   32252.550734  39.419213  29255.218744   2    G1  \n",
              "2  49.414335    4859.533561  45.340498  48821.595194   1    G2  \n",
              "3  42.854780  141771.796711  39.943801  17154.436566   1    G1  \n",
              "4  46.284471    5170.565516  42.409386  14396.156207   2    G3  \n",
              "5  50.206607   79477.706397  46.775767  70398.449177   1    G3  "
            ],
            "text/html": [
              "\n",
              "  <div id=\"df-021677da-b88e-4d58-be59-2a822fea85e0\">\n",
              "    <div class=\"colab-df-container\">\n",
              "      <div>\n",
              "<style scoped>\n",
              "    .dataframe tbody tr th:only-of-type {\n",
              "        vertical-align: middle;\n",
              "    }\n",
              "\n",
              "    .dataframe tbody tr th {\n",
              "        vertical-align: top;\n",
              "    }\n",
              "\n",
              "    .dataframe thead th {\n",
              "        text-align: right;\n",
              "    }\n",
              "</style>\n",
              "<table border=\"1\" class=\"dataframe\">\n",
              "  <thead>\n",
              "    <tr style=\"text-align: right;\">\n",
              "      <th></th>\n",
              "      <th>no_sam</th>\n",
              "      <th>pophat</th>\n",
              "      <th>lfhat</th>\n",
              "      <th>wrkhat</th>\n",
              "      <th>RSE_POP</th>\n",
              "      <th>R1</th>\n",
              "      <th>RSE_R1</th>\n",
              "      <th>R2</th>\n",
              "      <th>RSE_R2</th>\n",
              "      <th>SEC</th>\n",
              "      <th>ST_GR</th>\n",
              "    </tr>\n",
              "  </thead>\n",
              "  <tbody>\n",
              "    <tr>\n",
              "      <th>0</th>\n",
              "      <td>83801.0</td>\n",
              "      <td>8.050829e+08</td>\n",
              "      <td>3.826127e+08</td>\n",
              "      <td>3.546162e+08</td>\n",
              "      <td>21544.118941</td>\n",
              "      <td>47.524631</td>\n",
              "      <td>11385.380829</td>\n",
              "      <td>44.047162</td>\n",
              "      <td>26672.963894</td>\n",
              "      <td>Z</td>\n",
              "      <td>ZZ</td>\n",
              "    </tr>\n",
              "    <tr>\n",
              "      <th>0</th>\n",
              "      <td>37082.0</td>\n",
              "      <td>2.459235e+08</td>\n",
              "      <td>1.126721e+08</td>\n",
              "      <td>1.032697e+08</td>\n",
              "      <td>97211.610553</td>\n",
              "      <td>45.815900</td>\n",
              "      <td>8859.826839</td>\n",
              "      <td>41.992625</td>\n",
              "      <td>16231.374141</td>\n",
              "      <td>2</td>\n",
              "      <td>Z</td>\n",
              "    </tr>\n",
              "    <tr>\n",
              "      <th>1</th>\n",
              "      <td>46719.0</td>\n",
              "      <td>5.591594e+08</td>\n",
              "      <td>2.699406e+08</td>\n",
              "      <td>2.513465e+08</td>\n",
              "      <td>11735.143823</td>\n",
              "      <td>48.276147</td>\n",
              "      <td>18139.667176</td>\n",
              "      <td>44.950766</td>\n",
              "      <td>42110.843880</td>\n",
              "      <td>1</td>\n",
              "      <td>Z</td>\n",
              "    </tr>\n",
              "    <tr>\n",
              "      <th>0</th>\n",
              "      <td>11786.0</td>\n",
              "      <td>2.935630e+07</td>\n",
              "      <td>1.435083e+07</td>\n",
              "      <td>1.313345e+07</td>\n",
              "      <td>26528.134707</td>\n",
              "      <td>48.885000</td>\n",
              "      <td>7754.333582</td>\n",
              "      <td>44.738082</td>\n",
              "      <td>46535.581585</td>\n",
              "      <td>Z</td>\n",
              "      <td>G2</td>\n",
              "    </tr>\n",
              "    <tr>\n",
              "      <th>1</th>\n",
              "      <td>14365.0</td>\n",
              "      <td>1.769427e+08</td>\n",
              "      <td>7.581469e+07</td>\n",
              "      <td>7.050562e+07</td>\n",
              "      <td>161432.752753</td>\n",
              "      <td>42.847025</td>\n",
              "      <td>121460.332210</td>\n",
              "      <td>39.846577</td>\n",
              "      <td>18970.454899</td>\n",
              "      <td>Z</td>\n",
              "      <td>G1</td>\n",
              "    </tr>\n",
              "    <tr>\n",
              "      <th>2</th>\n",
              "      <td>57650.0</td>\n",
              "      <td>5.987839e+08</td>\n",
              "      <td>2.924472e+08</td>\n",
              "      <td>2.709771e+08</td>\n",
              "      <td>75370.070824</td>\n",
              "      <td>48.840186</td>\n",
              "      <td>52637.967351</td>\n",
              "      <td>45.254576</td>\n",
              "      <td>44044.962065</td>\n",
              "      <td>Z</td>\n",
              "      <td>G3</td>\n",
              "    </tr>\n",
              "    <tr>\n",
              "      <th>0</th>\n",
              "      <td>4584.0</td>\n",
              "      <td>4.521249e+06</td>\n",
              "      <td>2.078752e+06</td>\n",
              "      <td>1.873110e+06</td>\n",
              "      <td>42270.862246</td>\n",
              "      <td>45.977384</td>\n",
              "      <td>29986.951328</td>\n",
              "      <td>41.429033</td>\n",
              "      <td>39288.603679</td>\n",
              "      <td>2</td>\n",
              "      <td>G2</td>\n",
              "    </tr>\n",
              "    <tr>\n",
              "      <th>1</th>\n",
              "      <td>5207.0</td>\n",
              "      <td>3.279368e+07</td>\n",
              "      <td>1.403994e+07</td>\n",
              "      <td>1.292701e+07</td>\n",
              "      <td>3579.784203</td>\n",
              "      <td>42.812940</td>\n",
              "      <td>32252.550734</td>\n",
              "      <td>39.419213</td>\n",
              "      <td>29255.218744</td>\n",
              "      <td>2</td>\n",
              "      <td>G1</td>\n",
              "    </tr>\n",
              "    <tr>\n",
              "      <th>2</th>\n",
              "      <td>7202.0</td>\n",
              "      <td>2.483506e+07</td>\n",
              "      <td>1.227208e+07</td>\n",
              "      <td>1.126034e+07</td>\n",
              "      <td>39053.067349</td>\n",
              "      <td>49.414335</td>\n",
              "      <td>4859.533561</td>\n",
              "      <td>45.340498</td>\n",
              "      <td>48821.595194</td>\n",
              "      <td>1</td>\n",
              "      <td>G2</td>\n",
              "    </tr>\n",
              "    <tr>\n",
              "      <th>3</th>\n",
              "      <td>9158.0</td>\n",
              "      <td>1.441490e+08</td>\n",
              "      <td>6.177476e+07</td>\n",
              "      <td>5.757861e+07</td>\n",
              "      <td>198972.840956</td>\n",
              "      <td>42.854780</td>\n",
              "      <td>141771.796711</td>\n",
              "      <td>39.943801</td>\n",
              "      <td>17154.436566</td>\n",
              "      <td>1</td>\n",
              "      <td>G1</td>\n",
              "    </tr>\n",
              "    <tr>\n",
              "      <th>4</th>\n",
              "      <td>27291.0</td>\n",
              "      <td>2.086086e+08</td>\n",
              "      <td>9.655337e+07</td>\n",
              "      <td>8.846961e+07</td>\n",
              "      <td>114953.772085</td>\n",
              "      <td>46.284471</td>\n",
              "      <td>5170.565516</td>\n",
              "      <td>42.409386</td>\n",
              "      <td>14396.156207</td>\n",
              "      <td>2</td>\n",
              "      <td>G3</td>\n",
              "    </tr>\n",
              "    <tr>\n",
              "      <th>5</th>\n",
              "      <td>30359.0</td>\n",
              "      <td>3.901753e+08</td>\n",
              "      <td>1.958938e+08</td>\n",
              "      <td>1.825075e+08</td>\n",
              "      <td>54206.510715</td>\n",
              "      <td>50.206607</td>\n",
              "      <td>79477.706397</td>\n",
              "      <td>46.775767</td>\n",
              "      <td>70398.449177</td>\n",
              "      <td>1</td>\n",
              "      <td>G3</td>\n",
              "    </tr>\n",
              "  </tbody>\n",
              "</table>\n",
              "</div>\n",
              "      <button class=\"colab-df-convert\" onclick=\"convertToInteractive('df-021677da-b88e-4d58-be59-2a822fea85e0')\"\n",
              "              title=\"Convert this dataframe to an interactive table.\"\n",
              "              style=\"display:none;\">\n",
              "        \n",
              "  <svg xmlns=\"http://www.w3.org/2000/svg\" height=\"24px\"viewBox=\"0 0 24 24\"\n",
              "       width=\"24px\">\n",
              "    <path d=\"M0 0h24v24H0V0z\" fill=\"none\"/>\n",
              "    <path d=\"M18.56 5.44l.94 2.06.94-2.06 2.06-.94-2.06-.94-.94-2.06-.94 2.06-2.06.94zm-11 1L8.5 8.5l.94-2.06 2.06-.94-2.06-.94L8.5 2.5l-.94 2.06-2.06.94zm10 10l.94 2.06.94-2.06 2.06-.94-2.06-.94-.94-2.06-.94 2.06-2.06.94z\"/><path d=\"M17.41 7.96l-1.37-1.37c-.4-.4-.92-.59-1.43-.59-.52 0-1.04.2-1.43.59L10.3 9.45l-7.72 7.72c-.78.78-.78 2.05 0 2.83L4 21.41c.39.39.9.59 1.41.59.51 0 1.02-.2 1.41-.59l7.78-7.78 2.81-2.81c.8-.78.8-2.07 0-2.86zM5.41 20L4 18.59l7.72-7.72 1.47 1.35L5.41 20z\"/>\n",
              "  </svg>\n",
              "      </button>\n",
              "      \n",
              "  <style>\n",
              "    .colab-df-container {\n",
              "      display:flex;\n",
              "      flex-wrap:wrap;\n",
              "      gap: 12px;\n",
              "    }\n",
              "\n",
              "    .colab-df-convert {\n",
              "      background-color: #E8F0FE;\n",
              "      border: none;\n",
              "      border-radius: 50%;\n",
              "      cursor: pointer;\n",
              "      display: none;\n",
              "      fill: #1967D2;\n",
              "      height: 32px;\n",
              "      padding: 0 0 0 0;\n",
              "      width: 32px;\n",
              "    }\n",
              "\n",
              "    .colab-df-convert:hover {\n",
              "      background-color: #E2EBFA;\n",
              "      box-shadow: 0px 1px 2px rgba(60, 64, 67, 0.3), 0px 1px 3px 1px rgba(60, 64, 67, 0.15);\n",
              "      fill: #174EA6;\n",
              "    }\n",
              "\n",
              "    [theme=dark] .colab-df-convert {\n",
              "      background-color: #3B4455;\n",
              "      fill: #D2E3FC;\n",
              "    }\n",
              "\n",
              "    [theme=dark] .colab-df-convert:hover {\n",
              "      background-color: #434B5C;\n",
              "      box-shadow: 0px 1px 3px 1px rgba(0, 0, 0, 0.15);\n",
              "      filter: drop-shadow(0px 1px 2px rgba(0, 0, 0, 0.3));\n",
              "      fill: #FFFFFF;\n",
              "    }\n",
              "  </style>\n",
              "\n",
              "      <script>\n",
              "        const buttonEl =\n",
              "          document.querySelector('#df-021677da-b88e-4d58-be59-2a822fea85e0 button.colab-df-convert');\n",
              "        buttonEl.style.display =\n",
              "          google.colab.kernel.accessAllowed ? 'block' : 'none';\n",
              "\n",
              "        async function convertToInteractive(key) {\n",
              "          const element = document.querySelector('#df-021677da-b88e-4d58-be59-2a822fea85e0');\n",
              "          const dataTable =\n",
              "            await google.colab.kernel.invokeFunction('convertToInteractive',\n",
              "                                                     [key], {});\n",
              "          if (!dataTable) return;\n",
              "\n",
              "          const docLinkHtml = 'Like what you see? Visit the ' +\n",
              "            '<a target=\"_blank\" href=https://colab.research.google.com/notebooks/data_table.ipynb>data table notebook</a>'\n",
              "            + ' to learn more about interactive tables.';\n",
              "          element.innerHTML = '';\n",
              "          dataTable['output_type'] = 'display_data';\n",
              "          await google.colab.output.renderOutput(dataTable, element);\n",
              "          const docLink = document.createElement('div');\n",
              "          docLink.innerHTML = docLinkHtml;\n",
              "          element.appendChild(docLink);\n",
              "        }\n",
              "      </script>\n",
              "    </div>\n",
              "  </div>\n",
              "  "
            ]
          },
          "metadata": {},
          "execution_count": 53
        }
      ]
    },
    {
      "cell_type": "code",
      "source": [
        "merge_dataframes(Tables).to_csv('Example1__Table(T).csv')"
      ],
      "metadata": {
        "id": "iz0cmdNY2MNY"
      },
      "execution_count": 55,
      "outputs": []
    },
    {
      "cell_type": "code",
      "source": [
        "# T1.to_csv('T1_Balanced_Half_Sample_Method.csv')"
      ],
      "metadata": {
        "id": "Lus9B0NNRxUn"
      },
      "execution_count": null,
      "outputs": []
    },
    {
      "cell_type": "code",
      "source": [
        "T1.columns"
      ],
      "metadata": {
        "id": "TL1edIn-Sbca",
        "colab": {
          "base_uri": "https://localhost:8080/"
        },
        "outputId": "41229795-f9d9-4fe6-8554-36ced1b8beeb"
      },
      "execution_count": 56,
      "outputs": [
        {
          "output_type": "execute_result",
          "data": {
            "text/plain": [
              "Index(['no_sam', 'pophat', 'lfhat', 'wrkhat', 'RSE_POP', 'R1', 'RSE_R1', 'R2',\n",
              "       'RSE_R2', 'SEC', 'ST_GR'],\n",
              "      dtype='object')"
            ]
          },
          "metadata": {},
          "execution_count": 56
        }
      ]
    },
    {
      "cell_type": "code",
      "source": [],
      "metadata": {
        "id": "AlNWzzKTSbhQ"
      },
      "execution_count": null,
      "outputs": []
    },
    {
      "cell_type": "code",
      "source": [],
      "metadata": {
        "id": "U9X030fuWb88"
      },
      "execution_count": null,
      "outputs": []
    },
    {
      "cell_type": "code",
      "source": [],
      "metadata": {
        "id": "I6hiFyTQWd2c"
      },
      "execution_count": null,
      "outputs": []
    }
  ]
}